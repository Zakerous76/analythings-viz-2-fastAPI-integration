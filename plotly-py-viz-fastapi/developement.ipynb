{
 "cells": [
  {
   "cell_type": "markdown",
   "metadata": {},
   "source": []
  },
  {
   "cell_type": "code",
   "execution_count": 3,
   "metadata": {},
   "outputs": [],
   "source": [
    "import numpy as np\n",
    "import plotly.graph_objs as go\n",
    "import plotly.express as px\n",
    "import pandas as pd\n",
    "from prep_data import *\n",
    "import locale\n",
    "from plot import *\n",
    "import json\n",
    "# locale.setlocale(locale.LC_TIME, 'tr_TR.UTF8')\n",
    "# "
   ]
  },
  {
   "cell_type": "markdown",
   "metadata": {},
   "source": [
    "# Sales"
   ]
  },
  {
   "cell_type": "code",
   "execution_count": null,
   "metadata": {},
   "outputs": [],
   "source": [
    "df_totals_total, df_totals_cities, df_granular, df_granular_cities = sales_by_cities_df()"
   ]
  },
  {
   "cell_type": "code",
   "execution_count": null,
   "metadata": {},
   "outputs": [],
   "source": [
    "df_totals_cities"
   ]
  },
  {
   "cell_type": "code",
   "execution_count": null,
   "metadata": {},
   "outputs": [],
   "source": [
    "df_totals_cities.columns\n"
   ]
  },
  {
   "cell_type": "code",
   "execution_count": null,
   "metadata": {},
   "outputs": [],
   "source": [
    "df_granular"
   ]
  },
  {
   "cell_type": "code",
   "execution_count": null,
   "metadata": {},
   "outputs": [],
   "source": [
    "\n",
    "# def total_sales_plot(df_totals):\n",
    "\n",
    "fig = go.Figure(data=[go.Line(name=city, x=df_totals_cities.index, y=df_totals_cities[city]) for city in df_totals_cities.columns], \n",
    "                layout=dict(height=800, width=1800))\n",
    "fig.update_layout(title=\"İllere Göre Konut Satışı (Yıl Bazında)\", xaxis_title=\"Yıl\", yaxis_title=\"Toplam Konut Satışı\", barmode='stack')\n",
    "fig.update_xaxes(tickmode='linear')\n",
    "fig.update_yaxes(tickmode='linear')\n",
    "\n",
    "fig.show()"
   ]
  },
  {
   "cell_type": "code",
   "execution_count": null,
   "metadata": {},
   "outputs": [],
   "source": [
    "\n",
    "# def total_sales_plot(df_totals):\n",
    "\n",
    "fig = go.Figure(data=[go.Bar(name=\"Adana\", x=df_totals_cities.index, y=df_totals_cities[\"1 Adana\"])], \n",
    "                layout=dict(height=800, width=1800))\n",
    "fig.update_layout(title=\"İllere Göre Konut Satışı (Yıl Bazında)\", xaxis_title=\"Yıl\", yaxis_title=\"Toplam Konut Satışı\", barmode='stack')\n",
    "fig.update_xaxes(tickmode='linear')\n",
    "fig.update_yaxes(tickmode='linear')\n",
    "\n",
    "fig.show()"
   ]
  },
  {
   "cell_type": "code",
   "execution_count": null,
   "metadata": {},
   "outputs": [],
   "source": [
    "df_granular_cities = df_granular.drop(\"Total\", axis=1)\n",
    "df_granular_cities.head()"
   ]
  },
  {
   "cell_type": "code",
   "execution_count": null,
   "metadata": {},
   "outputs": [],
   "source": [
    "\n",
    "# def total_sales_plot(df_totals):\n",
    "\n",
    "fig = go.Figure(data=[go.Line(name=city, x=df_granular_cities.index, y=df_granular_cities[city]) for city in df_totals_cities.columns], \n",
    "                layout=dict(height=800, width=1800))\n",
    "fig.update_layout(title=\"İllere Göre Konut Satışı (Ay bazında)\", xaxis_title=\"Yıl\", yaxis_title=\"Toplam Konut Satışı\", barmode='stack')\n",
    "\n",
    "fig.show()"
   ]
  },
  {
   "cell_type": "code",
   "execution_count": null,
   "metadata": {},
   "outputs": [],
   "source": [
    "df_f = pd.read_excel(\"./datasets/İllere göre yabancılara konut satış sayısı.xls\")\n",
    "df_f.rename(columns={'Unnamed: 1': 'Şehir'}, inplace=True)\n",
    "df_f.tail(14)\n",
    "\n",
    "df_f_total = df_f[df_f['Şehir'] == \"Toplam - Total\"].drop([\"Şehir\", \"Toplam\"], axis=1)#.set_index(\"Yıl\")\n",
    "df_f_total[\"Yıl\"] = df_f_total[\"Yıl\"].astype(int)\n",
    "# df_f_total.index = df_f_total.index.astype(int)\n",
    "\n",
    "df_f[\"Yıl\"] = df_f[\"Yıl\"].ffill().astype(int)\n",
    "df_f.drop(\"Toplam\", axis=1, inplace=True)\n",
    "df_f.tail(19)"
   ]
  },
  {
   "cell_type": "code",
   "execution_count": null,
   "metadata": {},
   "outputs": [],
   "source": [
    "df_f.tail()"
   ]
  },
  {
   "cell_type": "code",
   "execution_count": null,
   "metadata": {},
   "outputs": [],
   "source": [
    "df_f_total.tail()\n"
   ]
  },
  {
   "cell_type": "code",
   "execution_count": null,
   "metadata": {},
   "outputs": [],
   "source": [
    "# Fix the 2024 data\n",
    "# Reshape the DataFrame into long format\n",
    "df_long = df_f_total.melt(id_vars=['Yıl'], var_name='Ay', value_name='Sayı')\n",
    "\n",
    "# Aggregate the data by year, month, and city\n",
    "df_f_total_aggregated = df_long.groupby(['Yıl', 'Ay']).sum().reset_index()\n",
    "\n",
    "# Create a mapping of month names to their corresponding numbers\n",
    "month_mapping = {\n",
    "    'Ocak': 1, 'Şubat': 2, 'Mart': 3, 'Nisan': 4, 'Mayıs': 5, 'Haziran': 6,\n",
    "    'Temmuz': 7, 'Ağustos': 8, 'Eylül': 9, 'Ekim': 10, 'Kasım': 11, 'Aralık': 12\n",
    "}\n",
    "\n",
    "# Convert 'Yıl' and 'Ay' to datetime format\n",
    "df_f_total_aggregated['Tarih'] = df_f_total_aggregated.apply(lambda row: pd.Timestamp(int(row['Yıl']), month_mapping[row['Ay']], 1), axis=1)\n",
    "\n",
    "# Drop the 'Yıl' and 'Ay' columns if not needed anymore\n",
    "df_f_total_aggregated.drop(columns=['Yıl', 'Ay'], inplace=True)\n",
    "\n",
    "df_f_total_aggregated = df_f_total_aggregated.sort_values(by='Tarih')\n",
    "df_f_total_aggregated.set_index(\"Tarih\", inplace=True)\n",
    "df_f_total_aggregated[\"Sayı\"] = df_f_total_aggregated[\"Sayı\"].astype(int)\n",
    "df_f_total_aggregated.info()"
   ]
  },
  {
   "cell_type": "code",
   "execution_count": null,
   "metadata": {},
   "outputs": [],
   "source": [
    "df_f_total_aggregated.tail(15)"
   ]
  },
  {
   "cell_type": "code",
   "execution_count": null,
   "metadata": {},
   "outputs": [],
   "source": []
  },
  {
   "cell_type": "code",
   "execution_count": null,
   "metadata": {},
   "outputs": [],
   "source": [
    "df_f_cities = df_f[df_f['Şehir'] != \"Toplam - Total\"]\n",
    "df_f_cities.head()"
   ]
  },
  {
   "cell_type": "code",
   "execution_count": null,
   "metadata": {},
   "outputs": [],
   "source": [
    "# Fix the 2024 data\n",
    "# Reshape the DataFrame into long format\n",
    "df_long = df_f_cities.melt(id_vars=['Yıl', 'Şehir'], var_name='Ay', value_name='Sayı')\n",
    "\n",
    "# Aggregate the data by year, month, and city\n",
    "df_f_cities_aggregated = df_long.groupby(['Yıl', 'Şehir', 'Ay']).sum().reset_index()\n",
    "\n",
    "# Create a mapping of month names to their corresponding numbers\n",
    "month_mapping = {\n",
    "    'Ocak': 1, 'Şubat': 2, 'Mart': 3, 'Nisan': 4, 'Mayıs': 5, 'Haziran': 6,\n",
    "    'Temmuz': 7, 'Ağustos': 8, 'Eylül': 9, 'Ekim': 10, 'Kasım': 11, 'Aralık': 12\n",
    "}\n",
    "\n",
    "# Convert 'Yıl' and 'Ay' to datetime format\n",
    "df_f_cities_aggregated['Tarih'] = df_f_cities_aggregated.apply(lambda row: pd.Timestamp(int(row['Yıl']), month_mapping[row['Ay']], 1), axis=1)\n",
    "\n",
    "# Drop the 'Yıl' and 'Ay' columns if not needed anymore\n",
    "df_f_cities_aggregated.drop(columns=['Yıl', 'Ay'], inplace=True)\n",
    "\n",
    "\n",
    "df_f_cities_aggregated = df_f_cities_aggregated.sort_values(by='Tarih')\n",
    "df_f_cities_aggregated.set_index(\"Tarih\", inplace=True)\n",
    "df_f_cities_aggregated[\"Sayı\"] = df_f_cities_aggregated[\"Sayı\"].astype(int)\n",
    "df_f_cities_aggregated.info()"
   ]
  },
  {
   "cell_type": "code",
   "execution_count": null,
   "metadata": {},
   "outputs": [],
   "source": [
    "df_f_cities_aggregated.head(20)"
   ]
  },
  {
   "cell_type": "code",
   "execution_count": null,
   "metadata": {},
   "outputs": [],
   "source": []
  },
  {
   "cell_type": "code",
   "execution_count": null,
   "metadata": {},
   "outputs": [],
   "source": [
    "\n",
    "df_f_total_aggregated, df_f_cities_aggregated = sales_by_cities_foreigners_df()"
   ]
  },
  {
   "cell_type": "code",
   "execution_count": null,
   "metadata": {},
   "outputs": [],
   "source": [
    "df_f_cities_aggregated\n"
   ]
  },
  {
   "cell_type": "code",
   "execution_count": null,
   "metadata": {},
   "outputs": [],
   "source": [
    "df_f_cities_aggregated[\"Şehir\"].unique()"
   ]
  },
  {
   "cell_type": "code",
   "execution_count": null,
   "metadata": {},
   "outputs": [],
   "source": [
    "city_code_map = {0: 'ÜLKE',\n",
    " 1: 'ADANA',\n",
    " 2: 'ADIYAMAN',\n",
    " 3: 'AFYONKARAHİSAR',\n",
    " 4: 'AĞRI',\n",
    " 5: 'AMASYA',\n",
    " 6: 'ANKARA',\n",
    " 7: 'ANTALYA',\n",
    " 8: 'ARTVİN',\n",
    " 9: 'AYDIN',\n",
    " 10: 'BALIKESİR',\n",
    " 11: 'BİLECİK',\n",
    " 12: 'BİNGÖL',\n",
    " 13: 'BİTLİS',\n",
    " 14: 'BOLU',\n",
    " 15: 'BURDUR',\n",
    " 16: 'BURSA',\n",
    " 17: 'ÇANAKKALE',\n",
    " 18: 'ÇANKIRI',\n",
    " 19: 'ÇORUM',\n",
    " 20: 'DENİZLİ',\n",
    " 21: 'DİYARBAKIR',\n",
    " 22: 'EDİRNE',\n",
    " 23: 'ELAZIĞ',\n",
    " 24: 'ERZİNCAN',\n",
    " 25: 'ERZURUM',\n",
    " 26: 'ESKİŞEHİR',\n",
    " 27: 'GAZİANTEP',\n",
    " 28: 'GİRESUN',\n",
    " 29: 'GÜMÜŞHANE',\n",
    " 30: 'HAKKARİ',\n",
    " 31: 'HATAY',\n",
    " 32: 'ISPARTA',\n",
    " 33: 'MERSİN',\n",
    " 34: 'İSTANBUL',\n",
    " 35: 'İZMİR',\n",
    " 36: 'KARS',\n",
    " 37: 'KASTAMONU',\n",
    " 38: 'KAYSERİ',\n",
    " 39: 'KIRKLARELİ',\n",
    " 40: 'KIRŞEHİR',\n",
    " 41: 'KOCAELİ',\n",
    " 42: 'KONYA',\n",
    " 43: 'KÜTAHYA',\n",
    " 44: 'MALATYA',\n",
    " 45: 'MANİSA',\n",
    " 46: 'KAHRAMANMARAŞ',\n",
    " 47: 'MARDİN',\n",
    " 48: 'MUĞLA',\n",
    " 49: 'MUŞ',\n",
    " 50: 'NEVŞEHİR',\n",
    " 51: 'NİĞDE',\n",
    " 52: 'ORDU',\n",
    " 53: 'RİZE',\n",
    " 54: 'SAKARYA',\n",
    " 55: 'SAMSUN',\n",
    " 56: 'SİİRT',\n",
    " 57: 'SİNOP',\n",
    " 58: 'SİVAS',\n",
    " 59: 'TEKİRDAĞ',\n",
    " 60: 'TOKAT',\n",
    " 61: 'TRABZON',\n",
    " 62: 'TUNCELİ',\n",
    " 63: 'ŞANLIURFA',\n",
    " 64: 'UŞAK',\n",
    " 65: 'VAN',\n",
    " 66: 'YOZGAT',\n",
    " 67: 'ZONGULDAK',\n",
    " 68: 'AKSARAY',\n",
    " 69: 'BAYBURT',\n",
    " 70: 'KARAMAN',\n",
    " 71: 'KIRIKKALE',\n",
    " 72: 'BATMAN',\n",
    " 73: 'ŞIRNAK',\n",
    " 74: 'BARTIN',\n",
    " 75: 'ARDAHAN',\n",
    " 76: 'IĞDIR',\n",
    " 77: 'YALOVA',\n",
    " 78: 'KARABÜK',\n",
    " 79: 'KİLİS',\n",
    " 80: 'OSMANİYE',\n",
    " 81: 'DÜZCE',\n",
    " 99: 'Diğer iller - Other Provinces'}\n",
    "\n",
    "\n",
    "city_code_f = [48, 33, 35, 16, 99,  9,  7, 54,  6, 34, 77, 61, 55, 41]\n",
    "\n",
    "fig = go.Figure()\n",
    "city_code = 7\n",
    "try:\n",
    "    if city_code is None:\n",
    "        fig = px.line(df_f_cities_aggregated, x=df_f_cities_aggregated.index, \n",
    "                        y='Total', color='Şehir', title='İllere Göre Yabancılara Konut Satışı (Ay Bazında)')\n",
    "    else:\n",
    "        p_city_code = city_code\n",
    "        if city_code not in city_code_f:\n",
    "            city_code = 99\n",
    "        dff = df_f_cities_aggregated[df_f_cities_aggregated['Şehir'] == city_code]\n",
    "        \n",
    "        fig = px.line(dff, x=dff.index, y='Total', color='Şehir', title=f'Yabancılara Konut Satışı (Ay Bazında): {city_code_map[p_city_code].capitalize()}',\n",
    "                        color_discrete_sequence=px.colors.qualitative.Vivid)\n",
    "        fig.update_layout(showlegend=False)\n",
    "    fig.update_layout(width=1800, height=800)\n",
    "except Exception as e:\n",
    "    print(f\"Error in plot function: {e}\")\n",
    "    raise\n",
    "\n",
    "fig.show()"
   ]
  },
  {
   "cell_type": "markdown",
   "metadata": {},
   "source": [
    "# Population"
   ]
  },
  {
   "cell_type": "code",
   "execution_count": null,
   "metadata": {},
   "outputs": [],
   "source": [
    "def population_df(df_p):    \n",
    "    df_p = pd.read_excel(\"./datasets/favori_raporlar.xlsx\",  sheet_name=\"MAHALLE NÜFUSU\", index_col=0)\n",
    "    cols = ['il kayit no',\n",
    "    'ilçe kayit no',\n",
    "    'belde/köy kayit no',\n",
    "    'mahalle kayit no',\n",
    "    'il adi',\n",
    "    'ilçe adi',\n",
    "    'belediye adi',\n",
    "    'mahalle adi',\n",
    "    'mahallenin bağli olduğu belediyenin niteliği',\n",
    "    'toplam',\n",
    "    'erkek',\n",
    "    'kadin']\n",
    "    df_p.columns = cols\n",
    "    df_p_cities = df_p.drop([\"toplam\", \"mahallenin bağli olduğu belediyenin niteliği\", \"belediye adi\"], axis=1)\n",
    "    # df_p_cities[(df_p_cities[\"mahalle adi\"]==\" \".join(\"2000 Evler Mh.\".split()[:-1]).upper()) & (df_p_cities[\"ilçe adi\"]==\"seyhan\".upper())] #for query\n",
    "    df_p = df_p[[\"il adi\", \"ilçe adi\", \"mahalle adi\", \"erkek\", \"kadin\"]]\n",
    "\n",
    "    df_p.erkek = df_p.erkek.replace(\"C\", \"0\").astype(int)\n",
    "    df_p.kadin = df_p.kadin.replace(\"C\", \"0\")\n",
    "    df_p.kadin = df_p.kadin.replace(\"-\", \"0\").astype(int)\n",
    "\n",
    "    df_p = df_p.groupby([\"il adi\", \"ilçe adi\", \"mahalle adi\"])[[\"erkek\", \"kadin\"]].sum().reset_index()\n",
    "\n",
    "    return df_p\n",
    "\n"
   ]
  },
  {
   "cell_type": "code",
   "execution_count": null,
   "metadata": {},
   "outputs": [],
   "source": [
    "df_p = population_df()\n",
    "df_p"
   ]
  },
  {
   "cell_type": "code",
   "execution_count": null,
   "metadata": {},
   "outputs": [],
   "source": [
    "df_p_il = df_p[[\"erkek\", \"kadin\"]].sum().to_list()\n",
    "df_p_il"
   ]
  },
  {
   "cell_type": "code",
   "execution_count": null,
   "metadata": {},
   "outputs": [],
   "source": [
    "# Pie chart\n",
    "# choloropleth"
   ]
  },
  {
   "cell_type": "code",
   "execution_count": null,
   "metadata": {},
   "outputs": [],
   "source": [
    "# import plotly.graph_objects as go\n",
    "\n",
    "# # Sample data for the pie chart\n",
    "# labels = ['Erkek', 'Kadın']\n",
    "# values = [df_p.iloc[0, 1], df_p.iloc[0, 2]]\n",
    "# colors = ['skyblue', 'salmon']\n",
    "\n",
    "# # Create the Pie chart with custom colors and slice pulled out\n",
    "# fig = go.Figure(go.Pie(\n",
    "#     labels=labels,\n",
    "#     values=values,\n",
    "#     marker=dict(colors=colors),\n",
    "#     hovertemplate='<b>%{label}</b><br>%{value}'\n",
    "# ), layout=dict(width=400, height=400))\n",
    "\n",
    "# # Update the name of the trace\n",
    "# fig.data[0].name = ''\n",
    "\n",
    "# # Set the title\n",
    "# fig.update_layout(title='Cinsiyet Dağılımı')\n",
    "\n",
    "# # Show the figure\n",
    "# fig.show()\n"
   ]
  },
  {
   "cell_type": "code",
   "execution_count": null,
   "metadata": {},
   "outputs": [],
   "source": [
    "df_p"
   ]
  },
  {
   "cell_type": "code",
   "execution_count": null,
   "metadata": {},
   "outputs": [],
   "source": [
    "x = df_p[(df_p[\"il adi\"]==\"Ankara\".upper()) & (df_p[\"ilçe adi\"]==\"MAMAK\".upper())]\n",
    "x = x[[\"erkek\", \"kadin\"]].sum().to_list()\n",
    "x"
   ]
  },
  {
   "cell_type": "code",
   "execution_count": null,
   "metadata": {},
   "outputs": [],
   "source": [
    "import plotly.graph_objects as go\n",
    "from plotly.subplots import make_subplots\n",
    "def population_plot(df_p, city_name=None, town_name=None, district_name=None):\n",
    "    # Create the figure with subplots\n",
    "    labels = ['Erkek', 'Kadın']\n",
    "    colors = ['skyblue', 'salmon']\n",
    "    title = \"\"\n",
    "    fig = go.Figure()\n",
    "\n",
    "    if city_name==None and town_name==None and district_name==None:\n",
    "        title = \"Bütün Ülke\"\n",
    "        values1 = df_p[[\"erkek\", \"kadin\"]].sum().to_list()\n",
    "        fig.add_trace(go.Pie(\n",
    "            name=\"\",\n",
    "            labels=labels,\n",
    "            values=values1,\n",
    "            marker=dict(colors=colors),\n",
    "            hovertemplate='<b>%{label}</b><br>%{value}',\n",
    "            pull=[0, 0],\n",
    "            textfont=dict(size=16, family=\"Balto\", color=\"black\"),  # Adjust text size and color\n",
    "            textinfo='label+percent',  # Show labels and percentages\n",
    "        ))\n",
    "    \n",
    "    elif city_name!=None and (town_name==None and district_name==None):\n",
    "        title = city_name.capitalize()\n",
    "        values1 = df_p[df_p[\"il adi\"]==city_name.upper()]\n",
    "        values1 = values1[[\"erkek\", \"kadin\"]].sum().to_list()\n",
    "        fig.add_trace(go.Pie(\n",
    "            name=\"\",\n",
    "            labels=labels,\n",
    "            values=values1,\n",
    "            marker=dict(colors=colors),\n",
    "            hovertemplate='<b>%{label}</b><br>%{value}',\n",
    "            pull=[0, 0],\n",
    "            textfont=dict(size=16, family=\"Balto\", color=\"black\"),  # Adjust text size and color\n",
    "            textinfo='label+percent',  # Show labels and percentages\n",
    "        ))\n",
    "    \n",
    "    elif city_name!=None and (town_name!=None and district_name==None):\n",
    "        title = f\"{city_name.capitalize()}, {town_name.capitalize()}\"\n",
    "        values1 = df_p[(df_p[\"il adi\"]==city_name.upper()) & (df_p[\"ilçe adi\"]==town_name.upper())]\n",
    "        values1 = values1[[\"erkek\", \"kadin\"]].sum().to_list()\n",
    "        fig.add_trace(go.Pie(\n",
    "            name=\"\",\n",
    "            labels=labels,\n",
    "            values=values1,\n",
    "            marker=dict(colors=colors),\n",
    "            hovertemplate='<b>%{label}</b><br>%{value}',\n",
    "            pull=[0, 0],\n",
    "            textfont=dict(size=16, family=\"Balto\", color=\"black\"),  # Adjust text size and color\n",
    "            textinfo='label+percent',  # Show labels and percentages\n",
    "        ))\n",
    "    \n",
    "    elif city_name!=None and (town_name!=None and district_name!=None):\n",
    "        title = f\"{city_name.capitalize()}, {town_name.capitalize()}, {district_name.capitalize()} Mh.\"\n",
    "        if len(district_name.split()) > 1:\n",
    "            district_name = district_name + \" Mh.\"\n",
    "        values1 = df_p[(df_p[\"il adi\"]==city_name.upper()) & (df_p[\"ilçe adi\"]==town_name.upper()) & (df_p[\"mahalle adi\"]==\" \".join(district_name.split()[:-1]).upper())] # assuming that every mahalle ends with MH.\n",
    "        values1 = values1[[\"erkek\", \"kadin\"]].sum().to_list()\n",
    "        fig.add_trace(go.Pie(\n",
    "            name=\"\",\n",
    "            labels=labels,\n",
    "            values=values1,\n",
    "            marker=dict(colors=colors),\n",
    "            hovertemplate='<b>%{label}</b><br>%{value}',\n",
    "            pull=[0, 0],\n",
    "            textfont=dict(size=16, family=\"Balto\", color=\"black\"),  # Adjust text size and color\n",
    "            textinfo='label+percent',  # Show labels and percentages\n",
    "        ))\n",
    "    else:\n",
    "        fig.add_annotation(\n",
    "        text=\"Please enter either: Only city name, City name and Town name, or all three\",\n",
    "        xref=\"paper\", yref=\"paper\",\n",
    "        x=0.5, y=0.5, showarrow=False,\n",
    "        font=dict(\n",
    "            family=\"Balto, Arial, sans-serif\",\n",
    "            size=20,\n",
    "            color=\"black\"\n",
    "            )\n",
    "        )\n",
    "\n",
    "        # Update layout to remove axes\n",
    "        fig.update_layout(\n",
    "            xaxis=dict(visible=False),\n",
    "            yaxis=dict(visible=False),\n",
    "            plot_bgcolor='rgba(0,0,0,0)',\n",
    "            margin=dict(l=0, r=0, t=0, b=0)\n",
    "        )\n",
    "        return fig\n",
    "\n",
    "    # Update layout\n",
    "    fig.update_layout(\n",
    "        title=f'Cinsiyet Dağılımları: {title}',\n",
    "        width=900,\n",
    "        height=500,\n",
    "        title_font=dict(size=30, family=\"Balto\", ),  # Adjust title font\n",
    "        title_pad_b=10,\n",
    "        font=dict(\n",
    "            family=\"Balto\",  # Adjust default font family for labels\n",
    "            size=14,  # Adjust default font size for labels\n",
    "            color=\"black\"  # Adjust default font color for labels\n",
    "        ),\n",
    "        showlegend=False\n",
    "    )\n",
    "\n",
    "    for annotation in fig['layout']['annotations']:\n",
    "        annotation['y'] = 0.95  # Adjust this value for more/less padding\n",
    "\n",
    "    # Add the text annotation below the plots\n",
    "    fig.add_annotation(\n",
    "        text=f\"Toplam Nüfus: <b>{sum(values1):,}</b>\",\n",
    "        xref=\"paper\", yref=\"paper\",\n",
    "        x=0.5, y=-0.2,\n",
    "        showarrow=False,\n",
    "        font=dict(size=18, family=\"Balto\", color=\"black\"),\n",
    "        align=\"center\"\n",
    "    )\n",
    "    return fig\n",
    "fig = population_plot(df_p, city_name=\"ankara\")\n",
    "# Show the figure\n",
    "fig.show()\n"
   ]
  },
  {
   "cell_type": "code",
   "execution_count": null,
   "metadata": {},
   "outputs": [],
   "source": [
    "import plotly.express as px\n",
    "\n",
    "# Assuming you have the GeoJSON file for Turkey provinces\n",
    "geojson_file = './tr-cities.json'\n",
    "\n",
    "# Calculate total population\n",
    "df_p_cities['total_population'] = df_p_cities['toplam-erkek'] + df_p_cities['toplam-kadin']\n",
    "\n",
    "# Load GeoJSON data\n",
    "import json\n",
    "with open(geojson_file) as f:\n",
    "    turkey_geojson = json.load(f)\n",
    "\n",
    "# Ensure the province names in the DataFrame match the names in the GeoJSON file\n",
    "# This might require some preprocessing if the names don't match exactly\n",
    "\n",
    "\n",
    "# Create the choropleth map\n",
    "fig = px.choropleth(\n",
    "    df_p_cities,\n",
    "    geojson=turkey_geojson,\n",
    "    locations='il adi',\n",
    "    featureidkey=\"properties.name\",  # This should match the property name in your GeoJSON file for province names\n",
    "    color='total_population',\n",
    "    hover_name='il adi',\n",
    "    hover_data={'toplam-erkek': True, 'toplam-kadin': True, 'total_population': True},\n",
    "    color_continuous_scale='Viridis',\n",
    "    labels={'total_population': 'Total Population'},\n",
    "    title='Total Population by Province in Turkey'\n",
    ")\n",
    "\n",
    "# Update the layout for better visualization\n",
    "fig.update_geos(\n",
    "    visible=False,\n",
    "    resolution=50,\n",
    "    showcountries=True,\n",
    "    countrycolor=\"Black\",\n",
    "    showcoastlines=True,\n",
    "    coastlinecolor=\"Black\",\n",
    "    showland=True,\n",
    "    landcolor=\"white\",\n",
    ")\n",
    "\n",
    "fig.update_layout(\n",
    "    title_font=dict(size=24, family=\"Arial, sans-serif\"),\n",
    "    font=dict(size=12, family=\"Arial, sans-serif\"),\n",
    "    margin={\"r\":0,\"t\":50,\"l\":0,\"b\":0}\n",
    ")\n",
    "\n",
    "# Show the map\n",
    "# fig.show()\n"
   ]
  },
  {
   "cell_type": "code",
   "execution_count": null,
   "metadata": {},
   "outputs": [],
   "source": [
    "turkey_geojson.keys()"
   ]
  },
  {
   "cell_type": "code",
   "execution_count": null,
   "metadata": {},
   "outputs": [],
   "source": [
    "turkey_geojson[\"features\"][2][\"properties\"][\"name\"]"
   ]
  },
  {
   "cell_type": "markdown",
   "metadata": {},
   "source": [
    "# API"
   ]
  },
  {
   "cell_type": "code",
   "execution_count": null,
   "metadata": {},
   "outputs": [],
   "source": [
    "import plotly.graph_objects as go\n",
    "import numpy as np\n",
    "import json\n",
    "# Read the JSON file\n",
    "with open('./curl-res.json', 'r') as file:\n",
    "    json_data = file.read()\n",
    "    \n",
    "\n",
    "# Parse the JSON data\n",
    "data = json.loads(json_data)\n",
    "\n",
    "# Extract ages from the data field\n",
    "ages = [item['age'] for item in data['data']]\n",
    "ages = sorted(ages)\n",
    "\n",
    "# Define age groups\n",
    "age_groups = {\n",
    "}\n",
    "\n",
    "# Categorize ages\n",
    "for age in ages:\n",
    "    if age_groups.get(age) is None:\n",
    "        age_groups[age] = 1\n",
    "    else:\n",
    "        age_groups[age] += 1\n",
    "\n",
    "\n",
    "# Calculate total number of ages\n",
    "total_ages = len(ages)\n",
    "\n",
    "# Calculate percentages for each age group\n",
    "age_group_percentages = {group: count / total_ages * 100 for group, count in age_groups.items()}\n",
    "\n",
    "# Create the pie chart\n",
    "labels = list(age_group_percentages.keys())\n",
    "values = list(age_group_percentages.values())\n",
    "\n",
    "fig_2 = go.Figure(data=[go.Pie(labels=labels, values=values, hole=0.4,\n",
    "                             hovertemplate=\"Bina Yaşı: %{label}<br>Yüzdelik: %{value:.1f}%<extra></extra>\",\n",
    "                             sort=False\n",
    "                             )])\n",
    "\n",
    "# Update the layout for better appearance\n",
    "fig_2.update_layout(title_text=\"Bina Yaşı Dağılımı\", \n",
    "                  width=500, height=500, \n",
    "                  )\n",
    "\n",
    "fig_2.update_layout(legend=dict(\n",
    "    orientation=\"h\",\n",
    "    yanchor=\"bottom\",\n",
    "    y=-0.3,\n",
    "    xanchor=\"center\",\n",
    "    x=.5\n",
    "))\n",
    "\n",
    "# Show the plot\n",
    "fig_2.show()\n"
   ]
  },
  {
   "cell_type": "code",
   "execution_count": null,
   "metadata": {},
   "outputs": [],
   "source": [
    "\n",
    "# Extract prices from the data field\n",
    "prices = [item['price'] for item in data['data']]\n",
    "\n",
    "# Calculate min, max, median, and average prices\n",
    "min_price = min(prices)\n",
    "max_price = max(prices)\n",
    "median_price = np.median(prices)\n",
    "avg_price = np.mean(prices)\n",
    "\n",
    "# Create a scatter plot to simulate the horizontal bar\n",
    "fig = go.Figure()\n",
    "\n",
    "# Add lines for min to max\n",
    "fig.add_trace(go.Scatter(\n",
    "    x=[min_price, max_price],\n",
    "    y=[1, 1],\n",
    "    mode='lines',\n",
    "    line=dict(color='black', width=2),\n",
    "    showlegend=False,\n",
    "))\n",
    "\n",
    "# Add markers for min, median, average, and max\n",
    "fig.add_trace(go.Scatter(\n",
    "    x=[min_price, avg_price, max_price],\n",
    "    y=[1, 1, 1, 1],\n",
    "    mode='markers+text',\n",
    "    text=[f'{min_price:,} TL', f'Ort.: {avg_price:,.0f} TL', f'{max_price:,}TL'],\n",
    "    textposition='top center',\n",
    "    marker=dict(color=['green', 'blue', 'red'], size=10),\n",
    "    name=\"\",\n",
    "    showlegend=False,\n",
    "    hovertemplate = '%{x:,.0f} TL',\n",
    "\n",
    "))\n",
    "\n",
    "# Update the layout for better appearance\n",
    "fig.update_layout(\n",
    "    title_text=\"Fiyat İstatistiği\",\n",
    "    xaxis_title=\"Fiyat (TL)\",\n",
    "    yaxis=dict(showticklabels=False, showgrid=False),  # Hide the y-axis ticks and labels\n",
    "    width=1000,\n",
    "    height=230,\n",
    ")\n",
    "\n",
    "\n",
    "# Show the plot\n",
    "fig.show()"
   ]
  },
  {
   "cell_type": "code",
   "execution_count": null,
   "metadata": {},
   "outputs": [],
   "source": [
    "import json\n",
    "import plotly.graph_objects as go\n",
    "import numpy as np\n",
    "\n",
    "# Read the JSON file (replace with your JSON file path)\n",
    "with open('./curl-res.json', 'r') as file:\n",
    "    json_data = file.read()\n",
    "\n",
    "# Parse the JSON data\n",
    "data = json.loads(json_data)\n",
    "\n",
    "min_price = data[\"result\"][\"min_price\"]\n",
    "max_price = data[\"result\"][\"max_price\"]\n",
    "avg_price = data[\"result\"][\"avg_price\"]\n",
    "\n",
    "# Create traces for each marker\n",
    "traces = []\n",
    "\n",
    "traces.append(go.Scatter(\n",
    "    x=[min_price, max_price],\n",
    "    y=[1, 1],\n",
    "    mode='lines',\n",
    "    line=dict(color='black', width=2),\n",
    "    showlegend=False,\n",
    "    name=\"\"\n",
    "))\n",
    "\n",
    "traces.append(go.Scatter(\n",
    "    x=[min_price, avg_price, max_price],\n",
    "    y=[1, 1, 1, 1],\n",
    "    mode='markers+text',\n",
    "    text=[f'{min_price:,} TL', f'{avg_price:,.0f} TL', f'{max_price:,}TL'],\n",
    "    textposition='top center',\n",
    "    marker=dict(color=['green', 'blue', 'red'], size=10),\n",
    "    name=\"\",\n",
    "    showlegend=False,\n",
    "    hovertemplate = '%{x:,.0f} TL',\n",
    "\n",
    "))\n",
    "\n",
    "# Min price trace\n",
    "traces.append(go.Scatter(\n",
    "    x=[min_price],\n",
    "    y=[1],\n",
    "    mode='markers',\n",
    "    marker=dict(color='green', size=10, symbol='square'),\n",
    "    name='Min',\n",
    "    showlegend=True,\n",
    "    hovertemplate='%{x:,.0f} TL',\n",
    "))\n",
    "\n",
    "# Average price trace\n",
    "traces.append(go.Scatter(\n",
    "    x=[avg_price],\n",
    "    y=[1],\n",
    "    mode='markers',\n",
    "    marker=dict(color='blue', size=10, symbol='square'),\n",
    "    name='Ortalama',\n",
    "    showlegend=True,\n",
    "    hovertemplate='%{x:,.0f} TL',\n",
    "))\n",
    "\n",
    "# Max price trace\n",
    "traces.append(go.Scatter(\n",
    "    x=[max_price],\n",
    "    y=[1],\n",
    "    mode='markers',\n",
    "    marker=dict(color='red', size=10, symbol='square'),\n",
    "    name='Maks',\n",
    "    showlegend=True,\n",
    "    hovertemplate='%{x:,.0f} TL',\n",
    "))\n",
    "\n",
    "\n",
    "\n",
    "# Create the figure\n",
    "fig_1 = go.Figure(data=traces)\n",
    "\n",
    "# Update the layout for better appearance\n",
    "fig_1.update_layout(\n",
    "    title_text=\"Fiyat İstatistiği\",\n",
    "    xaxis_title=\"Fiyat (TL)\",\n",
    "    yaxis=dict(showticklabels=False, showgrid=False),  # Hide the y-axis ticks and labels\n",
    "    width=900,\n",
    "    height=230,\n",
    "    legend=dict(\n",
    "        orientation=\"h\",\n",
    "        yanchor=\"bottom\",\n",
    "        y=1.02,\n",
    "        xanchor=\"right\",\n",
    "        x=1\n",
    "    )\n",
    ")\n",
    "\n",
    "# Show the plot\n",
    "fig_1.show()\n",
    "\n",
    "\n",
    "# Extract ages from the data field\n",
    "ages = [item['age'] for item in data['data']]\n",
    "ages = sorted(ages)\n",
    "\n",
    "# Define age groups\n",
    "age_groups = {\n",
    "    0:0,\n",
    "    1:0,\n",
    "    2:0,\n",
    "    3:0,\n",
    "    4:0,\n",
    "    5:0,\n",
    "    \"6-10\":0,\n",
    "    \"11-15\":0,\n",
    "    \"16-20\":0,\n",
    "    \"21-25\":0,\n",
    "    \"26-30\":0,\n",
    "    \"31+\":0,\n",
    "}\n",
    "\n",
    "# Categorize ages\n",
    "for age in ages:\n",
    "    if age<6:\n",
    "        age_groups[age] += 1\n",
    "    elif 6<=age<=10:\n",
    "        age_groups[\"6-10\"] += 1\n",
    "    elif 11<=age<=15:\n",
    "        age_groups[\"11-15\"] += 1\n",
    "    elif 16<=age<=20:\n",
    "        age_groups[\"16-20\"] += 1\n",
    "    elif 21<=age<=25:\n",
    "        age_groups[\"21-25\"] += 1\n",
    "    elif 26<=age<=30:\n",
    "        age_groups[\"26-30\"] += 1\n",
    "    else:\n",
    "        age_groups[\"31+\"] += 1\n",
    "\n",
    "\n",
    "# Calculate total number of ages\n",
    "total_ages = len(ages)\n",
    "\n",
    "# Calculate percentages for each age group\n",
    "age_group_percentages = {group: count / total_ages * 100 for group, count in age_groups.items() if count>0}\n",
    "\n",
    "# Create the pie chart\n",
    "labels = list(age_group_percentages.keys())\n",
    "values = list(age_group_percentages.values())\n",
    "\n",
    "fig_2 = go.Figure(data=[go.Pie(labels=labels, values=values, hole=0.4,\n",
    "                             hovertemplate=\"Bina Yaşı: %{label}<br>Yüzdelik: %{value:.1f}%<extra></extra>\",\n",
    "                             sort=False\n",
    "                             )])\n",
    "\n",
    "# Update the layout for better appearance\n",
    "fig_2.update_layout(title_text=\"Bina Yaşı Dağılımı\", \n",
    "                  width=600, height=500, \n",
    "                  )\n",
    "\n",
    "fig_2.update_layout(legend=dict(\n",
    "    orientation=\"h\",\n",
    "    yanchor=\"bottom\",\n",
    "    y=-0.3,\n",
    "    xanchor=\"center\",\n",
    "    x=.5\n",
    "))\n",
    "\n",
    "# Show the plot\n",
    "fig_2.show()\n",
    "\n"
   ]
  },
  {
   "cell_type": "code",
   "execution_count": null,
   "metadata": {},
   "outputs": [],
   "source": [
    "import plotly.graph_objects as go\n",
    "import numpy as np\n",
    "import scipy.stats as stats\n",
    "\n",
    "# Generate random prices of real estates\n",
    "np.random.seed(42)  # For reproducibility\n",
    "real_estate_prices = np.random.normal(loc=300000, scale=75000, size=10000)\n",
    "\n",
    "# Create the histogram\n",
    "hist_data = go.Histogram(x=real_estate_prices, nbinsx=30, name='Histogram', opacity=0.7)\n",
    "\n",
    "# Calculate the bell curve (normal distribution)\n",
    "mean = np.mean(real_estate_prices)\n",
    "std_dev = np.std(real_estate_prices)\n",
    "x = np.linspace(min(real_estate_prices), max(real_estate_prices), 1000)\n",
    "y = stats.norm.pdf(x, mean, std_dev) * len(real_estate_prices) * (x[1] - x[0]) * 30  # scale y to match histogram\n",
    "\n",
    "# Create the normal distribution curve\n",
    "bell_curve = go.Scatter(x=x, y=y, mode='lines', name='Normal Distribution')\n",
    "\n",
    "# Create the figure and add both the histogram and the bell curve\n",
    "fig = go.Figure(data=[hist_data, bell_curve])\n",
    "\n",
    "# Update layout for the plot\n",
    "fig.update_layout(\n",
    "    title='Histogram of Real Estate Prices with Bell Curve',\n",
    "    xaxis_title='Price',\n",
    "    yaxis_title='Count',\n",
    "    bargap=0.2  # Gap between bars\n",
    ")\n",
    "\n",
    "# Show the plot\n",
    "fig.show()\n"
   ]
  },
  {
   "cell_type": "code",
   "execution_count": null,
   "metadata": {},
   "outputs": [],
   "source": [
    "import plotly.graph_objects as go\n",
    "import numpy as np\n",
    "import scipy.stats as stats\n",
    "\n",
    "# Generate random prices of real estates\n",
    "np.random.seed(42)  # For reproducibility\n",
    "real_estate_prices = np.random.normal(loc=300000, scale=75000, size=1000)\n",
    "\n",
    "# Create the histogram\n",
    "hist_data = go.Histogram(x=real_estate_prices, nbinsx=30, name='Histogram', opacity=0.7)\n",
    "\n",
    "# Calculate the bell curve (normal distribution)\n",
    "mean = np.mean(real_estate_prices)\n",
    "std_dev = np.std(real_estate_prices)\n",
    "x = np.linspace(min(real_estate_prices), max(real_estate_prices), 1000)\n",
    "y = stats.norm.pdf(x, mean, std_dev) * len(real_estate_prices) * (x[1] - x[0]) * 30  # scale y to match histogram\n",
    "\n",
    "# Create the normal distribution curve\n",
    "bell_curve = go.Scatter(x=x, y=y, mode='lines', name='Normal Distribution')\n",
    "\n",
    "# Find the lowest, average, and maximum prices\n",
    "lowest_price = np.min(real_estate_prices)\n",
    "average_price = mean\n",
    "highest_price = np.max(real_estate_prices)\n",
    "\n",
    "# Create the vertical lines for lowest, average, and maximum prices\n",
    "lowest_line = go.Scatter(x=[lowest_price, lowest_price], y=[0, max(y)], mode='lines', name='Lowest Price', line=dict(color='red', dash='dash'))\n",
    "average_line = go.Scatter(x=[average_price, average_price], y=[0, max(y)], mode='lines', name='Average Price', line=dict(color='green', dash='dash'))\n",
    "highest_line = go.Scatter(x=[highest_price, highest_price], y=[0, max(y)], mode='lines', name='Highest Price', line=dict(color='blue', dash='dash'))\n",
    "\n",
    "# Create the figure and add the histogram, bell curve, and vertical lines\n",
    "fig = go.Figure(data=[hist_data, bell_curve, lowest_line, average_line, highest_line])\n",
    "\n",
    "# Update layout for the plot\n",
    "fig.update_layout(\n",
    "    title='Histogram of Real Estate Prices with Bell Curve',\n",
    "    xaxis_title='Price',\n",
    "    yaxis_title='Count',\n",
    "    bargap=0.2  # Gap between bars\n",
    ")\n",
    "\n",
    "# Add annotations for the lowest, average, and maximum prices\n",
    "fig.add_annotation(x=lowest_price, y=max(y), text=f\"Lowest Price: {lowest_price:.2f}\", showarrow=True, arrowhead=1)\n",
    "fig.add_annotation(x=average_price, y=max(y), text=f\"Average Price: {average_price:.2f}\", showarrow=True, arrowhead=1)\n",
    "fig.add_annotation(x=highest_price, y=max(y), text=f\"Highest Price: {highest_price:.2f}\", showarrow=True, arrowhead=1)\n",
    "\n",
    "# Show the plot\n",
    "fig.show()\n"
   ]
  },
  {
   "cell_type": "code",
   "execution_count": null,
   "metadata": {},
   "outputs": [],
   "source": [
    "import plotly.graph_objects as go\n",
    "import numpy as np\n",
    "import scipy.stats as stats\n",
    "\n",
    "# Generate random prices of real estates\n",
    "np.random.seed(42)  # For reproducibility\n",
    "real_estate_prices = np.random.normal(loc=300000, scale=75000, size=1000)\n",
    "\n",
    "# Create the histogram\n",
    "hist_data = go.Histogram(x=real_estate_prices, nbinsx=30, name='Histogram', opacity=0.7)\n",
    "\n",
    "# Calculate the bell curve (normal distribution)\n",
    "mean = np.mean(real_estate_prices)\n",
    "std_dev = np.std(real_estate_prices)\n",
    "x = np.linspace(min(real_estate_prices), max(real_estate_prices), 1000)\n",
    "y = stats.norm.pdf(x, mean, std_dev) * len(real_estate_prices) * (x[1] - x[0]) * 30  # scale y to match histogram\n",
    "\n",
    "# Create the normal distribution curve\n",
    "bell_curve = go.Scatter(x=x, y=y, mode='lines', name='Normal Distribution')\n",
    "\n",
    "# Find the lowest, average, and maximum prices\n",
    "lowest_price = np.min(real_estate_prices)\n",
    "average_price = mean\n",
    "highest_price = np.max(real_estate_prices)\n",
    "\n",
    "# Create the vertical lines for lowest, average, and maximum prices\n",
    "lowest_line = go.Scatter(x=[lowest_price, lowest_price], y=[0, max(y)], mode='lines', name='Lowest Price', line=dict(color='red', dash='dash'))\n",
    "average_line = go.Scatter(x=[average_price, average_price], y=[0, max(y)], mode='lines', name='Average Price', line=dict(color='green', dash='dash'))\n",
    "highest_line = go.Scatter(x=[highest_price, highest_price], y=[0, max(y)], mode='lines', name='Highest Price', line=dict(color='blue', dash='dash'))\n",
    "\n",
    "# Create the figure and add the histogram, bell curve, and vertical lines\n",
    "fig = go.Figure(data=[ bell_curve, lowest_line, average_line, highest_line])\n",
    "\n",
    "# Update layout for the plot\n",
    "fig.update_layout(\n",
    "    title='Histogram of Real Estate Prices with Bell Curve',\n",
    "    xaxis_title='Price',\n",
    "    yaxis_title='Count',\n",
    "    bargap=0.2  # Gap between bars\n",
    ")\n",
    "\n",
    "# Add annotations for the lowest, average, and maximum prices\n",
    "fig.add_annotation(x=lowest_price, y=max(y), text=f\"Lowest Price: {lowest_price:.2f}\", showarrow=True, arrowhead=1)\n",
    "fig.add_annotation(x=average_price, y=max(y), text=f\"Average Price: {average_price:.2f}\", showarrow=True, arrowhead=1)\n",
    "fig.add_annotation(x=highest_price, y=max(y), text=f\"Highest Price: {highest_price:.2f}\", showarrow=True, arrowhead=1)\n",
    "\n",
    "# Show the plot\n",
    "fig.show()\n"
   ]
  },
  {
   "cell_type": "code",
   "execution_count": null,
   "metadata": {},
   "outputs": [],
   "source": [
    "import plotly.graph_objects as go\n",
    "import numpy as np\n",
    "import scipy.stats as stats\n",
    "\n",
    "# Generate random prices of real estates\n",
    "np.random.seed(42)  # For reproducibility\n",
    "real_estate_prices = np.random.normal(loc=300000, scale=75000, size=1000)\n",
    "\n",
    "# Create the histogram\n",
    "hist_data = go.Histogram(x=real_estate_prices, nbinsx=30, name='Histogram', opacity=0.7)\n",
    "\n",
    "# Calculate the bell curve (normal distribution)\n",
    "mean = np.mean(real_estate_prices)\n",
    "std_dev = np.std(real_estate_prices)\n",
    "x = np.linspace(min(real_estate_prices), max(real_estate_prices), 1000)\n",
    "y = stats.norm.pdf(x, mean, std_dev) * len(real_estate_prices) * (x[1] - x[0]) * 30  # scale y to match histogram\n",
    "\n",
    "# Create the normal distribution curve\n",
    "bell_curve = go.Scatter(x=x, y=y, mode='lines', name='Normal Distribution')\n",
    "\n",
    "# Find the lowest, average, and maximum prices\n",
    "lowest_price = np.min(real_estate_prices)\n",
    "average_price = mean\n",
    "highest_price = np.max(real_estate_prices)\n",
    "\n",
    "# Create the points for lowest, average, and maximum prices\n",
    "points = go.Scatter(\n",
    "    x=[lowest_price, average_price, highest_price],\n",
    "    y=[0, stats.norm.pdf(average_price, mean, std_dev) * len(real_estate_prices) * (x[1] - x[0]) * 30, 0],\n",
    "    mode='markers+text',\n",
    "    name='Price Points',\n",
    "    marker=dict(color='black', size=10),\n",
    "    text=['Lowest', 'Average', 'Highest'],\n",
    "    textposition='top center'\n",
    ")\n",
    "\n",
    "# Create the figure and add the histogram, bell curve, and points\n",
    "fig = go.Figure(data=[hist_data, bell_curve, points])\n",
    "\n",
    "# Update layout for the plot\n",
    "fig.update_layout(\n",
    "    title='Histogram of Real Estate Prices with Bell Curve',\n",
    "    xaxis_title='Price',\n",
    "    yaxis_title='Count',\n",
    "    bargap=0.2  # Gap between bars\n",
    ")\n",
    "\n",
    "# Show the plot\n",
    "fig.show()\n"
   ]
  },
  {
   "cell_type": "code",
   "execution_count": null,
   "metadata": {},
   "outputs": [],
   "source": [
    "import numpy as np\n",
    "import plotly.graph_objs as go\n",
    "import plotly.express as px\n",
    "import pandas as pd\n",
    "from prep_data import *\n",
    "import locale\n",
    "from plot import *\n",
    "\n",
    "import json\n",
    "import plotly.graph_objects as go\n",
    "import numpy as np\n",
    "\n",
    "# Read the JSON file (replace with your JSON file path)\n",
    "with open('./curl-res.json', 'r') as file:\n",
    "    json_data = file.read()\n",
    "\n",
    "# Parse the JSON data\n",
    "m = json.loads(json_data)\n",
    "\n",
    "\n",
    "fig1, fig2 = price_age_plot(m[\"result\"], m[\"data\"])\n",
    "# type(m[\"data\"])\n",
    "# m[\"data\"][0]\n",
    "fig1.show()"
   ]
  },
  {
   "cell_type": "code",
   "execution_count": null,
   "metadata": {},
   "outputs": [],
   "source": [
    "fig2.show()"
   ]
  },
  {
   "cell_type": "code",
   "execution_count": 4,
   "metadata": {},
   "outputs": [
    {
     "data": {
      "application/vnd.plotly.v1+json": {
       "config": {
        "plotlyServerURL": "https://plot.ly"
       },
       "data": [
        {
         "line": {
          "color": "orange",
          "width": 5
         },
         "marker": {
          "color": "#233d4d",
          "size": 15
         },
         "mode": "lines+markers",
         "name": "Ülkede Toplam Konut Satış",
         "type": "scatter",
         "x": [
          "2013-01-28T00:00:00",
          "2013-02-28T00:00:00",
          "2013-03-28T00:00:00",
          "2013-04-28T00:00:00",
          "2013-05-28T00:00:00",
          "2013-06-28T00:00:00",
          "2013-07-28T00:00:00",
          "2013-08-28T00:00:00",
          "2013-09-28T00:00:00",
          "2013-10-28T00:00:00",
          "2013-11-28T00:00:00",
          "2013-12-28T00:00:00",
          "2014-01-28T00:00:00",
          "2014-02-28T00:00:00",
          "2014-03-28T00:00:00",
          "2014-04-28T00:00:00",
          "2014-05-28T00:00:00",
          "2014-06-28T00:00:00",
          "2014-07-28T00:00:00",
          "2014-08-28T00:00:00",
          "2014-09-28T00:00:00",
          "2014-10-28T00:00:00",
          "2014-11-28T00:00:00",
          "2014-12-28T00:00:00",
          "2015-01-28T00:00:00",
          "2015-02-28T00:00:00",
          "2015-03-28T00:00:00",
          "2015-04-28T00:00:00",
          "2015-05-28T00:00:00",
          "2015-06-28T00:00:00",
          "2015-07-28T00:00:00",
          "2015-08-28T00:00:00",
          "2015-09-28T00:00:00",
          "2015-10-28T00:00:00",
          "2015-11-28T00:00:00",
          "2015-12-28T00:00:00",
          "2016-01-28T00:00:00",
          "2016-02-28T00:00:00",
          "2016-03-28T00:00:00",
          "2016-04-28T00:00:00",
          "2016-05-28T00:00:00",
          "2016-06-28T00:00:00",
          "2016-07-28T00:00:00",
          "2016-08-28T00:00:00",
          "2016-09-28T00:00:00",
          "2016-10-28T00:00:00",
          "2016-11-28T00:00:00",
          "2016-12-28T00:00:00",
          "2017-01-28T00:00:00",
          "2017-02-28T00:00:00",
          "2017-03-28T00:00:00",
          "2017-04-28T00:00:00",
          "2017-05-28T00:00:00",
          "2017-06-28T00:00:00",
          "2017-07-28T00:00:00",
          "2017-08-28T00:00:00",
          "2017-09-28T00:00:00",
          "2017-10-28T00:00:00",
          "2017-11-28T00:00:00",
          "2017-12-28T00:00:00",
          "2018-01-28T00:00:00",
          "2018-02-28T00:00:00",
          "2018-03-28T00:00:00",
          "2018-04-28T00:00:00",
          "2018-05-28T00:00:00",
          "2018-06-28T00:00:00",
          "2018-07-28T00:00:00",
          "2018-08-28T00:00:00",
          "2018-09-28T00:00:00",
          "2018-10-28T00:00:00",
          "2018-11-28T00:00:00",
          "2018-12-28T00:00:00",
          "2019-01-28T00:00:00",
          "2019-02-28T00:00:00",
          "2019-03-28T00:00:00",
          "2019-04-28T00:00:00",
          "2019-05-28T00:00:00",
          "2019-06-28T00:00:00",
          "2019-07-28T00:00:00",
          "2019-08-28T00:00:00",
          "2019-09-28T00:00:00",
          "2019-10-28T00:00:00",
          "2019-11-28T00:00:00",
          "2019-12-28T00:00:00",
          "2020-01-28T00:00:00",
          "2020-02-28T00:00:00",
          "2020-03-28T00:00:00",
          "2020-04-28T00:00:00",
          "2020-05-28T00:00:00",
          "2020-06-28T00:00:00",
          "2020-07-28T00:00:00",
          "2020-08-28T00:00:00",
          "2020-09-28T00:00:00",
          "2020-10-28T00:00:00",
          "2020-11-28T00:00:00",
          "2020-12-28T00:00:00",
          "2021-01-28T00:00:00",
          "2021-02-28T00:00:00",
          "2021-03-28T00:00:00",
          "2021-04-28T00:00:00",
          "2021-05-28T00:00:00",
          "2021-06-28T00:00:00",
          "2021-07-28T00:00:00",
          "2021-08-28T00:00:00",
          "2021-09-28T00:00:00",
          "2021-10-28T00:00:00",
          "2021-11-28T00:00:00",
          "2021-12-28T00:00:00",
          "2022-01-28T00:00:00",
          "2022-02-28T00:00:00",
          "2022-03-28T00:00:00",
          "2022-04-28T00:00:00",
          "2022-05-28T00:00:00",
          "2022-06-28T00:00:00",
          "2022-07-28T00:00:00",
          "2022-08-28T00:00:00",
          "2022-09-28T00:00:00",
          "2022-10-28T00:00:00",
          "2022-11-28T00:00:00",
          "2022-12-28T00:00:00",
          "2023-01-28T00:00:00",
          "2023-02-28T00:00:00",
          "2023-03-28T00:00:00",
          "2023-04-28T00:00:00",
          "2023-05-28T00:00:00",
          "2023-06-28T00:00:00",
          "2023-07-28T00:00:00",
          "2023-08-28T00:00:00",
          "2023-09-28T00:00:00",
          "2023-10-28T00:00:00",
          "2023-11-28T00:00:00",
          "2023-12-28T00:00:00",
          "2024-01-28T00:00:00",
          "2024-02-28T00:00:00",
          "2024-03-28T00:00:00",
          "2024-04-28T00:00:00",
          "2024-05-28T00:00:00"
         ],
         "y": [
          87444,
          88519,
          97956,
          95381,
          103261,
          96424,
          106636,
          84480,
          102280,
          76344,
          102681,
          115784,
          87639,
          82597,
          87617,
          83610,
          90377,
          92936,
          85101,
          105624,
          115786,
          95645,
          103783,
          134666,
          86167,
          95021,
          116030,
          119317,
          107888,
          110657,
          96589,
          112463,
          92483,
          104098,
          106008,
          142599,
          84556,
          101703,
          117205,
          106348,
          114800,
          106187,
          81343,
          114751,
          108918,
          130274,
          132655,
          142713,
          95389,
          101468,
          128923,
          114446,
          116558,
          97579,
          115869,
          120198,
          140298,
          122882,
          122732,
          132972,
          97019,
          95953,
          110905,
          103087,
          119655,
          119413,
          123878,
          105154,
          127327,
          146536,
          89626,
          136845,
          72937,
          78450,
          105046,
          96071,
          91937,
          61355,
          102236,
          110538,
          146903,
          142810,
          138372,
          202074,
          113615,
          118753,
          108670,
          42783,
          50936,
          190012,
          229357,
          170408,
          136744,
          119574,
          112483,
          105981,
          70587,
          81222,
          111241,
          95863,
          59166,
          134731,
          107785,
          141400,
          147143,
          137401,
          178814,
          226503,
          88306,
          97587,
          134170,
          133058,
          122768,
          150509,
          93902,
          123491,
          113402,
          102660,
          117806,
          207963,
          97708,
          80031,
          105476,
          85652,
          113276,
          83636,
          109548,
          122091,
          102656,
          93761,
          93514,
          138577,
          80308,
          93902,
          105394,
          75569,
          110588
         ]
        }
       ],
       "layout": {
        "height": 800,
        "hovermode": "x",
        "legend": {
         "font": {
          "family": "Verdana",
          "size": 12
         },
         "x": 0.99,
         "xanchor": "right",
         "y": 0.99,
         "yanchor": "top"
        },
        "margin": {
         "b": 110,
         "l": 110,
         "r": 20,
         "t": 100
        },
        "plot_bgcolor": "#f3f4f6",
        "template": {
         "data": {
          "bar": [
           {
            "error_x": {
             "color": "#2a3f5f"
            },
            "error_y": {
             "color": "#2a3f5f"
            },
            "marker": {
             "line": {
              "color": "#E5ECF6",
              "width": 0.5
             },
             "pattern": {
              "fillmode": "overlay",
              "size": 10,
              "solidity": 0.2
             }
            },
            "type": "bar"
           }
          ],
          "barpolar": [
           {
            "marker": {
             "line": {
              "color": "#E5ECF6",
              "width": 0.5
             },
             "pattern": {
              "fillmode": "overlay",
              "size": 10,
              "solidity": 0.2
             }
            },
            "type": "barpolar"
           }
          ],
          "carpet": [
           {
            "aaxis": {
             "endlinecolor": "#2a3f5f",
             "gridcolor": "white",
             "linecolor": "white",
             "minorgridcolor": "white",
             "startlinecolor": "#2a3f5f"
            },
            "baxis": {
             "endlinecolor": "#2a3f5f",
             "gridcolor": "white",
             "linecolor": "white",
             "minorgridcolor": "white",
             "startlinecolor": "#2a3f5f"
            },
            "type": "carpet"
           }
          ],
          "choropleth": [
           {
            "colorbar": {
             "outlinewidth": 0,
             "ticks": ""
            },
            "type": "choropleth"
           }
          ],
          "contour": [
           {
            "colorbar": {
             "outlinewidth": 0,
             "ticks": ""
            },
            "colorscale": [
             [
              0,
              "#0d0887"
             ],
             [
              0.1111111111111111,
              "#46039f"
             ],
             [
              0.2222222222222222,
              "#7201a8"
             ],
             [
              0.3333333333333333,
              "#9c179e"
             ],
             [
              0.4444444444444444,
              "#bd3786"
             ],
             [
              0.5555555555555556,
              "#d8576b"
             ],
             [
              0.6666666666666666,
              "#ed7953"
             ],
             [
              0.7777777777777778,
              "#fb9f3a"
             ],
             [
              0.8888888888888888,
              "#fdca26"
             ],
             [
              1,
              "#f0f921"
             ]
            ],
            "type": "contour"
           }
          ],
          "contourcarpet": [
           {
            "colorbar": {
             "outlinewidth": 0,
             "ticks": ""
            },
            "type": "contourcarpet"
           }
          ],
          "heatmap": [
           {
            "colorbar": {
             "outlinewidth": 0,
             "ticks": ""
            },
            "colorscale": [
             [
              0,
              "#0d0887"
             ],
             [
              0.1111111111111111,
              "#46039f"
             ],
             [
              0.2222222222222222,
              "#7201a8"
             ],
             [
              0.3333333333333333,
              "#9c179e"
             ],
             [
              0.4444444444444444,
              "#bd3786"
             ],
             [
              0.5555555555555556,
              "#d8576b"
             ],
             [
              0.6666666666666666,
              "#ed7953"
             ],
             [
              0.7777777777777778,
              "#fb9f3a"
             ],
             [
              0.8888888888888888,
              "#fdca26"
             ],
             [
              1,
              "#f0f921"
             ]
            ],
            "type": "heatmap"
           }
          ],
          "heatmapgl": [
           {
            "colorbar": {
             "outlinewidth": 0,
             "ticks": ""
            },
            "colorscale": [
             [
              0,
              "#0d0887"
             ],
             [
              0.1111111111111111,
              "#46039f"
             ],
             [
              0.2222222222222222,
              "#7201a8"
             ],
             [
              0.3333333333333333,
              "#9c179e"
             ],
             [
              0.4444444444444444,
              "#bd3786"
             ],
             [
              0.5555555555555556,
              "#d8576b"
             ],
             [
              0.6666666666666666,
              "#ed7953"
             ],
             [
              0.7777777777777778,
              "#fb9f3a"
             ],
             [
              0.8888888888888888,
              "#fdca26"
             ],
             [
              1,
              "#f0f921"
             ]
            ],
            "type": "heatmapgl"
           }
          ],
          "histogram": [
           {
            "marker": {
             "pattern": {
              "fillmode": "overlay",
              "size": 10,
              "solidity": 0.2
             }
            },
            "type": "histogram"
           }
          ],
          "histogram2d": [
           {
            "colorbar": {
             "outlinewidth": 0,
             "ticks": ""
            },
            "colorscale": [
             [
              0,
              "#0d0887"
             ],
             [
              0.1111111111111111,
              "#46039f"
             ],
             [
              0.2222222222222222,
              "#7201a8"
             ],
             [
              0.3333333333333333,
              "#9c179e"
             ],
             [
              0.4444444444444444,
              "#bd3786"
             ],
             [
              0.5555555555555556,
              "#d8576b"
             ],
             [
              0.6666666666666666,
              "#ed7953"
             ],
             [
              0.7777777777777778,
              "#fb9f3a"
             ],
             [
              0.8888888888888888,
              "#fdca26"
             ],
             [
              1,
              "#f0f921"
             ]
            ],
            "type": "histogram2d"
           }
          ],
          "histogram2dcontour": [
           {
            "colorbar": {
             "outlinewidth": 0,
             "ticks": ""
            },
            "colorscale": [
             [
              0,
              "#0d0887"
             ],
             [
              0.1111111111111111,
              "#46039f"
             ],
             [
              0.2222222222222222,
              "#7201a8"
             ],
             [
              0.3333333333333333,
              "#9c179e"
             ],
             [
              0.4444444444444444,
              "#bd3786"
             ],
             [
              0.5555555555555556,
              "#d8576b"
             ],
             [
              0.6666666666666666,
              "#ed7953"
             ],
             [
              0.7777777777777778,
              "#fb9f3a"
             ],
             [
              0.8888888888888888,
              "#fdca26"
             ],
             [
              1,
              "#f0f921"
             ]
            ],
            "type": "histogram2dcontour"
           }
          ],
          "mesh3d": [
           {
            "colorbar": {
             "outlinewidth": 0,
             "ticks": ""
            },
            "type": "mesh3d"
           }
          ],
          "parcoords": [
           {
            "line": {
             "colorbar": {
              "outlinewidth": 0,
              "ticks": ""
             }
            },
            "type": "parcoords"
           }
          ],
          "pie": [
           {
            "automargin": true,
            "type": "pie"
           }
          ],
          "scatter": [
           {
            "fillpattern": {
             "fillmode": "overlay",
             "size": 10,
             "solidity": 0.2
            },
            "type": "scatter"
           }
          ],
          "scatter3d": [
           {
            "line": {
             "colorbar": {
              "outlinewidth": 0,
              "ticks": ""
             }
            },
            "marker": {
             "colorbar": {
              "outlinewidth": 0,
              "ticks": ""
             }
            },
            "type": "scatter3d"
           }
          ],
          "scattercarpet": [
           {
            "marker": {
             "colorbar": {
              "outlinewidth": 0,
              "ticks": ""
             }
            },
            "type": "scattercarpet"
           }
          ],
          "scattergeo": [
           {
            "marker": {
             "colorbar": {
              "outlinewidth": 0,
              "ticks": ""
             }
            },
            "type": "scattergeo"
           }
          ],
          "scattergl": [
           {
            "marker": {
             "colorbar": {
              "outlinewidth": 0,
              "ticks": ""
             }
            },
            "type": "scattergl"
           }
          ],
          "scattermapbox": [
           {
            "marker": {
             "colorbar": {
              "outlinewidth": 0,
              "ticks": ""
             }
            },
            "type": "scattermapbox"
           }
          ],
          "scatterpolar": [
           {
            "marker": {
             "colorbar": {
              "outlinewidth": 0,
              "ticks": ""
             }
            },
            "type": "scatterpolar"
           }
          ],
          "scatterpolargl": [
           {
            "marker": {
             "colorbar": {
              "outlinewidth": 0,
              "ticks": ""
             }
            },
            "type": "scatterpolargl"
           }
          ],
          "scatterternary": [
           {
            "marker": {
             "colorbar": {
              "outlinewidth": 0,
              "ticks": ""
             }
            },
            "type": "scatterternary"
           }
          ],
          "surface": [
           {
            "colorbar": {
             "outlinewidth": 0,
             "ticks": ""
            },
            "colorscale": [
             [
              0,
              "#0d0887"
             ],
             [
              0.1111111111111111,
              "#46039f"
             ],
             [
              0.2222222222222222,
              "#7201a8"
             ],
             [
              0.3333333333333333,
              "#9c179e"
             ],
             [
              0.4444444444444444,
              "#bd3786"
             ],
             [
              0.5555555555555556,
              "#d8576b"
             ],
             [
              0.6666666666666666,
              "#ed7953"
             ],
             [
              0.7777777777777778,
              "#fb9f3a"
             ],
             [
              0.8888888888888888,
              "#fdca26"
             ],
             [
              1,
              "#f0f921"
             ]
            ],
            "type": "surface"
           }
          ],
          "table": [
           {
            "cells": {
             "fill": {
              "color": "#EBF0F8"
             },
             "line": {
              "color": "white"
             }
            },
            "header": {
             "fill": {
              "color": "#C8D4E3"
             },
             "line": {
              "color": "white"
             }
            },
            "type": "table"
           }
          ]
         },
         "layout": {
          "annotationdefaults": {
           "arrowcolor": "#2a3f5f",
           "arrowhead": 0,
           "arrowwidth": 1
          },
          "autotypenumbers": "strict",
          "coloraxis": {
           "colorbar": {
            "outlinewidth": 0,
            "ticks": ""
           }
          },
          "colorscale": {
           "diverging": [
            [
             0,
             "#8e0152"
            ],
            [
             0.1,
             "#c51b7d"
            ],
            [
             0.2,
             "#de77ae"
            ],
            [
             0.3,
             "#f1b6da"
            ],
            [
             0.4,
             "#fde0ef"
            ],
            [
             0.5,
             "#f7f7f7"
            ],
            [
             0.6,
             "#e6f5d0"
            ],
            [
             0.7,
             "#b8e186"
            ],
            [
             0.8,
             "#7fbc41"
            ],
            [
             0.9,
             "#4d9221"
            ],
            [
             1,
             "#276419"
            ]
           ],
           "sequential": [
            [
             0,
             "#0d0887"
            ],
            [
             0.1111111111111111,
             "#46039f"
            ],
            [
             0.2222222222222222,
             "#7201a8"
            ],
            [
             0.3333333333333333,
             "#9c179e"
            ],
            [
             0.4444444444444444,
             "#bd3786"
            ],
            [
             0.5555555555555556,
             "#d8576b"
            ],
            [
             0.6666666666666666,
             "#ed7953"
            ],
            [
             0.7777777777777778,
             "#fb9f3a"
            ],
            [
             0.8888888888888888,
             "#fdca26"
            ],
            [
             1,
             "#f0f921"
            ]
           ],
           "sequentialminus": [
            [
             0,
             "#0d0887"
            ],
            [
             0.1111111111111111,
             "#46039f"
            ],
            [
             0.2222222222222222,
             "#7201a8"
            ],
            [
             0.3333333333333333,
             "#9c179e"
            ],
            [
             0.4444444444444444,
             "#bd3786"
            ],
            [
             0.5555555555555556,
             "#d8576b"
            ],
            [
             0.6666666666666666,
             "#ed7953"
            ],
            [
             0.7777777777777778,
             "#fb9f3a"
            ],
            [
             0.8888888888888888,
             "#fdca26"
            ],
            [
             1,
             "#f0f921"
            ]
           ]
          },
          "colorway": [
           "#636efa",
           "#EF553B",
           "#00cc96",
           "#ab63fa",
           "#FFA15A",
           "#19d3f3",
           "#FF6692",
           "#B6E880",
           "#FF97FF",
           "#FECB52"
          ],
          "font": {
           "color": "#2a3f5f"
          },
          "geo": {
           "bgcolor": "white",
           "lakecolor": "white",
           "landcolor": "#E5ECF6",
           "showlakes": true,
           "showland": true,
           "subunitcolor": "white"
          },
          "hoverlabel": {
           "align": "left"
          },
          "hovermode": "closest",
          "mapbox": {
           "style": "light"
          },
          "paper_bgcolor": "white",
          "plot_bgcolor": "#E5ECF6",
          "polar": {
           "angularaxis": {
            "gridcolor": "white",
            "linecolor": "white",
            "ticks": ""
           },
           "bgcolor": "#E5ECF6",
           "radialaxis": {
            "gridcolor": "white",
            "linecolor": "white",
            "ticks": ""
           }
          },
          "scene": {
           "xaxis": {
            "backgroundcolor": "#E5ECF6",
            "gridcolor": "white",
            "gridwidth": 2,
            "linecolor": "white",
            "showbackground": true,
            "ticks": "",
            "zerolinecolor": "white"
           },
           "yaxis": {
            "backgroundcolor": "#E5ECF6",
            "gridcolor": "white",
            "gridwidth": 2,
            "linecolor": "white",
            "showbackground": true,
            "ticks": "",
            "zerolinecolor": "white"
           },
           "zaxis": {
            "backgroundcolor": "#E5ECF6",
            "gridcolor": "white",
            "gridwidth": 2,
            "linecolor": "white",
            "showbackground": true,
            "ticks": "",
            "zerolinecolor": "white"
           }
          },
          "shapedefaults": {
           "line": {
            "color": "#2a3f5f"
           }
          },
          "ternary": {
           "aaxis": {
            "gridcolor": "white",
            "linecolor": "white",
            "ticks": ""
           },
           "baxis": {
            "gridcolor": "white",
            "linecolor": "white",
            "ticks": ""
           },
           "bgcolor": "#E5ECF6",
           "caxis": {
            "gridcolor": "white",
            "linecolor": "white",
            "ticks": ""
           }
          },
          "title": {
           "x": 0.05
          },
          "xaxis": {
           "automargin": true,
           "gridcolor": "white",
           "linecolor": "white",
           "ticks": "",
           "title": {
            "standoff": 15
           },
           "zerolinecolor": "white",
           "zerolinewidth": 2
          },
          "yaxis": {
           "automargin": true,
           "gridcolor": "white",
           "linecolor": "white",
           "ticks": "",
           "title": {
            "standoff": 15
           },
           "zerolinecolor": "white",
           "zerolinewidth": 2
          }
         }
        },
        "title": {
         "font": {
          "family": "Verdana",
          "size": 30,
          "weight": "bold"
         },
         "text": "Ülkede Toplam Konut Satış (2013-2024)"
        },
        "xaxis": {
         "gridcolor": "lightgray",
         "range": [
          "2013-01-26T00:00:00",
          "2024-06-17T00:00:00"
         ],
         "showgrid": true,
         "tickangle": -45,
         "tickfont": {
          "family": "Verdana",
          "size": 12
         },
         "title": {
          "font": {
           "color": "black",
           "family": "Verdana",
           "size": 20,
           "weight": "bold"
          },
          "text": "Tarih"
         }
        },
        "yaxis": {
         "gridcolor": "lightgray",
         "range": [
          0,
          275228.39999999997
         ],
         "showgrid": true,
         "tickfont": {
          "family": "Verdana",
          "size": 12
         },
         "tickformat": ",",
         "title": {
          "font": {
           "color": "black",
           "family": "Verdana",
           "size": 20,
           "weight": "bold"
          },
          "text": "Toplam"
         }
        }
       }
      }
     },
     "metadata": {},
     "output_type": "display_data"
    }
   ],
   "source": [
    "df_totals_total, df_totals_cities, df_granular, df_granular_cities = sales_by_cities_df()\n",
    "total_sales_plot(df_granular).show()"
   ]
  },
  {
   "cell_type": "markdown",
   "metadata": {},
   "source": [
    "# API REFINEMENT"
   ]
  },
  {
   "cell_type": "code",
   "execution_count": null,
   "metadata": {},
   "outputs": [],
   "source": [
    "with open('./il_ilce_mah.json', 'r') as file:\n",
    "    json_data = file.read()\n",
    "data = json.loads(json_data)\n",
    "data.keys()"
   ]
  },
  {
   "cell_type": "code",
   "execution_count": null,
   "metadata": {},
   "outputs": [],
   "source": [
    "from pprint import pprint"
   ]
  },
  {
   "cell_type": "code",
   "execution_count": null,
   "metadata": {},
   "outputs": [],
   "source": [
    "mah = data[\"mah\"]\n",
    "town = data[\"ilce\"]\n",
    "pprint(mah)"
   ]
  },
  {
   "cell_type": "code",
   "execution_count": null,
   "metadata": {},
   "outputs": [],
   "source": [
    "len(mah), len(town)"
   ]
  },
  {
   "cell_type": "code",
   "execution_count": null,
   "metadata": {},
   "outputs": [],
   "source": [
    "unique = set()\n",
    "for i in mah:\n",
    "    unique.add(i[\"name\"].split()[-1])\n",
    "unique"
   ]
  },
  {
   "cell_type": "code",
   "execution_count": null,
   "metadata": {},
   "outputs": [],
   "source": [
    "for i in mah:\n",
    "    if (\"Mh.\" in i[\"name\"]) or (\"Mah.\" in i[\"name\"]) or (\"Bld.\" in i[\"name\"]) or (\"Mahalle\" in i[\"name\"]):\n",
    "        i[\"name\"] = \" \".join(i[\"name\"].split()[:-1])\n",
    "mah"
   ]
  },
  {
   "cell_type": "code",
   "execution_count": null,
   "metadata": {},
   "outputs": [],
   "source": [
    "(\"Mh.\" in unique) or (\"Mah.\" in unique) or (\"Bld.\" in unique) or (\"Mahalle\" in unique)\n"
   ]
  },
  {
   "cell_type": "code",
   "execution_count": null,
   "metadata": {},
   "outputs": [],
   "source": [
    "df_a = pd.DataFrame(mah)\n",
    "df_a.set_index(\"id\").sort_index()"
   ]
  },
  {
   "cell_type": "code",
   "execution_count": null,
   "metadata": {},
   "outputs": [],
   "source": [
    "def population_df():\n",
    "    df_p = pd.read_excel(\"./datasets/nüfus.xlsx\",  sheet_name=\"MAHALLE NÜFUSU\", index_col=0)\n",
    "    cols = ['il kayit no', 'ilçe kayit no', 'belde/köy kayit no', 'mahalle kayit no',\n",
    "    'il adi', 'ilçe adi', 'belediye adi', 'mahalle adi', 'mahallenin bağli olduğu belediyenin niteliği',\n",
    "    'toplam', 'erkek', 'kadin']\n",
    "    df_p.columns = cols\n",
    "\n",
    "    # df_p_cities[(df_p_cities[\"mahalle adi\"]==\" \".join(\"2000 Evler Mh.\".split()[:-1]).upper()) & (df_p_cities[\"ilçe adi\"]==\"seyhan\".upper())] #for query\n",
    "\n",
    "    df_p = df_p[['il kayit no', 'ilçe kayit no', 'mahalle kayit no', \"il adi\", \"ilçe adi\", \"mahalle adi\", \"erkek\", \"kadin\"]]\n",
    "    df_p.erkek = df_p.erkek.replace(\"C\", \"0\").astype(int)\n",
    "    df_p.kadin = df_p.kadin.replace(\"C\", \"0\")\n",
    "    df_p.kadin = df_p.kadin.replace(\"-\", \"0\").astype(int)\n",
    "\n",
    "    df_p = df_p.groupby(['il kayit no', 'ilçe kayit no', 'mahalle kayit no', \"il adi\", \"ilçe adi\", \"mahalle adi\"])[[\"erkek\", \"kadin\"]].sum().reset_index()\n",
    "\n",
    "    return df_p\n",
    "df = population_df()\n",
    "df.head()"
   ]
  }
 ],
 "metadata": {
  "kernelspec": {
   "display_name": "Python 3",
   "language": "python",
   "name": "python3"
  },
  "language_info": {
   "codemirror_mode": {
    "name": "ipython",
    "version": 3
   },
   "file_extension": ".py",
   "mimetype": "text/x-python",
   "name": "python",
   "nbconvert_exporter": "python",
   "pygments_lexer": "ipython3",
   "version": "3.12.3"
  }
 },
 "nbformat": 4,
 "nbformat_minor": 2
}
