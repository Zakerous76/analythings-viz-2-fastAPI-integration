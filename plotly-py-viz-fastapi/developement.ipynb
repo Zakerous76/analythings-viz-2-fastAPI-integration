{
 "cells": [
  {
   "cell_type": "code",
   "execution_count": 2,
   "metadata": {},
   "outputs": [],
   "source": [
    "import numpy as np\n",
    "import plotly.graph_objs as go\n",
    "import plotly.express as px\n",
    "import pandas as pd\n",
    "from prep_data import *\n",
    "import locale\n",
    "from plot import *\n",
    "import json\n",
    "# locale.setlocale(locale.LC_TIME, 'tr_TR.UTF8')\n",
    "# "
   ]
  },
  {
   "cell_type": "markdown",
   "metadata": {},
   "source": [
    "# Sales"
   ]
  },
  {
   "cell_type": "code",
   "execution_count": null,
   "metadata": {},
   "outputs": [],
   "source": [
    "df_totals_total, df_totals_cities, df_granular, df_granular_cities = sales_by_cities_df()"
   ]
  },
  {
   "cell_type": "code",
   "execution_count": null,
   "metadata": {},
   "outputs": [],
   "source": [
    "df_totals_cities"
   ]
  },
  {
   "cell_type": "code",
   "execution_count": null,
   "metadata": {},
   "outputs": [],
   "source": [
    "df_totals_cities.columns\n"
   ]
  },
  {
   "cell_type": "code",
   "execution_count": null,
   "metadata": {},
   "outputs": [],
   "source": [
    "df_granular"
   ]
  },
  {
   "cell_type": "code",
   "execution_count": null,
   "metadata": {},
   "outputs": [],
   "source": [
    "\n",
    "# def total_sales_plot(df_totals):\n",
    "\n",
    "fig = go.Figure(data=[go.Line(name=city, x=df_totals_cities.index, y=df_totals_cities[city]) for city in df_totals_cities.columns], \n",
    "                layout=dict(height=800, width=1800))\n",
    "fig.update_layout(title=\"İllere Göre Konut Satışı (Yıl Bazında)\", xaxis_title=\"Yıl\", yaxis_title=\"Toplam Konut Satışı\", barmode='stack')\n",
    "fig.update_xaxes(tickmode='linear')\n",
    "fig.update_yaxes(tickmode='linear')\n",
    "\n",
    "fig.show()"
   ]
  },
  {
   "cell_type": "code",
   "execution_count": null,
   "metadata": {},
   "outputs": [],
   "source": [
    "\n",
    "# def total_sales_plot(df_totals):\n",
    "\n",
    "fig = go.Figure(data=[go.Bar(name=\"Adana\", x=df_totals_cities.index, y=df_totals_cities[\"1 Adana\"])], \n",
    "                layout=dict(height=800, width=1800))\n",
    "fig.update_layout(title=\"İllere Göre Konut Satışı (Yıl Bazında)\", xaxis_title=\"Yıl\", yaxis_title=\"Toplam Konut Satışı\", barmode='stack')\n",
    "fig.update_xaxes(tickmode='linear')\n",
    "fig.update_yaxes(tickmode='linear')\n",
    "\n",
    "fig.show()"
   ]
  },
  {
   "cell_type": "code",
   "execution_count": null,
   "metadata": {},
   "outputs": [],
   "source": [
    "df_granular_cities = df_granular.drop(\"Total\", axis=1)\n",
    "df_granular_cities.head()"
   ]
  },
  {
   "cell_type": "code",
   "execution_count": null,
   "metadata": {},
   "outputs": [],
   "source": [
    "\n",
    "# def total_sales_plot(df_totals):\n",
    "\n",
    "fig = go.Figure(data=[go.Line(name=city, x=df_granular_cities.index, y=df_granular_cities[city]) for city in df_totals_cities.columns], \n",
    "                layout=dict(height=800, width=1800))\n",
    "fig.update_layout(title=\"İllere Göre Konut Satışı (Ay bazında)\", xaxis_title=\"Yıl\", yaxis_title=\"Toplam Konut Satışı\", barmode='stack')\n",
    "\n",
    "fig.show()"
   ]
  },
  {
   "cell_type": "code",
   "execution_count": null,
   "metadata": {},
   "outputs": [],
   "source": [
    "df_f = pd.read_excel(\"./datasets/İllere göre yabancılara konut satış sayısı.xls\")\n",
    "df_f.rename(columns={'Unnamed: 1': 'Şehir'}, inplace=True)\n",
    "df_f.tail(14)\n",
    "\n",
    "df_f_total = df_f[df_f['Şehir'] == \"Toplam - Total\"].drop([\"Şehir\", \"Toplam\"], axis=1)#.set_index(\"Yıl\")\n",
    "df_f_total[\"Yıl\"] = df_f_total[\"Yıl\"].astype(int)\n",
    "# df_f_total.index = df_f_total.index.astype(int)\n",
    "\n",
    "df_f[\"Yıl\"] = df_f[\"Yıl\"].ffill().astype(int)\n",
    "df_f.drop(\"Toplam\", axis=1, inplace=True)\n",
    "df_f.tail(19)"
   ]
  },
  {
   "cell_type": "code",
   "execution_count": null,
   "metadata": {},
   "outputs": [],
   "source": [
    "df_f.tail()"
   ]
  },
  {
   "cell_type": "code",
   "execution_count": null,
   "metadata": {},
   "outputs": [],
   "source": [
    "df_f_total.tail()\n"
   ]
  },
  {
   "cell_type": "code",
   "execution_count": null,
   "metadata": {},
   "outputs": [],
   "source": [
    "# Fix the 2024 data\n",
    "# Reshape the DataFrame into long format\n",
    "df_long = df_f_total.melt(id_vars=['Yıl'], var_name='Ay', value_name='Sayı')\n",
    "\n",
    "# Aggregate the data by year, month, and city\n",
    "df_f_total_aggregated = df_long.groupby(['Yıl', 'Ay']).sum().reset_index()\n",
    "\n",
    "# Create a mapping of month names to their corresponding numbers\n",
    "month_mapping = {\n",
    "    'Ocak': 1, 'Şubat': 2, 'Mart': 3, 'Nisan': 4, 'Mayıs': 5, 'Haziran': 6,\n",
    "    'Temmuz': 7, 'Ağustos': 8, 'Eylül': 9, 'Ekim': 10, 'Kasım': 11, 'Aralık': 12\n",
    "}\n",
    "\n",
    "# Convert 'Yıl' and 'Ay' to datetime format\n",
    "df_f_total_aggregated['Tarih'] = df_f_total_aggregated.apply(lambda row: pd.Timestamp(int(row['Yıl']), month_mapping[row['Ay']], 1), axis=1)\n",
    "\n",
    "# Drop the 'Yıl' and 'Ay' columns if not needed anymore\n",
    "df_f_total_aggregated.drop(columns=['Yıl', 'Ay'], inplace=True)\n",
    "\n",
    "df_f_total_aggregated = df_f_total_aggregated.sort_values(by='Tarih')\n",
    "df_f_total_aggregated.set_index(\"Tarih\", inplace=True)\n",
    "df_f_total_aggregated[\"Sayı\"] = df_f_total_aggregated[\"Sayı\"].astype(int)\n",
    "df_f_total_aggregated.info()"
   ]
  },
  {
   "cell_type": "code",
   "execution_count": null,
   "metadata": {},
   "outputs": [],
   "source": [
    "df_f_total_aggregated.tail(15)"
   ]
  },
  {
   "cell_type": "code",
   "execution_count": null,
   "metadata": {},
   "outputs": [],
   "source": []
  },
  {
   "cell_type": "code",
   "execution_count": null,
   "metadata": {},
   "outputs": [],
   "source": [
    "df_f_cities = df_f[df_f['Şehir'] != \"Toplam - Total\"]\n",
    "df_f_cities.head()"
   ]
  },
  {
   "cell_type": "code",
   "execution_count": null,
   "metadata": {},
   "outputs": [],
   "source": [
    "# Fix the 2024 data\n",
    "# Reshape the DataFrame into long format\n",
    "df_long = df_f_cities.melt(id_vars=['Yıl', 'Şehir'], var_name='Ay', value_name='Sayı')\n",
    "\n",
    "# Aggregate the data by year, month, and city\n",
    "df_f_cities_aggregated = df_long.groupby(['Yıl', 'Şehir', 'Ay']).sum().reset_index()\n",
    "\n",
    "# Create a mapping of month names to their corresponding numbers\n",
    "month_mapping = {\n",
    "    'Ocak': 1, 'Şubat': 2, 'Mart': 3, 'Nisan': 4, 'Mayıs': 5, 'Haziran': 6,\n",
    "    'Temmuz': 7, 'Ağustos': 8, 'Eylül': 9, 'Ekim': 10, 'Kasım': 11, 'Aralık': 12\n",
    "}\n",
    "\n",
    "# Convert 'Yıl' and 'Ay' to datetime format\n",
    "df_f_cities_aggregated['Tarih'] = df_f_cities_aggregated.apply(lambda row: pd.Timestamp(int(row['Yıl']), month_mapping[row['Ay']], 1), axis=1)\n",
    "\n",
    "# Drop the 'Yıl' and 'Ay' columns if not needed anymore\n",
    "df_f_cities_aggregated.drop(columns=['Yıl', 'Ay'], inplace=True)\n",
    "\n",
    "\n",
    "df_f_cities_aggregated = df_f_cities_aggregated.sort_values(by='Tarih')\n",
    "df_f_cities_aggregated.set_index(\"Tarih\", inplace=True)\n",
    "df_f_cities_aggregated[\"Sayı\"] = df_f_cities_aggregated[\"Sayı\"].astype(int)\n",
    "df_f_cities_aggregated.info()"
   ]
  },
  {
   "cell_type": "code",
   "execution_count": null,
   "metadata": {},
   "outputs": [],
   "source": [
    "df_f_cities_aggregated.head(20)"
   ]
  },
  {
   "cell_type": "code",
   "execution_count": null,
   "metadata": {},
   "outputs": [],
   "source": []
  },
  {
   "cell_type": "code",
   "execution_count": null,
   "metadata": {},
   "outputs": [],
   "source": [
    "\n",
    "df_f_total_aggregated, df_f_cities_aggregated = sales_by_cities_foreigners_df()"
   ]
  },
  {
   "cell_type": "code",
   "execution_count": null,
   "metadata": {},
   "outputs": [],
   "source": [
    "df_f_cities_aggregated\n"
   ]
  },
  {
   "cell_type": "code",
   "execution_count": null,
   "metadata": {},
   "outputs": [],
   "source": [
    "df_f_cities_aggregated[\"Şehir\"].unique()"
   ]
  },
  {
   "cell_type": "code",
   "execution_count": null,
   "metadata": {},
   "outputs": [],
   "source": [
    "city_code_map = {0: 'ÜLKE',\n",
    " 1: 'ADANA',\n",
    " 2: 'ADIYAMAN',\n",
    " 3: 'AFYONKARAHİSAR',\n",
    " 4: 'AĞRI',\n",
    " 5: 'AMASYA',\n",
    " 6: 'ANKARA',\n",
    " 7: 'ANTALYA',\n",
    " 8: 'ARTVİN',\n",
    " 9: 'AYDIN',\n",
    " 10: 'BALIKESİR',\n",
    " 11: 'BİLECİK',\n",
    " 12: 'BİNGÖL',\n",
    " 13: 'BİTLİS',\n",
    " 14: 'BOLU',\n",
    " 15: 'BURDUR',\n",
    " 16: 'BURSA',\n",
    " 17: 'ÇANAKKALE',\n",
    " 18: 'ÇANKIRI',\n",
    " 19: 'ÇORUM',\n",
    " 20: 'DENİZLİ',\n",
    " 21: 'DİYARBAKIR',\n",
    " 22: 'EDİRNE',\n",
    " 23: 'ELAZIĞ',\n",
    " 24: 'ERZİNCAN',\n",
    " 25: 'ERZURUM',\n",
    " 26: 'ESKİŞEHİR',\n",
    " 27: 'GAZİANTEP',\n",
    " 28: 'GİRESUN',\n",
    " 29: 'GÜMÜŞHANE',\n",
    " 30: 'HAKKARİ',\n",
    " 31: 'HATAY',\n",
    " 32: 'ISPARTA',\n",
    " 33: 'MERSİN',\n",
    " 34: 'İSTANBUL',\n",
    " 35: 'İZMİR',\n",
    " 36: 'KARS',\n",
    " 37: 'KASTAMONU',\n",
    " 38: 'KAYSERİ',\n",
    " 39: 'KIRKLARELİ',\n",
    " 40: 'KIRŞEHİR',\n",
    " 41: 'KOCAELİ',\n",
    " 42: 'KONYA',\n",
    " 43: 'KÜTAHYA',\n",
    " 44: 'MALATYA',\n",
    " 45: 'MANİSA',\n",
    " 46: 'KAHRAMANMARAŞ',\n",
    " 47: 'MARDİN',\n",
    " 48: 'MUĞLA',\n",
    " 49: 'MUŞ',\n",
    " 50: 'NEVŞEHİR',\n",
    " 51: 'NİĞDE',\n",
    " 52: 'ORDU',\n",
    " 53: 'RİZE',\n",
    " 54: 'SAKARYA',\n",
    " 55: 'SAMSUN',\n",
    " 56: 'SİİRT',\n",
    " 57: 'SİNOP',\n",
    " 58: 'SİVAS',\n",
    " 59: 'TEKİRDAĞ',\n",
    " 60: 'TOKAT',\n",
    " 61: 'TRABZON',\n",
    " 62: 'TUNCELİ',\n",
    " 63: 'ŞANLIURFA',\n",
    " 64: 'UŞAK',\n",
    " 65: 'VAN',\n",
    " 66: 'YOZGAT',\n",
    " 67: 'ZONGULDAK',\n",
    " 68: 'AKSARAY',\n",
    " 69: 'BAYBURT',\n",
    " 70: 'KARAMAN',\n",
    " 71: 'KIRIKKALE',\n",
    " 72: 'BATMAN',\n",
    " 73: 'ŞIRNAK',\n",
    " 74: 'BARTIN',\n",
    " 75: 'ARDAHAN',\n",
    " 76: 'IĞDIR',\n",
    " 77: 'YALOVA',\n",
    " 78: 'KARABÜK',\n",
    " 79: 'KİLİS',\n",
    " 80: 'OSMANİYE',\n",
    " 81: 'DÜZCE',\n",
    " 99: 'Diğer iller - Other Provinces'}\n",
    "\n",
    "\n",
    "city_code_f = [48, 33, 35, 16, 99,  9,  7, 54,  6, 34, 77, 61, 55, 41]\n",
    "\n",
    "fig = go.Figure()\n",
    "city_code = 7\n",
    "try:\n",
    "    if city_code is None:\n",
    "        fig = px.line(df_f_cities_aggregated, x=df_f_cities_aggregated.index, \n",
    "                        y='Total', color='Şehir', title='İllere Göre Yabancılara Konut Satışı (Ay Bazında)')\n",
    "    else:\n",
    "        p_city_code = city_code\n",
    "        if city_code not in city_code_f:\n",
    "            city_code = 99\n",
    "        dff = df_f_cities_aggregated[df_f_cities_aggregated['Şehir'] == city_code]\n",
    "        \n",
    "        fig = px.line(dff, x=dff.index, y='Total', color='Şehir', title=f'Yabancılara Konut Satışı (Ay Bazında): {city_code_map[p_city_code].capitalize()}',\n",
    "                        color_discrete_sequence=px.colors.qualitative.Vivid)\n",
    "        fig.update_layout(showlegend=False)\n",
    "    fig.update_layout(width=1800, height=800)\n",
    "except Exception as e:\n",
    "    print(f\"Error in plot function: {e}\")\n",
    "    raise\n",
    "\n",
    "fig.show()"
   ]
  },
  {
   "cell_type": "markdown",
   "metadata": {},
   "source": [
    "# Population"
   ]
  },
  {
   "cell_type": "code",
   "execution_count": null,
   "metadata": {},
   "outputs": [],
   "source": [
    "def population_df(df_p):    \n",
    "    df_p = pd.read_excel(\"./datasets/favori_raporlar.xlsx\",  sheet_name=\"MAHALLE NÜFUSU\", index_col=0)\n",
    "    cols = ['il kayit no',\n",
    "    'ilçe kayit no',\n",
    "    'belde/köy kayit no',\n",
    "    'mahalle kayit no',\n",
    "    'il adi',\n",
    "    'ilçe adi',\n",
    "    'belediye adi',\n",
    "    'mahalle adi',\n",
    "    'mahallenin bağli olduğu belediyenin niteliği',\n",
    "    'toplam',\n",
    "    'erkek',\n",
    "    'kadin']\n",
    "    df_p.columns = cols\n",
    "    df_p_cities = df_p.drop([\"toplam\", \"mahallenin bağli olduğu belediyenin niteliği\", \"belediye adi\"], axis=1)\n",
    "    # df_p_cities[(df_p_cities[\"mahalle adi\"]==\" \".join(\"2000 Evler Mh.\".split()[:-1]).upper()) & (df_p_cities[\"ilçe adi\"]==\"seyhan\".upper())] #for query\n",
    "    df_p = df_p[[\"il adi\", \"ilçe adi\", \"mahalle adi\", \"erkek\", \"kadin\"]]\n",
    "\n",
    "    df_p.erkek = df_p.erkek.replace(\"C\", \"0\").astype(int)\n",
    "    df_p.kadin = df_p.kadin.replace(\"C\", \"0\")\n",
    "    df_p.kadin = df_p.kadin.replace(\"-\", \"0\").astype(int)\n",
    "\n",
    "    df_p = df_p.groupby([\"il adi\", \"ilçe adi\", \"mahalle adi\"])[[\"erkek\", \"kadin\"]].sum().reset_index()\n",
    "\n",
    "    return df_p\n",
    "\n"
   ]
  },
  {
   "cell_type": "code",
   "execution_count": null,
   "metadata": {},
   "outputs": [],
   "source": [
    "df_p = population_df()\n",
    "df_p"
   ]
  },
  {
   "cell_type": "code",
   "execution_count": null,
   "metadata": {},
   "outputs": [],
   "source": [
    "df_p_il = df_p[[\"erkek\", \"kadin\"]].sum().to_list()\n",
    "df_p_il"
   ]
  },
  {
   "cell_type": "code",
   "execution_count": null,
   "metadata": {},
   "outputs": [],
   "source": [
    "# Pie chart\n",
    "# choloropleth"
   ]
  },
  {
   "cell_type": "code",
   "execution_count": null,
   "metadata": {},
   "outputs": [],
   "source": [
    "# import plotly.graph_objects as go\n",
    "\n",
    "# # Sample data for the pie chart\n",
    "# labels = ['Erkek', 'Kadın']\n",
    "# values = [df_p.iloc[0, 1], df_p.iloc[0, 2]]\n",
    "# colors = ['skyblue', 'salmon']\n",
    "\n",
    "# # Create the Pie chart with custom colors and slice pulled out\n",
    "# fig = go.Figure(go.Pie(\n",
    "#     labels=labels,\n",
    "#     values=values,\n",
    "#     marker=dict(colors=colors),\n",
    "#     hovertemplate='<b>%{label}</b><br>%{value}'\n",
    "# ), layout=dict(width=400, height=400))\n",
    "\n",
    "# # Update the name of the trace\n",
    "# fig.data[0].name = ''\n",
    "\n",
    "# # Set the title\n",
    "# fig.update_layout(title='Cinsiyet Dağılımı')\n",
    "\n",
    "# # Show the figure\n",
    "# fig.show()\n"
   ]
  },
  {
   "cell_type": "code",
   "execution_count": null,
   "metadata": {},
   "outputs": [],
   "source": [
    "df_p"
   ]
  },
  {
   "cell_type": "code",
   "execution_count": null,
   "metadata": {},
   "outputs": [],
   "source": [
    "x = df_p[(df_p[\"il adi\"]==\"Ankara\".upper()) & (df_p[\"ilçe adi\"]==\"MAMAK\".upper())]\n",
    "x = x[[\"erkek\", \"kadin\"]].sum().to_list()\n",
    "x"
   ]
  },
  {
   "cell_type": "code",
   "execution_count": null,
   "metadata": {},
   "outputs": [],
   "source": [
    "import plotly.graph_objects as go\n",
    "from plotly.subplots import make_subplots\n",
    "def population_plot(df_p, city_name=None, town_name=None, district_name=None):\n",
    "    # Create the figure with subplots\n",
    "    labels = ['Erkek', 'Kadın']\n",
    "    colors = ['skyblue', 'salmon']\n",
    "    title = \"\"\n",
    "    fig = go.Figure()\n",
    "\n",
    "    if city_name==None and town_name==None and district_name==None:\n",
    "        title = \"Bütün Ülke\"\n",
    "        values1 = df_p[[\"erkek\", \"kadin\"]].sum().to_list()\n",
    "        fig.add_trace(go.Pie(\n",
    "            name=\"\",\n",
    "            labels=labels,\n",
    "            values=values1,\n",
    "            marker=dict(colors=colors),\n",
    "            hovertemplate='<b>%{label}</b><br>%{value}',\n",
    "            pull=[0, 0],\n",
    "            textfont=dict(size=16, family=\"Balto\", color=\"black\"),  # Adjust text size and color\n",
    "            textinfo='label+percent',  # Show labels and percentages\n",
    "        ))\n",
    "    \n",
    "    elif city_name!=None and (town_name==None and district_name==None):\n",
    "        title = city_name.capitalize()\n",
    "        values1 = df_p[df_p[\"il adi\"]==city_name.upper()]\n",
    "        values1 = values1[[\"erkek\", \"kadin\"]].sum().to_list()\n",
    "        fig.add_trace(go.Pie(\n",
    "            name=\"\",\n",
    "            labels=labels,\n",
    "            values=values1,\n",
    "            marker=dict(colors=colors),\n",
    "            hovertemplate='<b>%{label}</b><br>%{value}',\n",
    "            pull=[0, 0],\n",
    "            textfont=dict(size=16, family=\"Balto\", color=\"black\"),  # Adjust text size and color\n",
    "            textinfo='label+percent',  # Show labels and percentages\n",
    "        ))\n",
    "    \n",
    "    elif city_name!=None and (town_name!=None and district_name==None):\n",
    "        title = f\"{city_name.capitalize()}, {town_name.capitalize()}\"\n",
    "        values1 = df_p[(df_p[\"il adi\"]==city_name.upper()) & (df_p[\"ilçe adi\"]==town_name.upper())]\n",
    "        values1 = values1[[\"erkek\", \"kadin\"]].sum().to_list()\n",
    "        fig.add_trace(go.Pie(\n",
    "            name=\"\",\n",
    "            labels=labels,\n",
    "            values=values1,\n",
    "            marker=dict(colors=colors),\n",
    "            hovertemplate='<b>%{label}</b><br>%{value}',\n",
    "            pull=[0, 0],\n",
    "            textfont=dict(size=16, family=\"Balto\", color=\"black\"),  # Adjust text size and color\n",
    "            textinfo='label+percent',  # Show labels and percentages\n",
    "        ))\n",
    "    \n",
    "    elif city_name!=None and (town_name!=None and district_name!=None):\n",
    "        title = f\"{city_name.capitalize()}, {town_name.capitalize()}, {district_name.capitalize()} Mh.\"\n",
    "        if len(district_name.split()) > 1:\n",
    "            district_name = district_name + \" Mh.\"\n",
    "        values1 = df_p[(df_p[\"il adi\"]==city_name.upper()) & (df_p[\"ilçe adi\"]==town_name.upper()) & (df_p[\"mahalle adi\"]==\" \".join(district_name.split()[:-1]).upper())] # assuming that every mahalle ends with MH.\n",
    "        values1 = values1[[\"erkek\", \"kadin\"]].sum().to_list()\n",
    "        fig.add_trace(go.Pie(\n",
    "            name=\"\",\n",
    "            labels=labels,\n",
    "            values=values1,\n",
    "            marker=dict(colors=colors),\n",
    "            hovertemplate='<b>%{label}</b><br>%{value}',\n",
    "            pull=[0, 0],\n",
    "            textfont=dict(size=16, family=\"Balto\", color=\"black\"),  # Adjust text size and color\n",
    "            textinfo='label+percent',  # Show labels and percentages\n",
    "        ))\n",
    "    else:\n",
    "        fig.add_annotation(\n",
    "        text=\"Please enter either: Only city name, City name and Town name, or all three\",\n",
    "        xref=\"paper\", yref=\"paper\",\n",
    "        x=0.5, y=0.5, showarrow=False,\n",
    "        font=dict(\n",
    "            family=\"Balto, Arial, sans-serif\",\n",
    "            size=20,\n",
    "            color=\"black\"\n",
    "            )\n",
    "        )\n",
    "\n",
    "        # Update layout to remove axes\n",
    "        fig.update_layout(\n",
    "            xaxis=dict(visible=False),\n",
    "            yaxis=dict(visible=False),\n",
    "            plot_bgcolor='rgba(0,0,0,0)',\n",
    "            margin=dict(l=0, r=0, t=0, b=0)\n",
    "        )\n",
    "        return fig\n",
    "\n",
    "    # Update layout\n",
    "    fig.update_layout(\n",
    "        title=f'Cinsiyet Dağılımları: {title}',\n",
    "        width=900,\n",
    "        height=500,\n",
    "        title_font=dict(size=30, family=\"Balto\", ),  # Adjust title font\n",
    "        title_pad_b=10,\n",
    "        font=dict(\n",
    "            family=\"Balto\",  # Adjust default font family for labels\n",
    "            size=14,  # Adjust default font size for labels\n",
    "            color=\"black\"  # Adjust default font color for labels\n",
    "        ),\n",
    "        showlegend=False\n",
    "    )\n",
    "\n",
    "    for annotation in fig['layout']['annotations']:\n",
    "        annotation['y'] = 0.95  # Adjust this value for more/less padding\n",
    "\n",
    "    # Add the text annotation below the plots\n",
    "    fig.add_annotation(\n",
    "        text=f\"Toplam Nüfus: <b>{sum(values1):,}</b>\",\n",
    "        xref=\"paper\", yref=\"paper\",\n",
    "        x=0.5, y=-0.2,\n",
    "        showarrow=False,\n",
    "        font=dict(size=18, family=\"Balto\", color=\"black\"),\n",
    "        align=\"center\"\n",
    "    )\n",
    "    return fig\n",
    "fig = population_plot(df_p, city_name=\"ankara\")\n",
    "# Show the figure\n",
    "fig.show()\n"
   ]
  },
  {
   "cell_type": "code",
   "execution_count": null,
   "metadata": {},
   "outputs": [],
   "source": [
    "import plotly.express as px\n",
    "\n",
    "# Assuming you have the GeoJSON file for Turkey provinces\n",
    "geojson_file = './tr-cities.json'\n",
    "\n",
    "# Calculate total population\n",
    "df_p_cities['total_population'] = df_p_cities['toplam-erkek'] + df_p_cities['toplam-kadin']\n",
    "\n",
    "# Load GeoJSON data\n",
    "import json\n",
    "with open(geojson_file) as f:\n",
    "    turkey_geojson = json.load(f)\n",
    "\n",
    "# Ensure the province names in the DataFrame match the names in the GeoJSON file\n",
    "# This might require some preprocessing if the names don't match exactly\n",
    "\n",
    "\n",
    "# Create the choropleth map\n",
    "fig = px.choropleth(\n",
    "    df_p_cities,\n",
    "    geojson=turkey_geojson,\n",
    "    locations='il adi',\n",
    "    featureidkey=\"properties.name\",  # This should match the property name in your GeoJSON file for province names\n",
    "    color='total_population',\n",
    "    hover_name='il adi',\n",
    "    hover_data={'toplam-erkek': True, 'toplam-kadin': True, 'total_population': True},\n",
    "    color_continuous_scale='Viridis',\n",
    "    labels={'total_population': 'Total Population'},\n",
    "    title='Total Population by Province in Turkey'\n",
    ")\n",
    "\n",
    "# Update the layout for better visualization\n",
    "fig.update_geos(\n",
    "    visible=False,\n",
    "    resolution=50,\n",
    "    showcountries=True,\n",
    "    countrycolor=\"Black\",\n",
    "    showcoastlines=True,\n",
    "    coastlinecolor=\"Black\",\n",
    "    showland=True,\n",
    "    landcolor=\"white\",\n",
    ")\n",
    "\n",
    "fig.update_layout(\n",
    "    title_font=dict(size=24, family=\"Arial, sans-serif\"),\n",
    "    font=dict(size=12, family=\"Arial, sans-serif\"),\n",
    "    margin={\"r\":0,\"t\":50,\"l\":0,\"b\":0}\n",
    ")\n",
    "\n",
    "# Show the map\n",
    "# fig.show()\n"
   ]
  },
  {
   "cell_type": "code",
   "execution_count": null,
   "metadata": {},
   "outputs": [],
   "source": [
    "turkey_geojson.keys()"
   ]
  },
  {
   "cell_type": "code",
   "execution_count": null,
   "metadata": {},
   "outputs": [],
   "source": [
    "turkey_geojson[\"features\"][2][\"properties\"][\"name\"]"
   ]
  },
  {
   "cell_type": "markdown",
   "metadata": {},
   "source": [
    "# API"
   ]
  },
  {
   "cell_type": "code",
   "execution_count": null,
   "metadata": {},
   "outputs": [],
   "source": [
    "import plotly.graph_objects as go\n",
    "import numpy as np\n",
    "import json\n",
    "# Read the JSON file\n",
    "with open('./curl-res.json', 'r') as file:\n",
    "    json_data = file.read()\n",
    "    \n",
    "\n",
    "# Parse the JSON data\n",
    "data = json.loads(json_data)\n",
    "\n",
    "# Extract ages from the data field\n",
    "ages = [item['age'] for item in data['data']]\n",
    "ages = sorted(ages)\n",
    "\n",
    "# Define age groups\n",
    "age_groups = {\n",
    "}\n",
    "\n",
    "# Categorize ages\n",
    "for age in ages:\n",
    "    if age_groups.get(age) is None:\n",
    "        age_groups[age] = 1\n",
    "    else:\n",
    "        age_groups[age] += 1\n",
    "\n",
    "\n",
    "# Calculate total number of ages\n",
    "total_ages = len(ages)\n",
    "\n",
    "# Calculate percentages for each age group\n",
    "age_group_percentages = {group: count / total_ages * 100 for group, count in age_groups.items()}\n",
    "\n",
    "# Create the pie chart\n",
    "labels = list(age_group_percentages.keys())\n",
    "values = list(age_group_percentages.values())\n",
    "\n",
    "fig_2 = go.Figure(data=[go.Pie(labels=labels, values=values, hole=0.4,\n",
    "                             hovertemplate=\"Bina Yaşı: %{label}<br>Yüzdelik: %{value:.1f}%<extra></extra>\",\n",
    "                             sort=False\n",
    "                             )])\n",
    "\n",
    "# Update the layout for better appearance\n",
    "fig_2.update_layout(title_text=\"Bina Yaşı Dağılımı\", \n",
    "                  width=500, height=500, \n",
    "                  )\n",
    "\n",
    "fig_2.update_layout(legend=dict(\n",
    "    orientation=\"h\",\n",
    "    yanchor=\"bottom\",\n",
    "    y=-0.3,\n",
    "    xanchor=\"center\",\n",
    "    x=.5\n",
    "))\n",
    "\n",
    "# Show the plot\n",
    "fig_2.show()\n"
   ]
  },
  {
   "cell_type": "code",
   "execution_count": null,
   "metadata": {},
   "outputs": [],
   "source": [
    "\n",
    "# Extract prices from the data field\n",
    "prices = [item['price'] for item in data['data']]\n",
    "\n",
    "# Calculate min, max, median, and average prices\n",
    "min_price = min(prices)\n",
    "max_price = max(prices)\n",
    "median_price = np.median(prices)\n",
    "avg_price = np.mean(prices)\n",
    "\n",
    "# Create a scatter plot to simulate the horizontal bar\n",
    "fig = go.Figure()\n",
    "\n",
    "# Add lines for min to max\n",
    "fig.add_trace(go.Scatter(\n",
    "    x=[min_price, max_price],\n",
    "    y=[1, 1],\n",
    "    mode='lines',\n",
    "    line=dict(color='black', width=2),\n",
    "    showlegend=False,\n",
    "))\n",
    "\n",
    "# Add markers for min, median, average, and max\n",
    "fig.add_trace(go.Scatter(\n",
    "    x=[min_price, avg_price, max_price],\n",
    "    y=[1, 1, 1, 1],\n",
    "    mode='markers+text',\n",
    "    text=[f'{min_price:,} TL', f'Ort.: {avg_price:,.0f} TL', f'{max_price:,}TL'],\n",
    "    textposition='top center',\n",
    "    marker=dict(color=['green', 'blue', 'red'], size=10),\n",
    "    name=\"\",\n",
    "    showlegend=False,\n",
    "    hovertemplate = '%{x:,.0f} TL',\n",
    "\n",
    "))\n",
    "\n",
    "# Update the layout for better appearance\n",
    "fig.update_layout(\n",
    "    title_text=\"Fiyat İstatistiği\",\n",
    "    xaxis_title=\"Fiyat (TL)\",\n",
    "    yaxis=dict(showticklabels=False, showgrid=False),  # Hide the y-axis ticks and labels\n",
    "    width=1000,\n",
    "    height=230,\n",
    ")\n",
    "\n",
    "\n",
    "# Show the plot\n",
    "fig.show()"
   ]
  },
  {
   "cell_type": "code",
   "execution_count": null,
   "metadata": {},
   "outputs": [],
   "source": [
    "import json\n",
    "import plotly.graph_objects as go\n",
    "import numpy as np\n",
    "\n",
    "# Read the JSON file (replace with your JSON file path)\n",
    "with open('./curl-res.json', 'r') as file:\n",
    "    json_data = file.read()\n",
    "\n",
    "# Parse the JSON data\n",
    "data = json.loads(json_data)\n",
    "\n",
    "min_price = data[\"result\"][\"min_price\"]\n",
    "max_price = data[\"result\"][\"max_price\"]\n",
    "avg_price = data[\"result\"][\"avg_price\"]\n",
    "\n",
    "# Create traces for each marker\n",
    "traces = []\n",
    "\n",
    "traces.append(go.Scatter(\n",
    "    x=[min_price, max_price],\n",
    "    y=[1, 1],\n",
    "    mode='lines',\n",
    "    line=dict(color='black', width=2),\n",
    "    showlegend=False,\n",
    "    name=\"\"\n",
    "))\n",
    "\n",
    "traces.append(go.Scatter(\n",
    "    x=[min_price, avg_price, max_price],\n",
    "    y=[1, 1, 1, 1],\n",
    "    mode='markers+text',\n",
    "    text=[f'{min_price:,} TL', f'{avg_price:,.0f} TL', f'{max_price:,}TL'],\n",
    "    textposition='top center',\n",
    "    marker=dict(color=['green', 'blue', 'red'], size=10),\n",
    "    name=\"\",\n",
    "    showlegend=False,\n",
    "    hovertemplate = '%{x:,.0f} TL',\n",
    "\n",
    "))\n",
    "\n",
    "# Min price trace\n",
    "traces.append(go.Scatter(\n",
    "    x=[min_price],\n",
    "    y=[1],\n",
    "    mode='markers',\n",
    "    marker=dict(color='green', size=10, symbol='square'),\n",
    "    name='Min',\n",
    "    showlegend=True,\n",
    "    hovertemplate='%{x:,.0f} TL',\n",
    "))\n",
    "\n",
    "# Average price trace\n",
    "traces.append(go.Scatter(\n",
    "    x=[avg_price],\n",
    "    y=[1],\n",
    "    mode='markers',\n",
    "    marker=dict(color='blue', size=10, symbol='square'),\n",
    "    name='Ortalama',\n",
    "    showlegend=True,\n",
    "    hovertemplate='%{x:,.0f} TL',\n",
    "))\n",
    "\n",
    "# Max price trace\n",
    "traces.append(go.Scatter(\n",
    "    x=[max_price],\n",
    "    y=[1],\n",
    "    mode='markers',\n",
    "    marker=dict(color='red', size=10, symbol='square'),\n",
    "    name='Maks',\n",
    "    showlegend=True,\n",
    "    hovertemplate='%{x:,.0f} TL',\n",
    "))\n",
    "\n",
    "\n",
    "\n",
    "# Create the figure\n",
    "fig_1 = go.Figure(data=traces)\n",
    "\n",
    "# Update the layout for better appearance\n",
    "fig_1.update_layout(\n",
    "    title_text=\"Fiyat İstatistiği\",\n",
    "    xaxis_title=\"Fiyat (TL)\",\n",
    "    yaxis=dict(showticklabels=False, showgrid=False),  # Hide the y-axis ticks and labels\n",
    "    width=900,\n",
    "    height=230,\n",
    "    legend=dict(\n",
    "        orientation=\"h\",\n",
    "        yanchor=\"bottom\",\n",
    "        y=1.02,\n",
    "        xanchor=\"right\",\n",
    "        x=1\n",
    "    )\n",
    ")\n",
    "\n",
    "# Show the plot\n",
    "fig_1.show()\n",
    "\n",
    "\n",
    "# Extract ages from the data field\n",
    "ages = [item['age'] for item in data['data']]\n",
    "ages = sorted(ages)\n",
    "\n",
    "# Define age groups\n",
    "age_groups = {\n",
    "    0:0,\n",
    "    1:0,\n",
    "    2:0,\n",
    "    3:0,\n",
    "    4:0,\n",
    "    5:0,\n",
    "    \"6-10\":0,\n",
    "    \"11-15\":0,\n",
    "    \"16-20\":0,\n",
    "    \"21-25\":0,\n",
    "    \"26-30\":0,\n",
    "    \"31+\":0,\n",
    "}\n",
    "\n",
    "# Categorize ages\n",
    "for age in ages:\n",
    "    if age<6:\n",
    "        age_groups[age] += 1\n",
    "    elif 6<=age<=10:\n",
    "        age_groups[\"6-10\"] += 1\n",
    "    elif 11<=age<=15:\n",
    "        age_groups[\"11-15\"] += 1\n",
    "    elif 16<=age<=20:\n",
    "        age_groups[\"16-20\"] += 1\n",
    "    elif 21<=age<=25:\n",
    "        age_groups[\"21-25\"] += 1\n",
    "    elif 26<=age<=30:\n",
    "        age_groups[\"26-30\"] += 1\n",
    "    else:\n",
    "        age_groups[\"31+\"] += 1\n",
    "\n",
    "\n",
    "# Calculate total number of ages\n",
    "total_ages = len(ages)\n",
    "\n",
    "# Calculate percentages for each age group\n",
    "age_group_percentages = {group: count / total_ages * 100 for group, count in age_groups.items() if count>0}\n",
    "\n",
    "# Create the pie chart\n",
    "labels = list(age_group_percentages.keys())\n",
    "values = list(age_group_percentages.values())\n",
    "\n",
    "fig_2 = go.Figure(data=[go.Pie(labels=labels, values=values, hole=0.4,\n",
    "                             hovertemplate=\"Bina Yaşı: %{label}<br>Yüzdelik: %{value:.1f}%<extra></extra>\",\n",
    "                             sort=False\n",
    "                             )])\n",
    "\n",
    "# Update the layout for better appearance\n",
    "fig_2.update_layout(title_text=\"Bina Yaşı Dağılımı\", \n",
    "                  width=600, height=500, \n",
    "                  )\n",
    "\n",
    "fig_2.update_layout(legend=dict(\n",
    "    orientation=\"h\",\n",
    "    yanchor=\"bottom\",\n",
    "    y=-0.3,\n",
    "    xanchor=\"center\",\n",
    "    x=.5\n",
    "))\n",
    "\n",
    "# Show the plot\n",
    "fig_2.show()\n",
    "\n"
   ]
  },
  {
   "cell_type": "code",
   "execution_count": null,
   "metadata": {},
   "outputs": [],
   "source": [
    "import plotly.graph_objects as go\n",
    "import numpy as np\n",
    "import scipy.stats as stats\n",
    "\n",
    "# Generate random prices of real estates\n",
    "np.random.seed(42)  # For reproducibility\n",
    "real_estate_prices = np.random.normal(loc=300000, scale=75000, size=10000)\n",
    "\n",
    "# Create the histogram\n",
    "hist_data = go.Histogram(x=real_estate_prices, nbinsx=30, name='Histogram', opacity=0.7)\n",
    "\n",
    "# Calculate the bell curve (normal distribution)\n",
    "mean = np.mean(real_estate_prices)\n",
    "std_dev = np.std(real_estate_prices)\n",
    "x = np.linspace(min(real_estate_prices), max(real_estate_prices), 1000)\n",
    "y = stats.norm.pdf(x, mean, std_dev) * len(real_estate_prices) * (x[1] - x[0]) * 30  # scale y to match histogram\n",
    "\n",
    "# Create the normal distribution curve\n",
    "bell_curve = go.Scatter(x=x, y=y, mode='lines', name='Normal Distribution')\n",
    "\n",
    "# Create the figure and add both the histogram and the bell curve\n",
    "fig = go.Figure(data=[hist_data, bell_curve])\n",
    "\n",
    "# Update layout for the plot\n",
    "fig.update_layout(\n",
    "    title='Histogram of Real Estate Prices with Bell Curve',\n",
    "    xaxis_title='Price',\n",
    "    yaxis_title='Count',\n",
    "    bargap=0.2  # Gap between bars\n",
    ")\n",
    "\n",
    "# Show the plot\n",
    "fig.show()\n"
   ]
  },
  {
   "cell_type": "code",
   "execution_count": null,
   "metadata": {},
   "outputs": [],
   "source": [
    "import plotly.graph_objects as go\n",
    "import numpy as np\n",
    "import scipy.stats as stats\n",
    "\n",
    "# Generate random prices of real estates\n",
    "np.random.seed(42)  # For reproducibility\n",
    "real_estate_prices = np.random.normal(loc=300000, scale=75000, size=1000)\n",
    "\n",
    "# Create the histogram\n",
    "hist_data = go.Histogram(x=real_estate_prices, nbinsx=30, name='Histogram', opacity=0.7)\n",
    "\n",
    "# Calculate the bell curve (normal distribution)\n",
    "mean = np.mean(real_estate_prices)\n",
    "std_dev = np.std(real_estate_prices)\n",
    "x = np.linspace(min(real_estate_prices), max(real_estate_prices), 1000)\n",
    "y = stats.norm.pdf(x, mean, std_dev) * len(real_estate_prices) * (x[1] - x[0]) * 30  # scale y to match histogram\n",
    "\n",
    "# Create the normal distribution curve\n",
    "bell_curve = go.Scatter(x=x, y=y, mode='lines', name='Normal Distribution')\n",
    "\n",
    "# Find the lowest, average, and maximum prices\n",
    "lowest_price = np.min(real_estate_prices)\n",
    "average_price = mean\n",
    "highest_price = np.max(real_estate_prices)\n",
    "\n",
    "# Create the vertical lines for lowest, average, and maximum prices\n",
    "lowest_line = go.Scatter(x=[lowest_price, lowest_price], y=[0, max(y)], mode='lines', name='Lowest Price', line=dict(color='red', dash='dash'))\n",
    "average_line = go.Scatter(x=[average_price, average_price], y=[0, max(y)], mode='lines', name='Average Price', line=dict(color='green', dash='dash'))\n",
    "highest_line = go.Scatter(x=[highest_price, highest_price], y=[0, max(y)], mode='lines', name='Highest Price', line=dict(color='blue', dash='dash'))\n",
    "\n",
    "# Create the figure and add the histogram, bell curve, and vertical lines\n",
    "fig = go.Figure(data=[hist_data, bell_curve, lowest_line, average_line, highest_line])\n",
    "\n",
    "# Update layout for the plot\n",
    "fig.update_layout(\n",
    "    title='Histogram of Real Estate Prices with Bell Curve',\n",
    "    xaxis_title='Price',\n",
    "    yaxis_title='Count',\n",
    "    bargap=0.2  # Gap between bars\n",
    ")\n",
    "\n",
    "# Add annotations for the lowest, average, and maximum prices\n",
    "fig.add_annotation(x=lowest_price, y=max(y), text=f\"Lowest Price: {lowest_price:.2f}\", showarrow=True, arrowhead=1)\n",
    "fig.add_annotation(x=average_price, y=max(y), text=f\"Average Price: {average_price:.2f}\", showarrow=True, arrowhead=1)\n",
    "fig.add_annotation(x=highest_price, y=max(y), text=f\"Highest Price: {highest_price:.2f}\", showarrow=True, arrowhead=1)\n",
    "\n",
    "# Show the plot\n",
    "fig.show()\n"
   ]
  },
  {
   "cell_type": "code",
   "execution_count": null,
   "metadata": {},
   "outputs": [],
   "source": [
    "import plotly.graph_objects as go\n",
    "import numpy as np\n",
    "import scipy.stats as stats\n",
    "\n",
    "# Generate random prices of real estates\n",
    "np.random.seed(42)  # For reproducibility\n",
    "real_estate_prices = np.random.normal(loc=300000, scale=75000, size=1000)\n",
    "\n",
    "# Create the histogram\n",
    "hist_data = go.Histogram(x=real_estate_prices, nbinsx=30, name='Histogram', opacity=0.7)\n",
    "\n",
    "# Calculate the bell curve (normal distribution)\n",
    "mean = np.mean(real_estate_prices)\n",
    "std_dev = np.std(real_estate_prices)\n",
    "x = np.linspace(min(real_estate_prices), max(real_estate_prices), 1000)\n",
    "y = stats.norm.pdf(x, mean, std_dev) * len(real_estate_prices) * (x[1] - x[0]) * 30  # scale y to match histogram\n",
    "\n",
    "# Create the normal distribution curve\n",
    "bell_curve = go.Scatter(x=x, y=y, mode='lines', name='Normal Distribution')\n",
    "\n",
    "# Find the lowest, average, and maximum prices\n",
    "lowest_price = np.min(real_estate_prices)\n",
    "average_price = mean\n",
    "highest_price = np.max(real_estate_prices)\n",
    "\n",
    "# Create the vertical lines for lowest, average, and maximum prices\n",
    "lowest_line = go.Scatter(x=[lowest_price, lowest_price], y=[0, max(y)], mode='lines', name='Lowest Price', line=dict(color='red', dash='dash'))\n",
    "average_line = go.Scatter(x=[average_price, average_price], y=[0, max(y)], mode='lines', name='Average Price', line=dict(color='green', dash='dash'))\n",
    "highest_line = go.Scatter(x=[highest_price, highest_price], y=[0, max(y)], mode='lines', name='Highest Price', line=dict(color='blue', dash='dash'))\n",
    "\n",
    "# Create the figure and add the histogram, bell curve, and vertical lines\n",
    "fig = go.Figure(data=[ bell_curve, lowest_line, average_line, highest_line])\n",
    "\n",
    "# Update layout for the plot\n",
    "fig.update_layout(\n",
    "    title='Histogram of Real Estate Prices with Bell Curve',\n",
    "    xaxis_title='Price',\n",
    "    yaxis_title='Count',\n",
    "    bargap=0.2  # Gap between bars\n",
    ")\n",
    "\n",
    "# Add annotations for the lowest, average, and maximum prices\n",
    "fig.add_annotation(x=lowest_price, y=max(y), text=f\"Lowest Price: {lowest_price:.2f}\", showarrow=True, arrowhead=1)\n",
    "fig.add_annotation(x=average_price, y=max(y), text=f\"Average Price: {average_price:.2f}\", showarrow=True, arrowhead=1)\n",
    "fig.add_annotation(x=highest_price, y=max(y), text=f\"Highest Price: {highest_price:.2f}\", showarrow=True, arrowhead=1)\n",
    "\n",
    "# Show the plot\n",
    "fig.show()\n"
   ]
  },
  {
   "cell_type": "code",
   "execution_count": null,
   "metadata": {},
   "outputs": [],
   "source": [
    "import plotly.graph_objects as go\n",
    "import numpy as np\n",
    "import scipy.stats as stats\n",
    "\n",
    "# Generate random prices of real estates\n",
    "np.random.seed(42)  # For reproducibility\n",
    "real_estate_prices = np.random.normal(loc=300000, scale=75000, size=1000)\n",
    "\n",
    "# Create the histogram\n",
    "hist_data = go.Histogram(x=real_estate_prices, nbinsx=30, name='Histogram', opacity=0.7)\n",
    "\n",
    "# Calculate the bell curve (normal distribution)\n",
    "mean = np.mean(real_estate_prices)\n",
    "std_dev = np.std(real_estate_prices)\n",
    "x = np.linspace(min(real_estate_prices), max(real_estate_prices), 1000)\n",
    "y = stats.norm.pdf(x, mean, std_dev) * len(real_estate_prices) * (x[1] - x[0]) * 30  # scale y to match histogram\n",
    "\n",
    "# Create the normal distribution curve\n",
    "bell_curve = go.Scatter(x=x, y=y, mode='lines', name='Normal Distribution')\n",
    "\n",
    "# Find the lowest, average, and maximum prices\n",
    "lowest_price = np.min(real_estate_prices)\n",
    "average_price = mean\n",
    "highest_price = np.max(real_estate_prices)\n",
    "\n",
    "# Create the points for lowest, average, and maximum prices\n",
    "points = go.Scatter(\n",
    "    x=[lowest_price, average_price, highest_price],\n",
    "    y=[0, stats.norm.pdf(average_price, mean, std_dev) * len(real_estate_prices) * (x[1] - x[0]) * 30, 0],\n",
    "    mode='markers+text',\n",
    "    name='Price Points',\n",
    "    marker=dict(color='black', size=10),\n",
    "    text=['Lowest', 'Average', 'Highest'],\n",
    "    textposition='top center'\n",
    ")\n",
    "\n",
    "# Create the figure and add the histogram, bell curve, and points\n",
    "fig = go.Figure(data=[hist_data, bell_curve, points])\n",
    "\n",
    "# Update layout for the plot\n",
    "fig.update_layout(\n",
    "    title='Histogram of Real Estate Prices with Bell Curve',\n",
    "    xaxis_title='Price',\n",
    "    yaxis_title='Count',\n",
    "    bargap=0.2  # Gap between bars\n",
    ")\n",
    "\n",
    "# Show the plot\n",
    "fig.show()\n"
   ]
  },
  {
   "cell_type": "code",
   "execution_count": 4,
   "metadata": {},
   "outputs": [
    {
     "data": {
      "application/vnd.plotly.v1+json": {
       "config": {
        "plotlyServerURL": "https://plot.ly"
       },
       "data": [
        {
         "hovertemplate": "%{x:,.0f} TL",
         "line": {
          "width": 5
         },
         "mode": "lines",
         "name": "Normal Dağılım",
         "type": "scatter",
         "x": [
          2750000,
          2756006.006006006,
          2762012.012012012,
          2768018.018018018,
          2774024.024024024,
          2780030.03003003,
          2786036.036036036,
          2792042.042042042,
          2798048.0480480483,
          2804054.054054054,
          2810060.06006006,
          2816066.0660660663,
          2822072.072072072,
          2828078.078078078,
          2834084.0840840843,
          2840090.09009009,
          2846096.096096096,
          2852102.1021021022,
          2858108.108108108,
          2864114.114114114,
          2870120.1201201202,
          2876126.126126126,
          2882132.132132132,
          2888138.138138138,
          2894144.144144144,
          2900150.15015015,
          2906156.156156156,
          2912162.1621621624,
          2918168.168168168,
          2924174.174174174,
          2930180.1801801804,
          2936186.186186186,
          2942192.192192192,
          2948198.1981981983,
          2954204.204204204,
          2960210.21021021,
          2966216.2162162163,
          2972222.222222222,
          2978228.228228228,
          2984234.2342342343,
          2990240.2402402405,
          2996246.246246246,
          3002252.2522522523,
          3008258.2582582585,
          3014264.264264264,
          3020270.2702702703,
          3026276.2762762764,
          3032282.282282282,
          3038288.2882882883,
          3044294.2942942944,
          3050300.3003003,
          3056306.3063063063,
          3062312.3123123124,
          3068318.3183183186,
          3074324.3243243243,
          3080330.3303303304,
          3086336.336336336,
          3092342.3423423423,
          3098348.3483483484,
          3104354.3543543546,
          3110360.3603603602,
          3116366.3663663664,
          3122372.3723723725,
          3128378.378378378,
          3134384.3843843844,
          3140390.3903903905,
          3146396.396396396,
          3152402.4024024024,
          3158408.4084084085,
          3164414.414414414,
          3170420.4204204204,
          3176426.4264264265,
          3182432.4324324327,
          3188438.4384384383,
          3194444.4444444445,
          3200450.45045045,
          3206456.4564564563,
          3212462.4624624625,
          3218468.4684684686,
          3224474.4744744743,
          3230480.4804804805,
          3236486.4864864866,
          3242492.4924924923,
          3248498.4984984985,
          3254504.5045045046,
          3260510.5105105108,
          3266516.5165165165,
          3272522.5225225226,
          3278528.5285285283,
          3284534.5345345344,
          3290540.5405405406,
          3296546.5465465467,
          3302552.5525525524,
          3308558.5585585586,
          3314564.5645645643,
          3320570.5705705704,
          3326576.5765765766,
          3332582.5825825827,
          3338588.588588589,
          3344594.5945945946,
          3350600.6006006007,
          3356606.6066066064,
          3362612.6126126125,
          3368618.6186186187,
          3374624.624624625,
          3380630.6306306305,
          3386636.6366366367,
          3392642.6426426424,
          3398648.6486486485,
          3404654.6546546547,
          3410660.660660661,
          3416666.6666666665,
          3422672.6726726727,
          3428678.678678679,
          3434684.6846846845,
          3440690.6906906907,
          3446696.696696697,
          3452702.702702703,
          3458708.7087087086,
          3464714.714714715,
          3470720.7207207205,
          3476726.7267267266,
          3482732.732732733,
          3488738.738738739,
          3494744.7447447446,
          3500750.750750751,
          3506756.7567567565,
          3512762.7627627626,
          3518768.7687687688,
          3524774.774774775,
          3530780.780780781,
          3536786.7867867867,
          3542792.792792793,
          3548798.7987987986,
          3554804.8048048047,
          3560810.810810811,
          3566816.816816817,
          3572822.8228228227,
          3578828.828828829,
          3584834.8348348346,
          3590840.8408408407,
          3596846.846846847,
          3602852.852852853,
          3608858.8588588587,
          3614864.864864865,
          3620870.870870871,
          3626876.8768768767,
          3632882.882882883,
          3638888.888888889,
          3644894.894894895,
          3650900.900900901,
          3656906.906906907,
          3662912.9129129127,
          3668918.918918919,
          3674924.924924925,
          3680930.930930931,
          3686936.936936937,
          3692942.942942943,
          3698948.9489489486,
          3704954.954954955,
          3710960.960960961,
          3716966.966966967,
          3722972.9729729732,
          3728978.978978979,
          3734984.984984985,
          3740990.990990991,
          3746996.996996997,
          3753003.003003003,
          3759009.009009009,
          3765015.015015015,
          3771021.021021021,
          3777027.0270270268,
          3783033.033033033,
          3789039.039039039,
          3795045.045045045,
          3801051.0510510514,
          3807057.057057057,
          3813063.0630630627,
          3819069.069069069,
          3825075.075075075,
          3831081.081081081,
          3837087.0870870873,
          3843093.093093093,
          3849099.099099099,
          3855105.105105105,
          3861111.111111111,
          3867117.117117117,
          3873123.1231231233,
          3879129.129129129,
          3885135.135135135,
          3891141.141141141,
          3897147.147147147,
          3903153.153153153,
          3909159.1591591593,
          3915165.1651651654,
          3921171.171171171,
          3927177.1771771773,
          3933183.183183183,
          3939189.189189189,
          3945195.1951951953,
          3951201.2012012014,
          3957207.207207207,
          3963213.2132132133,
          3969219.219219219,
          3975225.225225225,
          3981231.2312312312,
          3987237.2372372374,
          3993243.2432432435,
          3999249.249249249,
          4005255.255255255,
          4011261.261261261,
          4017267.267267267,
          4023273.2732732734,
          4029279.2792792795,
          4035285.285285285,
          4041291.2912912914,
          4047297.297297297,
          4053303.303303303,
          4059309.3093093093,
          4065315.3153153155,
          4071321.321321321,
          4077327.3273273273,
          4083333.333333333,
          4089339.339339339,
          4095345.3453453453,
          4101351.3513513515,
          4107357.3573573576,
          4113363.3633633633,
          4119369.3693693695,
          4125375.375375375,
          4131381.3813813813,
          4137387.3873873875,
          4143393.3933933936,
          4149399.3993993993,
          4155405.4054054054,
          4161411.411411411,
          4167417.4174174173,
          4173423.4234234234,
          4179429.4294294296,
          4185435.4354354357,
          4191441.4414414414,
          4197447.447447447,
          4203453.453453453,
          4209459.459459459,
          4215465.465465466,
          4221471.471471472,
          4227477.477477478,
          4233483.483483484,
          4239489.489489489,
          4245495.495495495,
          4251501.501501502,
          4257507.507507508,
          4263513.513513513,
          4269519.519519519,
          4275525.525525525,
          4281531.531531531,
          4287537.5375375375,
          4293543.543543544,
          4299549.54954955,
          4305555.555555556,
          4311561.561561562,
          4317567.567567567,
          4323573.5735735735,
          4329579.57957958,
          4335585.585585586,
          4341591.591591591,
          4347597.597597597,
          4353603.603603603,
          4359609.6096096095,
          4365615.615615616,
          4371621.621621622,
          4377627.627627628,
          4383633.633633634,
          4389639.639639639,
          4395645.645645645,
          4401651.651651652,
          4407657.657657658,
          4413663.663663664,
          4419669.669669669,
          4425675.675675675,
          4431681.681681681,
          4437687.687687688,
          4443693.693693694,
          4449699.6996997,
          4455705.705705706,
          4461711.711711712,
          4467717.717717717,
          4473723.723723724,
          4479729.72972973,
          4485735.735735736,
          4491741.741741742,
          4497747.747747747,
          4503753.753753753,
          4509759.7597597595,
          4515765.765765766,
          4521771.771771772,
          4527777.777777778,
          4533783.783783784,
          4539789.78978979,
          4545795.7957957955,
          4551801.801801802,
          4557807.807807808,
          4563813.813813814,
          4569819.81981982,
          4575825.825825825,
          4581831.8318318315,
          4587837.837837838,
          4593843.843843844,
          4599849.84984985,
          4605855.855855856,
          4611861.861861862,
          4617867.867867868,
          4623873.873873874,
          4629879.87987988,
          4635885.885885886,
          4641891.891891892,
          4647897.897897897,
          4653903.903903903,
          4659909.90990991,
          4665915.915915916,
          4671921.921921922,
          4677927.927927928,
          4683933.933933934,
          4689939.93993994,
          4695945.9459459465,
          4701951.951951952,
          4707957.957957958,
          4713963.963963964,
          4719969.96996997,
          4725975.975975975,
          4731981.981981982,
          4737987.987987988,
          4743993.993993994,
          4750000,
          4756006.006006006,
          4762012.012012012,
          4768018.018018018,
          4774024.024024024,
          4780030.03003003,
          4786036.036036036,
          4792042.042042042,
          4798048.048048048,
          4804054.0540540535,
          4810060.06006006,
          4816066.066066066,
          4822072.072072072,
          4828078.078078078,
          4834084.084084084,
          4840090.09009009,
          4846096.096096097,
          4852102.102102103,
          4858108.108108108,
          4864114.114114114,
          4870120.12012012,
          4876126.126126125,
          4882132.132132132,
          4888138.138138138,
          4894144.144144144,
          4900150.15015015,
          4906156.156156156,
          4912162.162162162,
          4918168.1681681685,
          4924174.174174175,
          4930180.180180181,
          4936186.186186186,
          4942192.192192192,
          4948198.198198198,
          4954204.204204204,
          4960210.21021021,
          4966216.216216216,
          4972222.222222222,
          4978228.228228228,
          4984234.234234234,
          4990240.2402402405,
          4996246.246246247,
          5002252.252252253,
          5008258.258258258,
          5014264.264264264,
          5020270.27027027,
          5026276.276276276,
          5032282.282282282,
          5038288.288288288,
          5044294.294294294,
          5050300.3003003,
          5056306.306306306,
          5062312.312312312,
          5068318.318318319,
          5074324.324324325,
          5080330.330330331,
          5086336.336336336,
          5092342.342342342,
          5098348.348348348,
          5104354.354354355,
          5110360.36036036,
          5116366.366366366,
          5122372.372372372,
          5128378.378378378,
          5134384.384384384,
          5140390.3903903905,
          5146396.396396397,
          5152402.402402403,
          5158408.408408409,
          5164414.414414414,
          5170420.42042042,
          5176426.4264264265,
          5182432.432432432,
          5188438.438438438,
          5194444.444444444,
          5200450.45045045,
          5206456.456456456,
          5212462.4624624625,
          5218468.468468469,
          5224474.474474475,
          5230480.480480481,
          5236486.486486487,
          5242492.492492492,
          5248498.498498498,
          5254504.504504505,
          5260510.51051051,
          5266516.516516516,
          5272522.522522522,
          5278528.528528528,
          5284534.534534534,
          5290540.540540541,
          5296546.546546547,
          5302552.552552553,
          5308558.558558559,
          5314564.564564565,
          5320570.57057057,
          5326576.576576577,
          5332582.582582583,
          5338588.588588588,
          5344594.594594594,
          5350600.6006006,
          5356606.606606606,
          5362612.612612613,
          5368618.618618619,
          5374624.624624625,
          5380630.630630631,
          5386636.636636637,
          5392642.642642642,
          5398648.6486486485,
          5404654.654654655,
          5410660.660660661,
          5416666.666666666,
          5422672.672672672,
          5428678.678678678,
          5434684.6846846845,
          5440690.690690691,
          5446696.696696697,
          5452702.702702703,
          5458708.708708709,
          5464714.714714715,
          5470720.7207207205,
          5476726.726726727,
          5482732.732732733,
          5488738.738738739,
          5494744.744744744,
          5500750.75075075,
          5506756.756756756,
          5512762.762762763,
          5518768.768768769,
          5524774.774774775,
          5530780.780780781,
          5536786.786786787,
          5542792.792792793,
          5548798.798798799,
          5554804.804804805,
          5560810.810810811,
          5566816.816816816,
          5572822.822822822,
          5578828.828828828,
          5584834.834834835,
          5590840.840840841,
          5596846.846846847,
          5602852.852852853,
          5608858.858858859,
          5614864.864864865,
          5620870.8708708715,
          5626876.876876877,
          5632882.882882883,
          5638888.888888889,
          5644894.894894894,
          5650900.9009009,
          5656906.9069069065,
          5662912.912912913,
          5668918.918918919,
          5674924.924924925,
          5680930.930930931,
          5686936.936936937,
          5692942.942942943,
          5698948.94894895,
          5704954.954954955,
          5710960.960960961,
          5716966.966966967,
          5722972.972972972,
          5728978.9789789785,
          5734984.984984985,
          5740990.990990991,
          5746996.996996997,
          5753003.003003003,
          5759009.009009009,
          5765015.015015015,
          5771021.0210210215,
          5777027.027027027,
          5783033.033033033,
          5789039.039039039,
          5795045.045045045,
          5801051.05105105,
          5807057.057057057,
          5813063.063063063,
          5819069.069069069,
          5825075.075075075,
          5831081.081081081,
          5837087.087087087,
          5843093.0930930935,
          5849099.0990991,
          5855105.105105105,
          5861111.111111111,
          5867117.117117117,
          5873123.123123123,
          5879129.1291291285,
          5885135.135135135,
          5891141.141141141,
          5897147.147147147,
          5903153.153153153,
          5909159.159159159,
          5915165.165165165,
          5921171.171171172,
          5927177.177177178,
          5933183.183183183,
          5939189.189189189,
          5945195.195195195,
          5951201.2012012005,
          5957207.207207207,
          5963213.213213213,
          5969219.219219219,
          5975225.225225225,
          5981231.231231231,
          5987237.237237237,
          5993243.243243244,
          5999249.24924925,
          6005255.255255256,
          6011261.261261261,
          6017267.267267267,
          6023273.273273273,
          6029279.279279279,
          6035285.285285285,
          6041291.291291291,
          6047297.297297297,
          6053303.303303303,
          6059309.309309309,
          6065315.3153153155,
          6071321.321321322,
          6077327.327327328,
          6083333.333333334,
          6089339.339339339,
          6095345.345345345,
          6101351.3513513515,
          6107357.357357357,
          6113363.363363363,
          6119369.369369369,
          6125375.375375375,
          6131381.381381381,
          6137387.387387387,
          6143393.393393394,
          6149399.3993994,
          6155405.405405406,
          6161411.411411411,
          6167417.417417417,
          6173423.423423423,
          6179429.42942943,
          6185435.435435435,
          6191441.441441441,
          6197447.447447447,
          6203453.453453453,
          6209459.459459459,
          6215465.465465466,
          6221471.471471472,
          6227477.477477478,
          6233483.483483484,
          6239489.489489489,
          6245495.495495495,
          6251501.501501502,
          6257507.507507508,
          6263513.513513513,
          6269519.519519519,
          6275525.525525525,
          6281531.531531531,
          6287537.5375375375,
          6293543.543543544,
          6299549.54954955,
          6305555.555555556,
          6311561.561561562,
          6317567.567567567,
          6323573.5735735735,
          6329579.57957958,
          6335585.585585585,
          6341591.591591591,
          6347597.597597597,
          6353603.603603603,
          6359609.6096096095,
          6365615.615615616,
          6371621.621621622,
          6377627.627627628,
          6383633.633633634,
          6389639.63963964,
          6395645.645645645,
          6401651.651651652,
          6407657.657657658,
          6413663.663663663,
          6419669.669669669,
          6425675.675675675,
          6431681.681681681,
          6437687.687687688,
          6443693.693693694,
          6449699.6996997,
          6455705.705705706,
          6461711.711711712,
          6467717.717717718,
          6473723.723723724,
          6479729.72972973,
          6485735.735735736,
          6491741.741741741,
          6497747.747747747,
          6503753.753753753,
          6509759.7597597595,
          6515765.765765766,
          6521771.771771772,
          6527777.777777778,
          6533783.783783784,
          6539789.78978979,
          6545795.7957957955,
          6551801.801801802,
          6557807.807807808,
          6563813.813813814,
          6569819.819819819,
          6575825.825825825,
          6581831.8318318315,
          6587837.837837838,
          6593843.843843844,
          6599849.84984985,
          6605855.855855856,
          6611861.861861862,
          6617867.867867868,
          6623873.873873874,
          6629879.87987988,
          6635885.885885886,
          6641891.891891892,
          6647897.897897897,
          6653903.903903903,
          6659909.90990991,
          6665915.915915916,
          6671921.921921922,
          6677927.927927928,
          6683933.933933934,
          6689939.93993994,
          6695945.9459459465,
          6701951.951951952,
          6707957.957957958,
          6713963.963963964,
          6719969.969969969,
          6725975.975975975,
          6731981.981981982,
          6737987.987987988,
          6743993.993993994,
          6750000,
          6756006.006006006,
          6762012.012012012,
          6768018.018018018,
          6774024.024024025,
          6780030.03003003,
          6786036.036036036,
          6792042.042042042,
          6798048.048048047,
          6804054.0540540535,
          6810060.06006006,
          6816066.066066066,
          6822072.072072072,
          6828078.078078078,
          6834084.084084084,
          6840090.09009009,
          6846096.096096097,
          6852102.102102103,
          6858108.108108108,
          6864114.114114114,
          6870120.12012012,
          6876126.126126125,
          6882132.132132132,
          6888138.138138138,
          6894144.144144144,
          6900150.15015015,
          6906156.156156156,
          6912162.162162162,
          6918168.1681681685,
          6924174.174174175,
          6930180.18018018,
          6936186.186186186,
          6942192.192192192,
          6948198.198198198,
          6954204.2042042045,
          6960210.21021021,
          6966216.216216216,
          6972222.222222222,
          6978228.228228228,
          6984234.234234234,
          6990240.2402402405,
          6996246.246246247,
          7002252.252252252,
          7008258.258258258,
          7014264.264264264,
          7020270.27027027,
          7026276.276276276,
          7032282.282282283,
          7038288.288288288,
          7044294.294294294,
          7050300.3003003,
          7056306.306306306,
          7062312.312312312,
          7068318.318318319,
          7074324.324324325,
          7080330.33033033,
          7086336.336336336,
          7092342.342342342,
          7098348.348348348,
          7104354.354354355,
          7110360.360360361,
          7116366.366366366,
          7122372.372372372,
          7128378.378378378,
          7134384.384384384,
          7140390.3903903905,
          7146396.396396397,
          7152402.402402402,
          7158408.408408408,
          7164414.414414414,
          7170420.42042042,
          7176426.4264264265,
          7182432.432432433,
          7188438.438438439,
          7194444.444444444,
          7200450.45045045,
          7206456.456456456,
          7212462.4624624625,
          7218468.468468469,
          7224474.474474475,
          7230480.48048048,
          7236486.486486486,
          7242492.492492492,
          7248498.498498498,
          7254504.504504505,
          7260510.510510511,
          7266516.516516516,
          7272522.522522522,
          7278528.528528528,
          7284534.534534534,
          7290540.540540541,
          7296546.546546547,
          7302552.552552553,
          7308558.558558558,
          7314564.564564564,
          7320570.57057057,
          7326576.576576577,
          7332582.582582583,
          7338588.588588589,
          7344594.594594594,
          7350600.6006006,
          7356606.606606606,
          7362612.612612613,
          7368618.618618619,
          7374624.624624625,
          7380630.630630631,
          7386636.636636636,
          7392642.642642642,
          7398648.6486486485,
          7404654.654654655,
          7410660.660660661,
          7416666.666666667,
          7422672.672672672,
          7428678.678678678,
          7434684.6846846845,
          7440690.690690691,
          7446696.696696697,
          7452702.702702703,
          7458708.708708709,
          7464714.714714714,
          7470720.7207207205,
          7476726.726726727,
          7482732.732732733,
          7488738.738738739,
          7494744.744744745,
          7500750.75075075,
          7506756.756756756,
          7512762.762762763,
          7518768.768768769,
          7524774.774774775,
          7530780.780780781,
          7536786.786786786,
          7542792.792792792,
          7548798.798798799,
          7554804.804804805,
          7560810.810810811,
          7566816.816816817,
          7572822.822822823,
          7578828.828828828,
          7584834.834834835,
          7590840.840840841,
          7596846.846846847,
          7602852.852852853,
          7608858.858858859,
          7614864.864864864,
          7620870.870870871,
          7626876.876876877,
          7632882.882882883,
          7638888.888888889,
          7644894.894894895,
          7650900.9009009,
          7656906.9069069065,
          7662912.912912913,
          7668918.918918919,
          7674924.924924925,
          7680930.930930931,
          7686936.936936937,
          7692942.9429429425,
          7698948.948948949,
          7704954.954954955,
          7710960.960960961,
          7716966.966966967,
          7722972.972972973,
          7728978.9789789785,
          7734984.984984985,
          7740990.990990991,
          7746996.996996997,
          7753003.003003003,
          7759009.009009009,
          7765015.015015015,
          7771021.021021021,
          7777027.027027027,
          7783033.033033033,
          7789039.039039039,
          7795045.045045045,
          7801051.051051051,
          7807057.057057057,
          7813063.063063063,
          7819069.069069069,
          7825075.075075075,
          7831081.081081081,
          7837087.087087087,
          7843093.0930930935,
          7849099.099099099,
          7855105.105105105,
          7861111.111111111,
          7867117.117117117,
          7873123.123123123,
          7879129.129129129,
          7885135.135135135,
          7891141.141141141,
          7897147.147147147,
          7903153.153153153,
          7909159.159159159,
          7915165.165165165,
          7921171.171171171,
          7927177.177177177,
          7933183.183183183,
          7939189.189189189,
          7945195.195195195,
          7951201.201201201,
          7957207.207207208,
          7963213.213213213,
          7969219.219219219,
          7975225.225225225,
          7981231.231231231,
          7987237.237237237,
          7993243.243243244,
          7999249.249249249,
          8005255.255255255,
          8011261.261261261,
          8017267.267267267,
          8023273.273273273,
          8029279.2792792795,
          8035285.285285285,
          8041291.291291291,
          8047297.297297297,
          8053303.303303303,
          8059309.309309309,
          8065315.3153153155,
          8071321.321321322,
          8077327.327327327,
          8083333.333333333,
          8089339.339339339,
          8095345.345345345,
          8101351.3513513515,
          8107357.357357358,
          8113363.363363363,
          8119369.369369369,
          8125375.375375375,
          8131381.381381381,
          8137387.387387387,
          8143393.393393394,
          8149399.3993994,
          8155405.405405405,
          8161411.411411411,
          8167417.417417417,
          8173423.423423423,
          8179429.42942943,
          8185435.435435436,
          8191441.441441441,
          8197447.447447447,
          8203453.453453453,
          8209459.459459459,
          8215465.465465466,
          8221471.471471472,
          8227477.477477478,
          8233483.483483483,
          8239489.489489489,
          8245495.495495495,
          8251501.501501502,
          8257507.507507508,
          8263513.513513514,
          8269519.519519519,
          8275525.525525525,
          8281531.531531531,
          8287537.5375375375,
          8293543.543543544,
          8299549.54954955,
          8305555.555555555,
          8311561.561561561,
          8317567.567567567,
          8323573.5735735735,
          8329579.57957958,
          8335585.585585586,
          8341591.591591592,
          8347597.597597597,
          8353603.603603603,
          8359609.6096096095,
          8365615.615615616,
          8371621.621621622,
          8377627.627627628,
          8383633.633633633,
          8389639.639639638,
          8395645.645645645,
          8401651.65165165,
          8407657.657657657,
          8413663.663663663,
          8419669.66966967,
          8425675.675675675,
          8431681.681681681,
          8437687.687687688,
          8443693.693693694,
          8449699.6996997,
          8455705.705705706,
          8461711.711711712,
          8467717.717717718,
          8473723.723723724,
          8479729.72972973,
          8485735.735735737,
          8491741.741741743,
          8497747.747747747,
          8503753.753753753,
          8509759.75975976,
          8515765.765765766,
          8521771.771771772,
          8527777.777777778,
          8533783.783783784,
          8539789.789789788,
          8545795.795795795,
          8551801.8018018,
          8557807.807807807,
          8563813.813813813,
          8569819.81981982,
          8575825.825825825,
          8581831.831831831,
          8587837.837837838,
          8593843.843843844,
          8599849.84984985,
          8605855.855855856,
          8611861.861861862,
          8617867.867867868,
          8623873.873873875,
          8629879.87987988,
          8635885.885885887,
          8641891.891891893,
          8647897.8978979,
          8653903.903903903,
          8659909.90990991,
          8665915.915915916,
          8671921.921921922,
          8677927.927927928,
          8683933.933933934,
          8689939.939939938,
          8695945.945945945,
          8701951.95195195,
          8707957.957957957,
          8713963.963963963,
          8719969.96996997,
          8725975.975975975,
          8731981.981981982,
          8737987.987987988,
          8743993.993993994,
          8750000
         ],
         "y": [
          0.6453857504943724,
          0.6480913126250529,
          0.6507999049639234,
          0.6535114708438334,
          0.6562259532469963,
          0.6589432948064464,
          0.6616634378075279,
          0.664386324189406,
          0.6671118955466138,
          0.6698400931306204,
          0.6725708578514347,
          0.6753041302792308,
          0.678039850646006,
          0.6807779588472668,
          0.6835183944437411,
          0.6862610966631207,
          0.6890060044018326,
          0.691753056226836,
          0.6945021903774493,
          0.6972533447672079,
          0.7000064569857432,
          0.7027614643006979,
          0.7055183036596641,
          0.7082769116921508,
          0.7110372247115815,
          0.7137991787173161,
          0.7165627093967054,
          0.7193277521271677,
          0.7220942419782995,
          0.7248621137140111,
          0.7276313017946874,
          0.730401740379381,
          0.733173363328033,
          0.7359461042037145,
          0.7387198962749052,
          0.7414946725177921,
          0.7442703656186003,
          0.747046907975947,
          0.7498242317032262,
          0.7526022686310201,
          0.7553809503095343,
          0.7581602080110638,
          0.7609399727324858,
          0.763720175197775,
          0.7665007458605511,
          0.769281614906649,
          0.7720627122567179,
          0.7748439675688447,
          0.777625310241206,
          0.7804066694147447,
          0.7831879739758723,
          0.7859691525591993,
          0.7887501335502893,
          0.79153084508844,
          0.7943112150694882,
          0.7970911711486447,
          0.7998706407433476,
          0.8026495510361473,
          0.8054278289776128,
          0.808205401289264,
          0.81098219446653,
          0.8137581347817296,
          0.8165331482870788,
          0.8193071608177205,
          0.8220800979947812,
          0.8248518852284488,
          0.8276224477210755,
          0.8303917104703065,
          0.833159598272228,
          0.8359260357245426,
          0.838690947229767,
          0.841454256998451,
          0.8442158890524212,
          0.8469757672280477,
          0.8497338151795325,
          0.8524899563822195,
          0.85524411413593,
          0.8579962115683163,
          0.8607461716382393,
          0.8634939171391678,
          0.8662393707025996,
          0.8689824548015013,
          0.8717230917537735,
          0.8744612037257328,
          0.8771967127356172,
          0.8799295406571105,
          0.8826596092228881,
          0.8853868400281821,
          0.8881111545343665,
          0.8908324740725624,
          0.8935507198472614,
          0.89626581293997,
          0.8989776743128721,
          0.901686224812511,
          0.9043913851734869,
          0.9070930760221786,
          0.9097912178804768,
          0.9124857311695396,
          0.9151765362135651,
          0.9178635532435785,
          0.9205467024012416,
          0.9232259037426725,
          0.9259010772422888,
          0.9285721427966618,
          0.93123902022839,
          0.933901629289988,
          0.9365598896677894,
          0.9392137209858678,
          0.941863042809971,
          0.9445077746514702,
          0.9471478359713253,
          0.9497831461840621,
          0.9524136246617675,
          0.9550391907380938,
          0.9576597637122796,
          0.9602752628531843,
          0.9628856074033342,
          0.9654907165829806,
          0.9680905095941738,
          0.9706849056248456,
          0.9732738238529053,
          0.9758571834503487,
          0.9784349035873754,
          0.9810069034365195,
          0.9835731021767911,
          0.986133418997826,
          0.988687773104049,
          0.991236083718845,
          0.9937782700887379,
          0.9963142514875849,
          0.9988439472207725,
          1.001367276629426,
          1.0038841590946261,
          1.0063945140416337,
          1.0088982609441222,
          1.0113953193284175,
          1.0138856087777448,
          1.0163690489364834,
          1.0188455595144283,
          1.0213150602910546,
          1.023777471119793,
          1.0262327119323071,
          1.0286807027427782,
          1.0311213636521932,
          1.0335546148526404,
          1.0359803766316042,
          1.0383985693762707,
          1.0408091135778323,
          1.0432119298357958,
          1.0456069388622977,
          1.0479940614864158,
          1.050373218658491,
          1.0527443314544436,
          1.0551073210800965,
          1.057462108875499,
          1.059808616319249,
          1.062146765032821,
          1.0644764767848887,
          1.0667976734956528,
          1.0691102772411654,
          1.0714142102576556,
          1.0737093949458545,
          1.075995753875316,
          1.0782732097887409,
          1.0805416856062955,
          1.0828011044299284,
          1.085051389547687,
          1.0872924644380288,
          1.0895242527741307,
          1.0917466784281935,
          1.0939596654757462,
          1.09616313819994,
          1.098357021095844,
          1.1005412388747313,
          1.1027157164683627,
          1.1048803790332644,
          1.107035151954999,
          1.1091799608524298,
          1.11131473158198,
          1.1134393902418858,
          1.1155538631764381,
          1.1176580769802213,
          1.119751958502342,
          1.121835434850649,
          1.1239084333959453,
          1.1259708817761922,
          1.1280227079007035,
          1.1300638399543264,
          1.132094206401619,
          1.134113735991015,
          1.1361223577589727,
          1.1381200010341224,
          1.1401065954413927,
          1.1420820709061343,
          1.1440463576582238,
          1.1459993862361608,
          1.1479410874911498,
          1.1498713925911692,
          1.1517902330250287,
          1.1536975406064098,
          1.1555932474778958,
          1.1574772861149856,
          1.159349589330092,
          1.1612100902765286,
          1.1630587224524764,
          1.164895419704939,
          1.1667201162336798,
          1.1685327465951418,
          1.1703332457063558,
          1.1721215488488235,
          1.1738975916723908,
          1.175661310199101,
          1.1774126408270276,
          1.1791515203340917,
          1.1808778858818607,
          1.1825916750193275,
          1.184292825686669,
          1.1859812762189885,
          1.1876569653500348,
          1.1893198322159033,
          1.1909698163587168,
          1.1926068577302829,
          1.1942308966957333,
          1.1958418740371415,
          1.1974397309571159,
          1.1990244090823736,
          1.2005958504672922,
          1.2021539975974367,
          1.2036987933930658,
          1.2052301812126127,
          1.2067481048561446,
          1.2082525085687972,
          1.209743337044186,
          1.2112205354277907,
          1.2126840493203188,
          1.2141338247810423,
          1.2155698083311068,
          1.2169919469568204,
          1.218400188112911,
          1.2197944797257618,
          1.2211747701966191,
          1.222541008404772,
          1.223893143710709,
          1.2252311259592397,
          1.2265549054826002,
          1.227864433103521,
          1.2291596601382704,
          1.2304405383996733,
          1.2317070202000935,
          1.232959058354395,
          1.2341966061828695,
          1.2354196175141372,
          1.2366280466880153,
          1.2378218485583603,
          1.2390009784958758,
          1.2401653923908955,
          1.241315046656131,
          1.2424498982293894,
          1.243569904576264,
          1.2446750236927882,
          1.2457652141080615,
          1.2468404348868418,
          1.2479006456321093,
          1.2489458064875931,
          1.2499758781402677,
          1.2509908218228196,
          1.2519905993160778,
          1.2529751729514105,
          1.253944505613092,
          1.2548985607406344,
          1.2558373023310847,
          1.256760694941289,
          1.2576687036901235,
          1.2585612942606894,
          1.2594384329024757,
          1.260300086433484,
          1.2611462222423218,
          1.2619768082902598,
          1.262791813113252,
          1.2635912058239243,
          1.2643749561135238,
          1.2651430342538346,
          1.2658954110990557,
          1.2666320580876471,
          1.2673529472441338,
          1.2680580511808783,
          1.2687473430998142,
          1.2694207967941442,
          1.2700783866499976,
          1.2707200876480593,
          1.2713458753651512,
          1.271955725975785,
          1.2725496162536714,
          1.2731275235731963,
          1.2736894259108562,
          1.2742353018466572,
          1.2747651305654766,
          1.2752788918583853,
          1.2757765661239315,
          1.2762581343693895,
          1.2767235782119646,
          1.277172879879965,
          1.2776060222139325,
          1.2780229886677332,
          1.278423763309613,
          1.2788083308232099,
          1.279176676508532,
          1.2795287862828917,
          1.279864646681805,
          1.2801842448598484,
          1.2804875685914774,
          1.2807746062718073,
          1.2810453469173526,
          1.2812997801667267,
          1.2815378962813038,
          1.2817596861458396,
          1.2819651412690534,
          1.282154253784169,
          1.2823270164494174,
          1.2824834226484993,
          1.2826234663910066,
          1.2827471423128047,
          1.2828544456763762,
          1.2829453723711226,
          1.2830199189136255,
          1.2830780824478714,
          1.2831198607454324,
          1.2831452522056093,
          1.2831542558555324,
          1.2831468713502263,
          1.2831230989726292,
          1.2830829396335768,
          1.283026394871742,
          1.2829534668535392,
          1.2828641583729843,
          1.2827584728515165,
          1.2826364143377804,
          1.2824979875073672,
          1.2823431976625153,
          1.2821720507317735,
          1.281984553269622,
          1.2817807124560527,
          1.2815605360961129,
          1.2813240326194055,
          1.2810712110795528,
          1.2808020811536176,
          1.2805166531414862,
          1.2802149379652112,
          1.2798969471683157,
          1.2795626929150568,
          1.2792121879896496,
          1.2788454457954535,
          1.2784624803541154,
          1.2780633063046796,
          1.2776479389026532,
          1.2772163940190344,
          1.276768688139302,
          1.2763048383623665,
          1.2758248623994803,
          1.2753287785731129,
          1.2748166058157813,
          1.2742883636688505,
          1.2737440722812872,
          1.2731837524083809,
          1.272607425410424,
          1.2720151132513546,
          1.2714068384973618,
          1.270782624315453,
          1.2701424944719832,
          1.2694864733311457,
          1.2688145858534288,
          1.2681268575940317,
          1.2674233147012441,
          1.26670398391479,
          1.2659688925641344,
          1.2652180685667513,
          1.2644515404263585,
          1.2636693372311123,
          1.2628714886517693,
          1.2620580249398103,
          1.2612289769255287,
          1.2603843760160816,
          1.2595242541935099,
          1.2586486440127183,
          1.2577575785994208,
          1.2568510916480544,
          1.2559292174196544,
          1.254991990739696,
          1.2540394469959033,
          1.2530716221360216,
          1.252088552665556,
          1.2510902756454783,
          1.250076828689897,
          1.2490482499636966,
          1.2480045781801425,
          1.246945852598452,
          1.245872113021334,
          1.244783399792495,
          1.2436797537941142,
          1.2425612164442843,
          1.24142782969442,
          1.2402796360266395,
          1.2391166784511092,
          1.2379390005033581,
          1.236746646241564,
          1.2355396602438076,
          1.2343180876052913,
          1.2330819739355374,
          1.231831365355547,
          1.2305663084949339,
          1.229286850489028,
          1.2279930389759488,
          1.2266849220936509,
          1.2253625484769388,
          1.224025967254456,
          1.2226752280456425,
          1.2213103809576669,
          1.2199314765823293,
          1.2185385659929386,
          1.2171317007411584,
          1.2157109328538318,
          1.2142763148297746,
          1.2128278996365436,
          1.2113657407071807,
          1.2098898919369285,
          1.2084004076799213,
          1.2068973427458518,
          1.2053807523966107,
          1.2038506923429044,
          1.2023072187408455,
          1.20075038818852,
          1.1991802577225328,
          1.1975968848145266,
          1.1960003273676798,
          1.19439064371318,
          1.1927678926066745,
          1.1911321332247018,
          1.1894834251610968,
          1.187821828423377,
          1.186147403429105,
          1.1844602110022342,
          1.1827603123694275,
          1.1810477691563614,
          1.1793226433840056,
          1.1775849974648864,
          1.1758348941993262,
          1.174072396771668,
          1.172297568746479,
          1.1705104740647354,
          1.1687111770399892,
          1.1668997423545173,
          1.165076235055453,
          1.1632407205509008,
          1.1613932646060314,
          1.1595339333391634,
          1.1576627932178276,
          1.155779911054815,
          1.153885354004208,
          1.1519791895573988,
          1.1500614855390898,
          1.148132310103284,
          1.1461917317292543,
          1.1442398192175034,
          1.1422766416857115,
          1.140302268564665,
          1.1383167695941774,
          1.1363202148189937,
          1.1343126745846863,
          1.132294219533535,
          1.1302649206003983,
          1.1282248490085711,
          1.1261740762656338,
          1.124112674159288,
          1.1220407147531848,
          1.1199582703827395,
          1.1178654136509407,
          1.1157622174241468,
          1.1136487548278757,
          1.1115250992425845,
          1.1093913242994407,
          1.107247503876088,
          1.105093712092401,
          1.102930023306234,
          1.1007565121091651,
          1.098573253322229,
          1.0963803219916484,
          1.0941777933845567,
          1.0919657429847147,
          1.089744246488224,
          1.0875133797992351,
          1.085273219025649,
          1.0830238404748167,
          1.0807653206492351,
          1.0784977362422348,
          1.0762211641336739,
          1.073935681385618,
          1.0716413652380246,
          1.0693382931044253,
          1.0670265425676015,
          1.0647061913752647,
          1.0623773174357294,
          1.060039998813589,
          1.0576943137253914,
          1.055340340535312,
          1.0529781577508295,
          1.0506078440183977,
          1.0482294781191248,
          1.0458431389644485,
          1.0434489055918144,
          1.0410468571603535,
          1.03863707294657,
          1.0362196323400197,
          1.033794614839002,
          1.031362100046246,
          1.028922167664608,
          1.0264748974927669,
          1.0240203694209258,
          1.0215586634265184,
          1.019089859569918,
          1.0166140379901567,
          1.014131278900641,
          1.0116416625848832,
          1.0091452693922303,
          1.0066421797336038,
          1.0041324740772464,
          1.0016162329444707,
          0.9990935369054217,
          0.9965644665748419,
          0.9940291026078462,
          0.9914875256957039,
          0.9889398165616317,
          0.9863860559565897,
          0.9838263246550941,
          0.9812607034510328,
          0.9786892731534943,
          0.976112114582603,
          0.9735293085653702,
          0.9709409359315493,
          0.9683470775095062,
          0.9657478141220982,
          0.9631432265825665,
          0.9605333956904378,
          0.9579184022274402,
          0.9552983269534298,
          0.9526732506023285,
          0.9500432538780795,
          0.9474084174506096,
          0.9447688219518073,
          0.9421245479715183,
          0.939475676053548,
          0.9368222866916818,
          0.9341644603257209,
          0.9315022773375298,
          0.9288358180471006,
          0.9261651627086318,
          0.9234903915066223,
          0.9208115845519824,
          0.9181288218781567,
          0.915442183437271,
          0.9127517490962864,
          0.9100575986331751,
          0.9073598117331145,
          0.9046584679846938,
          0.901953646876142,
          0.8992454277915712,
          0.896533890007238,
          0.8938191126878254,
          0.8911011748827385,
          0.8883801555224238,
          0.8856561334147015,
          0.8829291872411245,
          0.880199395553348,
          0.8774668367695261,
          0.8747315891707206,
          0.8719937308973378,
          0.8692533399455792,
          0.8665104941639143,
          0.8637652712495753,
          0.8610177487450694,
          0.8582680040347161,
          0.8555161143412021,
          0.8527621567221585,
          0.85000620806676,
          0.847248345092346,
          0.8444886443410622,
          0.8417271821765269,
          0.8389640347805137,
          0.8361992781496652,
          0.8334329880922221,
          0.830665240224778,
          0.8278961099690578,
          0.8251256725487164,
          0.8223540029861641,
          0.8195811760994126,
          0.8168072664989475,
          0.8140323485846199,
          0.8112564965425684,
          0.8084797843421593,
          0.8057022857329533,
          0.8029240742416986,
          0.8001452231693451,
          0.7973658055880843,
          0.7945858943384161,
          0.7918055620262371,
          0.7890248810199572,
          0.7862439234476393,
          0.7834627611941648,
          0.780681465898426,
          0.7779001089505406,
          0.7751187614890971,
          0.772337494398422,
          0.7695563783058718,
          0.7667754835791574,
          0.7639948803236886,
          0.7612146383799461,
          0.7584348273208833,
          0.7556555164493493,
          0.7528767747955428,
          0.7500986711144916,
          0.7473212738835571,
          0.7445446512999683,
          0.74176887127838,
          0.7389940014484612,
          0.7362201091525095,
          0.7334472614430879,
          0.7306755250807002,
          0.7279049665314811,
          0.7251356519649218,
          0.7223676472516207,
          0.7196010179610622,
          0.7168358293594216,
          0.7140721464074,
          0.7113100337580855,
          0.708549555754842,
          0.7057907764292278,
          0.7030337594989396,
          0.7002785683657873,
          0.6975252661136924,
          0.6947739155067209,
          0.6920245789871386,
          0.6892773186734973,
          0.6865321963587481,
          0.6837892735083853,
          0.6810486112586127,
          0.6783102704145482,
          0.6755743114484449,
          0.6728407944979491,
          0.6701097793643849,
          0.6673813255110634,
          0.664655492061626,
          0.6619323377984093,
          0.6592119211608473,
          0.6564943002438919,
          0.6537795327964708,
          0.6510676762199675,
          0.6483587875667332,
          0.6456529235386248,
          0.6429501404855742,
          0.6402504944041836,
          0.6375540409363486,
          0.6348608353679128,
          0.6321709326273489,
          0.6294843872844654,
          0.6268012535491483,
          0.6241215852701247,
          0.6214454359337571,
          0.6187728586628672,
          0.6161039062155858,
          0.6134386309842311,
          0.6107770849942179,
          0.6081193199029904,
          0.6054653869989872,
          0.6028153372006309,
          0.6001692210553489,
          0.5975270887386201,
          0.5948889900530487,
          0.5922549744274689,
          0.5896250909160751,
          0.5869993881975787,
          0.5843779145743958,
          0.5817607179718602,
          0.5791478459374644,
          0.5765393456401283,
          0.5739352638694958,
          0.5713356470352565,
          0.5687405411664975,
          0.5661499919110816,
          0.5635640445350516,
          0.5609827439220607,
          0.5584061345728347,
          0.5558342606046549,
          0.5532671657508716,
          0.5507048933604437,
          0.5481474863975041,
          0.545594987440952,
          0.543047438684072,
          0.5405048819341792,
          0.5379673586122897,
          0.5354349097528203,
          0.5329075760033095,
          0.5303853976241691,
          0.527868414488459,
          0.5253566660816862,
          0.5228501915016356,
          0.5203490294582188,
          0.5178532182733534,
          0.515362795880866,
          0.5128777998264192,
          0.5103982672674671,
          0.5079242349732298,
          0.5054557393247007,
          0.5029928163146717,
          0.5005355015477857,
          0.4980838302406143,
          0.49563783722175897,
          0.4931975569319744,
          0.4907630234243208,
          0.4883342703643362,
          0.485911331030233,
          0.48349423831312016,
          0.4810830247172466,
          0.4786777223602705,
          0.47627836297354836,
          0.4738849779024524,
          0.4714975981067051,
          0.46911625416074176,
          0.46674097625409205,
          0.46437179419178654,
          0.46200873739478326,
          0.45965183490042005,
          0.4573011153628857,
          0.4549566070537154,
          0.4526183378623053,
          0.45028633529645334,
          0.44796062648291535,
          0.44564123816798923,
          0.4433281967181156,
          0.4410215281205002,
          0.43872125798376066,
          0.43642741153858905,
          0.43414001363843885,
          0.43185908876022977,
          0.4295846610050749,
          0.4273167540990278,
          0.42505539139384746,
          0.42280059586778485,
          0.42055239012639006,
          0.41831079640333496,
          0.41607583656126057,
          0.41384753209263947,
          0.41162590412065814,
          0.40941097340011906,
          0.4072027603183615,
          0.40500128489619724,
          0.4028065667888717,
          0.4006186252870351,
          0.3984374793177378,
          0.39626314744543994,
          0.3940956478730395,
          0.39193499844291935,
          0.38978121663800763,
          0.3876343195828607,
          0.38549432404475864,
          0.38336124643481845,
          0.38123510280912504,
          0.3791159088698778,
          0.37700367996655193,
          0.3748984310970791,
          0.3728001769090406,
          0.3707089317008787,
          0.36862470942312126,
          0.36654752367962246,
          0.364477387728821,
          0.36241431448500766,
          0.36035831651961414,
          0.35830940606251177,
          0.35626759500332666,
          0.3542328948927685,
          0.35220531694397345,
          0.35018487203386006,
          0.3481715707045012,
          0.3461654231645068,
          0.34416643929042157,
          0.3421746286281344,
          0.34019000039430247,
          0.33821256347778683,
          0.3362423264410998,
          0.3342792975218678,
          0.33232348463430245,
          0.3303748953706871,
          0.3284335370028725,
          0.3264994164837855,
          0.3245725404489493,
          0.3226529152180142,
          0.3207405467963006,
          0.3188354408763514,
          0.3169376028394959,
          0.31504703775742493,
          0.3131637503937742,
          0.31128774520572117,
          0.30941902634558854,
          0.30755759766245927,
          0.30570346270380117,
          0.3038566247171008,
          0.3020170866515059,
          0.3001848511594781,
          0.2983599205984538,
          0.2965422970325136,
          0.2947319822340616,
          0.29292897768551024,
          0.2911332845809773,
          0.2893449038279864,
          0.28756383604917946,
          0.2857900815840343,
          0.2840236404905902,
          0.2822645125471811,
          0.28051269725417616,
          0.27876819383572504,
          0.27703100124151436,
          0.27530111814852587,
          0.2735785429628045,
          0.27186327382123066,
          0.27015530859329956,
          0.2684546448829064,
          0.26676128003013605,
          0.2650752111130605,
          0.26339643494953985,
          0.26172494809902835,
          0.2600607468643873,
          0.2584038272937012,
          0.25675418518209797,
          0.2551118160735765,
          0.2534767152628358,
          0.251848877797109,
          0.25022829847800265,
          0.24861497186333767,
          0.24700889226899636,
          0.24541005377077002,
          0.2438184502062139,
          0.24223407517650114,
          0.24065692204828268,
          0.23908698395554856,
          0.23752425380149292,
          0.2359687242603794,
          0.23442038777941263,
          0.23287923658060844,
          0.23134526266266814,
          0.22981845780285334,
          0.22829881355886406,
          0.22678632127071743,
          0.22528097206262707,
          0.22378275684488627,
          0.22229166631574976,
          0.2208076909633178,
          0.21933082106742063,
          0.21786104670150389,
          0.21639835773451402,
          0.21494274383278497,
          0.2134941944619247,
          0.2120526988887012,
          0.21061824618292932,
          0.20919082521935745,
          0.20777042467955206,
          0.20635703305378536,
          0.2049506386429183,
          0.20355122956028568,
          0.20215879373357928,
          0.20077331890672967,
          0.19939479264178778,
          0.19802320232080375,
          0.1966585351477062,
          0.1953007781501787,
          0.19394991818153445,
          0.19260594192258934,
          0.1912688358835341,
          0.1899385864058017,
          0.18861517966393623,
          0.18729860166745615,
          0.18598883826271645,
          0.1846858751347686,
          0.18338969780921716,
          0.18210029165407257,
          0.1808176418816041,
          0.17954173355018577,
          0.17827255156614202,
          0.1770100806855887,
          0.1757543055162707,
          0.17450521051939666,
          0.1732627800114688,
          0.1720269981661104,
          0.17079784901588885,
          0.16957531645413376,
          0.16835938423675226,
          0.16715003598403974,
          0.1659472551824846,
          0.16475102518657211,
          0.16356132922058025,
          0.16237815038037234,
          0.1612014716351851,
          0.16003127582941165,
          0.15886754568437852,
          0.1577102638001196,
          0.15655941265714354,
          0.1554149746181958,
          0.1542769319300164,
          0.15314526672509052,
          0.15201996102339582,
          0.15090099673414178,
          0.1497883556575053,
          0.14868201948635915,
          0.14758196980799454,
          0.1464881881058392,
          0.1454006557611674,
          0.14431935405480512,
          0.1432442641688275,
          0.14217536718825285,
          0.14111264410272698,
          0.14005607580820256,
          0.13900564310861244,
          0.1379613267175349,
          0.13692310725985277,
          0.1358909652734068,
          0.13486488121064055,
          0.13384483544023898,
          0.13283080824876017,
          0.13182277984225993,
          0.13082073034790803,
          0.12982463981559975,
          0.12883448821955779,
          0.1278502554599276,
          0.1268719213643651,
          0.12589946568961768,
          0.12493286812309662,
          0.12397210828444181,
          0.12301716572708027,
          0.12206801993977491,
          0.121124650348167,
          0.12018703631631007,
          0.11925515714819589,
          0.11832899208927271,
          0.11740852032795493,
          0.11649372099712607,
          0.11558457317563185,
          0.11468105588976586,
          0.1137831481147475,
          0.11289082877619035,
          0.11200407675156361,
          0.11112287087164432,
          0.11024718992196116,
          0.10937701264423016,
          0.1085123177377818,
          0.1076530838609788,
          0.10679928963262669,
          0.10595091363337482,
          0.10510793440710864,
          0.10427033046233362,
          0.10343808027355031,
          0.10261116228262106,
          0.101789554900126,
          0.10097323650671348,
          0.10016218545443885,
          0.09935638006809504,
          0.09855579864653492,
          0.09776041946398392,
          0.09697022077134415,
          0.09618518079748821,
          0.09540527775054655,
          0.09463048981918297,
          0.09386079517386288,
          0.09309617196811126,
          0.09233659833976204,
          0.0915820524121987,
          0.09083251229558471,
          0.09008795608808552,
          0.08934836187708087,
          0.08861370774036822,
          0.08788397174735688,
          0.08715913196025214,
          0.08643916643523145,
          0.08572405322361014,
          0.0850137703729982,
          0.08430829592844798,
          0.08360760793359226,
          0.0829116844317729,
          0.08222050346716014,
          0.08153404308586351,
          0.08085228133703146,
          0.0801751962739435,
          0.07950276595509179,
          0.07883496844525398,
          0.0781717818165554,
          0.0775131841495245,
          0.07685915353413593,
          0.0762096680708462,
          0.07556470587161895,
          0.07492424506094139,
          0.0742882637768308,
          0.07365674017183248,
          0.07302965241400738,
          0.07240697868791102
         ]
        },
        {
         "line": {
          "color": "red",
          "dash": "dash"
         },
         "mode": "lines",
         "name": "Minimum Fiyat",
         "type": "scatter",
         "x": [
          2750000,
          2750000
         ],
         "y": [
          0,
          1.2831542558555324
         ]
        },
        {
         "line": {
          "color": "green",
          "dash": "dash"
         },
         "mode": "lines",
         "name": "Ortalama Fiyat",
         "type": "scatter",
         "x": [
          4720266.666666667,
          4720266.666666667
         ],
         "y": [
          0,
          1.2831542558555324
         ]
        },
        {
         "line": {
          "color": "blue",
          "dash": "dash"
         },
         "mode": "lines",
         "name": "Maksimum Fiyat",
         "type": "scatter",
         "x": [
          8750000,
          8750000
         ],
         "y": [
          0,
          1.2831542558555324
         ]
        }
       ],
       "layout": {
        "annotations": [
         {
          "arrowhead": 1,
          "showarrow": true,
          "text": "Minimum Fiyat: 2,750,000 TL",
          "x": 2750000,
          "y": 1.2831542558555324
         },
         {
          "arrowhead": 1,
          "showarrow": true,
          "text": "Ortalama Fiyat: 4,720,267 TL",
          "x": 4720266.666666667,
          "y": 1.2831542558555324
         },
         {
          "arrowhead": 1,
          "showarrow": true,
          "text": "Maksimum Fiyat: 8,750,000 TL",
          "x": 8750000,
          "y": 1.2831542558555324
         }
        ],
        "bargap": 0.2,
        "height": 500,
        "legend": {
         "orientation": "h",
         "x": 1,
         "xanchor": "right",
         "y": 1,
         "yanchor": "bottom"
        },
        "margin": {
         "b": 110,
         "l": 110,
         "r": 20,
         "t": 100
        },
        "plot_bgcolor": "#f3f4f6",
        "template": {
         "data": {
          "bar": [
           {
            "error_x": {
             "color": "#2a3f5f"
            },
            "error_y": {
             "color": "#2a3f5f"
            },
            "marker": {
             "line": {
              "color": "#E5ECF6",
              "width": 0.5
             },
             "pattern": {
              "fillmode": "overlay",
              "size": 10,
              "solidity": 0.2
             }
            },
            "type": "bar"
           }
          ],
          "barpolar": [
           {
            "marker": {
             "line": {
              "color": "#E5ECF6",
              "width": 0.5
             },
             "pattern": {
              "fillmode": "overlay",
              "size": 10,
              "solidity": 0.2
             }
            },
            "type": "barpolar"
           }
          ],
          "carpet": [
           {
            "aaxis": {
             "endlinecolor": "#2a3f5f",
             "gridcolor": "white",
             "linecolor": "white",
             "minorgridcolor": "white",
             "startlinecolor": "#2a3f5f"
            },
            "baxis": {
             "endlinecolor": "#2a3f5f",
             "gridcolor": "white",
             "linecolor": "white",
             "minorgridcolor": "white",
             "startlinecolor": "#2a3f5f"
            },
            "type": "carpet"
           }
          ],
          "choropleth": [
           {
            "colorbar": {
             "outlinewidth": 0,
             "ticks": ""
            },
            "type": "choropleth"
           }
          ],
          "contour": [
           {
            "colorbar": {
             "outlinewidth": 0,
             "ticks": ""
            },
            "colorscale": [
             [
              0,
              "#0d0887"
             ],
             [
              0.1111111111111111,
              "#46039f"
             ],
             [
              0.2222222222222222,
              "#7201a8"
             ],
             [
              0.3333333333333333,
              "#9c179e"
             ],
             [
              0.4444444444444444,
              "#bd3786"
             ],
             [
              0.5555555555555556,
              "#d8576b"
             ],
             [
              0.6666666666666666,
              "#ed7953"
             ],
             [
              0.7777777777777778,
              "#fb9f3a"
             ],
             [
              0.8888888888888888,
              "#fdca26"
             ],
             [
              1,
              "#f0f921"
             ]
            ],
            "type": "contour"
           }
          ],
          "contourcarpet": [
           {
            "colorbar": {
             "outlinewidth": 0,
             "ticks": ""
            },
            "type": "contourcarpet"
           }
          ],
          "heatmap": [
           {
            "colorbar": {
             "outlinewidth": 0,
             "ticks": ""
            },
            "colorscale": [
             [
              0,
              "#0d0887"
             ],
             [
              0.1111111111111111,
              "#46039f"
             ],
             [
              0.2222222222222222,
              "#7201a8"
             ],
             [
              0.3333333333333333,
              "#9c179e"
             ],
             [
              0.4444444444444444,
              "#bd3786"
             ],
             [
              0.5555555555555556,
              "#d8576b"
             ],
             [
              0.6666666666666666,
              "#ed7953"
             ],
             [
              0.7777777777777778,
              "#fb9f3a"
             ],
             [
              0.8888888888888888,
              "#fdca26"
             ],
             [
              1,
              "#f0f921"
             ]
            ],
            "type": "heatmap"
           }
          ],
          "heatmapgl": [
           {
            "colorbar": {
             "outlinewidth": 0,
             "ticks": ""
            },
            "colorscale": [
             [
              0,
              "#0d0887"
             ],
             [
              0.1111111111111111,
              "#46039f"
             ],
             [
              0.2222222222222222,
              "#7201a8"
             ],
             [
              0.3333333333333333,
              "#9c179e"
             ],
             [
              0.4444444444444444,
              "#bd3786"
             ],
             [
              0.5555555555555556,
              "#d8576b"
             ],
             [
              0.6666666666666666,
              "#ed7953"
             ],
             [
              0.7777777777777778,
              "#fb9f3a"
             ],
             [
              0.8888888888888888,
              "#fdca26"
             ],
             [
              1,
              "#f0f921"
             ]
            ],
            "type": "heatmapgl"
           }
          ],
          "histogram": [
           {
            "marker": {
             "pattern": {
              "fillmode": "overlay",
              "size": 10,
              "solidity": 0.2
             }
            },
            "type": "histogram"
           }
          ],
          "histogram2d": [
           {
            "colorbar": {
             "outlinewidth": 0,
             "ticks": ""
            },
            "colorscale": [
             [
              0,
              "#0d0887"
             ],
             [
              0.1111111111111111,
              "#46039f"
             ],
             [
              0.2222222222222222,
              "#7201a8"
             ],
             [
              0.3333333333333333,
              "#9c179e"
             ],
             [
              0.4444444444444444,
              "#bd3786"
             ],
             [
              0.5555555555555556,
              "#d8576b"
             ],
             [
              0.6666666666666666,
              "#ed7953"
             ],
             [
              0.7777777777777778,
              "#fb9f3a"
             ],
             [
              0.8888888888888888,
              "#fdca26"
             ],
             [
              1,
              "#f0f921"
             ]
            ],
            "type": "histogram2d"
           }
          ],
          "histogram2dcontour": [
           {
            "colorbar": {
             "outlinewidth": 0,
             "ticks": ""
            },
            "colorscale": [
             [
              0,
              "#0d0887"
             ],
             [
              0.1111111111111111,
              "#46039f"
             ],
             [
              0.2222222222222222,
              "#7201a8"
             ],
             [
              0.3333333333333333,
              "#9c179e"
             ],
             [
              0.4444444444444444,
              "#bd3786"
             ],
             [
              0.5555555555555556,
              "#d8576b"
             ],
             [
              0.6666666666666666,
              "#ed7953"
             ],
             [
              0.7777777777777778,
              "#fb9f3a"
             ],
             [
              0.8888888888888888,
              "#fdca26"
             ],
             [
              1,
              "#f0f921"
             ]
            ],
            "type": "histogram2dcontour"
           }
          ],
          "mesh3d": [
           {
            "colorbar": {
             "outlinewidth": 0,
             "ticks": ""
            },
            "type": "mesh3d"
           }
          ],
          "parcoords": [
           {
            "line": {
             "colorbar": {
              "outlinewidth": 0,
              "ticks": ""
             }
            },
            "type": "parcoords"
           }
          ],
          "pie": [
           {
            "automargin": true,
            "type": "pie"
           }
          ],
          "scatter": [
           {
            "fillpattern": {
             "fillmode": "overlay",
             "size": 10,
             "solidity": 0.2
            },
            "type": "scatter"
           }
          ],
          "scatter3d": [
           {
            "line": {
             "colorbar": {
              "outlinewidth": 0,
              "ticks": ""
             }
            },
            "marker": {
             "colorbar": {
              "outlinewidth": 0,
              "ticks": ""
             }
            },
            "type": "scatter3d"
           }
          ],
          "scattercarpet": [
           {
            "marker": {
             "colorbar": {
              "outlinewidth": 0,
              "ticks": ""
             }
            },
            "type": "scattercarpet"
           }
          ],
          "scattergeo": [
           {
            "marker": {
             "colorbar": {
              "outlinewidth": 0,
              "ticks": ""
             }
            },
            "type": "scattergeo"
           }
          ],
          "scattergl": [
           {
            "marker": {
             "colorbar": {
              "outlinewidth": 0,
              "ticks": ""
             }
            },
            "type": "scattergl"
           }
          ],
          "scattermapbox": [
           {
            "marker": {
             "colorbar": {
              "outlinewidth": 0,
              "ticks": ""
             }
            },
            "type": "scattermapbox"
           }
          ],
          "scatterpolar": [
           {
            "marker": {
             "colorbar": {
              "outlinewidth": 0,
              "ticks": ""
             }
            },
            "type": "scatterpolar"
           }
          ],
          "scatterpolargl": [
           {
            "marker": {
             "colorbar": {
              "outlinewidth": 0,
              "ticks": ""
             }
            },
            "type": "scatterpolargl"
           }
          ],
          "scatterternary": [
           {
            "marker": {
             "colorbar": {
              "outlinewidth": 0,
              "ticks": ""
             }
            },
            "type": "scatterternary"
           }
          ],
          "surface": [
           {
            "colorbar": {
             "outlinewidth": 0,
             "ticks": ""
            },
            "colorscale": [
             [
              0,
              "#0d0887"
             ],
             [
              0.1111111111111111,
              "#46039f"
             ],
             [
              0.2222222222222222,
              "#7201a8"
             ],
             [
              0.3333333333333333,
              "#9c179e"
             ],
             [
              0.4444444444444444,
              "#bd3786"
             ],
             [
              0.5555555555555556,
              "#d8576b"
             ],
             [
              0.6666666666666666,
              "#ed7953"
             ],
             [
              0.7777777777777778,
              "#fb9f3a"
             ],
             [
              0.8888888888888888,
              "#fdca26"
             ],
             [
              1,
              "#f0f921"
             ]
            ],
            "type": "surface"
           }
          ],
          "table": [
           {
            "cells": {
             "fill": {
              "color": "#EBF0F8"
             },
             "line": {
              "color": "white"
             }
            },
            "header": {
             "fill": {
              "color": "#C8D4E3"
             },
             "line": {
              "color": "white"
             }
            },
            "type": "table"
           }
          ]
         },
         "layout": {
          "annotationdefaults": {
           "arrowcolor": "#2a3f5f",
           "arrowhead": 0,
           "arrowwidth": 1
          },
          "autotypenumbers": "strict",
          "coloraxis": {
           "colorbar": {
            "outlinewidth": 0,
            "ticks": ""
           }
          },
          "colorscale": {
           "diverging": [
            [
             0,
             "#8e0152"
            ],
            [
             0.1,
             "#c51b7d"
            ],
            [
             0.2,
             "#de77ae"
            ],
            [
             0.3,
             "#f1b6da"
            ],
            [
             0.4,
             "#fde0ef"
            ],
            [
             0.5,
             "#f7f7f7"
            ],
            [
             0.6,
             "#e6f5d0"
            ],
            [
             0.7,
             "#b8e186"
            ],
            [
             0.8,
             "#7fbc41"
            ],
            [
             0.9,
             "#4d9221"
            ],
            [
             1,
             "#276419"
            ]
           ],
           "sequential": [
            [
             0,
             "#0d0887"
            ],
            [
             0.1111111111111111,
             "#46039f"
            ],
            [
             0.2222222222222222,
             "#7201a8"
            ],
            [
             0.3333333333333333,
             "#9c179e"
            ],
            [
             0.4444444444444444,
             "#bd3786"
            ],
            [
             0.5555555555555556,
             "#d8576b"
            ],
            [
             0.6666666666666666,
             "#ed7953"
            ],
            [
             0.7777777777777778,
             "#fb9f3a"
            ],
            [
             0.8888888888888888,
             "#fdca26"
            ],
            [
             1,
             "#f0f921"
            ]
           ],
           "sequentialminus": [
            [
             0,
             "#0d0887"
            ],
            [
             0.1111111111111111,
             "#46039f"
            ],
            [
             0.2222222222222222,
             "#7201a8"
            ],
            [
             0.3333333333333333,
             "#9c179e"
            ],
            [
             0.4444444444444444,
             "#bd3786"
            ],
            [
             0.5555555555555556,
             "#d8576b"
            ],
            [
             0.6666666666666666,
             "#ed7953"
            ],
            [
             0.7777777777777778,
             "#fb9f3a"
            ],
            [
             0.8888888888888888,
             "#fdca26"
            ],
            [
             1,
             "#f0f921"
            ]
           ]
          },
          "colorway": [
           "#636efa",
           "#EF553B",
           "#00cc96",
           "#ab63fa",
           "#FFA15A",
           "#19d3f3",
           "#FF6692",
           "#B6E880",
           "#FF97FF",
           "#FECB52"
          ],
          "font": {
           "color": "#2a3f5f"
          },
          "geo": {
           "bgcolor": "white",
           "lakecolor": "white",
           "landcolor": "#E5ECF6",
           "showlakes": true,
           "showland": true,
           "subunitcolor": "white"
          },
          "hoverlabel": {
           "align": "left"
          },
          "hovermode": "closest",
          "mapbox": {
           "style": "light"
          },
          "paper_bgcolor": "white",
          "plot_bgcolor": "#E5ECF6",
          "polar": {
           "angularaxis": {
            "gridcolor": "white",
            "linecolor": "white",
            "ticks": ""
           },
           "bgcolor": "#E5ECF6",
           "radialaxis": {
            "gridcolor": "white",
            "linecolor": "white",
            "ticks": ""
           }
          },
          "scene": {
           "xaxis": {
            "backgroundcolor": "#E5ECF6",
            "gridcolor": "white",
            "gridwidth": 2,
            "linecolor": "white",
            "showbackground": true,
            "ticks": "",
            "zerolinecolor": "white"
           },
           "yaxis": {
            "backgroundcolor": "#E5ECF6",
            "gridcolor": "white",
            "gridwidth": 2,
            "linecolor": "white",
            "showbackground": true,
            "ticks": "",
            "zerolinecolor": "white"
           },
           "zaxis": {
            "backgroundcolor": "#E5ECF6",
            "gridcolor": "white",
            "gridwidth": 2,
            "linecolor": "white",
            "showbackground": true,
            "ticks": "",
            "zerolinecolor": "white"
           }
          },
          "shapedefaults": {
           "line": {
            "color": "#2a3f5f"
           }
          },
          "ternary": {
           "aaxis": {
            "gridcolor": "white",
            "linecolor": "white",
            "ticks": ""
           },
           "baxis": {
            "gridcolor": "white",
            "linecolor": "white",
            "ticks": ""
           },
           "bgcolor": "#E5ECF6",
           "caxis": {
            "gridcolor": "white",
            "linecolor": "white",
            "ticks": ""
           }
          },
          "title": {
           "x": 0.05
          },
          "xaxis": {
           "automargin": true,
           "gridcolor": "white",
           "linecolor": "white",
           "ticks": "",
           "title": {
            "standoff": 15
           },
           "zerolinecolor": "white",
           "zerolinewidth": 2
          },
          "yaxis": {
           "automargin": true,
           "gridcolor": "white",
           "linecolor": "white",
           "ticks": "",
           "title": {
            "standoff": 15
           },
           "zerolinecolor": "white",
           "zerolinewidth": 2
          }
         }
        },
        "title": {
         "font": {
          "family": "Verdana",
          "size": 30,
          "weight": "bold"
         },
         "text": "Fiyat İstatistiği"
        },
        "xaxis": {
         "gridcolor": "lightgray",
         "showgrid": true,
         "tickangle": -45,
         "tickfont": {
          "family": "Verdana",
          "size": 12
         },
         "title": {
          "font": {
           "color": "black",
           "family": "Verdana",
           "size": 20,
           "weight": "bold"
          },
          "text": "Fiyat (TL)"
         }
        },
        "yaxis": {
         "gridcolor": "lightgray",
         "showgrid": true,
         "showticklabels": false,
         "tickfont": {
          "family": "Verdana",
          "size": 12
         },
         "tickformat": ",",
         "title": {
          "font": {
           "color": "black",
           "family": "Verdana",
           "size": 20,
           "weight": "bold"
          }
         }
        }
       }
      }
     },
     "metadata": {},
     "output_type": "display_data"
    }
   ],
   "source": [
    "import numpy as np\n",
    "import plotly.graph_objs as go\n",
    "import plotly.express as px\n",
    "import pandas as pd\n",
    "from prep_data import *\n",
    "import locale\n",
    "from plot import *\n",
    "\n",
    "import json\n",
    "import plotly.graph_objects as go\n",
    "import numpy as np\n",
    "\n",
    "# Read the JSON file (replace with your JSON file path)\n",
    "with open('./curl-res.json', 'r') as file:\n",
    "    json_data = file.read()\n",
    "\n",
    "# Parse the JSON data\n",
    "m = json.loads(json_data)\n",
    "\n",
    "\n",
    "fig1, fig2 = price_age_plot(m[\"result\"], m[\"data\"])\n",
    "# type(m[\"data\"])\n",
    "# m[\"data\"][0]\n",
    "fig1.show()"
   ]
  },
  {
   "cell_type": "code",
   "execution_count": 3,
   "metadata": {},
   "outputs": [
    {
     "ename": "NameError",
     "evalue": "name 'fig2' is not defined",
     "output_type": "error",
     "traceback": [
      "\u001b[1;31m---------------------------------------------------------------------------\u001b[0m",
      "\u001b[1;31mNameError\u001b[0m                                 Traceback (most recent call last)",
      "Cell \u001b[1;32mIn[3], line 1\u001b[0m\n\u001b[1;32m----> 1\u001b[0m \u001b[43mfig2\u001b[49m\u001b[38;5;241m.\u001b[39mshow()\n",
      "\u001b[1;31mNameError\u001b[0m: name 'fig2' is not defined"
     ]
    }
   ],
   "source": [
    "fig2.show()"
   ]
  },
  {
   "cell_type": "code",
   "execution_count": 2,
   "metadata": {},
   "outputs": [
    {
     "data": {
      "application/vnd.plotly.v1+json": {
       "config": {
        "plotlyServerURL": "https://plot.ly"
       },
       "data": [
        {
         "line": {
          "color": "orange",
          "width": 5
         },
         "marker": {
          "color": "teal",
          "size": 10
         },
         "mode": "lines+markers",
         "name": "Ülkede Toplam Konut Satış",
         "type": "scatter",
         "x": [
          "2013-01-28T00:00:00",
          "2013-02-28T00:00:00",
          "2013-03-28T00:00:00",
          "2013-04-28T00:00:00",
          "2013-05-28T00:00:00",
          "2013-06-28T00:00:00",
          "2013-07-28T00:00:00",
          "2013-08-28T00:00:00",
          "2013-09-28T00:00:00",
          "2013-10-28T00:00:00",
          "2013-11-28T00:00:00",
          "2013-12-28T00:00:00",
          "2014-01-28T00:00:00",
          "2014-02-28T00:00:00",
          "2014-03-28T00:00:00",
          "2014-04-28T00:00:00",
          "2014-05-28T00:00:00",
          "2014-06-28T00:00:00",
          "2014-07-28T00:00:00",
          "2014-08-28T00:00:00",
          "2014-09-28T00:00:00",
          "2014-10-28T00:00:00",
          "2014-11-28T00:00:00",
          "2014-12-28T00:00:00",
          "2015-01-28T00:00:00",
          "2015-02-28T00:00:00",
          "2015-03-28T00:00:00",
          "2015-04-28T00:00:00",
          "2015-05-28T00:00:00",
          "2015-06-28T00:00:00",
          "2015-07-28T00:00:00",
          "2015-08-28T00:00:00",
          "2015-09-28T00:00:00",
          "2015-10-28T00:00:00",
          "2015-11-28T00:00:00",
          "2015-12-28T00:00:00",
          "2016-01-28T00:00:00",
          "2016-02-28T00:00:00",
          "2016-03-28T00:00:00",
          "2016-04-28T00:00:00",
          "2016-05-28T00:00:00",
          "2016-06-28T00:00:00",
          "2016-07-28T00:00:00",
          "2016-08-28T00:00:00",
          "2016-09-28T00:00:00",
          "2016-10-28T00:00:00",
          "2016-11-28T00:00:00",
          "2016-12-28T00:00:00",
          "2017-01-28T00:00:00",
          "2017-02-28T00:00:00",
          "2017-03-28T00:00:00",
          "2017-04-28T00:00:00",
          "2017-05-28T00:00:00",
          "2017-06-28T00:00:00",
          "2017-07-28T00:00:00",
          "2017-08-28T00:00:00",
          "2017-09-28T00:00:00",
          "2017-10-28T00:00:00",
          "2017-11-28T00:00:00",
          "2017-12-28T00:00:00",
          "2018-01-28T00:00:00",
          "2018-02-28T00:00:00",
          "2018-03-28T00:00:00",
          "2018-04-28T00:00:00",
          "2018-05-28T00:00:00",
          "2018-06-28T00:00:00",
          "2018-07-28T00:00:00",
          "2018-08-28T00:00:00",
          "2018-09-28T00:00:00",
          "2018-10-28T00:00:00",
          "2018-11-28T00:00:00",
          "2018-12-28T00:00:00",
          "2019-01-28T00:00:00",
          "2019-02-28T00:00:00",
          "2019-03-28T00:00:00",
          "2019-04-28T00:00:00",
          "2019-05-28T00:00:00",
          "2019-06-28T00:00:00",
          "2019-07-28T00:00:00",
          "2019-08-28T00:00:00",
          "2019-09-28T00:00:00",
          "2019-10-28T00:00:00",
          "2019-11-28T00:00:00",
          "2019-12-28T00:00:00",
          "2020-01-28T00:00:00",
          "2020-02-28T00:00:00",
          "2020-03-28T00:00:00",
          "2020-04-28T00:00:00",
          "2020-05-28T00:00:00",
          "2020-06-28T00:00:00",
          "2020-07-28T00:00:00",
          "2020-08-28T00:00:00",
          "2020-09-28T00:00:00",
          "2020-10-28T00:00:00",
          "2020-11-28T00:00:00",
          "2020-12-28T00:00:00",
          "2021-01-28T00:00:00",
          "2021-02-28T00:00:00",
          "2021-03-28T00:00:00",
          "2021-04-28T00:00:00",
          "2021-05-28T00:00:00",
          "2021-06-28T00:00:00",
          "2021-07-28T00:00:00",
          "2021-08-28T00:00:00",
          "2021-09-28T00:00:00",
          "2021-10-28T00:00:00",
          "2021-11-28T00:00:00",
          "2021-12-28T00:00:00",
          "2022-01-28T00:00:00",
          "2022-02-28T00:00:00",
          "2022-03-28T00:00:00",
          "2022-04-28T00:00:00",
          "2022-05-28T00:00:00",
          "2022-06-28T00:00:00",
          "2022-07-28T00:00:00",
          "2022-08-28T00:00:00",
          "2022-09-28T00:00:00",
          "2022-10-28T00:00:00",
          "2022-11-28T00:00:00",
          "2022-12-28T00:00:00",
          "2023-01-28T00:00:00",
          "2023-02-28T00:00:00",
          "2023-03-28T00:00:00",
          "2023-04-28T00:00:00",
          "2023-05-28T00:00:00",
          "2023-06-28T00:00:00",
          "2023-07-28T00:00:00",
          "2023-08-28T00:00:00",
          "2023-09-28T00:00:00",
          "2023-10-28T00:00:00",
          "2023-11-28T00:00:00",
          "2023-12-28T00:00:00",
          "2024-01-28T00:00:00",
          "2024-02-28T00:00:00",
          "2024-03-28T00:00:00",
          "2024-04-28T00:00:00",
          "2024-05-28T00:00:00"
         ],
         "y": [
          87444,
          88519,
          97956,
          95381,
          103261,
          96424,
          106636,
          84480,
          102280,
          76344,
          102681,
          115784,
          87639,
          82597,
          87617,
          83610,
          90377,
          92936,
          85101,
          105624,
          115786,
          95645,
          103783,
          134666,
          86167,
          95021,
          116030,
          119317,
          107888,
          110657,
          96589,
          112463,
          92483,
          104098,
          106008,
          142599,
          84556,
          101703,
          117205,
          106348,
          114800,
          106187,
          81343,
          114751,
          108918,
          130274,
          132655,
          142713,
          95389,
          101468,
          128923,
          114446,
          116558,
          97579,
          115869,
          120198,
          140298,
          122882,
          122732,
          132972,
          97019,
          95953,
          110905,
          103087,
          119655,
          119413,
          123878,
          105154,
          127327,
          146536,
          89626,
          136845,
          72937,
          78450,
          105046,
          96071,
          91937,
          61355,
          102236,
          110538,
          146903,
          142810,
          138372,
          202074,
          113615,
          118753,
          108670,
          42783,
          50936,
          190012,
          229357,
          170408,
          136744,
          119574,
          112483,
          105981,
          70587,
          81222,
          111241,
          95863,
          59166,
          134731,
          107785,
          141400,
          147143,
          137401,
          178814,
          226503,
          88306,
          97587,
          134170,
          133058,
          122768,
          150509,
          93902,
          123491,
          113402,
          102660,
          117806,
          207963,
          97708,
          80031,
          105476,
          85652,
          113276,
          83636,
          109548,
          122091,
          102656,
          93761,
          93514,
          138577,
          80308,
          93902,
          105394,
          75569,
          110588
         ]
        }
       ],
       "layout": {
        "height": 800,
        "hovermode": "x",
        "legend": {
         "font": {
          "family": "Verdana",
          "size": 12
         },
         "x": 0.99,
         "xanchor": "right",
         "y": 0.99,
         "yanchor": "top"
        },
        "margin": {
         "b": 110,
         "l": 110,
         "r": 20,
         "t": 100
        },
        "plot_bgcolor": "#f3f4f6",
        "template": {
         "data": {
          "bar": [
           {
            "error_x": {
             "color": "#2a3f5f"
            },
            "error_y": {
             "color": "#2a3f5f"
            },
            "marker": {
             "line": {
              "color": "#E5ECF6",
              "width": 0.5
             },
             "pattern": {
              "fillmode": "overlay",
              "size": 10,
              "solidity": 0.2
             }
            },
            "type": "bar"
           }
          ],
          "barpolar": [
           {
            "marker": {
             "line": {
              "color": "#E5ECF6",
              "width": 0.5
             },
             "pattern": {
              "fillmode": "overlay",
              "size": 10,
              "solidity": 0.2
             }
            },
            "type": "barpolar"
           }
          ],
          "carpet": [
           {
            "aaxis": {
             "endlinecolor": "#2a3f5f",
             "gridcolor": "white",
             "linecolor": "white",
             "minorgridcolor": "white",
             "startlinecolor": "#2a3f5f"
            },
            "baxis": {
             "endlinecolor": "#2a3f5f",
             "gridcolor": "white",
             "linecolor": "white",
             "minorgridcolor": "white",
             "startlinecolor": "#2a3f5f"
            },
            "type": "carpet"
           }
          ],
          "choropleth": [
           {
            "colorbar": {
             "outlinewidth": 0,
             "ticks": ""
            },
            "type": "choropleth"
           }
          ],
          "contour": [
           {
            "colorbar": {
             "outlinewidth": 0,
             "ticks": ""
            },
            "colorscale": [
             [
              0,
              "#0d0887"
             ],
             [
              0.1111111111111111,
              "#46039f"
             ],
             [
              0.2222222222222222,
              "#7201a8"
             ],
             [
              0.3333333333333333,
              "#9c179e"
             ],
             [
              0.4444444444444444,
              "#bd3786"
             ],
             [
              0.5555555555555556,
              "#d8576b"
             ],
             [
              0.6666666666666666,
              "#ed7953"
             ],
             [
              0.7777777777777778,
              "#fb9f3a"
             ],
             [
              0.8888888888888888,
              "#fdca26"
             ],
             [
              1,
              "#f0f921"
             ]
            ],
            "type": "contour"
           }
          ],
          "contourcarpet": [
           {
            "colorbar": {
             "outlinewidth": 0,
             "ticks": ""
            },
            "type": "contourcarpet"
           }
          ],
          "heatmap": [
           {
            "colorbar": {
             "outlinewidth": 0,
             "ticks": ""
            },
            "colorscale": [
             [
              0,
              "#0d0887"
             ],
             [
              0.1111111111111111,
              "#46039f"
             ],
             [
              0.2222222222222222,
              "#7201a8"
             ],
             [
              0.3333333333333333,
              "#9c179e"
             ],
             [
              0.4444444444444444,
              "#bd3786"
             ],
             [
              0.5555555555555556,
              "#d8576b"
             ],
             [
              0.6666666666666666,
              "#ed7953"
             ],
             [
              0.7777777777777778,
              "#fb9f3a"
             ],
             [
              0.8888888888888888,
              "#fdca26"
             ],
             [
              1,
              "#f0f921"
             ]
            ],
            "type": "heatmap"
           }
          ],
          "heatmapgl": [
           {
            "colorbar": {
             "outlinewidth": 0,
             "ticks": ""
            },
            "colorscale": [
             [
              0,
              "#0d0887"
             ],
             [
              0.1111111111111111,
              "#46039f"
             ],
             [
              0.2222222222222222,
              "#7201a8"
             ],
             [
              0.3333333333333333,
              "#9c179e"
             ],
             [
              0.4444444444444444,
              "#bd3786"
             ],
             [
              0.5555555555555556,
              "#d8576b"
             ],
             [
              0.6666666666666666,
              "#ed7953"
             ],
             [
              0.7777777777777778,
              "#fb9f3a"
             ],
             [
              0.8888888888888888,
              "#fdca26"
             ],
             [
              1,
              "#f0f921"
             ]
            ],
            "type": "heatmapgl"
           }
          ],
          "histogram": [
           {
            "marker": {
             "pattern": {
              "fillmode": "overlay",
              "size": 10,
              "solidity": 0.2
             }
            },
            "type": "histogram"
           }
          ],
          "histogram2d": [
           {
            "colorbar": {
             "outlinewidth": 0,
             "ticks": ""
            },
            "colorscale": [
             [
              0,
              "#0d0887"
             ],
             [
              0.1111111111111111,
              "#46039f"
             ],
             [
              0.2222222222222222,
              "#7201a8"
             ],
             [
              0.3333333333333333,
              "#9c179e"
             ],
             [
              0.4444444444444444,
              "#bd3786"
             ],
             [
              0.5555555555555556,
              "#d8576b"
             ],
             [
              0.6666666666666666,
              "#ed7953"
             ],
             [
              0.7777777777777778,
              "#fb9f3a"
             ],
             [
              0.8888888888888888,
              "#fdca26"
             ],
             [
              1,
              "#f0f921"
             ]
            ],
            "type": "histogram2d"
           }
          ],
          "histogram2dcontour": [
           {
            "colorbar": {
             "outlinewidth": 0,
             "ticks": ""
            },
            "colorscale": [
             [
              0,
              "#0d0887"
             ],
             [
              0.1111111111111111,
              "#46039f"
             ],
             [
              0.2222222222222222,
              "#7201a8"
             ],
             [
              0.3333333333333333,
              "#9c179e"
             ],
             [
              0.4444444444444444,
              "#bd3786"
             ],
             [
              0.5555555555555556,
              "#d8576b"
             ],
             [
              0.6666666666666666,
              "#ed7953"
             ],
             [
              0.7777777777777778,
              "#fb9f3a"
             ],
             [
              0.8888888888888888,
              "#fdca26"
             ],
             [
              1,
              "#f0f921"
             ]
            ],
            "type": "histogram2dcontour"
           }
          ],
          "mesh3d": [
           {
            "colorbar": {
             "outlinewidth": 0,
             "ticks": ""
            },
            "type": "mesh3d"
           }
          ],
          "parcoords": [
           {
            "line": {
             "colorbar": {
              "outlinewidth": 0,
              "ticks": ""
             }
            },
            "type": "parcoords"
           }
          ],
          "pie": [
           {
            "automargin": true,
            "type": "pie"
           }
          ],
          "scatter": [
           {
            "fillpattern": {
             "fillmode": "overlay",
             "size": 10,
             "solidity": 0.2
            },
            "type": "scatter"
           }
          ],
          "scatter3d": [
           {
            "line": {
             "colorbar": {
              "outlinewidth": 0,
              "ticks": ""
             }
            },
            "marker": {
             "colorbar": {
              "outlinewidth": 0,
              "ticks": ""
             }
            },
            "type": "scatter3d"
           }
          ],
          "scattercarpet": [
           {
            "marker": {
             "colorbar": {
              "outlinewidth": 0,
              "ticks": ""
             }
            },
            "type": "scattercarpet"
           }
          ],
          "scattergeo": [
           {
            "marker": {
             "colorbar": {
              "outlinewidth": 0,
              "ticks": ""
             }
            },
            "type": "scattergeo"
           }
          ],
          "scattergl": [
           {
            "marker": {
             "colorbar": {
              "outlinewidth": 0,
              "ticks": ""
             }
            },
            "type": "scattergl"
           }
          ],
          "scattermapbox": [
           {
            "marker": {
             "colorbar": {
              "outlinewidth": 0,
              "ticks": ""
             }
            },
            "type": "scattermapbox"
           }
          ],
          "scatterpolar": [
           {
            "marker": {
             "colorbar": {
              "outlinewidth": 0,
              "ticks": ""
             }
            },
            "type": "scatterpolar"
           }
          ],
          "scatterpolargl": [
           {
            "marker": {
             "colorbar": {
              "outlinewidth": 0,
              "ticks": ""
             }
            },
            "type": "scatterpolargl"
           }
          ],
          "scatterternary": [
           {
            "marker": {
             "colorbar": {
              "outlinewidth": 0,
              "ticks": ""
             }
            },
            "type": "scatterternary"
           }
          ],
          "surface": [
           {
            "colorbar": {
             "outlinewidth": 0,
             "ticks": ""
            },
            "colorscale": [
             [
              0,
              "#0d0887"
             ],
             [
              0.1111111111111111,
              "#46039f"
             ],
             [
              0.2222222222222222,
              "#7201a8"
             ],
             [
              0.3333333333333333,
              "#9c179e"
             ],
             [
              0.4444444444444444,
              "#bd3786"
             ],
             [
              0.5555555555555556,
              "#d8576b"
             ],
             [
              0.6666666666666666,
              "#ed7953"
             ],
             [
              0.7777777777777778,
              "#fb9f3a"
             ],
             [
              0.8888888888888888,
              "#fdca26"
             ],
             [
              1,
              "#f0f921"
             ]
            ],
            "type": "surface"
           }
          ],
          "table": [
           {
            "cells": {
             "fill": {
              "color": "#EBF0F8"
             },
             "line": {
              "color": "white"
             }
            },
            "header": {
             "fill": {
              "color": "#C8D4E3"
             },
             "line": {
              "color": "white"
             }
            },
            "type": "table"
           }
          ]
         },
         "layout": {
          "annotationdefaults": {
           "arrowcolor": "#2a3f5f",
           "arrowhead": 0,
           "arrowwidth": 1
          },
          "autotypenumbers": "strict",
          "coloraxis": {
           "colorbar": {
            "outlinewidth": 0,
            "ticks": ""
           }
          },
          "colorscale": {
           "diverging": [
            [
             0,
             "#8e0152"
            ],
            [
             0.1,
             "#c51b7d"
            ],
            [
             0.2,
             "#de77ae"
            ],
            [
             0.3,
             "#f1b6da"
            ],
            [
             0.4,
             "#fde0ef"
            ],
            [
             0.5,
             "#f7f7f7"
            ],
            [
             0.6,
             "#e6f5d0"
            ],
            [
             0.7,
             "#b8e186"
            ],
            [
             0.8,
             "#7fbc41"
            ],
            [
             0.9,
             "#4d9221"
            ],
            [
             1,
             "#276419"
            ]
           ],
           "sequential": [
            [
             0,
             "#0d0887"
            ],
            [
             0.1111111111111111,
             "#46039f"
            ],
            [
             0.2222222222222222,
             "#7201a8"
            ],
            [
             0.3333333333333333,
             "#9c179e"
            ],
            [
             0.4444444444444444,
             "#bd3786"
            ],
            [
             0.5555555555555556,
             "#d8576b"
            ],
            [
             0.6666666666666666,
             "#ed7953"
            ],
            [
             0.7777777777777778,
             "#fb9f3a"
            ],
            [
             0.8888888888888888,
             "#fdca26"
            ],
            [
             1,
             "#f0f921"
            ]
           ],
           "sequentialminus": [
            [
             0,
             "#0d0887"
            ],
            [
             0.1111111111111111,
             "#46039f"
            ],
            [
             0.2222222222222222,
             "#7201a8"
            ],
            [
             0.3333333333333333,
             "#9c179e"
            ],
            [
             0.4444444444444444,
             "#bd3786"
            ],
            [
             0.5555555555555556,
             "#d8576b"
            ],
            [
             0.6666666666666666,
             "#ed7953"
            ],
            [
             0.7777777777777778,
             "#fb9f3a"
            ],
            [
             0.8888888888888888,
             "#fdca26"
            ],
            [
             1,
             "#f0f921"
            ]
           ]
          },
          "colorway": [
           "#636efa",
           "#EF553B",
           "#00cc96",
           "#ab63fa",
           "#FFA15A",
           "#19d3f3",
           "#FF6692",
           "#B6E880",
           "#FF97FF",
           "#FECB52"
          ],
          "font": {
           "color": "#2a3f5f"
          },
          "geo": {
           "bgcolor": "white",
           "lakecolor": "white",
           "landcolor": "#E5ECF6",
           "showlakes": true,
           "showland": true,
           "subunitcolor": "white"
          },
          "hoverlabel": {
           "align": "left"
          },
          "hovermode": "closest",
          "mapbox": {
           "style": "light"
          },
          "paper_bgcolor": "white",
          "plot_bgcolor": "#E5ECF6",
          "polar": {
           "angularaxis": {
            "gridcolor": "white",
            "linecolor": "white",
            "ticks": ""
           },
           "bgcolor": "#E5ECF6",
           "radialaxis": {
            "gridcolor": "white",
            "linecolor": "white",
            "ticks": ""
           }
          },
          "scene": {
           "xaxis": {
            "backgroundcolor": "#E5ECF6",
            "gridcolor": "white",
            "gridwidth": 2,
            "linecolor": "white",
            "showbackground": true,
            "ticks": "",
            "zerolinecolor": "white"
           },
           "yaxis": {
            "backgroundcolor": "#E5ECF6",
            "gridcolor": "white",
            "gridwidth": 2,
            "linecolor": "white",
            "showbackground": true,
            "ticks": "",
            "zerolinecolor": "white"
           },
           "zaxis": {
            "backgroundcolor": "#E5ECF6",
            "gridcolor": "white",
            "gridwidth": 2,
            "linecolor": "white",
            "showbackground": true,
            "ticks": "",
            "zerolinecolor": "white"
           }
          },
          "shapedefaults": {
           "line": {
            "color": "#2a3f5f"
           }
          },
          "ternary": {
           "aaxis": {
            "gridcolor": "white",
            "linecolor": "white",
            "ticks": ""
           },
           "baxis": {
            "gridcolor": "white",
            "linecolor": "white",
            "ticks": ""
           },
           "bgcolor": "#E5ECF6",
           "caxis": {
            "gridcolor": "white",
            "linecolor": "white",
            "ticks": ""
           }
          },
          "title": {
           "x": 0.05
          },
          "xaxis": {
           "automargin": true,
           "gridcolor": "white",
           "linecolor": "white",
           "ticks": "",
           "title": {
            "standoff": 15
           },
           "zerolinecolor": "white",
           "zerolinewidth": 2
          },
          "yaxis": {
           "automargin": true,
           "gridcolor": "white",
           "linecolor": "white",
           "ticks": "",
           "title": {
            "standoff": 15
           },
           "zerolinecolor": "white",
           "zerolinewidth": 2
          }
         }
        },
        "title": {
         "font": {
          "family": "Verdana",
          "size": 30,
          "weight": "bold"
         },
         "text": "Ülkede Toplam Konut Satış (2013-2024)"
        },
        "xaxis": {
         "gridcolor": "lightgray",
         "range": [
          "2013-01-26T00:00:00",
          "2024-06-17T00:00:00"
         ],
         "showgrid": true,
         "tickangle": -45,
         "tickfont": {
          "family": "Verdana",
          "size": 12
         },
         "title": {
          "font": {
           "color": "black",
           "family": "Verdana",
           "size": 20,
           "weight": "bold"
          },
          "text": "Tarih"
         }
        },
        "yaxis": {
         "gridcolor": "lightgray",
         "range": [
          0,
          275228.39999999997
         ],
         "showgrid": true,
         "tickfont": {
          "family": "Verdana",
          "size": 12
         },
         "tickformat": ",",
         "title": {
          "font": {
           "color": "black",
           "family": "Verdana",
           "size": 20,
           "weight": "bold"
          },
          "text": "Toplam"
         }
        }
       }
      }
     },
     "metadata": {},
     "output_type": "display_data"
    }
   ],
   "source": [
    "df_totals_total, df_totals_cities, df_granular, df_granular_cities = sales_by_cities_df()\n",
    "total_sales_plot(df_granular).show()"
   ]
  },
  {
   "cell_type": "markdown",
   "metadata": {},
   "source": [
    "# MAHALLE MAPPING"
   ]
  },
  {
   "cell_type": "code",
   "execution_count": 66,
   "metadata": {},
   "outputs": [],
   "source": [
    "with open('./cities.json', 'r', encoding='utf-8') as file:\n",
    "    json_data = file.read()"
   ]
  },
  {
   "cell_type": "code",
   "execution_count": 143,
   "metadata": {},
   "outputs": [],
   "source": [
    "turkish_to_english = {\n",
    "    'ç': 'c', 'ğ': 'g', 'ı': 'i', 'ö': 'o', 'ş': 's', 'ü': 'u', \"i̇\": \"i\",\n",
    "    'Ç': 'C', 'Ğ': 'G', 'İ': 'I', 'Ö': 'O', 'Ş': 'S', 'Ü': 'U', \".\": \"\"\n",
    "}\n",
    "def replace_turkish_chars(text):\n",
    "    text = text.lower()\n",
    "    for turkish_char, english_char in turkish_to_english.items():\n",
    "        text = text.replace(turkish_char, english_char)\n",
    "    return text"
   ]
  },
  {
   "cell_type": "code",
   "execution_count": 144,
   "metadata": {},
   "outputs": [
    {
     "data": {
      "text/html": [
       "<div>\n",
       "<style scoped>\n",
       "    .dataframe tbody tr th:only-of-type {\n",
       "        vertical-align: middle;\n",
       "    }\n",
       "\n",
       "    .dataframe tbody tr th {\n",
       "        vertical-align: top;\n",
       "    }\n",
       "\n",
       "    .dataframe thead th {\n",
       "        text-align: right;\n",
       "    }\n",
       "</style>\n",
       "<table border=\"1\" class=\"dataframe\">\n",
       "  <thead>\n",
       "    <tr style=\"text-align: right;\">\n",
       "      <th></th>\n",
       "      <th>il kayit no</th>\n",
       "      <th>ilçe kayit no</th>\n",
       "      <th>mahalle kayit no</th>\n",
       "      <th>il adi</th>\n",
       "      <th>ilçe adi</th>\n",
       "      <th>mahalle adi</th>\n",
       "      <th>il adi cleaned</th>\n",
       "      <th>ilçe adi cleaned</th>\n",
       "      <th>mahalle adi cleaned</th>\n",
       "      <th>erkek</th>\n",
       "      <th>kadin</th>\n",
       "    </tr>\n",
       "  </thead>\n",
       "  <tbody>\n",
       "    <tr>\n",
       "      <th>0</th>\n",
       "      <td>1</td>\n",
       "      <td>1104</td>\n",
       "      <td>1</td>\n",
       "      <td>ADANA</td>\n",
       "      <td>SEYHAN</td>\n",
       "      <td>AHMET REMZİ YÜREĞİR</td>\n",
       "      <td>adana</td>\n",
       "      <td>seyhan</td>\n",
       "      <td>ahmet remzi yuregir</td>\n",
       "      <td>580</td>\n",
       "      <td>580</td>\n",
       "    </tr>\n",
       "    <tr>\n",
       "      <th>1</th>\n",
       "      <td>1</td>\n",
       "      <td>1104</td>\n",
       "      <td>2</td>\n",
       "      <td>ADANA</td>\n",
       "      <td>SEYHAN</td>\n",
       "      <td>AKKAPI</td>\n",
       "      <td>adana</td>\n",
       "      <td>seyhan</td>\n",
       "      <td>akkapi</td>\n",
       "      <td>10466</td>\n",
       "      <td>10368</td>\n",
       "    </tr>\n",
       "    <tr>\n",
       "      <th>2</th>\n",
       "      <td>1</td>\n",
       "      <td>1104</td>\n",
       "      <td>3</td>\n",
       "      <td>ADANA</td>\n",
       "      <td>SEYHAN</td>\n",
       "      <td>ALİDEDE</td>\n",
       "      <td>adana</td>\n",
       "      <td>seyhan</td>\n",
       "      <td>alidede</td>\n",
       "      <td>641</td>\n",
       "      <td>612</td>\n",
       "    </tr>\n",
       "    <tr>\n",
       "      <th>3</th>\n",
       "      <td>1</td>\n",
       "      <td>1104</td>\n",
       "      <td>4</td>\n",
       "      <td>ADANA</td>\n",
       "      <td>SEYHAN</td>\n",
       "      <td>AYDINLAR</td>\n",
       "      <td>adana</td>\n",
       "      <td>seyhan</td>\n",
       "      <td>aydinlar</td>\n",
       "      <td>5875</td>\n",
       "      <td>5724</td>\n",
       "    </tr>\n",
       "    <tr>\n",
       "      <th>4</th>\n",
       "      <td>1</td>\n",
       "      <td>1104</td>\n",
       "      <td>5</td>\n",
       "      <td>ADANA</td>\n",
       "      <td>SEYHAN</td>\n",
       "      <td>BAHÇELİEVLER</td>\n",
       "      <td>adana</td>\n",
       "      <td>seyhan</td>\n",
       "      <td>bahcelievler</td>\n",
       "      <td>1919</td>\n",
       "      <td>1958</td>\n",
       "    </tr>\n",
       "  </tbody>\n",
       "</table>\n",
       "</div>"
      ],
      "text/plain": [
       "   il kayit no  ilçe kayit no  mahalle kayit no il adi ilçe adi  \\\n",
       "0            1           1104                 1  ADANA   SEYHAN   \n",
       "1            1           1104                 2  ADANA   SEYHAN   \n",
       "2            1           1104                 3  ADANA   SEYHAN   \n",
       "3            1           1104                 4  ADANA   SEYHAN   \n",
       "4            1           1104                 5  ADANA   SEYHAN   \n",
       "\n",
       "           mahalle adi il adi cleaned ilçe adi cleaned  mahalle adi cleaned  \\\n",
       "0  AHMET REMZİ YÜREĞİR          adana           seyhan  ahmet remzi yuregir   \n",
       "1               AKKAPI          adana           seyhan               akkapi   \n",
       "2              ALİDEDE          adana           seyhan              alidede   \n",
       "3             AYDINLAR          adana           seyhan             aydinlar   \n",
       "4         BAHÇELİEVLER          adana           seyhan         bahcelievler   \n",
       "\n",
       "   erkek  kadin  \n",
       "0    580    580  \n",
       "1  10466  10368  \n",
       "2    641    612  \n",
       "3   5875   5724  \n",
       "4   1919   1958  "
      ]
     },
     "execution_count": 144,
     "metadata": {},
     "output_type": "execute_result"
    }
   ],
   "source": [
    "def population_df():\n",
    "    df_p = pd.read_excel(\"./datasets/nüfus.xlsx\",  sheet_name=\"MAHALLE NÜFUSU\", index_col=0)\n",
    "    cols = ['il kayit no', 'ilçe kayit no', 'belde/köy kayit no', 'mahalle kayit no',\n",
    "    'il adi', 'ilçe adi', 'belediye adi', 'mahalle adi', 'mahallenin bağli olduğu belediyenin niteliği',\n",
    "    'toplam', 'erkek', 'kadin']\n",
    "    df_p.columns = cols\n",
    "\n",
    "    # df_p_cities[(df_p_cities[\"mahalle adi\"]==\" \".join(\"2000 Evler Mh.\".split()[:-1]).upper()) & (df_p_cities[\"ilçe adi\"]==\"seyhan\".upper())] #for query\n",
    "\n",
    "    df_p = df_p[['il kayit no', 'ilçe kayit no', 'mahalle kayit no', \"il adi\", \"ilçe adi\", \"mahalle adi\", \"erkek\", \"kadin\"]]\n",
    "    df_p.erkek = df_p.erkek.replace(\"C\", \"0\").astype(int)\n",
    "    df_p.kadin = df_p.kadin.replace(\"C\", \"0\")\n",
    "    df_p.kadin = df_p.kadin.replace(\"-\", \"0\").astype(int)\n",
    "    for col in [\"il adi\", \"ilçe adi\", \"mahalle adi\"]:\n",
    "        df_p[col + \" cleaned\"] = df_p[col].apply(lambda x: replace_turkish_chars(str(x)))\n",
    "    \n",
    "    \n",
    "    \n",
    "\n",
    "    df_p = df_p.groupby(['il kayit no', 'ilçe kayit no', 'mahalle kayit no', \"il adi\", \"ilçe adi\", \"mahalle adi\", \"il adi cleaned\", \"ilçe adi cleaned\", \"mahalle adi cleaned\"])[[\"erkek\", \"kadin\"]].sum().reset_index()\n",
    "\n",
    "    return df_p\n",
    "df = population_df()\n",
    "df.head()"
   ]
  },
  {
   "cell_type": "code",
   "execution_count": 145,
   "metadata": {},
   "outputs": [],
   "source": [
    "reference_data = json.loads(json_data)\n",
    "for city in reference_data:\n",
    "    city[\"name\"] = replace_turkish_chars(city[\"name\"])\n",
    "    for town in city[\"towns\"]:\n",
    "        town[\"name\"] = replace_turkish_chars(town[\"name\"])\n",
    "\n",
    "        for quarter in town[\"quarters\"]:\n",
    "            quarter[\"name\"] = replace_turkish_chars(quarter[\"name\"])\n",
    "            if (\"mh\" in quarter[\"name\"]) or (\"mah\" in quarter[\"name\"]) or (\"mahalle\" in quarter[\"name\"]) or (\"bld\" in quarter[\"name\"]):\n",
    "                quarter[\"name\"] = \" \".join(quarter[\"name\"].split()[:-1])"
   ]
  },
  {
   "cell_type": "code",
   "execution_count": 146,
   "metadata": {},
   "outputs": [],
   "source": [
    "\n",
    "# Helper function to find the IDs from the reference data\n",
    "def find_ids(city_name, town_name=None, quarter_name=None):\n",
    "    city_id, town_id, quarter_id = None, None, None\n",
    "    for city in reference_data:\n",
    "        if city['name'] == city_name:\n",
    "            city_id = city['id']\n",
    "\n",
    "            for town in city['towns']:\n",
    "                if town['name'] == town_name:\n",
    "                    town_id = town['id']\n",
    "\n",
    "                    for quarter in town['quarters']:\n",
    "                        if quarter['name'] == quarter_name:\n",
    "                            quarter_id = quarter['id']\n",
    "                            return city_id, town_id, quarter_id\n",
    "    return city_id, town_id, quarter_id\n",
    "    \n",
    "\n",
    "# Update the DataFrame with IDs\n",
    "for idx, row in df.iterrows():\n",
    "    city_name = row['il adi cleaned']\n",
    "    town_name = row['ilçe adi cleaned']\n",
    "    quarter_name = row['mahalle adi cleaned']\n",
    "    city_id, town_id, quarter_id = find_ids(city_name, town_name, quarter_name)\n",
    "    df.at[idx, 'il kayit no'] = -1 if city_id is None else city_id\n",
    "    df.at[idx, 'ilçe kayit no'] = -2 if town_id is None else town_id\n",
    "    df.at[idx, 'mahalle kayit no'] = -3 if quarter_id is None else quarter_id\n",
    "\n"
   ]
  },
  {
   "cell_type": "code",
   "execution_count": 147,
   "metadata": {},
   "outputs": [
    {
     "data": {
      "text/html": [
       "<div>\n",
       "<style scoped>\n",
       "    .dataframe tbody tr th:only-of-type {\n",
       "        vertical-align: middle;\n",
       "    }\n",
       "\n",
       "    .dataframe tbody tr th {\n",
       "        vertical-align: top;\n",
       "    }\n",
       "\n",
       "    .dataframe thead th {\n",
       "        text-align: right;\n",
       "    }\n",
       "</style>\n",
       "<table border=\"1\" class=\"dataframe\">\n",
       "  <thead>\n",
       "    <tr style=\"text-align: right;\">\n",
       "      <th></th>\n",
       "      <th>il kayit no</th>\n",
       "      <th>ilçe kayit no</th>\n",
       "      <th>mahalle kayit no</th>\n",
       "      <th>il adi</th>\n",
       "      <th>ilçe adi</th>\n",
       "      <th>mahalle adi</th>\n",
       "      <th>il adi cleaned</th>\n",
       "      <th>ilçe adi cleaned</th>\n",
       "      <th>mahalle adi cleaned</th>\n",
       "      <th>erkek</th>\n",
       "      <th>kadin</th>\n",
       "    </tr>\n",
       "  </thead>\n",
       "  <tbody>\n",
       "    <tr>\n",
       "      <th>32120</th>\n",
       "      <td>81</td>\n",
       "      <td>957</td>\n",
       "      <td>51224</td>\n",
       "      <td>DÜZCE</td>\n",
       "      <td>KAYNAŞLI</td>\n",
       "      <td>KARAÇALI</td>\n",
       "      <td>duzce</td>\n",
       "      <td>kaynasli</td>\n",
       "      <td>karacali</td>\n",
       "      <td>1030</td>\n",
       "      <td>1054</td>\n",
       "    </tr>\n",
       "    <tr>\n",
       "      <th>32121</th>\n",
       "      <td>81</td>\n",
       "      <td>957</td>\n",
       "      <td>51229</td>\n",
       "      <td>DÜZCE</td>\n",
       "      <td>KAYNAŞLI</td>\n",
       "      <td>KUMLUCA</td>\n",
       "      <td>duzce</td>\n",
       "      <td>kaynasli</td>\n",
       "      <td>kumluca</td>\n",
       "      <td>578</td>\n",
       "      <td>584</td>\n",
       "    </tr>\n",
       "    <tr>\n",
       "      <th>32122</th>\n",
       "      <td>81</td>\n",
       "      <td>957</td>\n",
       "      <td>51223</td>\n",
       "      <td>DÜZCE</td>\n",
       "      <td>KAYNAŞLI</td>\n",
       "      <td>MERKEZ</td>\n",
       "      <td>duzce</td>\n",
       "      <td>kaynasli</td>\n",
       "      <td>merkez</td>\n",
       "      <td>1193</td>\n",
       "      <td>1132</td>\n",
       "    </tr>\n",
       "    <tr>\n",
       "      <th>32123</th>\n",
       "      <td>81</td>\n",
       "      <td>957</td>\n",
       "      <td>56566</td>\n",
       "      <td>DÜZCE</td>\n",
       "      <td>KAYNAŞLI</td>\n",
       "      <td>SARIYER</td>\n",
       "      <td>duzce</td>\n",
       "      <td>kaynasli</td>\n",
       "      <td>sariyer</td>\n",
       "      <td>855</td>\n",
       "      <td>883</td>\n",
       "    </tr>\n",
       "    <tr>\n",
       "      <th>32124</th>\n",
       "      <td>81</td>\n",
       "      <td>957</td>\n",
       "      <td>51230</td>\n",
       "      <td>DÜZCE</td>\n",
       "      <td>KAYNAŞLI</td>\n",
       "      <td>ŞİMŞİR</td>\n",
       "      <td>duzce</td>\n",
       "      <td>kaynasli</td>\n",
       "      <td>simsir</td>\n",
       "      <td>387</td>\n",
       "      <td>387</td>\n",
       "    </tr>\n",
       "  </tbody>\n",
       "</table>\n",
       "</div>"
      ],
      "text/plain": [
       "       il kayit no  ilçe kayit no  mahalle kayit no il adi  ilçe adi  \\\n",
       "32120           81            957             51224  DÜZCE  KAYNAŞLI   \n",
       "32121           81            957             51229  DÜZCE  KAYNAŞLI   \n",
       "32122           81            957             51223  DÜZCE  KAYNAŞLI   \n",
       "32123           81            957             56566  DÜZCE  KAYNAŞLI   \n",
       "32124           81            957             51230  DÜZCE  KAYNAŞLI   \n",
       "\n",
       "      mahalle adi il adi cleaned ilçe adi cleaned mahalle adi cleaned  erkek  \\\n",
       "32120    KARAÇALI          duzce         kaynasli            karacali   1030   \n",
       "32121     KUMLUCA          duzce         kaynasli             kumluca    578   \n",
       "32122      MERKEZ          duzce         kaynasli              merkez   1193   \n",
       "32123     SARIYER          duzce         kaynasli             sariyer    855   \n",
       "32124      ŞİMŞİR          duzce         kaynasli              simsir    387   \n",
       "\n",
       "       kadin  \n",
       "32120   1054  \n",
       "32121    584  \n",
       "32122   1132  \n",
       "32123    883  \n",
       "32124    387  "
      ]
     },
     "execution_count": 147,
     "metadata": {},
     "output_type": "execute_result"
    }
   ],
   "source": [
    "df.tail()"
   ]
  },
  {
   "cell_type": "code",
   "execution_count": 134,
   "metadata": {},
   "outputs": [
    {
     "data": {
      "text/plain": [
       "False"
      ]
     },
     "execution_count": 134,
     "metadata": {},
     "output_type": "execute_result"
    }
   ],
   "source": [
    "\"ahmet remzi yuregir\" == \"ahmet remzi̇ yuregi̇r\""
   ]
  },
  {
   "cell_type": "code",
   "execution_count": 148,
   "metadata": {},
   "outputs": [
    {
     "data": {
      "text/plain": [
       "False"
      ]
     },
     "execution_count": 148,
     "metadata": {},
     "output_type": "execute_result"
    }
   ],
   "source": [
    "-1 in df[\"il kayit no\"].to_list()\n"
   ]
  },
  {
   "cell_type": "code",
   "execution_count": 149,
   "metadata": {},
   "outputs": [
    {
     "data": {
      "text/plain": [
       "False"
      ]
     },
     "execution_count": 149,
     "metadata": {},
     "output_type": "execute_result"
    }
   ],
   "source": [
    "-2 in df[\"ilçe kayit no\"].to_list()\n"
   ]
  },
  {
   "cell_type": "code",
   "execution_count": 150,
   "metadata": {},
   "outputs": [
    {
     "data": {
      "text/plain": [
       "True"
      ]
     },
     "execution_count": 150,
     "metadata": {},
     "output_type": "execute_result"
    }
   ],
   "source": [
    "-3 in df[\"mahalle kayit no\"].to_list()\n"
   ]
  },
  {
   "cell_type": "code",
   "execution_count": 151,
   "metadata": {},
   "outputs": [
    {
     "name": "stdout",
     "output_type": "stream",
     "text": [
      "Number of rows where 'mahalle kayit no' is -3: 5269\n"
     ]
    }
   ],
   "source": [
    "# Count rows where \"mahalle kayit no\" is -3\n",
    "mahalle_kayit_no_minus_3 = df[df['mahalle kayit no'] == -3]\n",
    "count_mahalle_kayit_no_minus_3 = mahalle_kayit_no_minus_3.shape[0]\n",
    "\n",
    "print(f\"Number of rows where 'mahalle kayit no' is -3: {count_mahalle_kayit_no_minus_3}\")\n"
   ]
  },
  {
   "cell_type": "code",
   "execution_count": 152,
   "metadata": {},
   "outputs": [
    {
     "data": {
      "text/html": [
       "<div>\n",
       "<style scoped>\n",
       "    .dataframe tbody tr th:only-of-type {\n",
       "        vertical-align: middle;\n",
       "    }\n",
       "\n",
       "    .dataframe tbody tr th {\n",
       "        vertical-align: top;\n",
       "    }\n",
       "\n",
       "    .dataframe thead th {\n",
       "        text-align: right;\n",
       "    }\n",
       "</style>\n",
       "<table border=\"1\" class=\"dataframe\">\n",
       "  <thead>\n",
       "    <tr style=\"text-align: right;\">\n",
       "      <th></th>\n",
       "      <th>il kayit no</th>\n",
       "      <th>ilçe kayit no</th>\n",
       "      <th>mahalle kayit no</th>\n",
       "      <th>il adi</th>\n",
       "      <th>ilçe adi</th>\n",
       "      <th>mahalle adi</th>\n",
       "      <th>il adi cleaned</th>\n",
       "      <th>ilçe adi cleaned</th>\n",
       "      <th>mahalle adi cleaned</th>\n",
       "      <th>erkek</th>\n",
       "      <th>kadin</th>\n",
       "    </tr>\n",
       "  </thead>\n",
       "  <tbody>\n",
       "    <tr>\n",
       "      <th>94</th>\n",
       "      <td>1</td>\n",
       "      <td>1</td>\n",
       "      <td>-3</td>\n",
       "      <td>ADANA</td>\n",
       "      <td>SEYHAN</td>\n",
       "      <td>MEKAN</td>\n",
       "      <td>adana</td>\n",
       "      <td>seyhan</td>\n",
       "      <td>mekan</td>\n",
       "      <td>607</td>\n",
       "      <td>598</td>\n",
       "    </tr>\n",
       "    <tr>\n",
       "      <th>363</th>\n",
       "      <td>1</td>\n",
       "      <td>11</td>\n",
       "      <td>-3</td>\n",
       "      <td>ADANA</td>\n",
       "      <td>KOZAN</td>\n",
       "      <td>HACIUŞAĞI</td>\n",
       "      <td>adana</td>\n",
       "      <td>kozan</td>\n",
       "      <td>haciusagi</td>\n",
       "      <td>250</td>\n",
       "      <td>243</td>\n",
       "    </tr>\n",
       "    <tr>\n",
       "      <th>388</th>\n",
       "      <td>1</td>\n",
       "      <td>11</td>\n",
       "      <td>-3</td>\n",
       "      <td>ADANA</td>\n",
       "      <td>KOZAN</td>\n",
       "      <td>BUCAK</td>\n",
       "      <td>adana</td>\n",
       "      <td>kozan</td>\n",
       "      <td>bucak</td>\n",
       "      <td>528</td>\n",
       "      <td>494</td>\n",
       "    </tr>\n",
       "    <tr>\n",
       "      <th>492</th>\n",
       "      <td>1</td>\n",
       "      <td>13</td>\n",
       "      <td>-3</td>\n",
       "      <td>ADANA</td>\n",
       "      <td>SAİMBEYLİ</td>\n",
       "      <td>CIVIKLI</td>\n",
       "      <td>adana</td>\n",
       "      <td>saimbeyli</td>\n",
       "      <td>civikli</td>\n",
       "      <td>123</td>\n",
       "      <td>127</td>\n",
       "    </tr>\n",
       "    <tr>\n",
       "      <th>708</th>\n",
       "      <td>1</td>\n",
       "      <td>8</td>\n",
       "      <td>-3</td>\n",
       "      <td>ADANA</td>\n",
       "      <td>İMAMOĞLU</td>\n",
       "      <td>ADALET</td>\n",
       "      <td>adana</td>\n",
       "      <td>imamoglu</td>\n",
       "      <td>adalet</td>\n",
       "      <td>1032</td>\n",
       "      <td>983</td>\n",
       "    </tr>\n",
       "    <tr>\n",
       "      <th>...</th>\n",
       "      <td>...</td>\n",
       "      <td>...</td>\n",
       "      <td>...</td>\n",
       "      <td>...</td>\n",
       "      <td>...</td>\n",
       "      <td>...</td>\n",
       "      <td>...</td>\n",
       "      <td>...</td>\n",
       "      <td>...</td>\n",
       "      <td>...</td>\n",
       "      <td>...</td>\n",
       "    </tr>\n",
       "    <tr>\n",
       "      <th>32082</th>\n",
       "      <td>81</td>\n",
       "      <td>951</td>\n",
       "      <td>-3</td>\n",
       "      <td>DÜZCE</td>\n",
       "      <td>MERKEZ</td>\n",
       "      <td>ORHANGAZİ</td>\n",
       "      <td>duzce</td>\n",
       "      <td>merkez</td>\n",
       "      <td>orhangazi</td>\n",
       "      <td>2218</td>\n",
       "      <td>1005</td>\n",
       "    </tr>\n",
       "    <tr>\n",
       "      <th>32083</th>\n",
       "      <td>81</td>\n",
       "      <td>951</td>\n",
       "      <td>-3</td>\n",
       "      <td>DÜZCE</td>\n",
       "      <td>MERKEZ</td>\n",
       "      <td>BEYTEPE</td>\n",
       "      <td>duzce</td>\n",
       "      <td>merkez</td>\n",
       "      <td>beytepe</td>\n",
       "      <td>1009</td>\n",
       "      <td>1000</td>\n",
       "    </tr>\n",
       "    <tr>\n",
       "      <th>32084</th>\n",
       "      <td>81</td>\n",
       "      <td>951</td>\n",
       "      <td>-3</td>\n",
       "      <td>DÜZCE</td>\n",
       "      <td>MERKEZ</td>\n",
       "      <td>DEĞİRMENBAŞI</td>\n",
       "      <td>duzce</td>\n",
       "      <td>merkez</td>\n",
       "      <td>degirmenbasi</td>\n",
       "      <td>410</td>\n",
       "      <td>409</td>\n",
       "    </tr>\n",
       "    <tr>\n",
       "      <th>32085</th>\n",
       "      <td>81</td>\n",
       "      <td>951</td>\n",
       "      <td>-3</td>\n",
       "      <td>DÜZCE</td>\n",
       "      <td>MERKEZ</td>\n",
       "      <td>SOĞUKPINAR</td>\n",
       "      <td>duzce</td>\n",
       "      <td>merkez</td>\n",
       "      <td>sogukpinar</td>\n",
       "      <td>426</td>\n",
       "      <td>401</td>\n",
       "    </tr>\n",
       "    <tr>\n",
       "      <th>32088</th>\n",
       "      <td>81</td>\n",
       "      <td>958</td>\n",
       "      <td>-3</td>\n",
       "      <td>DÜZCE</td>\n",
       "      <td>YIĞILCA</td>\n",
       "      <td>MAREŞAL FEVZİ  ÇAKMAK</td>\n",
       "      <td>duzce</td>\n",
       "      <td>yigilca</td>\n",
       "      <td>maresal fevzi  cakmak</td>\n",
       "      <td>210</td>\n",
       "      <td>188</td>\n",
       "    </tr>\n",
       "  </tbody>\n",
       "</table>\n",
       "<p>5269 rows × 11 columns</p>\n",
       "</div>"
      ],
      "text/plain": [
       "       il kayit no  ilçe kayit no  mahalle kayit no il adi   ilçe adi  \\\n",
       "94               1              1                -3  ADANA     SEYHAN   \n",
       "363              1             11                -3  ADANA      KOZAN   \n",
       "388              1             11                -3  ADANA      KOZAN   \n",
       "492              1             13                -3  ADANA  SAİMBEYLİ   \n",
       "708              1              8                -3  ADANA   İMAMOĞLU   \n",
       "...            ...            ...               ...    ...        ...   \n",
       "32082           81            951                -3  DÜZCE     MERKEZ   \n",
       "32083           81            951                -3  DÜZCE     MERKEZ   \n",
       "32084           81            951                -3  DÜZCE     MERKEZ   \n",
       "32085           81            951                -3  DÜZCE     MERKEZ   \n",
       "32088           81            958                -3  DÜZCE    YIĞILCA   \n",
       "\n",
       "                 mahalle adi il adi cleaned ilçe adi cleaned  \\\n",
       "94                     MEKAN          adana           seyhan   \n",
       "363                HACIUŞAĞI          adana            kozan   \n",
       "388                    BUCAK          adana            kozan   \n",
       "492                  CIVIKLI          adana        saimbeyli   \n",
       "708                   ADALET          adana         imamoglu   \n",
       "...                      ...            ...              ...   \n",
       "32082              ORHANGAZİ          duzce           merkez   \n",
       "32083                BEYTEPE          duzce           merkez   \n",
       "32084           DEĞİRMENBAŞI          duzce           merkez   \n",
       "32085             SOĞUKPINAR          duzce           merkez   \n",
       "32088  MAREŞAL FEVZİ  ÇAKMAK          duzce          yigilca   \n",
       "\n",
       "         mahalle adi cleaned  erkek  kadin  \n",
       "94                     mekan    607    598  \n",
       "363                haciusagi    250    243  \n",
       "388                    bucak    528    494  \n",
       "492                  civikli    123    127  \n",
       "708                   adalet   1032    983  \n",
       "...                      ...    ...    ...  \n",
       "32082              orhangazi   2218   1005  \n",
       "32083                beytepe   1009   1000  \n",
       "32084           degirmenbasi    410    409  \n",
       "32085             sogukpinar    426    401  \n",
       "32088  maresal fevzi  cakmak    210    188  \n",
       "\n",
       "[5269 rows x 11 columns]"
      ]
     },
     "execution_count": 152,
     "metadata": {},
     "output_type": "execute_result"
    }
   ],
   "source": [
    "mahalle_kayit_no_minus_3"
   ]
  }
 ],
 "metadata": {
  "kernelspec": {
   "display_name": "Python 3",
   "language": "python",
   "name": "python3"
  },
  "language_info": {
   "codemirror_mode": {
    "name": "ipython",
    "version": 3
   },
   "file_extension": ".py",
   "mimetype": "text/x-python",
   "name": "python",
   "nbconvert_exporter": "python",
   "pygments_lexer": "ipython3",
   "version": "3.12.3"
  }
 },
 "nbformat": 4,
 "nbformat_minor": 2
}
