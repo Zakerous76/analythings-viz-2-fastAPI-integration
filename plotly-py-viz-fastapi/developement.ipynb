{
 "cells": [
  {
   "cell_type": "code",
   "execution_count": 1,
   "metadata": {},
   "outputs": [],
   "source": [
    "import numpy as np\n",
    "import plotly.graph_objs as go\n",
    "import plotly.express as px\n",
    "import pandas as pd\n",
    "from prep_data import *\n",
    "from prep_xls import *\n",
    "import locale\n",
    "from plot import *\n",
    "from plotly.subplots import make_subplots\n",
    "\n",
    "import json\n",
    "# locale.setlocale(locale.LC_TIME, 'tr_TR.UTF8')\n",
    "pd.set_option('display.max_rows', None)\n",
    "pd.set_option('display.max_columns', None)"
   ]
  },
  {
   "cell_type": "code",
   "execution_count": 2,
   "metadata": {},
   "outputs": [],
   "source": [
    "city_code_map = {\n",
    "    0: \"ÜLKE\",\n",
    "    1: \"ADANA\",\n",
    "    2: \"ADIYAMAN\",\n",
    "    3: \"AFYONKARAHİSAR\",\n",
    "    4: \"AĞRI\",\n",
    "    5: \"AMASYA\",\n",
    "    6: \"ANKARA\",\n",
    "    7: \"ANTALYA\",\n",
    "    8: \"ARTVİN\",\n",
    "    9: \"AYDIN\",\n",
    "    10: \"BALIKESİR\",\n",
    "    11: \"BİLECİK\",\n",
    "    12: \"BİNGÖL\",\n",
    "    13: \"BİTLİS\",\n",
    "    14: \"BOLU\",\n",
    "    15: \"BURDUR\",\n",
    "    16: \"BURSA\",\n",
    "    17: \"ÇANAKKALE\",\n",
    "    18: \"ÇANKIRI\",\n",
    "    19: \"ÇORUM\",\n",
    "    20: \"DENİZLİ\",\n",
    "    21: \"DİYARBAKIR\",\n",
    "    22: \"EDİRNE\",\n",
    "    23: \"ELAZIĞ\",\n",
    "    24: \"ERZİNCAN\",\n",
    "    25: \"ERZURUM\",\n",
    "    26: \"ESKİŞEHİR\",\n",
    "    27: \"GAZİANTEP\",\n",
    "    28: \"GİRESUN\",\n",
    "    29: \"GÜMÜŞHANE\",\n",
    "    30: \"HAKKARİ\",\n",
    "    31: \"HATAY\",\n",
    "    32: \"ISPARTA\",\n",
    "    33: \"MERSİN\",\n",
    "    34: \"İSTANBUL\",\n",
    "    35: \"İZMİR\",\n",
    "    36: \"KARS\",\n",
    "    37: \"KASTAMONU\",\n",
    "    38: \"KAYSERİ\",\n",
    "    39: \"KIRKLARELİ\",\n",
    "    40: \"KIRŞEHİR\",\n",
    "    41: \"KOCAELİ\",\n",
    "    42: \"KONYA\",\n",
    "    43: \"KÜTAHYA\",\n",
    "    44: \"MALATYA\",\n",
    "    45: \"MANİSA\",\n",
    "    46: \"KAHRAMANMARAŞ\",\n",
    "    47: \"MARDİN\",\n",
    "    48: \"MUĞLA\",\n",
    "    49: \"MUŞ\",\n",
    "    50: \"NEVŞEHİR\",\n",
    "    51: \"NİĞDE\",\n",
    "    52: \"ORDU\",\n",
    "    53: \"RİZE\",\n",
    "    54: \"SAKARYA\",\n",
    "    55: \"SAMSUN\",\n",
    "    56: \"SİİRT\",\n",
    "    57: \"SİNOP\",\n",
    "    58: \"SİVAS\",\n",
    "    59: \"TEKİRDAĞ\",\n",
    "    60: \"TOKAT\",\n",
    "    61: \"TRABZON\",\n",
    "    62: \"TUNCELİ\",\n",
    "    63: \"ŞANLIURFA\",\n",
    "    64: \"UŞAK\",\n",
    "    65: \"VAN\",\n",
    "    66: \"YOZGAT\",\n",
    "    67: \"ZONGULDAK\",\n",
    "    68: \"AKSARAY\",\n",
    "    69: \"BAYBURT\",\n",
    "    70: \"KARAMAN\",\n",
    "    71: \"KIRIKKALE\",\n",
    "    72: \"BATMAN\",\n",
    "    73: \"ŞIRNAK\",\n",
    "    74: \"BARTIN\",\n",
    "    75: \"ARDAHAN\",\n",
    "    76: \"IĞDIR\",\n",
    "    77: \"YALOVA\",\n",
    "    78: \"KARABÜK\",\n",
    "    79: \"KİLİS\",\n",
    "    80: \"OSMANİYE\",\n",
    "    81: \"DÜZCE\",\n",
    "    99: \"Diğer iller - Other Provinces\",\n",
    "}\n"
   ]
  },
  {
   "cell_type": "code",
   "execution_count": 2,
   "metadata": {},
   "outputs": [
    {
     "name": "stderr",
     "output_type": "stream",
     "text": [
      "c:\\Users\\Zaker\\OneDrive\\Desktop\\analything G Drive\\Repositories\\viz-2-fastAPI-integration\\plotly-py-viz-fastapi\\prep_xls.py:434: SettingWithCopyWarning: \n",
      "A value is trying to be set on a copy of a slice from a DataFrame\n",
      "\n",
      "See the caveats in the documentation: https://pandas.pydata.org/pandas-docs/stable/user_guide/indexing.html#returning-a-view-versus-a-copy\n",
      "  df_widowed.rename(\n"
     ]
    },
    {
     "ename": "PermissionError",
     "evalue": "[Errno 13] Permission denied: './datasets/nüfus artisi.XLSX'",
     "output_type": "error",
     "traceback": [
      "\u001b[1;31m---------------------------------------------------------------------------\u001b[0m",
      "\u001b[1;31mPermissionError\u001b[0m                           Traceback (most recent call last)",
      "Cell \u001b[1;32mIn[2], line 6\u001b[0m\n\u001b[0;32m      4\u001b[0m population_marital()\n\u001b[0;32m      5\u001b[0m population_origin_city()\n\u001b[1;32m----> 6\u001b[0m \u001b[43mpopulation_trend\u001b[49m\u001b[43m(\u001b[49m\u001b[43m)\u001b[49m\n\u001b[0;32m      7\u001b[0m secim()\n",
      "File \u001b[1;32mc:\\Users\\Zaker\\OneDrive\\Desktop\\analything G Drive\\Repositories\\viz-2-fastAPI-integration\\plotly-py-viz-fastapi\\prep_xls.py:474\u001b[0m, in \u001b[0;36mpopulation_trend\u001b[1;34m()\u001b[0m\n\u001b[0;32m    471\u001b[0m input_file_path \u001b[38;5;241m=\u001b[39m \u001b[38;5;124m\"\u001b[39m\u001b[38;5;124m./datasets/nüfus artisi.XLSX\u001b[39m\u001b[38;5;124m\"\u001b[39m\n\u001b[0;32m    472\u001b[0m output_file_path \u001b[38;5;241m=\u001b[39m \u001b[38;5;124m\"\u001b[39m\u001b[38;5;124m./datasets/population_trend.xlsx\u001b[39m\u001b[38;5;124m\"\u001b[39m\n\u001b[1;32m--> 474\u001b[0m df_trend \u001b[38;5;241m=\u001b[39m \u001b[43mpd\u001b[49m\u001b[38;5;241;43m.\u001b[39;49m\u001b[43mread_excel\u001b[49m\u001b[43m(\u001b[49m\u001b[43minput_file_path\u001b[49m\u001b[43m)\u001b[49m\n\u001b[0;32m    475\u001b[0m df_trend\u001b[38;5;241m.\u001b[39mrename(\n\u001b[0;32m    476\u001b[0m     columns\u001b[38;5;241m=\u001b[39m{\n\u001b[0;32m    477\u001b[0m         \u001b[38;5;124m\"\u001b[39m\u001b[38;5;124mİl ve ilçe\u001b[39m\u001b[38;5;130;01m\\n\u001b[39;00m\u001b[38;5;124mProvince and district\u001b[39m\u001b[38;5;124m\"\u001b[39m: \u001b[38;5;124m\"\u001b[39m\u001b[38;5;124mil ve ilçe\u001b[39m\u001b[38;5;124m\"\u001b[39m,\n\u001b[1;32m   (...)\u001b[0m\n\u001b[0;32m    481\u001b[0m     inplace\u001b[38;5;241m=\u001b[39m\u001b[38;5;28;01mTrue\u001b[39;00m,\n\u001b[0;32m    482\u001b[0m )\n\u001b[0;32m    483\u001b[0m df_trend\u001b[38;5;241m.\u001b[39mdrop(\u001b[38;5;124m\"\u001b[39m\u001b[38;5;124mil ve ilçe\u001b[39m\u001b[38;5;124m\"\u001b[39m, axis\u001b[38;5;241m=\u001b[39m\u001b[38;5;241m1\u001b[39m, inplace\u001b[38;5;241m=\u001b[39m\u001b[38;5;28;01mTrue\u001b[39;00m)\n",
      "File \u001b[1;32mc:\\Python312\\Lib\\site-packages\\pandas\\io\\excel\\_base.py:495\u001b[0m, in \u001b[0;36mread_excel\u001b[1;34m(io, sheet_name, header, names, index_col, usecols, dtype, engine, converters, true_values, false_values, skiprows, nrows, na_values, keep_default_na, na_filter, verbose, parse_dates, date_parser, date_format, thousands, decimal, comment, skipfooter, storage_options, dtype_backend, engine_kwargs)\u001b[0m\n\u001b[0;32m    493\u001b[0m \u001b[38;5;28;01mif\u001b[39;00m \u001b[38;5;129;01mnot\u001b[39;00m \u001b[38;5;28misinstance\u001b[39m(io, ExcelFile):\n\u001b[0;32m    494\u001b[0m     should_close \u001b[38;5;241m=\u001b[39m \u001b[38;5;28;01mTrue\u001b[39;00m\n\u001b[1;32m--> 495\u001b[0m     io \u001b[38;5;241m=\u001b[39m \u001b[43mExcelFile\u001b[49m\u001b[43m(\u001b[49m\n\u001b[0;32m    496\u001b[0m \u001b[43m        \u001b[49m\u001b[43mio\u001b[49m\u001b[43m,\u001b[49m\n\u001b[0;32m    497\u001b[0m \u001b[43m        \u001b[49m\u001b[43mstorage_options\u001b[49m\u001b[38;5;241;43m=\u001b[39;49m\u001b[43mstorage_options\u001b[49m\u001b[43m,\u001b[49m\n\u001b[0;32m    498\u001b[0m \u001b[43m        \u001b[49m\u001b[43mengine\u001b[49m\u001b[38;5;241;43m=\u001b[39;49m\u001b[43mengine\u001b[49m\u001b[43m,\u001b[49m\n\u001b[0;32m    499\u001b[0m \u001b[43m        \u001b[49m\u001b[43mengine_kwargs\u001b[49m\u001b[38;5;241;43m=\u001b[39;49m\u001b[43mengine_kwargs\u001b[49m\u001b[43m,\u001b[49m\n\u001b[0;32m    500\u001b[0m \u001b[43m    \u001b[49m\u001b[43m)\u001b[49m\n\u001b[0;32m    501\u001b[0m \u001b[38;5;28;01melif\u001b[39;00m engine \u001b[38;5;129;01mand\u001b[39;00m engine \u001b[38;5;241m!=\u001b[39m io\u001b[38;5;241m.\u001b[39mengine:\n\u001b[0;32m    502\u001b[0m     \u001b[38;5;28;01mraise\u001b[39;00m \u001b[38;5;167;01mValueError\u001b[39;00m(\n\u001b[0;32m    503\u001b[0m         \u001b[38;5;124m\"\u001b[39m\u001b[38;5;124mEngine should not be specified when passing \u001b[39m\u001b[38;5;124m\"\u001b[39m\n\u001b[0;32m    504\u001b[0m         \u001b[38;5;124m\"\u001b[39m\u001b[38;5;124man ExcelFile - ExcelFile already has the engine set\u001b[39m\u001b[38;5;124m\"\u001b[39m\n\u001b[0;32m    505\u001b[0m     )\n",
      "File \u001b[1;32mc:\\Python312\\Lib\\site-packages\\pandas\\io\\excel\\_base.py:1550\u001b[0m, in \u001b[0;36mExcelFile.__init__\u001b[1;34m(self, path_or_buffer, engine, storage_options, engine_kwargs)\u001b[0m\n\u001b[0;32m   1548\u001b[0m     ext \u001b[38;5;241m=\u001b[39m \u001b[38;5;124m\"\u001b[39m\u001b[38;5;124mxls\u001b[39m\u001b[38;5;124m\"\u001b[39m\n\u001b[0;32m   1549\u001b[0m \u001b[38;5;28;01melse\u001b[39;00m:\n\u001b[1;32m-> 1550\u001b[0m     ext \u001b[38;5;241m=\u001b[39m \u001b[43minspect_excel_format\u001b[49m\u001b[43m(\u001b[49m\n\u001b[0;32m   1551\u001b[0m \u001b[43m        \u001b[49m\u001b[43mcontent_or_path\u001b[49m\u001b[38;5;241;43m=\u001b[39;49m\u001b[43mpath_or_buffer\u001b[49m\u001b[43m,\u001b[49m\u001b[43m \u001b[49m\u001b[43mstorage_options\u001b[49m\u001b[38;5;241;43m=\u001b[39;49m\u001b[43mstorage_options\u001b[49m\n\u001b[0;32m   1552\u001b[0m \u001b[43m    \u001b[49m\u001b[43m)\u001b[49m\n\u001b[0;32m   1553\u001b[0m     \u001b[38;5;28;01mif\u001b[39;00m ext \u001b[38;5;129;01mis\u001b[39;00m \u001b[38;5;28;01mNone\u001b[39;00m:\n\u001b[0;32m   1554\u001b[0m         \u001b[38;5;28;01mraise\u001b[39;00m \u001b[38;5;167;01mValueError\u001b[39;00m(\n\u001b[0;32m   1555\u001b[0m             \u001b[38;5;124m\"\u001b[39m\u001b[38;5;124mExcel file format cannot be determined, you must specify \u001b[39m\u001b[38;5;124m\"\u001b[39m\n\u001b[0;32m   1556\u001b[0m             \u001b[38;5;124m\"\u001b[39m\u001b[38;5;124man engine manually.\u001b[39m\u001b[38;5;124m\"\u001b[39m\n\u001b[0;32m   1557\u001b[0m         )\n",
      "File \u001b[1;32mc:\\Python312\\Lib\\site-packages\\pandas\\io\\excel\\_base.py:1402\u001b[0m, in \u001b[0;36minspect_excel_format\u001b[1;34m(content_or_path, storage_options)\u001b[0m\n\u001b[0;32m   1399\u001b[0m \u001b[38;5;28;01mif\u001b[39;00m \u001b[38;5;28misinstance\u001b[39m(content_or_path, \u001b[38;5;28mbytes\u001b[39m):\n\u001b[0;32m   1400\u001b[0m     content_or_path \u001b[38;5;241m=\u001b[39m BytesIO(content_or_path)\n\u001b[1;32m-> 1402\u001b[0m \u001b[38;5;28;01mwith\u001b[39;00m \u001b[43mget_handle\u001b[49m\u001b[43m(\u001b[49m\n\u001b[0;32m   1403\u001b[0m \u001b[43m    \u001b[49m\u001b[43mcontent_or_path\u001b[49m\u001b[43m,\u001b[49m\u001b[43m \u001b[49m\u001b[38;5;124;43m\"\u001b[39;49m\u001b[38;5;124;43mrb\u001b[39;49m\u001b[38;5;124;43m\"\u001b[39;49m\u001b[43m,\u001b[49m\u001b[43m \u001b[49m\u001b[43mstorage_options\u001b[49m\u001b[38;5;241;43m=\u001b[39;49m\u001b[43mstorage_options\u001b[49m\u001b[43m,\u001b[49m\u001b[43m \u001b[49m\u001b[43mis_text\u001b[49m\u001b[38;5;241;43m=\u001b[39;49m\u001b[38;5;28;43;01mFalse\u001b[39;49;00m\n\u001b[0;32m   1404\u001b[0m \u001b[43m\u001b[49m\u001b[43m)\u001b[49m \u001b[38;5;28;01mas\u001b[39;00m handle:\n\u001b[0;32m   1405\u001b[0m     stream \u001b[38;5;241m=\u001b[39m handle\u001b[38;5;241m.\u001b[39mhandle\n\u001b[0;32m   1406\u001b[0m     stream\u001b[38;5;241m.\u001b[39mseek(\u001b[38;5;241m0\u001b[39m)\n",
      "File \u001b[1;32mc:\\Python312\\Lib\\site-packages\\pandas\\io\\common.py:882\u001b[0m, in \u001b[0;36mget_handle\u001b[1;34m(path_or_buf, mode, encoding, compression, memory_map, is_text, errors, storage_options)\u001b[0m\n\u001b[0;32m    873\u001b[0m         handle \u001b[38;5;241m=\u001b[39m \u001b[38;5;28mopen\u001b[39m(\n\u001b[0;32m    874\u001b[0m             handle,\n\u001b[0;32m    875\u001b[0m             ioargs\u001b[38;5;241m.\u001b[39mmode,\n\u001b[1;32m   (...)\u001b[0m\n\u001b[0;32m    878\u001b[0m             newline\u001b[38;5;241m=\u001b[39m\u001b[38;5;124m\"\u001b[39m\u001b[38;5;124m\"\u001b[39m,\n\u001b[0;32m    879\u001b[0m         )\n\u001b[0;32m    880\u001b[0m     \u001b[38;5;28;01melse\u001b[39;00m:\n\u001b[0;32m    881\u001b[0m         \u001b[38;5;66;03m# Binary mode\u001b[39;00m\n\u001b[1;32m--> 882\u001b[0m         handle \u001b[38;5;241m=\u001b[39m \u001b[38;5;28;43mopen\u001b[39;49m\u001b[43m(\u001b[49m\u001b[43mhandle\u001b[49m\u001b[43m,\u001b[49m\u001b[43m \u001b[49m\u001b[43mioargs\u001b[49m\u001b[38;5;241;43m.\u001b[39;49m\u001b[43mmode\u001b[49m\u001b[43m)\u001b[49m\n\u001b[0;32m    883\u001b[0m     handles\u001b[38;5;241m.\u001b[39mappend(handle)\n\u001b[0;32m    885\u001b[0m \u001b[38;5;66;03m# Convert BytesIO or file objects passed with an encoding\u001b[39;00m\n",
      "\u001b[1;31mPermissionError\u001b[0m: [Errno 13] Permission denied: './datasets/nüfus artisi.XLSX'"
     ]
    }
   ],
   "source": [
    "sales_cities()\n",
    "sales_cities_foreigners()\n",
    "population()\n",
    "population_marital()\n",
    "population_origin_city()\n",
    "population_trend()\n",
    "secim()"
   ]
  },
  {
   "cell_type": "code",
   "execution_count": 3,
   "metadata": {},
   "outputs": [],
   "source": [
    "df1=sales_cities_df()\n",
    "df2=sales_cities_foreigners_df()\n",
    "df3=population_df()\n",
    "\n",
    "df4=population_marital_df()\n",
    "df5=population_origin_city_df()\n",
    "df6=population_trend_df()\n",
    "df7=secim_df()"
   ]
  },
  {
   "cell_type": "code",
   "execution_count": 11,
   "metadata": {},
   "outputs": [],
   "source": [
    "df7=secim_df()"
   ]
  },
  {
   "cell_type": "markdown",
   "metadata": {},
   "source": [
    "# New Data Viz"
   ]
  },
  {
   "cell_type": "markdown",
   "metadata": {},
   "source": [
    "## Elections"
   ]
  },
  {
   "cell_type": "code",
   "execution_count": 12,
   "metadata": {},
   "outputs": [
    {
     "data": {
      "text/html": [
       "<div>\n",
       "<style scoped>\n",
       "    .dataframe tbody tr th:only-of-type {\n",
       "        vertical-align: middle;\n",
       "    }\n",
       "\n",
       "    .dataframe tbody tr th {\n",
       "        vertical-align: top;\n",
       "    }\n",
       "\n",
       "    .dataframe thead th {\n",
       "        text-align: right;\n",
       "    }\n",
       "</style>\n",
       "<table border=\"1\" class=\"dataframe\">\n",
       "  <thead>\n",
       "    <tr style=\"text-align: right;\">\n",
       "      <th></th>\n",
       "      <th>İl Adı</th>\n",
       "      <th>il adi cleaned</th>\n",
       "      <th>İlçe Adı</th>\n",
       "      <th>ilçe adi cleaned</th>\n",
       "      <th>Kayıtlı Seçmen Sayısı</th>\n",
       "      <th>Oy Kullanan Seçmen Sayısı</th>\n",
       "      <th>Geçerli Oy Toplamı</th>\n",
       "      <th>AK PARTİ</th>\n",
       "      <th>İYİ PARTİ</th>\n",
       "      <th>BÜYÜK BİRLİK</th>\n",
       "      <th>MEMLEKET</th>\n",
       "      <th>ANAP</th>\n",
       "      <th>DSP</th>\n",
       "      <th>YENİDEN REFAH</th>\n",
       "      <th>DEM Parti</th>\n",
       "      <th>TKP</th>\n",
       "      <th>ZAFER PARTİSİ</th>\n",
       "      <th>HKP</th>\n",
       "      <th>BTP</th>\n",
       "      <th>GELECEK PARTİSİ</th>\n",
       "      <th>CHP</th>\n",
       "      <th>HÜDA PAR</th>\n",
       "      <th>OCAK</th>\n",
       "      <th>AB PARTİ</th>\n",
       "      <th>DP</th>\n",
       "      <th>MİLLET</th>\n",
       "      <th>MİLLİ YOL</th>\n",
       "      <th>AP</th>\n",
       "      <th>MHP</th>\n",
       "      <th>TİP</th>\n",
       "      <th>DEVA PARTİSİ</th>\n",
       "      <th>SAADET</th>\n",
       "      <th>VATAN PARTİSİ</th>\n",
       "      <th>BAĞIMSIZ TOPLAM OY</th>\n",
       "      <th>TKH</th>\n",
       "      <th>YTP</th>\n",
       "      <th>HAK-PAR</th>\n",
       "      <th>SOL PARTİ</th>\n",
       "      <th>ABP</th>\n",
       "      <th>EMEP</th>\n",
       "      <th>GBP</th>\n",
       "      <th>ADP</th>\n",
       "      <th>il kayit no</th>\n",
       "      <th>ilçe kayit no</th>\n",
       "    </tr>\n",
       "  </thead>\n",
       "  <tbody>\n",
       "    <tr>\n",
       "      <th>0</th>\n",
       "      <td>ADANA</td>\n",
       "      <td>adana</td>\n",
       "      <td>SEYHAN</td>\n",
       "      <td>seyhan</td>\n",
       "      <td>564300</td>\n",
       "      <td>403186</td>\n",
       "      <td>380908</td>\n",
       "      <td>121799</td>\n",
       "      <td>25460</td>\n",
       "      <td>1871</td>\n",
       "      <td>1190</td>\n",
       "      <td>156</td>\n",
       "      <td>421</td>\n",
       "      <td>5884</td>\n",
       "      <td>48216</td>\n",
       "      <td>699</td>\n",
       "      <td>6679</td>\n",
       "      <td>146</td>\n",
       "      <td>1006</td>\n",
       "      <td>0</td>\n",
       "      <td>158439</td>\n",
       "      <td>3195</td>\n",
       "      <td>233</td>\n",
       "      <td>183</td>\n",
       "      <td>351</td>\n",
       "      <td>165</td>\n",
       "      <td>0</td>\n",
       "      <td>0</td>\n",
       "      <td>0</td>\n",
       "      <td>972</td>\n",
       "      <td>1067</td>\n",
       "      <td>2152</td>\n",
       "      <td>292</td>\n",
       "      <td>332</td>\n",
       "      <td>0</td>\n",
       "      <td>0</td>\n",
       "      <td>0</td>\n",
       "      <td>0</td>\n",
       "      <td>0</td>\n",
       "      <td>0</td>\n",
       "      <td>0</td>\n",
       "      <td>0</td>\n",
       "      <td>1.0</td>\n",
       "      <td>1.0</td>\n",
       "    </tr>\n",
       "    <tr>\n",
       "      <th>1</th>\n",
       "      <td>ADANA</td>\n",
       "      <td>adana</td>\n",
       "      <td>CEYHAN</td>\n",
       "      <td>ceyhan</td>\n",
       "      <td>113347</td>\n",
       "      <td>93787</td>\n",
       "      <td>89251</td>\n",
       "      <td>34682</td>\n",
       "      <td>4924</td>\n",
       "      <td>106</td>\n",
       "      <td>0</td>\n",
       "      <td>0</td>\n",
       "      <td>0</td>\n",
       "      <td>858</td>\n",
       "      <td>5912</td>\n",
       "      <td>159</td>\n",
       "      <td>572</td>\n",
       "      <td>0</td>\n",
       "      <td>139</td>\n",
       "      <td>0</td>\n",
       "      <td>40758</td>\n",
       "      <td>302</td>\n",
       "      <td>0</td>\n",
       "      <td>0</td>\n",
       "      <td>155</td>\n",
       "      <td>35</td>\n",
       "      <td>0</td>\n",
       "      <td>0</td>\n",
       "      <td>0</td>\n",
       "      <td>0</td>\n",
       "      <td>132</td>\n",
       "      <td>391</td>\n",
       "      <td>77</td>\n",
       "      <td>49</td>\n",
       "      <td>0</td>\n",
       "      <td>0</td>\n",
       "      <td>0</td>\n",
       "      <td>0</td>\n",
       "      <td>0</td>\n",
       "      <td>0</td>\n",
       "      <td>0</td>\n",
       "      <td>0</td>\n",
       "      <td>1.0</td>\n",
       "      <td>6.0</td>\n",
       "    </tr>\n",
       "    <tr>\n",
       "      <th>2</th>\n",
       "      <td>ADANA</td>\n",
       "      <td>adana</td>\n",
       "      <td>FEKE</td>\n",
       "      <td>feke</td>\n",
       "      <td>14049</td>\n",
       "      <td>12664</td>\n",
       "      <td>11740</td>\n",
       "      <td>0</td>\n",
       "      <td>307</td>\n",
       "      <td>62</td>\n",
       "      <td>0</td>\n",
       "      <td>0</td>\n",
       "      <td>0</td>\n",
       "      <td>4257</td>\n",
       "      <td>0</td>\n",
       "      <td>0</td>\n",
       "      <td>39</td>\n",
       "      <td>29</td>\n",
       "      <td>18</td>\n",
       "      <td>0</td>\n",
       "      <td>3210</td>\n",
       "      <td>19</td>\n",
       "      <td>0</td>\n",
       "      <td>0</td>\n",
       "      <td>0</td>\n",
       "      <td>19</td>\n",
       "      <td>0</td>\n",
       "      <td>0</td>\n",
       "      <td>3468</td>\n",
       "      <td>0</td>\n",
       "      <td>30</td>\n",
       "      <td>266</td>\n",
       "      <td>12</td>\n",
       "      <td>4</td>\n",
       "      <td>0</td>\n",
       "      <td>0</td>\n",
       "      <td>0</td>\n",
       "      <td>0</td>\n",
       "      <td>0</td>\n",
       "      <td>0</td>\n",
       "      <td>0</td>\n",
       "      <td>0</td>\n",
       "      <td>1.0</td>\n",
       "      <td>7.0</td>\n",
       "    </tr>\n",
       "    <tr>\n",
       "      <th>3</th>\n",
       "      <td>ADANA</td>\n",
       "      <td>adana</td>\n",
       "      <td>KARAİSALI</td>\n",
       "      <td>karaisali</td>\n",
       "      <td>18136</td>\n",
       "      <td>16564</td>\n",
       "      <td>15582</td>\n",
       "      <td>0</td>\n",
       "      <td>1514</td>\n",
       "      <td>134</td>\n",
       "      <td>20</td>\n",
       "      <td>0</td>\n",
       "      <td>6</td>\n",
       "      <td>214</td>\n",
       "      <td>0</td>\n",
       "      <td>0</td>\n",
       "      <td>71</td>\n",
       "      <td>0</td>\n",
       "      <td>69</td>\n",
       "      <td>0</td>\n",
       "      <td>2216</td>\n",
       "      <td>21</td>\n",
       "      <td>0</td>\n",
       "      <td>0</td>\n",
       "      <td>0</td>\n",
       "      <td>19</td>\n",
       "      <td>27</td>\n",
       "      <td>0</td>\n",
       "      <td>6975</td>\n",
       "      <td>0</td>\n",
       "      <td>39</td>\n",
       "      <td>237</td>\n",
       "      <td>57</td>\n",
       "      <td>3963</td>\n",
       "      <td>0</td>\n",
       "      <td>0</td>\n",
       "      <td>0</td>\n",
       "      <td>0</td>\n",
       "      <td>0</td>\n",
       "      <td>0</td>\n",
       "      <td>0</td>\n",
       "      <td>0</td>\n",
       "      <td>1.0</td>\n",
       "      <td>9.0</td>\n",
       "    </tr>\n",
       "    <tr>\n",
       "      <th>4</th>\n",
       "      <td>ADANA</td>\n",
       "      <td>adana</td>\n",
       "      <td>KARATAŞ</td>\n",
       "      <td>karatas</td>\n",
       "      <td>17913</td>\n",
       "      <td>15900</td>\n",
       "      <td>15222</td>\n",
       "      <td>0</td>\n",
       "      <td>309</td>\n",
       "      <td>19</td>\n",
       "      <td>8</td>\n",
       "      <td>0</td>\n",
       "      <td>6</td>\n",
       "      <td>75</td>\n",
       "      <td>337</td>\n",
       "      <td>0</td>\n",
       "      <td>67</td>\n",
       "      <td>0</td>\n",
       "      <td>14</td>\n",
       "      <td>28</td>\n",
       "      <td>7663</td>\n",
       "      <td>41</td>\n",
       "      <td>0</td>\n",
       "      <td>0</td>\n",
       "      <td>0</td>\n",
       "      <td>35</td>\n",
       "      <td>0</td>\n",
       "      <td>0</td>\n",
       "      <td>6576</td>\n",
       "      <td>0</td>\n",
       "      <td>33</td>\n",
       "      <td>0</td>\n",
       "      <td>11</td>\n",
       "      <td>0</td>\n",
       "      <td>0</td>\n",
       "      <td>0</td>\n",
       "      <td>0</td>\n",
       "      <td>0</td>\n",
       "      <td>0</td>\n",
       "      <td>0</td>\n",
       "      <td>0</td>\n",
       "      <td>0</td>\n",
       "      <td>1.0</td>\n",
       "      <td>10.0</td>\n",
       "    </tr>\n",
       "  </tbody>\n",
       "</table>\n",
       "</div>"
      ],
      "text/plain": [
       "  İl Adı il adi cleaned   İlçe Adı ilçe adi cleaned  Kayıtlı Seçmen Sayısı  \\\n",
       "0  ADANA          adana     SEYHAN           seyhan                 564300   \n",
       "1  ADANA          adana     CEYHAN           ceyhan                 113347   \n",
       "2  ADANA          adana       FEKE             feke                  14049   \n",
       "3  ADANA          adana  KARAİSALI        karaisali                  18136   \n",
       "4  ADANA          adana    KARATAŞ          karatas                  17913   \n",
       "\n",
       "   Oy Kullanan Seçmen Sayısı  Geçerli Oy Toplamı  AK PARTİ  İYİ PARTİ  \\\n",
       "0                     403186              380908    121799      25460   \n",
       "1                      93787               89251     34682       4924   \n",
       "2                      12664               11740         0        307   \n",
       "3                      16564               15582         0       1514   \n",
       "4                      15900               15222         0        309   \n",
       "\n",
       "   BÜYÜK BİRLİK  MEMLEKET  ANAP  DSP  YENİDEN REFAH  DEM Parti  TKP  \\\n",
       "0          1871      1190   156  421           5884      48216  699   \n",
       "1           106         0     0    0            858       5912  159   \n",
       "2            62         0     0    0           4257          0    0   \n",
       "3           134        20     0    6            214          0    0   \n",
       "4            19         8     0    6             75        337    0   \n",
       "\n",
       "   ZAFER PARTİSİ  HKP   BTP  GELECEK PARTİSİ     CHP  HÜDA PAR  OCAK  \\\n",
       "0           6679  146  1006                0  158439      3195   233   \n",
       "1            572    0   139                0   40758       302     0   \n",
       "2             39   29    18                0    3210        19     0   \n",
       "3             71    0    69                0    2216        21     0   \n",
       "4             67    0    14               28    7663        41     0   \n",
       "\n",
       "   AB PARTİ   DP  MİLLET  MİLLİ YOL  AP   MHP  TİP  DEVA PARTİSİ  SAADET  \\\n",
       "0       183  351     165          0   0     0  972          1067    2152   \n",
       "1         0  155      35          0   0     0    0           132     391   \n",
       "2         0    0      19          0   0  3468    0            30     266   \n",
       "3         0    0      19         27   0  6975    0            39     237   \n",
       "4         0    0      35          0   0  6576    0            33       0   \n",
       "\n",
       "   VATAN PARTİSİ  BAĞIMSIZ TOPLAM OY  TKH  YTP  HAK-PAR  SOL PARTİ  ABP  EMEP  \\\n",
       "0            292                 332    0    0        0          0    0     0   \n",
       "1             77                  49    0    0        0          0    0     0   \n",
       "2             12                   4    0    0        0          0    0     0   \n",
       "3             57                3963    0    0        0          0    0     0   \n",
       "4             11                   0    0    0        0          0    0     0   \n",
       "\n",
       "   GBP  ADP  il kayit no  ilçe kayit no  \n",
       "0    0    0          1.0            1.0  \n",
       "1    0    0          1.0            6.0  \n",
       "2    0    0          1.0            7.0  \n",
       "3    0    0          1.0            9.0  \n",
       "4    0    0          1.0           10.0  "
      ]
     },
     "execution_count": 12,
     "metadata": {},
     "output_type": "execute_result"
    }
   ],
   "source": [
    "df7.head()"
   ]
  },
  {
   "cell_type": "code",
   "execution_count": 88,
   "metadata": {},
   "outputs": [
    {
     "data": {
      "text/plain": [
       "[237326,\n",
       " 83784,\n",
       " 27220,\n",
       " 1619,\n",
       " 1774,\n",
       " 1103,\n",
       " 33151,\n",
       " 73426,\n",
       " 1824,\n",
       " 19827,\n",
       " 646,\n",
       " 2921,\n",
       " 1133,\n",
       " 486366,\n",
       " 9075,\n",
       " 362,\n",
       " 290,\n",
       " 1584,\n",
       " 1274,\n",
       " 27,\n",
       " 834,\n",
       " 154070,\n",
       " 1264,\n",
       " 3479,\n",
       " 8281,\n",
       " 1130,\n",
       " 13649,\n",
       " 0,\n",
       " 0,\n",
       " 0,\n",
       " 0,\n",
       " 0,\n",
       " 0,\n",
       " 0,\n",
       " 0]"
      ]
     },
     "execution_count": 88,
     "metadata": {},
     "output_type": "execute_result"
    }
   ],
   "source": [
    "\n",
    "# Only City\n",
    "selected_df = df7[(df7[\"il kayit no\"]==city_code)].sum()[7:-2]\n",
    "labels = selected_df.index.to_list()\n",
    "values = selected_df.to_list()\n",
    "values\n"
   ]
  },
  {
   "cell_type": "code",
   "execution_count": 92,
   "metadata": {},
   "outputs": [
    {
     "data": {
      "application/vnd.plotly.v1+json": {
       "config": {
        "plotlyServerURL": "https://plot.ly"
       },
       "data": [
        {
         "hovertemplate": "%{label}: %{value}",
         "marker": {
          "color": [
           "rgb(141,211,199)",
           "rgb(255,255,179)",
           "rgb(190,186,218)",
           "rgb(251,128,114)",
           "rgb(128,177,211)",
           "rgb(253,180,98)",
           "rgb(179,222,105)",
           "rgb(252,205,229)",
           "rgb(217,217,217)",
           "rgb(188,128,189)",
           "rgb(204,235,197)",
           "rgb(255,237,111)"
          ]
         },
         "name": "",
         "text": [
          "486366",
          "237326",
          "154070",
          "83784",
          "73426",
          "33151",
          "27220",
          "21264",
          "19827",
          "13649",
          "9075",
          "8281"
         ],
         "textposition": "auto",
         "texttemplate": "%{text:,}",
         "type": "bar",
         "x": [
          "CHP",
          "AK PARTİ",
          "MHP",
          "İYİ PARTİ",
          "DEM Parti",
          "YENİDEN REFAH",
          "BÜYÜK BİRLİK",
          "Diğer",
          "ZAFER PARTİSİ",
          "BAĞIMSIZ TOPLAM OY",
          "HÜDA PAR",
          "SAADET"
         ],
         "y": [
          486366,
          237326,
          154070,
          83784,
          73426,
          33151,
          27220,
          21264,
          19827,
          13649,
          9075,
          8281
         ]
        }
       ],
       "layout": {
        "height": 800,
        "margin": {
         "b": 110,
         "l": 110,
         "r": 20,
         "t": 100
        },
        "plot_bgcolor": "#f3f4f6",
        "template": {
         "data": {
          "bar": [
           {
            "error_x": {
             "color": "#2a3f5f"
            },
            "error_y": {
             "color": "#2a3f5f"
            },
            "marker": {
             "line": {
              "color": "#E5ECF6",
              "width": 0.5
             },
             "pattern": {
              "fillmode": "overlay",
              "size": 10,
              "solidity": 0.2
             }
            },
            "type": "bar"
           }
          ],
          "barpolar": [
           {
            "marker": {
             "line": {
              "color": "#E5ECF6",
              "width": 0.5
             },
             "pattern": {
              "fillmode": "overlay",
              "size": 10,
              "solidity": 0.2
             }
            },
            "type": "barpolar"
           }
          ],
          "carpet": [
           {
            "aaxis": {
             "endlinecolor": "#2a3f5f",
             "gridcolor": "white",
             "linecolor": "white",
             "minorgridcolor": "white",
             "startlinecolor": "#2a3f5f"
            },
            "baxis": {
             "endlinecolor": "#2a3f5f",
             "gridcolor": "white",
             "linecolor": "white",
             "minorgridcolor": "white",
             "startlinecolor": "#2a3f5f"
            },
            "type": "carpet"
           }
          ],
          "choropleth": [
           {
            "colorbar": {
             "outlinewidth": 0,
             "ticks": ""
            },
            "type": "choropleth"
           }
          ],
          "contour": [
           {
            "colorbar": {
             "outlinewidth": 0,
             "ticks": ""
            },
            "colorscale": [
             [
              0,
              "#0d0887"
             ],
             [
              0.1111111111111111,
              "#46039f"
             ],
             [
              0.2222222222222222,
              "#7201a8"
             ],
             [
              0.3333333333333333,
              "#9c179e"
             ],
             [
              0.4444444444444444,
              "#bd3786"
             ],
             [
              0.5555555555555556,
              "#d8576b"
             ],
             [
              0.6666666666666666,
              "#ed7953"
             ],
             [
              0.7777777777777778,
              "#fb9f3a"
             ],
             [
              0.8888888888888888,
              "#fdca26"
             ],
             [
              1,
              "#f0f921"
             ]
            ],
            "type": "contour"
           }
          ],
          "contourcarpet": [
           {
            "colorbar": {
             "outlinewidth": 0,
             "ticks": ""
            },
            "type": "contourcarpet"
           }
          ],
          "heatmap": [
           {
            "colorbar": {
             "outlinewidth": 0,
             "ticks": ""
            },
            "colorscale": [
             [
              0,
              "#0d0887"
             ],
             [
              0.1111111111111111,
              "#46039f"
             ],
             [
              0.2222222222222222,
              "#7201a8"
             ],
             [
              0.3333333333333333,
              "#9c179e"
             ],
             [
              0.4444444444444444,
              "#bd3786"
             ],
             [
              0.5555555555555556,
              "#d8576b"
             ],
             [
              0.6666666666666666,
              "#ed7953"
             ],
             [
              0.7777777777777778,
              "#fb9f3a"
             ],
             [
              0.8888888888888888,
              "#fdca26"
             ],
             [
              1,
              "#f0f921"
             ]
            ],
            "type": "heatmap"
           }
          ],
          "heatmapgl": [
           {
            "colorbar": {
             "outlinewidth": 0,
             "ticks": ""
            },
            "colorscale": [
             [
              0,
              "#0d0887"
             ],
             [
              0.1111111111111111,
              "#46039f"
             ],
             [
              0.2222222222222222,
              "#7201a8"
             ],
             [
              0.3333333333333333,
              "#9c179e"
             ],
             [
              0.4444444444444444,
              "#bd3786"
             ],
             [
              0.5555555555555556,
              "#d8576b"
             ],
             [
              0.6666666666666666,
              "#ed7953"
             ],
             [
              0.7777777777777778,
              "#fb9f3a"
             ],
             [
              0.8888888888888888,
              "#fdca26"
             ],
             [
              1,
              "#f0f921"
             ]
            ],
            "type": "heatmapgl"
           }
          ],
          "histogram": [
           {
            "marker": {
             "pattern": {
              "fillmode": "overlay",
              "size": 10,
              "solidity": 0.2
             }
            },
            "type": "histogram"
           }
          ],
          "histogram2d": [
           {
            "colorbar": {
             "outlinewidth": 0,
             "ticks": ""
            },
            "colorscale": [
             [
              0,
              "#0d0887"
             ],
             [
              0.1111111111111111,
              "#46039f"
             ],
             [
              0.2222222222222222,
              "#7201a8"
             ],
             [
              0.3333333333333333,
              "#9c179e"
             ],
             [
              0.4444444444444444,
              "#bd3786"
             ],
             [
              0.5555555555555556,
              "#d8576b"
             ],
             [
              0.6666666666666666,
              "#ed7953"
             ],
             [
              0.7777777777777778,
              "#fb9f3a"
             ],
             [
              0.8888888888888888,
              "#fdca26"
             ],
             [
              1,
              "#f0f921"
             ]
            ],
            "type": "histogram2d"
           }
          ],
          "histogram2dcontour": [
           {
            "colorbar": {
             "outlinewidth": 0,
             "ticks": ""
            },
            "colorscale": [
             [
              0,
              "#0d0887"
             ],
             [
              0.1111111111111111,
              "#46039f"
             ],
             [
              0.2222222222222222,
              "#7201a8"
             ],
             [
              0.3333333333333333,
              "#9c179e"
             ],
             [
              0.4444444444444444,
              "#bd3786"
             ],
             [
              0.5555555555555556,
              "#d8576b"
             ],
             [
              0.6666666666666666,
              "#ed7953"
             ],
             [
              0.7777777777777778,
              "#fb9f3a"
             ],
             [
              0.8888888888888888,
              "#fdca26"
             ],
             [
              1,
              "#f0f921"
             ]
            ],
            "type": "histogram2dcontour"
           }
          ],
          "mesh3d": [
           {
            "colorbar": {
             "outlinewidth": 0,
             "ticks": ""
            },
            "type": "mesh3d"
           }
          ],
          "parcoords": [
           {
            "line": {
             "colorbar": {
              "outlinewidth": 0,
              "ticks": ""
             }
            },
            "type": "parcoords"
           }
          ],
          "pie": [
           {
            "automargin": true,
            "type": "pie"
           }
          ],
          "scatter": [
           {
            "fillpattern": {
             "fillmode": "overlay",
             "size": 10,
             "solidity": 0.2
            },
            "type": "scatter"
           }
          ],
          "scatter3d": [
           {
            "line": {
             "colorbar": {
              "outlinewidth": 0,
              "ticks": ""
             }
            },
            "marker": {
             "colorbar": {
              "outlinewidth": 0,
              "ticks": ""
             }
            },
            "type": "scatter3d"
           }
          ],
          "scattercarpet": [
           {
            "marker": {
             "colorbar": {
              "outlinewidth": 0,
              "ticks": ""
             }
            },
            "type": "scattercarpet"
           }
          ],
          "scattergeo": [
           {
            "marker": {
             "colorbar": {
              "outlinewidth": 0,
              "ticks": ""
             }
            },
            "type": "scattergeo"
           }
          ],
          "scattergl": [
           {
            "marker": {
             "colorbar": {
              "outlinewidth": 0,
              "ticks": ""
             }
            },
            "type": "scattergl"
           }
          ],
          "scattermapbox": [
           {
            "marker": {
             "colorbar": {
              "outlinewidth": 0,
              "ticks": ""
             }
            },
            "type": "scattermapbox"
           }
          ],
          "scatterpolar": [
           {
            "marker": {
             "colorbar": {
              "outlinewidth": 0,
              "ticks": ""
             }
            },
            "type": "scatterpolar"
           }
          ],
          "scatterpolargl": [
           {
            "marker": {
             "colorbar": {
              "outlinewidth": 0,
              "ticks": ""
             }
            },
            "type": "scatterpolargl"
           }
          ],
          "scatterternary": [
           {
            "marker": {
             "colorbar": {
              "outlinewidth": 0,
              "ticks": ""
             }
            },
            "type": "scatterternary"
           }
          ],
          "surface": [
           {
            "colorbar": {
             "outlinewidth": 0,
             "ticks": ""
            },
            "colorscale": [
             [
              0,
              "#0d0887"
             ],
             [
              0.1111111111111111,
              "#46039f"
             ],
             [
              0.2222222222222222,
              "#7201a8"
             ],
             [
              0.3333333333333333,
              "#9c179e"
             ],
             [
              0.4444444444444444,
              "#bd3786"
             ],
             [
              0.5555555555555556,
              "#d8576b"
             ],
             [
              0.6666666666666666,
              "#ed7953"
             ],
             [
              0.7777777777777778,
              "#fb9f3a"
             ],
             [
              0.8888888888888888,
              "#fdca26"
             ],
             [
              1,
              "#f0f921"
             ]
            ],
            "type": "surface"
           }
          ],
          "table": [
           {
            "cells": {
             "fill": {
              "color": "#EBF0F8"
             },
             "line": {
              "color": "white"
             }
            },
            "header": {
             "fill": {
              "color": "#C8D4E3"
             },
             "line": {
              "color": "white"
             }
            },
            "type": "table"
           }
          ]
         },
         "layout": {
          "annotationdefaults": {
           "arrowcolor": "#2a3f5f",
           "arrowhead": 0,
           "arrowwidth": 1
          },
          "autotypenumbers": "strict",
          "coloraxis": {
           "colorbar": {
            "outlinewidth": 0,
            "ticks": ""
           }
          },
          "colorscale": {
           "diverging": [
            [
             0,
             "#8e0152"
            ],
            [
             0.1,
             "#c51b7d"
            ],
            [
             0.2,
             "#de77ae"
            ],
            [
             0.3,
             "#f1b6da"
            ],
            [
             0.4,
             "#fde0ef"
            ],
            [
             0.5,
             "#f7f7f7"
            ],
            [
             0.6,
             "#e6f5d0"
            ],
            [
             0.7,
             "#b8e186"
            ],
            [
             0.8,
             "#7fbc41"
            ],
            [
             0.9,
             "#4d9221"
            ],
            [
             1,
             "#276419"
            ]
           ],
           "sequential": [
            [
             0,
             "#0d0887"
            ],
            [
             0.1111111111111111,
             "#46039f"
            ],
            [
             0.2222222222222222,
             "#7201a8"
            ],
            [
             0.3333333333333333,
             "#9c179e"
            ],
            [
             0.4444444444444444,
             "#bd3786"
            ],
            [
             0.5555555555555556,
             "#d8576b"
            ],
            [
             0.6666666666666666,
             "#ed7953"
            ],
            [
             0.7777777777777778,
             "#fb9f3a"
            ],
            [
             0.8888888888888888,
             "#fdca26"
            ],
            [
             1,
             "#f0f921"
            ]
           ],
           "sequentialminus": [
            [
             0,
             "#0d0887"
            ],
            [
             0.1111111111111111,
             "#46039f"
            ],
            [
             0.2222222222222222,
             "#7201a8"
            ],
            [
             0.3333333333333333,
             "#9c179e"
            ],
            [
             0.4444444444444444,
             "#bd3786"
            ],
            [
             0.5555555555555556,
             "#d8576b"
            ],
            [
             0.6666666666666666,
             "#ed7953"
            ],
            [
             0.7777777777777778,
             "#fb9f3a"
            ],
            [
             0.8888888888888888,
             "#fdca26"
            ],
            [
             1,
             "#f0f921"
            ]
           ]
          },
          "colorway": [
           "#636efa",
           "#EF553B",
           "#00cc96",
           "#ab63fa",
           "#FFA15A",
           "#19d3f3",
           "#FF6692",
           "#B6E880",
           "#FF97FF",
           "#FECB52"
          ],
          "font": {
           "color": "#2a3f5f"
          },
          "geo": {
           "bgcolor": "white",
           "lakecolor": "white",
           "landcolor": "#E5ECF6",
           "showlakes": true,
           "showland": true,
           "subunitcolor": "white"
          },
          "hoverlabel": {
           "align": "left"
          },
          "hovermode": "closest",
          "mapbox": {
           "style": "light"
          },
          "paper_bgcolor": "white",
          "plot_bgcolor": "#E5ECF6",
          "polar": {
           "angularaxis": {
            "gridcolor": "white",
            "linecolor": "white",
            "ticks": ""
           },
           "bgcolor": "#E5ECF6",
           "radialaxis": {
            "gridcolor": "white",
            "linecolor": "white",
            "ticks": ""
           }
          },
          "scene": {
           "xaxis": {
            "backgroundcolor": "#E5ECF6",
            "gridcolor": "white",
            "gridwidth": 2,
            "linecolor": "white",
            "showbackground": true,
            "ticks": "",
            "zerolinecolor": "white"
           },
           "yaxis": {
            "backgroundcolor": "#E5ECF6",
            "gridcolor": "white",
            "gridwidth": 2,
            "linecolor": "white",
            "showbackground": true,
            "ticks": "",
            "zerolinecolor": "white"
           },
           "zaxis": {
            "backgroundcolor": "#E5ECF6",
            "gridcolor": "white",
            "gridwidth": 2,
            "linecolor": "white",
            "showbackground": true,
            "ticks": "",
            "zerolinecolor": "white"
           }
          },
          "shapedefaults": {
           "line": {
            "color": "#2a3f5f"
           }
          },
          "ternary": {
           "aaxis": {
            "gridcolor": "white",
            "linecolor": "white",
            "ticks": ""
           },
           "baxis": {
            "gridcolor": "white",
            "linecolor": "white",
            "ticks": ""
           },
           "bgcolor": "#E5ECF6",
           "caxis": {
            "gridcolor": "white",
            "linecolor": "white",
            "ticks": ""
           }
          },
          "title": {
           "x": 0.05
          },
          "xaxis": {
           "automargin": true,
           "gridcolor": "white",
           "linecolor": "white",
           "ticks": "",
           "title": {
            "standoff": 15
           },
           "zerolinecolor": "white",
           "zerolinewidth": 2
          },
          "yaxis": {
           "automargin": true,
           "gridcolor": "white",
           "linecolor": "white",
           "ticks": "",
           "title": {
            "standoff": 15
           },
           "zerolinecolor": "white",
           "zerolinewidth": 2
          }
         }
        },
        "title": {
         "font": {
          "color": "black",
          "family": "Verdana",
          "size": 30,
          "weight": "bold"
         },
         "text": "Seçim: Adana",
         "x": 0.5,
         "xanchor": "center"
        },
        "xaxis": {
         "gridcolor": "lightgray",
         "showgrid": true,
         "tickangle": -45,
         "tickfont": {
          "family": "Verdana",
          "size": 12
         },
         "title": {
          "font": {
           "color": "black",
           "family": "Verdana",
           "size": 20,
           "weight": "bold"
          },
          "text": "Parti"
         }
        },
        "yaxis": {
         "gridcolor": "lightgray",
         "showgrid": true,
         "tickfont": {
          "family": "Verdana",
          "size": 12
         },
         "tickformat": ",",
         "title": {
          "font": {
           "color": "black",
           "family": "Verdana",
           "size": 20,
           "weight": "bold"
          },
          "text": ""
         }
        }
       }
      }
     },
     "metadata": {},
     "output_type": "display_data"
    }
   ],
   "source": [
    "\n",
    "\n",
    "# Group smaller categories into \"Other\"\n",
    "threshold = 0.005 * sum(values)\n",
    "labels_grouped = []\n",
    "values_grouped = []\n",
    "other_value = 0\n",
    "\n",
    "for label, value in zip(labels, values):\n",
    "    if value < threshold:\n",
    "        other_value += value\n",
    "    else:\n",
    "        labels_grouped.append(label)\n",
    "        values_grouped.append(value)\n",
    "\n",
    "if other_value > 0:\n",
    "    labels_grouped.append('Diğer')\n",
    "    values_grouped.append(other_value)\n",
    "    \n",
    "sorted_labels_values = sorted(zip(values_grouped, labels_grouped), reverse=True)\n",
    "values_grouped_sorted, labels_grouped_sorted = zip(*sorted_labels_values)\n",
    "\n",
    "\n",
    "\n",
    "\n",
    "fig_bar = go.Figure(\n",
    "    data=[\n",
    "        go.Bar(\n",
    "            name=\"\",\n",
    "            x=labels_grouped_sorted,\n",
    "            y=values_grouped_sorted,\n",
    "            text=values_grouped_sorted,\n",
    "            texttemplate=\"%{text:,}\",\n",
    "            textposition='auto',\n",
    "            marker=dict(color=px.colors.qualitative.Set3),\n",
    "            hovertemplate=\"%{label}: %{value}\",\n",
    "\n",
    "        )\n",
    "    ]\n",
    ")\n",
    "\n",
    "# Update layout for the bar chart\n",
    "fig_bar.update_layout(\n",
    "    title_text=f\"Seçim: {city_code_map.get(city_code, \"Şehir Bulunamadı\").capitalize()}\",\n",
    "    title_x=0.5,\n",
    "    height=800,\n",
    "    margin=dict(t=100, b=200, l=100, r=100),\n",
    "    title_xanchor=\"center\",\n",
    "    xaxis_title=\"Parti\",\n",
    "    yaxis_title=\"\",\n",
    "    xaxis=dict(tickangle=-45),\n",
    ")\n",
    "\n",
    "fig_bar.update_layout(design)\n",
    "fig_bar.show()\n"
   ]
  },
  {
   "cell_type": "code",
   "execution_count": 43,
   "metadata": {},
   "outputs": [
    {
     "data": {
      "text/html": [
       "<div>\n",
       "<style scoped>\n",
       "    .dataframe tbody tr th:only-of-type {\n",
       "        vertical-align: middle;\n",
       "    }\n",
       "\n",
       "    .dataframe tbody tr th {\n",
       "        vertical-align: top;\n",
       "    }\n",
       "\n",
       "    .dataframe thead th {\n",
       "        text-align: right;\n",
       "    }\n",
       "</style>\n",
       "<table border=\"1\" class=\"dataframe\">\n",
       "  <thead>\n",
       "    <tr style=\"text-align: right;\">\n",
       "      <th></th>\n",
       "      <th>İl Adı</th>\n",
       "      <th>il adi cleaned</th>\n",
       "      <th>İlçe Adı</th>\n",
       "      <th>ilçe adi cleaned</th>\n",
       "      <th>Kayıtlı Seçmen Sayısı</th>\n",
       "      <th>Oy Kullanan Seçmen Sayısı</th>\n",
       "      <th>Geçerli Oy Toplamı</th>\n",
       "      <th>AK PARTİ</th>\n",
       "      <th>İYİ PARTİ</th>\n",
       "      <th>BÜYÜK BİRLİK</th>\n",
       "      <th>MEMLEKET</th>\n",
       "      <th>ANAP</th>\n",
       "      <th>DSP</th>\n",
       "      <th>YENİDEN REFAH</th>\n",
       "      <th>DEM Parti</th>\n",
       "      <th>TKP</th>\n",
       "      <th>ZAFER PARTİSİ</th>\n",
       "      <th>HKP</th>\n",
       "      <th>BTP</th>\n",
       "      <th>GELECEK PARTİSİ</th>\n",
       "      <th>CHP</th>\n",
       "      <th>HÜDA PAR</th>\n",
       "      <th>OCAK</th>\n",
       "      <th>AB PARTİ</th>\n",
       "      <th>DP</th>\n",
       "      <th>MİLLET</th>\n",
       "      <th>MİLLİ YOL</th>\n",
       "      <th>AP</th>\n",
       "      <th>MHP</th>\n",
       "      <th>TİP</th>\n",
       "      <th>DEVA PARTİSİ</th>\n",
       "      <th>SAADET</th>\n",
       "      <th>VATAN PARTİSİ</th>\n",
       "      <th>BAĞIMSIZ TOPLAM OY</th>\n",
       "      <th>TKH</th>\n",
       "      <th>YTP</th>\n",
       "      <th>HAK-PAR</th>\n",
       "      <th>SOL PARTİ</th>\n",
       "      <th>ABP</th>\n",
       "      <th>EMEP</th>\n",
       "      <th>GBP</th>\n",
       "      <th>ADP</th>\n",
       "      <th>il kayit no</th>\n",
       "      <th>ilçe kayit no</th>\n",
       "    </tr>\n",
       "  </thead>\n",
       "  <tbody>\n",
       "    <tr>\n",
       "      <th>0</th>\n",
       "      <td>ADANA</td>\n",
       "      <td>adana</td>\n",
       "      <td>SEYHAN</td>\n",
       "      <td>seyhan</td>\n",
       "      <td>564300</td>\n",
       "      <td>403186</td>\n",
       "      <td>380908</td>\n",
       "      <td>121799</td>\n",
       "      <td>25460</td>\n",
       "      <td>1871</td>\n",
       "      <td>1190</td>\n",
       "      <td>156</td>\n",
       "      <td>421</td>\n",
       "      <td>5884</td>\n",
       "      <td>48216</td>\n",
       "      <td>699</td>\n",
       "      <td>6679</td>\n",
       "      <td>146</td>\n",
       "      <td>1006</td>\n",
       "      <td>0</td>\n",
       "      <td>158439</td>\n",
       "      <td>3195</td>\n",
       "      <td>233</td>\n",
       "      <td>183</td>\n",
       "      <td>351</td>\n",
       "      <td>165</td>\n",
       "      <td>0</td>\n",
       "      <td>0</td>\n",
       "      <td>0</td>\n",
       "      <td>972</td>\n",
       "      <td>1067</td>\n",
       "      <td>2152</td>\n",
       "      <td>292</td>\n",
       "      <td>332</td>\n",
       "      <td>0</td>\n",
       "      <td>0</td>\n",
       "      <td>0</td>\n",
       "      <td>0</td>\n",
       "      <td>0</td>\n",
       "      <td>0</td>\n",
       "      <td>0</td>\n",
       "      <td>0</td>\n",
       "      <td>1.0</td>\n",
       "      <td>1.0</td>\n",
       "    </tr>\n",
       "  </tbody>\n",
       "</table>\n",
       "</div>"
      ],
      "text/plain": [
       "  İl Adı il adi cleaned İlçe Adı ilçe adi cleaned  Kayıtlı Seçmen Sayısı  \\\n",
       "0  ADANA          adana   SEYHAN           seyhan                 564300   \n",
       "\n",
       "   Oy Kullanan Seçmen Sayısı  Geçerli Oy Toplamı  AK PARTİ  İYİ PARTİ  \\\n",
       "0                     403186              380908    121799      25460   \n",
       "\n",
       "   BÜYÜK BİRLİK  MEMLEKET  ANAP  DSP  YENİDEN REFAH  DEM Parti  TKP  \\\n",
       "0          1871      1190   156  421           5884      48216  699   \n",
       "\n",
       "   ZAFER PARTİSİ  HKP   BTP  GELECEK PARTİSİ     CHP  HÜDA PAR  OCAK  \\\n",
       "0           6679  146  1006                0  158439      3195   233   \n",
       "\n",
       "   AB PARTİ   DP  MİLLET  MİLLİ YOL  AP  MHP  TİP  DEVA PARTİSİ  SAADET  \\\n",
       "0       183  351     165          0   0    0  972          1067    2152   \n",
       "\n",
       "   VATAN PARTİSİ  BAĞIMSIZ TOPLAM OY  TKH  YTP  HAK-PAR  SOL PARTİ  ABP  EMEP  \\\n",
       "0            292                 332    0    0        0          0    0     0   \n",
       "\n",
       "   GBP  ADP  il kayit no  ilçe kayit no  \n",
       "0    0    0          1.0            1.0  "
      ]
     },
     "execution_count": 43,
     "metadata": {},
     "output_type": "execute_result"
    }
   ],
   "source": [
    "# City and Province\n",
    "city_code = 1\n",
    "province_code = 1\n",
    "selected_df = df7[(df7[\"il kayit no\"]==city_code) & (df7[\"ilçe kayit no\"]==province_code)]\n",
    "selected_df"
   ]
  },
  {
   "cell_type": "code",
   "execution_count": 30,
   "metadata": {},
   "outputs": [
    {
     "data": {
      "text/plain": [
       "Index(['Kayıtlı Seçmen Sayısı', 'Oy Kullanan Seçmen Sayısı',\n",
       "       'Geçerli Oy Toplamı'],\n",
       "      dtype='object')"
      ]
     },
     "execution_count": 30,
     "metadata": {},
     "output_type": "execute_result"
    }
   ],
   "source": [
    "selected_df.columns[4:7]\n"
   ]
  },
  {
   "cell_type": "code",
   "execution_count": 69,
   "metadata": {},
   "outputs": [
    {
     "data": {
      "application/vnd.plotly.v1+json": {
       "config": {
        "plotlyServerURL": "https://plot.ly"
       },
       "data": [
        {
         "hovertemplate": "%{label}: %{value}",
         "marker": {
          "color": [
           "rgb(141,211,199)",
           "rgb(255,255,179)",
           "rgb(190,186,218)",
           "rgb(251,128,114)",
           "rgb(128,177,211)",
           "rgb(253,180,98)",
           "rgb(179,222,105)",
           "rgb(252,205,229)",
           "rgb(217,217,217)",
           "rgb(188,128,189)",
           "rgb(204,235,197)",
           "rgb(255,237,111)"
          ]
         },
         "name": "",
         "text": [
          "158439",
          "121799",
          "48216",
          "25460",
          "14431",
          "6679",
          "5884"
         ],
         "textposition": "auto",
         "texttemplate": "%{text:,}",
         "type": "bar",
         "x": [
          "CHP",
          "AK PARTİ",
          "DEM Parti",
          "İYİ PARTİ",
          "Diğer",
          "ZAFER PARTİSİ",
          "YENİDEN REFAH"
         ],
         "y": [
          158439,
          121799,
          48216,
          25460,
          14431,
          6679,
          5884
         ]
        }
       ],
       "layout": {
        "height": 800,
        "margin": {
         "b": 110,
         "l": 110,
         "r": 20,
         "t": 100
        },
        "plot_bgcolor": "#f3f4f6",
        "template": {
         "data": {
          "bar": [
           {
            "error_x": {
             "color": "#2a3f5f"
            },
            "error_y": {
             "color": "#2a3f5f"
            },
            "marker": {
             "line": {
              "color": "#E5ECF6",
              "width": 0.5
             },
             "pattern": {
              "fillmode": "overlay",
              "size": 10,
              "solidity": 0.2
             }
            },
            "type": "bar"
           }
          ],
          "barpolar": [
           {
            "marker": {
             "line": {
              "color": "#E5ECF6",
              "width": 0.5
             },
             "pattern": {
              "fillmode": "overlay",
              "size": 10,
              "solidity": 0.2
             }
            },
            "type": "barpolar"
           }
          ],
          "carpet": [
           {
            "aaxis": {
             "endlinecolor": "#2a3f5f",
             "gridcolor": "white",
             "linecolor": "white",
             "minorgridcolor": "white",
             "startlinecolor": "#2a3f5f"
            },
            "baxis": {
             "endlinecolor": "#2a3f5f",
             "gridcolor": "white",
             "linecolor": "white",
             "minorgridcolor": "white",
             "startlinecolor": "#2a3f5f"
            },
            "type": "carpet"
           }
          ],
          "choropleth": [
           {
            "colorbar": {
             "outlinewidth": 0,
             "ticks": ""
            },
            "type": "choropleth"
           }
          ],
          "contour": [
           {
            "colorbar": {
             "outlinewidth": 0,
             "ticks": ""
            },
            "colorscale": [
             [
              0,
              "#0d0887"
             ],
             [
              0.1111111111111111,
              "#46039f"
             ],
             [
              0.2222222222222222,
              "#7201a8"
             ],
             [
              0.3333333333333333,
              "#9c179e"
             ],
             [
              0.4444444444444444,
              "#bd3786"
             ],
             [
              0.5555555555555556,
              "#d8576b"
             ],
             [
              0.6666666666666666,
              "#ed7953"
             ],
             [
              0.7777777777777778,
              "#fb9f3a"
             ],
             [
              0.8888888888888888,
              "#fdca26"
             ],
             [
              1,
              "#f0f921"
             ]
            ],
            "type": "contour"
           }
          ],
          "contourcarpet": [
           {
            "colorbar": {
             "outlinewidth": 0,
             "ticks": ""
            },
            "type": "contourcarpet"
           }
          ],
          "heatmap": [
           {
            "colorbar": {
             "outlinewidth": 0,
             "ticks": ""
            },
            "colorscale": [
             [
              0,
              "#0d0887"
             ],
             [
              0.1111111111111111,
              "#46039f"
             ],
             [
              0.2222222222222222,
              "#7201a8"
             ],
             [
              0.3333333333333333,
              "#9c179e"
             ],
             [
              0.4444444444444444,
              "#bd3786"
             ],
             [
              0.5555555555555556,
              "#d8576b"
             ],
             [
              0.6666666666666666,
              "#ed7953"
             ],
             [
              0.7777777777777778,
              "#fb9f3a"
             ],
             [
              0.8888888888888888,
              "#fdca26"
             ],
             [
              1,
              "#f0f921"
             ]
            ],
            "type": "heatmap"
           }
          ],
          "heatmapgl": [
           {
            "colorbar": {
             "outlinewidth": 0,
             "ticks": ""
            },
            "colorscale": [
             [
              0,
              "#0d0887"
             ],
             [
              0.1111111111111111,
              "#46039f"
             ],
             [
              0.2222222222222222,
              "#7201a8"
             ],
             [
              0.3333333333333333,
              "#9c179e"
             ],
             [
              0.4444444444444444,
              "#bd3786"
             ],
             [
              0.5555555555555556,
              "#d8576b"
             ],
             [
              0.6666666666666666,
              "#ed7953"
             ],
             [
              0.7777777777777778,
              "#fb9f3a"
             ],
             [
              0.8888888888888888,
              "#fdca26"
             ],
             [
              1,
              "#f0f921"
             ]
            ],
            "type": "heatmapgl"
           }
          ],
          "histogram": [
           {
            "marker": {
             "pattern": {
              "fillmode": "overlay",
              "size": 10,
              "solidity": 0.2
             }
            },
            "type": "histogram"
           }
          ],
          "histogram2d": [
           {
            "colorbar": {
             "outlinewidth": 0,
             "ticks": ""
            },
            "colorscale": [
             [
              0,
              "#0d0887"
             ],
             [
              0.1111111111111111,
              "#46039f"
             ],
             [
              0.2222222222222222,
              "#7201a8"
             ],
             [
              0.3333333333333333,
              "#9c179e"
             ],
             [
              0.4444444444444444,
              "#bd3786"
             ],
             [
              0.5555555555555556,
              "#d8576b"
             ],
             [
              0.6666666666666666,
              "#ed7953"
             ],
             [
              0.7777777777777778,
              "#fb9f3a"
             ],
             [
              0.8888888888888888,
              "#fdca26"
             ],
             [
              1,
              "#f0f921"
             ]
            ],
            "type": "histogram2d"
           }
          ],
          "histogram2dcontour": [
           {
            "colorbar": {
             "outlinewidth": 0,
             "ticks": ""
            },
            "colorscale": [
             [
              0,
              "#0d0887"
             ],
             [
              0.1111111111111111,
              "#46039f"
             ],
             [
              0.2222222222222222,
              "#7201a8"
             ],
             [
              0.3333333333333333,
              "#9c179e"
             ],
             [
              0.4444444444444444,
              "#bd3786"
             ],
             [
              0.5555555555555556,
              "#d8576b"
             ],
             [
              0.6666666666666666,
              "#ed7953"
             ],
             [
              0.7777777777777778,
              "#fb9f3a"
             ],
             [
              0.8888888888888888,
              "#fdca26"
             ],
             [
              1,
              "#f0f921"
             ]
            ],
            "type": "histogram2dcontour"
           }
          ],
          "mesh3d": [
           {
            "colorbar": {
             "outlinewidth": 0,
             "ticks": ""
            },
            "type": "mesh3d"
           }
          ],
          "parcoords": [
           {
            "line": {
             "colorbar": {
              "outlinewidth": 0,
              "ticks": ""
             }
            },
            "type": "parcoords"
           }
          ],
          "pie": [
           {
            "automargin": true,
            "type": "pie"
           }
          ],
          "scatter": [
           {
            "fillpattern": {
             "fillmode": "overlay",
             "size": 10,
             "solidity": 0.2
            },
            "type": "scatter"
           }
          ],
          "scatter3d": [
           {
            "line": {
             "colorbar": {
              "outlinewidth": 0,
              "ticks": ""
             }
            },
            "marker": {
             "colorbar": {
              "outlinewidth": 0,
              "ticks": ""
             }
            },
            "type": "scatter3d"
           }
          ],
          "scattercarpet": [
           {
            "marker": {
             "colorbar": {
              "outlinewidth": 0,
              "ticks": ""
             }
            },
            "type": "scattercarpet"
           }
          ],
          "scattergeo": [
           {
            "marker": {
             "colorbar": {
              "outlinewidth": 0,
              "ticks": ""
             }
            },
            "type": "scattergeo"
           }
          ],
          "scattergl": [
           {
            "marker": {
             "colorbar": {
              "outlinewidth": 0,
              "ticks": ""
             }
            },
            "type": "scattergl"
           }
          ],
          "scattermapbox": [
           {
            "marker": {
             "colorbar": {
              "outlinewidth": 0,
              "ticks": ""
             }
            },
            "type": "scattermapbox"
           }
          ],
          "scatterpolar": [
           {
            "marker": {
             "colorbar": {
              "outlinewidth": 0,
              "ticks": ""
             }
            },
            "type": "scatterpolar"
           }
          ],
          "scatterpolargl": [
           {
            "marker": {
             "colorbar": {
              "outlinewidth": 0,
              "ticks": ""
             }
            },
            "type": "scatterpolargl"
           }
          ],
          "scatterternary": [
           {
            "marker": {
             "colorbar": {
              "outlinewidth": 0,
              "ticks": ""
             }
            },
            "type": "scatterternary"
           }
          ],
          "surface": [
           {
            "colorbar": {
             "outlinewidth": 0,
             "ticks": ""
            },
            "colorscale": [
             [
              0,
              "#0d0887"
             ],
             [
              0.1111111111111111,
              "#46039f"
             ],
             [
              0.2222222222222222,
              "#7201a8"
             ],
             [
              0.3333333333333333,
              "#9c179e"
             ],
             [
              0.4444444444444444,
              "#bd3786"
             ],
             [
              0.5555555555555556,
              "#d8576b"
             ],
             [
              0.6666666666666666,
              "#ed7953"
             ],
             [
              0.7777777777777778,
              "#fb9f3a"
             ],
             [
              0.8888888888888888,
              "#fdca26"
             ],
             [
              1,
              "#f0f921"
             ]
            ],
            "type": "surface"
           }
          ],
          "table": [
           {
            "cells": {
             "fill": {
              "color": "#EBF0F8"
             },
             "line": {
              "color": "white"
             }
            },
            "header": {
             "fill": {
              "color": "#C8D4E3"
             },
             "line": {
              "color": "white"
             }
            },
            "type": "table"
           }
          ]
         },
         "layout": {
          "annotationdefaults": {
           "arrowcolor": "#2a3f5f",
           "arrowhead": 0,
           "arrowwidth": 1
          },
          "autotypenumbers": "strict",
          "coloraxis": {
           "colorbar": {
            "outlinewidth": 0,
            "ticks": ""
           }
          },
          "colorscale": {
           "diverging": [
            [
             0,
             "#8e0152"
            ],
            [
             0.1,
             "#c51b7d"
            ],
            [
             0.2,
             "#de77ae"
            ],
            [
             0.3,
             "#f1b6da"
            ],
            [
             0.4,
             "#fde0ef"
            ],
            [
             0.5,
             "#f7f7f7"
            ],
            [
             0.6,
             "#e6f5d0"
            ],
            [
             0.7,
             "#b8e186"
            ],
            [
             0.8,
             "#7fbc41"
            ],
            [
             0.9,
             "#4d9221"
            ],
            [
             1,
             "#276419"
            ]
           ],
           "sequential": [
            [
             0,
             "#0d0887"
            ],
            [
             0.1111111111111111,
             "#46039f"
            ],
            [
             0.2222222222222222,
             "#7201a8"
            ],
            [
             0.3333333333333333,
             "#9c179e"
            ],
            [
             0.4444444444444444,
             "#bd3786"
            ],
            [
             0.5555555555555556,
             "#d8576b"
            ],
            [
             0.6666666666666666,
             "#ed7953"
            ],
            [
             0.7777777777777778,
             "#fb9f3a"
            ],
            [
             0.8888888888888888,
             "#fdca26"
            ],
            [
             1,
             "#f0f921"
            ]
           ],
           "sequentialminus": [
            [
             0,
             "#0d0887"
            ],
            [
             0.1111111111111111,
             "#46039f"
            ],
            [
             0.2222222222222222,
             "#7201a8"
            ],
            [
             0.3333333333333333,
             "#9c179e"
            ],
            [
             0.4444444444444444,
             "#bd3786"
            ],
            [
             0.5555555555555556,
             "#d8576b"
            ],
            [
             0.6666666666666666,
             "#ed7953"
            ],
            [
             0.7777777777777778,
             "#fb9f3a"
            ],
            [
             0.8888888888888888,
             "#fdca26"
            ],
            [
             1,
             "#f0f921"
            ]
           ]
          },
          "colorway": [
           "#636efa",
           "#EF553B",
           "#00cc96",
           "#ab63fa",
           "#FFA15A",
           "#19d3f3",
           "#FF6692",
           "#B6E880",
           "#FF97FF",
           "#FECB52"
          ],
          "font": {
           "color": "#2a3f5f"
          },
          "geo": {
           "bgcolor": "white",
           "lakecolor": "white",
           "landcolor": "#E5ECF6",
           "showlakes": true,
           "showland": true,
           "subunitcolor": "white"
          },
          "hoverlabel": {
           "align": "left"
          },
          "hovermode": "closest",
          "mapbox": {
           "style": "light"
          },
          "paper_bgcolor": "white",
          "plot_bgcolor": "#E5ECF6",
          "polar": {
           "angularaxis": {
            "gridcolor": "white",
            "linecolor": "white",
            "ticks": ""
           },
           "bgcolor": "#E5ECF6",
           "radialaxis": {
            "gridcolor": "white",
            "linecolor": "white",
            "ticks": ""
           }
          },
          "scene": {
           "xaxis": {
            "backgroundcolor": "#E5ECF6",
            "gridcolor": "white",
            "gridwidth": 2,
            "linecolor": "white",
            "showbackground": true,
            "ticks": "",
            "zerolinecolor": "white"
           },
           "yaxis": {
            "backgroundcolor": "#E5ECF6",
            "gridcolor": "white",
            "gridwidth": 2,
            "linecolor": "white",
            "showbackground": true,
            "ticks": "",
            "zerolinecolor": "white"
           },
           "zaxis": {
            "backgroundcolor": "#E5ECF6",
            "gridcolor": "white",
            "gridwidth": 2,
            "linecolor": "white",
            "showbackground": true,
            "ticks": "",
            "zerolinecolor": "white"
           }
          },
          "shapedefaults": {
           "line": {
            "color": "#2a3f5f"
           }
          },
          "ternary": {
           "aaxis": {
            "gridcolor": "white",
            "linecolor": "white",
            "ticks": ""
           },
           "baxis": {
            "gridcolor": "white",
            "linecolor": "white",
            "ticks": ""
           },
           "bgcolor": "#E5ECF6",
           "caxis": {
            "gridcolor": "white",
            "linecolor": "white",
            "ticks": ""
           }
          },
          "title": {
           "x": 0.05
          },
          "xaxis": {
           "automargin": true,
           "gridcolor": "white",
           "linecolor": "white",
           "ticks": "",
           "title": {
            "standoff": 15
           },
           "zerolinecolor": "white",
           "zerolinewidth": 2
          },
          "yaxis": {
           "automargin": true,
           "gridcolor": "white",
           "linecolor": "white",
           "ticks": "",
           "title": {
            "standoff": 15
           },
           "zerolinecolor": "white",
           "zerolinewidth": 2
          }
         }
        },
        "title": {
         "font": {
          "color": "black",
          "family": "Verdana",
          "size": 30,
          "weight": "bold"
         },
         "text": "Seçim: Adana, SEYHAN",
         "x": 0.5,
         "xanchor": "center"
        },
        "xaxis": {
         "gridcolor": "lightgray",
         "showgrid": true,
         "tickangle": -45,
         "tickfont": {
          "family": "Verdana",
          "size": 12
         },
         "title": {
          "font": {
           "color": "black",
           "family": "Verdana",
           "size": 20,
           "weight": "bold"
          },
          "text": "Parti"
         }
        },
        "yaxis": {
         "gridcolor": "lightgray",
         "showgrid": true,
         "tickfont": {
          "family": "Verdana",
          "size": 12
         },
         "tickformat": ",",
         "title": {
          "font": {
           "color": "black",
           "family": "Verdana",
           "size": 20,
           "weight": "bold"
          },
          "text": ""
         }
        }
       }
      }
     },
     "metadata": {},
     "output_type": "display_data"
    }
   ],
   "source": [
    "\n",
    "import plotly.express as px\n",
    "\n",
    "labels = selected_df.columns[7:-2].to_list()\n",
    "values = selected_df[selected_df.columns[7:-2].to_list()].iloc[0]\n",
    "\n",
    "\n",
    "# Group smaller categories into \"Other\"\n",
    "threshold = 0.01 * sum(values)\n",
    "labels_grouped = []\n",
    "values_grouped = []\n",
    "other_value = 0\n",
    "\n",
    "for label, value in zip(labels, values):\n",
    "    if value < threshold:\n",
    "        other_value += value\n",
    "    else:\n",
    "        labels_grouped.append(label)\n",
    "        values_grouped.append(value)\n",
    "\n",
    "if other_value > 0:\n",
    "    labels_grouped.append('Diğer')\n",
    "    values_grouped.append(other_value)\n",
    "    \n",
    "sorted_labels_values = sorted(zip(values_grouped, labels_grouped), reverse=True)\n",
    "values_grouped_sorted, labels_grouped_sorted = zip(*sorted_labels_values)\n",
    "\n",
    "# fig = px.bar(x=labels_grouped, y=values_grouped, \n",
    "#             #  color_discrete_map={\"CHP\": \"red\", \"Ak Parti\": \"gold\"},\n",
    "#             color_discrete_sequence=px.colors.qualitative.Pastel,\n",
    "#             labels={\"\": \"Parti\", \"y\": \"Oran (%)\"},\n",
    "#             title=f\"Seçim: {city_code_map.get(city_code, 'Şehir Bulunamadı').capitalize()}, {selected_df.iloc[0, 2]}\")\n",
    "\n",
    "# fig.update_layout(design)\n",
    "\n",
    "# fig.show()\n",
    "\n",
    "\n",
    "\n",
    "fig_bar = go.Figure(\n",
    "    data=[\n",
    "        go.Bar(\n",
    "            name=\"\",\n",
    "            x=labels_grouped_sorted,\n",
    "            y=values_grouped_sorted,\n",
    "            text=values_grouped_sorted,\n",
    "            texttemplate=\"%{text:,}\",\n",
    "            textposition='auto',\n",
    "            marker=dict(color=px.colors.qualitative.Set3),\n",
    "            hovertemplate=\"%{label}: %{value}\",\n",
    "\n",
    "        )\n",
    "    ]\n",
    ")\n",
    "\n",
    "# Update layout for the bar chart\n",
    "fig_bar.update_layout(\n",
    "    title_text=f\"Seçim: {city_code_map.get(city_code, \"Şehir Bulunamadı\").capitalize()}, {selected_df.iloc[0, 2]}\",\n",
    "    title_x=0.5,\n",
    "    height=800,\n",
    "    margin=dict(t=100, b=200, l=100, r=100),\n",
    "    title_xanchor=\"center\",\n",
    "    xaxis_title=\"Parti\",\n",
    "    yaxis_title=\"\",\n",
    "    xaxis=dict(tickangle=-45),\n",
    ")\n",
    "\n",
    "fig_bar.update_layout(design)\n",
    "fig_bar.show()"
   ]
  },
  {
   "cell_type": "markdown",
   "metadata": {},
   "source": [
    "## Marital"
   ]
  },
  {
   "cell_type": "code",
   "execution_count": 5,
   "metadata": {},
   "outputs": [
    {
     "data": {
      "application/vnd.plotly.v1+json": {
       "config": {
        "plotlyServerURL": "https://plot.ly"
       },
       "data": [
        {
         "domain": {
          "x": [
           0,
           0.2125
          ],
          "y": [
           0,
           1
          ]
         },
         "hovertemplate": "<b>%{label}</b><br>%{value}",
         "labels": [
          "Erkek",
          "Kadın"
         ],
         "marker": {
          "colors": [
           "skyblue",
           "salmon"
          ]
         },
         "name": "",
         "pull": [
          0,
          0
         ],
         "textfont": {
          "color": "black",
          "family": "Verdana",
          "size": 16,
          "weight": "bold"
         },
         "textinfo": "label+percent",
         "type": "pie",
         "values": [
          2229806,
          1772558
         ]
        },
        {
         "domain": {
          "x": [
           0.2625,
           0.475
          ],
          "y": [
           0,
           1
          ]
         },
         "hovertemplate": "<b>%{label}</b><br>%{value}",
         "labels": [
          "Erkek",
          "Kadın"
         ],
         "marker": {
          "colors": [
           "skyblue",
           "salmon"
          ]
         },
         "name": "",
         "pull": [
          0,
          0
         ],
         "textfont": {
          "color": "black",
          "family": "Verdana",
          "size": 16,
          "weight": "bold"
         },
         "textinfo": "label+percent",
         "type": "pie",
         "values": [
          3606228,
          3656797
         ]
        },
        {
         "domain": {
          "x": [
           0.525,
           0.7375
          ],
          "y": [
           0,
           1
          ]
         },
         "hovertemplate": "<b>%{label}</b><br>%{value}",
         "labels": [
          "Erkek",
          "Kadın"
         ],
         "marker": {
          "colors": [
           "skyblue",
           "salmon"
          ]
         },
         "name": "",
         "pull": [
          0,
          0
         ],
         "textfont": {
          "color": "black",
          "family": "Verdana",
          "size": 16,
          "weight": "bold"
         },
         "textinfo": "label+percent",
         "type": "pie",
         "values": [
          290784,
          414624
         ]
        },
        {
         "domain": {
          "x": [
           0.7875,
           1
          ],
          "y": [
           0,
           1
          ]
         },
         "hovertemplate": "<b>%{label}</b><br>%{value}",
         "labels": [
          "Erkek",
          "Kadın"
         ],
         "marker": {
          "colors": [
           "skyblue",
           "salmon"
          ]
         },
         "name": "",
         "pull": [
          0,
          0
         ],
         "textfont": {
          "color": "black",
          "family": "Verdana",
          "size": 16,
          "weight": "bold"
         },
         "textinfo": "label+percent",
         "type": "pie",
         "values": [
          72247,
          481706
         ]
        }
       ],
       "layout": {
        "annotations": [
         {
          "font": {
           "size": 16
          },
          "showarrow": false,
          "text": "Evli",
          "x": 0.10625,
          "xanchor": "center",
          "xref": "paper",
          "y": 1,
          "yanchor": "bottom",
          "yref": "paper"
         },
         {
          "font": {
           "size": 16
          },
          "showarrow": false,
          "text": "Hiç Evlenmedi",
          "x": 0.36875,
          "xanchor": "center",
          "xref": "paper",
          "y": 1,
          "yanchor": "bottom",
          "yref": "paper"
         },
         {
          "font": {
           "size": 16
          },
          "showarrow": false,
          "text": "Boşandı",
          "x": 0.6312500000000001,
          "xanchor": "center",
          "xref": "paper",
          "y": 1,
          "yanchor": "bottom",
          "yref": "paper"
         },
         {
          "font": {
           "size": 16
          },
          "showarrow": false,
          "text": "Eşi Vefat Etti",
          "x": 0.89375,
          "xanchor": "center",
          "xref": "paper",
          "y": 1,
          "yanchor": "bottom",
          "yref": "paper"
         }
        ],
        "height": 600,
        "margin": {
         "b": 110,
         "l": 110,
         "r": 20,
         "t": 100
        },
        "plot_bgcolor": "#f3f4f6",
        "showlegend": false,
        "template": {
         "data": {
          "bar": [
           {
            "error_x": {
             "color": "#2a3f5f"
            },
            "error_y": {
             "color": "#2a3f5f"
            },
            "marker": {
             "line": {
              "color": "#E5ECF6",
              "width": 0.5
             },
             "pattern": {
              "fillmode": "overlay",
              "size": 10,
              "solidity": 0.2
             }
            },
            "type": "bar"
           }
          ],
          "barpolar": [
           {
            "marker": {
             "line": {
              "color": "#E5ECF6",
              "width": 0.5
             },
             "pattern": {
              "fillmode": "overlay",
              "size": 10,
              "solidity": 0.2
             }
            },
            "type": "barpolar"
           }
          ],
          "carpet": [
           {
            "aaxis": {
             "endlinecolor": "#2a3f5f",
             "gridcolor": "white",
             "linecolor": "white",
             "minorgridcolor": "white",
             "startlinecolor": "#2a3f5f"
            },
            "baxis": {
             "endlinecolor": "#2a3f5f",
             "gridcolor": "white",
             "linecolor": "white",
             "minorgridcolor": "white",
             "startlinecolor": "#2a3f5f"
            },
            "type": "carpet"
           }
          ],
          "choropleth": [
           {
            "colorbar": {
             "outlinewidth": 0,
             "ticks": ""
            },
            "type": "choropleth"
           }
          ],
          "contour": [
           {
            "colorbar": {
             "outlinewidth": 0,
             "ticks": ""
            },
            "colorscale": [
             [
              0,
              "#0d0887"
             ],
             [
              0.1111111111111111,
              "#46039f"
             ],
             [
              0.2222222222222222,
              "#7201a8"
             ],
             [
              0.3333333333333333,
              "#9c179e"
             ],
             [
              0.4444444444444444,
              "#bd3786"
             ],
             [
              0.5555555555555556,
              "#d8576b"
             ],
             [
              0.6666666666666666,
              "#ed7953"
             ],
             [
              0.7777777777777778,
              "#fb9f3a"
             ],
             [
              0.8888888888888888,
              "#fdca26"
             ],
             [
              1,
              "#f0f921"
             ]
            ],
            "type": "contour"
           }
          ],
          "contourcarpet": [
           {
            "colorbar": {
             "outlinewidth": 0,
             "ticks": ""
            },
            "type": "contourcarpet"
           }
          ],
          "heatmap": [
           {
            "colorbar": {
             "outlinewidth": 0,
             "ticks": ""
            },
            "colorscale": [
             [
              0,
              "#0d0887"
             ],
             [
              0.1111111111111111,
              "#46039f"
             ],
             [
              0.2222222222222222,
              "#7201a8"
             ],
             [
              0.3333333333333333,
              "#9c179e"
             ],
             [
              0.4444444444444444,
              "#bd3786"
             ],
             [
              0.5555555555555556,
              "#d8576b"
             ],
             [
              0.6666666666666666,
              "#ed7953"
             ],
             [
              0.7777777777777778,
              "#fb9f3a"
             ],
             [
              0.8888888888888888,
              "#fdca26"
             ],
             [
              1,
              "#f0f921"
             ]
            ],
            "type": "heatmap"
           }
          ],
          "heatmapgl": [
           {
            "colorbar": {
             "outlinewidth": 0,
             "ticks": ""
            },
            "colorscale": [
             [
              0,
              "#0d0887"
             ],
             [
              0.1111111111111111,
              "#46039f"
             ],
             [
              0.2222222222222222,
              "#7201a8"
             ],
             [
              0.3333333333333333,
              "#9c179e"
             ],
             [
              0.4444444444444444,
              "#bd3786"
             ],
             [
              0.5555555555555556,
              "#d8576b"
             ],
             [
              0.6666666666666666,
              "#ed7953"
             ],
             [
              0.7777777777777778,
              "#fb9f3a"
             ],
             [
              0.8888888888888888,
              "#fdca26"
             ],
             [
              1,
              "#f0f921"
             ]
            ],
            "type": "heatmapgl"
           }
          ],
          "histogram": [
           {
            "marker": {
             "pattern": {
              "fillmode": "overlay",
              "size": 10,
              "solidity": 0.2
             }
            },
            "type": "histogram"
           }
          ],
          "histogram2d": [
           {
            "colorbar": {
             "outlinewidth": 0,
             "ticks": ""
            },
            "colorscale": [
             [
              0,
              "#0d0887"
             ],
             [
              0.1111111111111111,
              "#46039f"
             ],
             [
              0.2222222222222222,
              "#7201a8"
             ],
             [
              0.3333333333333333,
              "#9c179e"
             ],
             [
              0.4444444444444444,
              "#bd3786"
             ],
             [
              0.5555555555555556,
              "#d8576b"
             ],
             [
              0.6666666666666666,
              "#ed7953"
             ],
             [
              0.7777777777777778,
              "#fb9f3a"
             ],
             [
              0.8888888888888888,
              "#fdca26"
             ],
             [
              1,
              "#f0f921"
             ]
            ],
            "type": "histogram2d"
           }
          ],
          "histogram2dcontour": [
           {
            "colorbar": {
             "outlinewidth": 0,
             "ticks": ""
            },
            "colorscale": [
             [
              0,
              "#0d0887"
             ],
             [
              0.1111111111111111,
              "#46039f"
             ],
             [
              0.2222222222222222,
              "#7201a8"
             ],
             [
              0.3333333333333333,
              "#9c179e"
             ],
             [
              0.4444444444444444,
              "#bd3786"
             ],
             [
              0.5555555555555556,
              "#d8576b"
             ],
             [
              0.6666666666666666,
              "#ed7953"
             ],
             [
              0.7777777777777778,
              "#fb9f3a"
             ],
             [
              0.8888888888888888,
              "#fdca26"
             ],
             [
              1,
              "#f0f921"
             ]
            ],
            "type": "histogram2dcontour"
           }
          ],
          "mesh3d": [
           {
            "colorbar": {
             "outlinewidth": 0,
             "ticks": ""
            },
            "type": "mesh3d"
           }
          ],
          "parcoords": [
           {
            "line": {
             "colorbar": {
              "outlinewidth": 0,
              "ticks": ""
             }
            },
            "type": "parcoords"
           }
          ],
          "pie": [
           {
            "automargin": true,
            "type": "pie"
           }
          ],
          "scatter": [
           {
            "fillpattern": {
             "fillmode": "overlay",
             "size": 10,
             "solidity": 0.2
            },
            "type": "scatter"
           }
          ],
          "scatter3d": [
           {
            "line": {
             "colorbar": {
              "outlinewidth": 0,
              "ticks": ""
             }
            },
            "marker": {
             "colorbar": {
              "outlinewidth": 0,
              "ticks": ""
             }
            },
            "type": "scatter3d"
           }
          ],
          "scattercarpet": [
           {
            "marker": {
             "colorbar": {
              "outlinewidth": 0,
              "ticks": ""
             }
            },
            "type": "scattercarpet"
           }
          ],
          "scattergeo": [
           {
            "marker": {
             "colorbar": {
              "outlinewidth": 0,
              "ticks": ""
             }
            },
            "type": "scattergeo"
           }
          ],
          "scattergl": [
           {
            "marker": {
             "colorbar": {
              "outlinewidth": 0,
              "ticks": ""
             }
            },
            "type": "scattergl"
           }
          ],
          "scattermapbox": [
           {
            "marker": {
             "colorbar": {
              "outlinewidth": 0,
              "ticks": ""
             }
            },
            "type": "scattermapbox"
           }
          ],
          "scatterpolar": [
           {
            "marker": {
             "colorbar": {
              "outlinewidth": 0,
              "ticks": ""
             }
            },
            "type": "scatterpolar"
           }
          ],
          "scatterpolargl": [
           {
            "marker": {
             "colorbar": {
              "outlinewidth": 0,
              "ticks": ""
             }
            },
            "type": "scatterpolargl"
           }
          ],
          "scatterternary": [
           {
            "marker": {
             "colorbar": {
              "outlinewidth": 0,
              "ticks": ""
             }
            },
            "type": "scatterternary"
           }
          ],
          "surface": [
           {
            "colorbar": {
             "outlinewidth": 0,
             "ticks": ""
            },
            "colorscale": [
             [
              0,
              "#0d0887"
             ],
             [
              0.1111111111111111,
              "#46039f"
             ],
             [
              0.2222222222222222,
              "#7201a8"
             ],
             [
              0.3333333333333333,
              "#9c179e"
             ],
             [
              0.4444444444444444,
              "#bd3786"
             ],
             [
              0.5555555555555556,
              "#d8576b"
             ],
             [
              0.6666666666666666,
              "#ed7953"
             ],
             [
              0.7777777777777778,
              "#fb9f3a"
             ],
             [
              0.8888888888888888,
              "#fdca26"
             ],
             [
              1,
              "#f0f921"
             ]
            ],
            "type": "surface"
           }
          ],
          "table": [
           {
            "cells": {
             "fill": {
              "color": "#EBF0F8"
             },
             "line": {
              "color": "white"
             }
            },
            "header": {
             "fill": {
              "color": "#C8D4E3"
             },
             "line": {
              "color": "white"
             }
            },
            "type": "table"
           }
          ]
         },
         "layout": {
          "annotationdefaults": {
           "arrowcolor": "#2a3f5f",
           "arrowhead": 0,
           "arrowwidth": 1
          },
          "autotypenumbers": "strict",
          "coloraxis": {
           "colorbar": {
            "outlinewidth": 0,
            "ticks": ""
           }
          },
          "colorscale": {
           "diverging": [
            [
             0,
             "#8e0152"
            ],
            [
             0.1,
             "#c51b7d"
            ],
            [
             0.2,
             "#de77ae"
            ],
            [
             0.3,
             "#f1b6da"
            ],
            [
             0.4,
             "#fde0ef"
            ],
            [
             0.5,
             "#f7f7f7"
            ],
            [
             0.6,
             "#e6f5d0"
            ],
            [
             0.7,
             "#b8e186"
            ],
            [
             0.8,
             "#7fbc41"
            ],
            [
             0.9,
             "#4d9221"
            ],
            [
             1,
             "#276419"
            ]
           ],
           "sequential": [
            [
             0,
             "#0d0887"
            ],
            [
             0.1111111111111111,
             "#46039f"
            ],
            [
             0.2222222222222222,
             "#7201a8"
            ],
            [
             0.3333333333333333,
             "#9c179e"
            ],
            [
             0.4444444444444444,
             "#bd3786"
            ],
            [
             0.5555555555555556,
             "#d8576b"
            ],
            [
             0.6666666666666666,
             "#ed7953"
            ],
            [
             0.7777777777777778,
             "#fb9f3a"
            ],
            [
             0.8888888888888888,
             "#fdca26"
            ],
            [
             1,
             "#f0f921"
            ]
           ],
           "sequentialminus": [
            [
             0,
             "#0d0887"
            ],
            [
             0.1111111111111111,
             "#46039f"
            ],
            [
             0.2222222222222222,
             "#7201a8"
            ],
            [
             0.3333333333333333,
             "#9c179e"
            ],
            [
             0.4444444444444444,
             "#bd3786"
            ],
            [
             0.5555555555555556,
             "#d8576b"
            ],
            [
             0.6666666666666666,
             "#ed7953"
            ],
            [
             0.7777777777777778,
             "#fb9f3a"
            ],
            [
             0.8888888888888888,
             "#fdca26"
            ],
            [
             1,
             "#f0f921"
            ]
           ]
          },
          "colorway": [
           "#636efa",
           "#EF553B",
           "#00cc96",
           "#ab63fa",
           "#FFA15A",
           "#19d3f3",
           "#FF6692",
           "#B6E880",
           "#FF97FF",
           "#FECB52"
          ],
          "font": {
           "color": "#2a3f5f"
          },
          "geo": {
           "bgcolor": "white",
           "lakecolor": "white",
           "landcolor": "#E5ECF6",
           "showlakes": true,
           "showland": true,
           "subunitcolor": "white"
          },
          "hoverlabel": {
           "align": "left"
          },
          "hovermode": "closest",
          "mapbox": {
           "style": "light"
          },
          "paper_bgcolor": "white",
          "plot_bgcolor": "#E5ECF6",
          "polar": {
           "angularaxis": {
            "gridcolor": "white",
            "linecolor": "white",
            "ticks": ""
           },
           "bgcolor": "#E5ECF6",
           "radialaxis": {
            "gridcolor": "white",
            "linecolor": "white",
            "ticks": ""
           }
          },
          "scene": {
           "xaxis": {
            "backgroundcolor": "#E5ECF6",
            "gridcolor": "white",
            "gridwidth": 2,
            "linecolor": "white",
            "showbackground": true,
            "ticks": "",
            "zerolinecolor": "white"
           },
           "yaxis": {
            "backgroundcolor": "#E5ECF6",
            "gridcolor": "white",
            "gridwidth": 2,
            "linecolor": "white",
            "showbackground": true,
            "ticks": "",
            "zerolinecolor": "white"
           },
           "zaxis": {
            "backgroundcolor": "#E5ECF6",
            "gridcolor": "white",
            "gridwidth": 2,
            "linecolor": "white",
            "showbackground": true,
            "ticks": "",
            "zerolinecolor": "white"
           }
          },
          "shapedefaults": {
           "line": {
            "color": "#2a3f5f"
           }
          },
          "ternary": {
           "aaxis": {
            "gridcolor": "white",
            "linecolor": "white",
            "ticks": ""
           },
           "baxis": {
            "gridcolor": "white",
            "linecolor": "white",
            "ticks": ""
           },
           "bgcolor": "#E5ECF6",
           "caxis": {
            "gridcolor": "white",
            "linecolor": "white",
            "ticks": ""
           }
          },
          "title": {
           "x": 0.05
          },
          "xaxis": {
           "automargin": true,
           "gridcolor": "white",
           "linecolor": "white",
           "ticks": "",
           "title": {
            "standoff": 15
           },
           "zerolinecolor": "white",
           "zerolinewidth": 2
          },
          "yaxis": {
           "automargin": true,
           "gridcolor": "white",
           "linecolor": "white",
           "ticks": "",
           "title": {
            "standoff": 15
           },
           "zerolinecolor": "white",
           "zerolinewidth": 2
          }
         }
        },
        "title": {
         "font": {
          "color": "black",
          "family": "Verdana",
          "size": 30,
          "weight": "bold"
         },
         "pad": {
          "b": 10
         },
         "text": "Evlilik Durumuna Göre Nüfus: İstanbul",
         "x": 0.5,
         "xanchor": "center"
        },
        "xaxis": {
         "gridcolor": "lightgray",
         "showgrid": true,
         "tickangle": -45,
         "tickfont": {
          "family": "Verdana",
          "size": 12
         },
         "title": {
          "font": {
           "color": "black",
           "family": "Verdana",
           "size": 20,
           "weight": "bold"
          }
         }
        },
        "yaxis": {
         "gridcolor": "lightgray",
         "showgrid": true,
         "tickfont": {
          "family": "Verdana",
          "size": 12
         },
         "tickformat": ",",
         "title": {
          "font": {
           "color": "black",
           "family": "Verdana",
           "size": 20,
           "weight": "bold"
          }
         }
        }
       }
      }
     },
     "metadata": {},
     "output_type": "display_data"
    }
   ],
   "source": [
    "population_marital_plot(*df4, city_code=34).show()\n",
    "# Evli, Bekar (Hiç evlenmedi, boşandı, Eşi vefat)"
   ]
  },
  {
   "cell_type": "markdown",
   "metadata": {},
   "source": [
    "## Trend"
   ]
  },
  {
   "cell_type": "code",
   "execution_count": 6,
   "metadata": {},
   "outputs": [
    {
     "data": {
      "text/html": [
       "<div>\n",
       "<style scoped>\n",
       "    .dataframe tbody tr th:only-of-type {\n",
       "        vertical-align: middle;\n",
       "    }\n",
       "\n",
       "    .dataframe tbody tr th {\n",
       "        vertical-align: top;\n",
       "    }\n",
       "\n",
       "    .dataframe thead th {\n",
       "        text-align: right;\n",
       "    }\n",
       "</style>\n",
       "<table border=\"1\" class=\"dataframe\">\n",
       "  <thead>\n",
       "    <tr style=\"text-align: right;\">\n",
       "      <th></th>\n",
       "      <th>il kayit no</th>\n",
       "      <th>ilçe kayit no</th>\n",
       "      <th>il</th>\n",
       "      <th>ilçe</th>\n",
       "      <th>toplam</th>\n",
       "      <th>artis</th>\n",
       "    </tr>\n",
       "  </thead>\n",
       "  <tbody>\n",
       "    <tr>\n",
       "      <th>0</th>\n",
       "      <td>0</td>\n",
       "      <td>0</td>\n",
       "      <td>toplam</td>\n",
       "      <td>toplam</td>\n",
       "      <td>85372377</td>\n",
       "      <td>1.09</td>\n",
       "    </tr>\n",
       "    <tr>\n",
       "      <th>1</th>\n",
       "      <td>1</td>\n",
       "      <td>5</td>\n",
       "      <td>adana</td>\n",
       "      <td>aladag</td>\n",
       "      <td>16954</td>\n",
       "      <td>64.37</td>\n",
       "    </tr>\n",
       "    <tr>\n",
       "      <th>2</th>\n",
       "      <td>1</td>\n",
       "      <td>6</td>\n",
       "      <td>adana</td>\n",
       "      <td>ceyhan</td>\n",
       "      <td>156610</td>\n",
       "      <td>-14.65</td>\n",
       "    </tr>\n",
       "    <tr>\n",
       "      <th>3</th>\n",
       "      <td>1</td>\n",
       "      <td>4</td>\n",
       "      <td>adana</td>\n",
       "      <td>cukurova</td>\n",
       "      <td>374205</td>\n",
       "      <td>-39.23</td>\n",
       "    </tr>\n",
       "    <tr>\n",
       "      <th>4</th>\n",
       "      <td>1</td>\n",
       "      <td>7</td>\n",
       "      <td>adana</td>\n",
       "      <td>feke</td>\n",
       "      <td>17304</td>\n",
       "      <td>88.84</td>\n",
       "    </tr>\n",
       "  </tbody>\n",
       "</table>\n",
       "</div>"
      ],
      "text/plain": [
       "   il kayit no  ilçe kayit no      il      ilçe    toplam  artis\n",
       "0            0              0  toplam    toplam  85372377   1.09\n",
       "1            1              5   adana    aladag     16954  64.37\n",
       "2            1              6   adana    ceyhan    156610 -14.65\n",
       "3            1              4   adana  cukurova    374205 -39.23\n",
       "4            1              7   adana      feke     17304  88.84"
      ]
     },
     "execution_count": 6,
     "metadata": {},
     "output_type": "execute_result"
    }
   ],
   "source": [
    "df6.head()"
   ]
  },
  {
   "cell_type": "code",
   "execution_count": 8,
   "metadata": {},
   "outputs": [
    {
     "data": {
      "application/vnd.plotly.v1+json": {
       "config": {
        "plotlyServerURL": "https://plot.ly"
       },
       "data": [
        {
         "marker": {
          "color": [
           "lightgreen",
           "tomato",
           "lightgreen",
           "lightgreen",
           "lightgreen",
           "lightgreen",
           "tomato",
           "lightgreen",
           "lightgreen",
           "lightgreen",
           "lightgreen",
           "lightgreen",
           "lightgreen",
           "lightgreen",
           "lightgreen",
           "lightgreen",
           "tomato",
           "lightgreen",
           "tomato",
           "lightgreen",
           "lightgreen",
           "tomato",
           "tomato",
           "lightgreen",
           "tomato"
          ]
         },
         "name": "Population Change",
         "text": [
          77.94,
          -4.18,
          181.26,
          335.59,
          4.15,
          545.12,
          -5.33,
          37.5,
          14.65,
          3.8,
          193.16,
          49.14,
          214.72,
          252.65,
          28.04,
          38.49,
          -17.05,
          168.38,
          -7.67,
          10.42,
          4.02,
          -2.86,
          -1.26,
          29.2,
          -4.29
         ],
         "textposition": "auto",
         "type": "bar",
         "x": [
          "akyurt",
          "altindag",
          "ayas",
          "bala",
          "beypazari",
          "camlidere",
          "cankaya",
          "cubuk",
          "elmadag",
          "etimesgut",
          "evren",
          "golbasi",
          "gudul",
          "haymana",
          "kahramankazan",
          "kalecik",
          "kecioren",
          "kizilcahamam",
          "mamak",
          "nallihan",
          "polatli",
          "pursaklar",
          "sincan",
          "sereflikochisar",
          "yenimahalle"
         ],
         "y": [
          77.94,
          -4.18,
          181.26,
          335.59,
          4.15,
          545.12,
          -5.33,
          37.5,
          14.65,
          3.8,
          193.16,
          49.14,
          214.72,
          252.65,
          28.04,
          38.49,
          -17.05,
          168.38,
          -7.67,
          10.42,
          4.02,
          -2.86,
          -1.26,
          29.2,
          -4.29
         ]
        }
       ],
       "layout": {
        "height": 800,
        "margin": {
         "b": 200,
         "l": 100,
         "r": 100,
         "t": 100
        },
        "template": {
         "data": {
          "bar": [
           {
            "error_x": {
             "color": "#2a3f5f"
            },
            "error_y": {
             "color": "#2a3f5f"
            },
            "marker": {
             "line": {
              "color": "#E5ECF6",
              "width": 0.5
             },
             "pattern": {
              "fillmode": "overlay",
              "size": 10,
              "solidity": 0.2
             }
            },
            "type": "bar"
           }
          ],
          "barpolar": [
           {
            "marker": {
             "line": {
              "color": "#E5ECF6",
              "width": 0.5
             },
             "pattern": {
              "fillmode": "overlay",
              "size": 10,
              "solidity": 0.2
             }
            },
            "type": "barpolar"
           }
          ],
          "carpet": [
           {
            "aaxis": {
             "endlinecolor": "#2a3f5f",
             "gridcolor": "white",
             "linecolor": "white",
             "minorgridcolor": "white",
             "startlinecolor": "#2a3f5f"
            },
            "baxis": {
             "endlinecolor": "#2a3f5f",
             "gridcolor": "white",
             "linecolor": "white",
             "minorgridcolor": "white",
             "startlinecolor": "#2a3f5f"
            },
            "type": "carpet"
           }
          ],
          "choropleth": [
           {
            "colorbar": {
             "outlinewidth": 0,
             "ticks": ""
            },
            "type": "choropleth"
           }
          ],
          "contour": [
           {
            "colorbar": {
             "outlinewidth": 0,
             "ticks": ""
            },
            "colorscale": [
             [
              0,
              "#0d0887"
             ],
             [
              0.1111111111111111,
              "#46039f"
             ],
             [
              0.2222222222222222,
              "#7201a8"
             ],
             [
              0.3333333333333333,
              "#9c179e"
             ],
             [
              0.4444444444444444,
              "#bd3786"
             ],
             [
              0.5555555555555556,
              "#d8576b"
             ],
             [
              0.6666666666666666,
              "#ed7953"
             ],
             [
              0.7777777777777778,
              "#fb9f3a"
             ],
             [
              0.8888888888888888,
              "#fdca26"
             ],
             [
              1,
              "#f0f921"
             ]
            ],
            "type": "contour"
           }
          ],
          "contourcarpet": [
           {
            "colorbar": {
             "outlinewidth": 0,
             "ticks": ""
            },
            "type": "contourcarpet"
           }
          ],
          "heatmap": [
           {
            "colorbar": {
             "outlinewidth": 0,
             "ticks": ""
            },
            "colorscale": [
             [
              0,
              "#0d0887"
             ],
             [
              0.1111111111111111,
              "#46039f"
             ],
             [
              0.2222222222222222,
              "#7201a8"
             ],
             [
              0.3333333333333333,
              "#9c179e"
             ],
             [
              0.4444444444444444,
              "#bd3786"
             ],
             [
              0.5555555555555556,
              "#d8576b"
             ],
             [
              0.6666666666666666,
              "#ed7953"
             ],
             [
              0.7777777777777778,
              "#fb9f3a"
             ],
             [
              0.8888888888888888,
              "#fdca26"
             ],
             [
              1,
              "#f0f921"
             ]
            ],
            "type": "heatmap"
           }
          ],
          "heatmapgl": [
           {
            "colorbar": {
             "outlinewidth": 0,
             "ticks": ""
            },
            "colorscale": [
             [
              0,
              "#0d0887"
             ],
             [
              0.1111111111111111,
              "#46039f"
             ],
             [
              0.2222222222222222,
              "#7201a8"
             ],
             [
              0.3333333333333333,
              "#9c179e"
             ],
             [
              0.4444444444444444,
              "#bd3786"
             ],
             [
              0.5555555555555556,
              "#d8576b"
             ],
             [
              0.6666666666666666,
              "#ed7953"
             ],
             [
              0.7777777777777778,
              "#fb9f3a"
             ],
             [
              0.8888888888888888,
              "#fdca26"
             ],
             [
              1,
              "#f0f921"
             ]
            ],
            "type": "heatmapgl"
           }
          ],
          "histogram": [
           {
            "marker": {
             "pattern": {
              "fillmode": "overlay",
              "size": 10,
              "solidity": 0.2
             }
            },
            "type": "histogram"
           }
          ],
          "histogram2d": [
           {
            "colorbar": {
             "outlinewidth": 0,
             "ticks": ""
            },
            "colorscale": [
             [
              0,
              "#0d0887"
             ],
             [
              0.1111111111111111,
              "#46039f"
             ],
             [
              0.2222222222222222,
              "#7201a8"
             ],
             [
              0.3333333333333333,
              "#9c179e"
             ],
             [
              0.4444444444444444,
              "#bd3786"
             ],
             [
              0.5555555555555556,
              "#d8576b"
             ],
             [
              0.6666666666666666,
              "#ed7953"
             ],
             [
              0.7777777777777778,
              "#fb9f3a"
             ],
             [
              0.8888888888888888,
              "#fdca26"
             ],
             [
              1,
              "#f0f921"
             ]
            ],
            "type": "histogram2d"
           }
          ],
          "histogram2dcontour": [
           {
            "colorbar": {
             "outlinewidth": 0,
             "ticks": ""
            },
            "colorscale": [
             [
              0,
              "#0d0887"
             ],
             [
              0.1111111111111111,
              "#46039f"
             ],
             [
              0.2222222222222222,
              "#7201a8"
             ],
             [
              0.3333333333333333,
              "#9c179e"
             ],
             [
              0.4444444444444444,
              "#bd3786"
             ],
             [
              0.5555555555555556,
              "#d8576b"
             ],
             [
              0.6666666666666666,
              "#ed7953"
             ],
             [
              0.7777777777777778,
              "#fb9f3a"
             ],
             [
              0.8888888888888888,
              "#fdca26"
             ],
             [
              1,
              "#f0f921"
             ]
            ],
            "type": "histogram2dcontour"
           }
          ],
          "mesh3d": [
           {
            "colorbar": {
             "outlinewidth": 0,
             "ticks": ""
            },
            "type": "mesh3d"
           }
          ],
          "parcoords": [
           {
            "line": {
             "colorbar": {
              "outlinewidth": 0,
              "ticks": ""
             }
            },
            "type": "parcoords"
           }
          ],
          "pie": [
           {
            "automargin": true,
            "type": "pie"
           }
          ],
          "scatter": [
           {
            "fillpattern": {
             "fillmode": "overlay",
             "size": 10,
             "solidity": 0.2
            },
            "type": "scatter"
           }
          ],
          "scatter3d": [
           {
            "line": {
             "colorbar": {
              "outlinewidth": 0,
              "ticks": ""
             }
            },
            "marker": {
             "colorbar": {
              "outlinewidth": 0,
              "ticks": ""
             }
            },
            "type": "scatter3d"
           }
          ],
          "scattercarpet": [
           {
            "marker": {
             "colorbar": {
              "outlinewidth": 0,
              "ticks": ""
             }
            },
            "type": "scattercarpet"
           }
          ],
          "scattergeo": [
           {
            "marker": {
             "colorbar": {
              "outlinewidth": 0,
              "ticks": ""
             }
            },
            "type": "scattergeo"
           }
          ],
          "scattergl": [
           {
            "marker": {
             "colorbar": {
              "outlinewidth": 0,
              "ticks": ""
             }
            },
            "type": "scattergl"
           }
          ],
          "scattermapbox": [
           {
            "marker": {
             "colorbar": {
              "outlinewidth": 0,
              "ticks": ""
             }
            },
            "type": "scattermapbox"
           }
          ],
          "scatterpolar": [
           {
            "marker": {
             "colorbar": {
              "outlinewidth": 0,
              "ticks": ""
             }
            },
            "type": "scatterpolar"
           }
          ],
          "scatterpolargl": [
           {
            "marker": {
             "colorbar": {
              "outlinewidth": 0,
              "ticks": ""
             }
            },
            "type": "scatterpolargl"
           }
          ],
          "scatterternary": [
           {
            "marker": {
             "colorbar": {
              "outlinewidth": 0,
              "ticks": ""
             }
            },
            "type": "scatterternary"
           }
          ],
          "surface": [
           {
            "colorbar": {
             "outlinewidth": 0,
             "ticks": ""
            },
            "colorscale": [
             [
              0,
              "#0d0887"
             ],
             [
              0.1111111111111111,
              "#46039f"
             ],
             [
              0.2222222222222222,
              "#7201a8"
             ],
             [
              0.3333333333333333,
              "#9c179e"
             ],
             [
              0.4444444444444444,
              "#bd3786"
             ],
             [
              0.5555555555555556,
              "#d8576b"
             ],
             [
              0.6666666666666666,
              "#ed7953"
             ],
             [
              0.7777777777777778,
              "#fb9f3a"
             ],
             [
              0.8888888888888888,
              "#fdca26"
             ],
             [
              1,
              "#f0f921"
             ]
            ],
            "type": "surface"
           }
          ],
          "table": [
           {
            "cells": {
             "fill": {
              "color": "#EBF0F8"
             },
             "line": {
              "color": "white"
             }
            },
            "header": {
             "fill": {
              "color": "#C8D4E3"
             },
             "line": {
              "color": "white"
             }
            },
            "type": "table"
           }
          ]
         },
         "layout": {
          "annotationdefaults": {
           "arrowcolor": "#2a3f5f",
           "arrowhead": 0,
           "arrowwidth": 1
          },
          "autotypenumbers": "strict",
          "coloraxis": {
           "colorbar": {
            "outlinewidth": 0,
            "ticks": ""
           }
          },
          "colorscale": {
           "diverging": [
            [
             0,
             "#8e0152"
            ],
            [
             0.1,
             "#c51b7d"
            ],
            [
             0.2,
             "#de77ae"
            ],
            [
             0.3,
             "#f1b6da"
            ],
            [
             0.4,
             "#fde0ef"
            ],
            [
             0.5,
             "#f7f7f7"
            ],
            [
             0.6,
             "#e6f5d0"
            ],
            [
             0.7,
             "#b8e186"
            ],
            [
             0.8,
             "#7fbc41"
            ],
            [
             0.9,
             "#4d9221"
            ],
            [
             1,
             "#276419"
            ]
           ],
           "sequential": [
            [
             0,
             "#0d0887"
            ],
            [
             0.1111111111111111,
             "#46039f"
            ],
            [
             0.2222222222222222,
             "#7201a8"
            ],
            [
             0.3333333333333333,
             "#9c179e"
            ],
            [
             0.4444444444444444,
             "#bd3786"
            ],
            [
             0.5555555555555556,
             "#d8576b"
            ],
            [
             0.6666666666666666,
             "#ed7953"
            ],
            [
             0.7777777777777778,
             "#fb9f3a"
            ],
            [
             0.8888888888888888,
             "#fdca26"
            ],
            [
             1,
             "#f0f921"
            ]
           ],
           "sequentialminus": [
            [
             0,
             "#0d0887"
            ],
            [
             0.1111111111111111,
             "#46039f"
            ],
            [
             0.2222222222222222,
             "#7201a8"
            ],
            [
             0.3333333333333333,
             "#9c179e"
            ],
            [
             0.4444444444444444,
             "#bd3786"
            ],
            [
             0.5555555555555556,
             "#d8576b"
            ],
            [
             0.6666666666666666,
             "#ed7953"
            ],
            [
             0.7777777777777778,
             "#fb9f3a"
            ],
            [
             0.8888888888888888,
             "#fdca26"
            ],
            [
             1,
             "#f0f921"
            ]
           ]
          },
          "colorway": [
           "#636efa",
           "#EF553B",
           "#00cc96",
           "#ab63fa",
           "#FFA15A",
           "#19d3f3",
           "#FF6692",
           "#B6E880",
           "#FF97FF",
           "#FECB52"
          ],
          "font": {
           "color": "#2a3f5f"
          },
          "geo": {
           "bgcolor": "white",
           "lakecolor": "white",
           "landcolor": "#E5ECF6",
           "showlakes": true,
           "showland": true,
           "subunitcolor": "white"
          },
          "hoverlabel": {
           "align": "left"
          },
          "hovermode": "closest",
          "mapbox": {
           "style": "light"
          },
          "paper_bgcolor": "white",
          "plot_bgcolor": "#E5ECF6",
          "polar": {
           "angularaxis": {
            "gridcolor": "white",
            "linecolor": "white",
            "ticks": ""
           },
           "bgcolor": "#E5ECF6",
           "radialaxis": {
            "gridcolor": "white",
            "linecolor": "white",
            "ticks": ""
           }
          },
          "scene": {
           "xaxis": {
            "backgroundcolor": "#E5ECF6",
            "gridcolor": "white",
            "gridwidth": 2,
            "linecolor": "white",
            "showbackground": true,
            "ticks": "",
            "zerolinecolor": "white"
           },
           "yaxis": {
            "backgroundcolor": "#E5ECF6",
            "gridcolor": "white",
            "gridwidth": 2,
            "linecolor": "white",
            "showbackground": true,
            "ticks": "",
            "zerolinecolor": "white"
           },
           "zaxis": {
            "backgroundcolor": "#E5ECF6",
            "gridcolor": "white",
            "gridwidth": 2,
            "linecolor": "white",
            "showbackground": true,
            "ticks": "",
            "zerolinecolor": "white"
           }
          },
          "shapedefaults": {
           "line": {
            "color": "#2a3f5f"
           }
          },
          "ternary": {
           "aaxis": {
            "gridcolor": "white",
            "linecolor": "white",
            "ticks": ""
           },
           "baxis": {
            "gridcolor": "white",
            "linecolor": "white",
            "ticks": ""
           },
           "bgcolor": "#E5ECF6",
           "caxis": {
            "gridcolor": "white",
            "linecolor": "white",
            "ticks": ""
           }
          },
          "title": {
           "x": 0.05
          },
          "xaxis": {
           "automargin": true,
           "gridcolor": "white",
           "linecolor": "white",
           "ticks": "",
           "title": {
            "standoff": 15
           },
           "zerolinecolor": "white",
           "zerolinewidth": 2
          },
          "yaxis": {
           "automargin": true,
           "gridcolor": "white",
           "linecolor": "white",
           "ticks": "",
           "title": {
            "standoff": 15
           },
           "zerolinecolor": "white",
           "zerolinewidth": 2
          }
         }
        },
        "title": {
         "text": "Nüfus Değişimi: Ankara",
         "x": 0.5,
         "xanchor": "center"
        },
        "width": 1200,
        "xaxis": {
         "tickangle": -45,
         "title": {
          "text": "İlçe"
         }
        },
        "yaxis": {
         "title": {
          "text": "Değişim (%)"
         }
        }
       }
      }
     },
     "metadata": {},
     "output_type": "display_data"
    }
   ],
   "source": [
    "import pandas as pd\n",
    "import plotly.graph_objects as go\n",
    "\n",
    "city_code=6\n",
    "# Sample data\n",
    "df_filtered = df6[df6[\"il kayit no\"]==city_code]\n",
    "colors = ['lightgreen' if x > 0 else 'tomato' for x in df_filtered['artis']]\n",
    "\n",
    "# Create the bar chart\n",
    "fig = go.Figure(\n",
    "    data=[\n",
    "        go.Bar(\n",
    "            name=\"Population Change\",\n",
    "            x=df_filtered['ilçe'],\n",
    "            y=df_filtered['artis'],\n",
    "            text=df_filtered['artis'],\n",
    "            textposition='auto',\n",
    "            marker=dict(color=colors),\n",
    "        )\n",
    "    ]\n",
    ")\n",
    "\n",
    "# Update layout for the bar chart\n",
    "fig.update_layout(\n",
    "    title_text=f\"Nüfus Değişimi: {city_code_map.get(city_code).capitalize()}\",\n",
    "    title_x=0.5,\n",
    "    height=800,\n",
    "    width=1200,\n",
    "    margin=dict(t=100, b=200, l=100, r=100),\n",
    "    title_xanchor=\"center\",\n",
    "    xaxis_title=\"İlçe\",\n",
    "    yaxis_title=\"Değişim (%)\",\n",
    "    xaxis=dict(tickangle=-45),\n",
    ")\n",
    "\n",
    "fig.show()\n"
   ]
  },
  {
   "cell_type": "markdown",
   "metadata": {},
   "source": [
    "## Memleket"
   ]
  },
  {
   "cell_type": "code",
   "execution_count": 7,
   "metadata": {},
   "outputs": [
    {
     "data": {
      "text/html": [
       "<div>\n",
       "<style scoped>\n",
       "    .dataframe tbody tr th:only-of-type {\n",
       "        vertical-align: middle;\n",
       "    }\n",
       "\n",
       "    .dataframe tbody tr th {\n",
       "        vertical-align: top;\n",
       "    }\n",
       "\n",
       "    .dataframe thead th {\n",
       "        text-align: right;\n",
       "    }\n",
       "</style>\n",
       "<table border=\"1\" class=\"dataframe\">\n",
       "  <thead>\n",
       "    <tr style=\"text-align: right;\">\n",
       "      <th></th>\n",
       "      <th>toplam</th>\n",
       "      <th>1</th>\n",
       "      <th>2</th>\n",
       "      <th>3</th>\n",
       "      <th>4</th>\n",
       "      <th>5</th>\n",
       "      <th>6</th>\n",
       "      <th>7</th>\n",
       "      <th>8</th>\n",
       "      <th>9</th>\n",
       "      <th>10</th>\n",
       "      <th>11</th>\n",
       "      <th>12</th>\n",
       "      <th>13</th>\n",
       "      <th>14</th>\n",
       "      <th>15</th>\n",
       "      <th>16</th>\n",
       "      <th>17</th>\n",
       "      <th>18</th>\n",
       "      <th>19</th>\n",
       "      <th>20</th>\n",
       "      <th>21</th>\n",
       "      <th>22</th>\n",
       "      <th>23</th>\n",
       "      <th>24</th>\n",
       "      <th>25</th>\n",
       "      <th>26</th>\n",
       "      <th>27</th>\n",
       "      <th>28</th>\n",
       "      <th>29</th>\n",
       "      <th>30</th>\n",
       "      <th>31</th>\n",
       "      <th>32</th>\n",
       "      <th>33</th>\n",
       "      <th>34</th>\n",
       "      <th>35</th>\n",
       "      <th>36</th>\n",
       "      <th>37</th>\n",
       "      <th>38</th>\n",
       "      <th>39</th>\n",
       "      <th>40</th>\n",
       "      <th>41</th>\n",
       "      <th>42</th>\n",
       "      <th>43</th>\n",
       "      <th>44</th>\n",
       "      <th>45</th>\n",
       "      <th>46</th>\n",
       "      <th>47</th>\n",
       "      <th>48</th>\n",
       "      <th>49</th>\n",
       "      <th>50</th>\n",
       "      <th>51</th>\n",
       "      <th>52</th>\n",
       "      <th>53</th>\n",
       "      <th>54</th>\n",
       "      <th>55</th>\n",
       "      <th>56</th>\n",
       "      <th>57</th>\n",
       "      <th>58</th>\n",
       "      <th>59</th>\n",
       "      <th>60</th>\n",
       "      <th>61</th>\n",
       "      <th>62</th>\n",
       "      <th>63</th>\n",
       "      <th>64</th>\n",
       "      <th>65</th>\n",
       "      <th>66</th>\n",
       "      <th>67</th>\n",
       "      <th>68</th>\n",
       "      <th>69</th>\n",
       "      <th>70</th>\n",
       "      <th>71</th>\n",
       "      <th>72</th>\n",
       "      <th>73</th>\n",
       "      <th>74</th>\n",
       "      <th>75</th>\n",
       "      <th>76</th>\n",
       "      <th>77</th>\n",
       "      <th>78</th>\n",
       "      <th>79</th>\n",
       "      <th>80</th>\n",
       "      <th>81</th>\n",
       "    </tr>\n",
       "    <tr>\n",
       "      <th>il</th>\n",
       "      <th></th>\n",
       "      <th></th>\n",
       "      <th></th>\n",
       "      <th></th>\n",
       "      <th></th>\n",
       "      <th></th>\n",
       "      <th></th>\n",
       "      <th></th>\n",
       "      <th></th>\n",
       "      <th></th>\n",
       "      <th></th>\n",
       "      <th></th>\n",
       "      <th></th>\n",
       "      <th></th>\n",
       "      <th></th>\n",
       "      <th></th>\n",
       "      <th></th>\n",
       "      <th></th>\n",
       "      <th></th>\n",
       "      <th></th>\n",
       "      <th></th>\n",
       "      <th></th>\n",
       "      <th></th>\n",
       "      <th></th>\n",
       "      <th></th>\n",
       "      <th></th>\n",
       "      <th></th>\n",
       "      <th></th>\n",
       "      <th></th>\n",
       "      <th></th>\n",
       "      <th></th>\n",
       "      <th></th>\n",
       "      <th></th>\n",
       "      <th></th>\n",
       "      <th></th>\n",
       "      <th></th>\n",
       "      <th></th>\n",
       "      <th></th>\n",
       "      <th></th>\n",
       "      <th></th>\n",
       "      <th></th>\n",
       "      <th></th>\n",
       "      <th></th>\n",
       "      <th></th>\n",
       "      <th></th>\n",
       "      <th></th>\n",
       "      <th></th>\n",
       "      <th></th>\n",
       "      <th></th>\n",
       "      <th></th>\n",
       "      <th></th>\n",
       "      <th></th>\n",
       "      <th></th>\n",
       "      <th></th>\n",
       "      <th></th>\n",
       "      <th></th>\n",
       "      <th></th>\n",
       "      <th></th>\n",
       "      <th></th>\n",
       "      <th></th>\n",
       "      <th></th>\n",
       "      <th></th>\n",
       "      <th></th>\n",
       "      <th></th>\n",
       "      <th></th>\n",
       "      <th></th>\n",
       "      <th></th>\n",
       "      <th></th>\n",
       "      <th></th>\n",
       "      <th></th>\n",
       "      <th></th>\n",
       "      <th></th>\n",
       "      <th></th>\n",
       "      <th></th>\n",
       "      <th></th>\n",
       "      <th></th>\n",
       "      <th></th>\n",
       "      <th></th>\n",
       "      <th></th>\n",
       "      <th></th>\n",
       "      <th></th>\n",
       "      <th></th>\n",
       "    </tr>\n",
       "  </thead>\n",
       "  <tbody>\n",
       "    <tr>\n",
       "      <th>toplam</th>\n",
       "      <td>83801834</td>\n",
       "      <td>1820158</td>\n",
       "      <td>1197814</td>\n",
       "      <td>1160221</td>\n",
       "      <td>1253577</td>\n",
       "      <td>653508</td>\n",
       "      <td>2068285</td>\n",
       "      <td>1246728</td>\n",
       "      <td>450913</td>\n",
       "      <td>944598</td>\n",
       "      <td>1279456</td>\n",
       "      <td>272528</td>\n",
       "      <td>591737</td>\n",
       "      <td>868798</td>\n",
       "      <td>448278</td>\n",
       "      <td>378189</td>\n",
       "      <td>1850620</td>\n",
       "      <td>558477</td>\n",
       "      <td>683506</td>\n",
       "      <td>1323988</td>\n",
       "      <td>978833</td>\n",
       "      <td>2427515</td>\n",
       "      <td>503828</td>\n",
       "      <td>937125</td>\n",
       "      <td>643088</td>\n",
       "      <td>1961600</td>\n",
       "      <td>758085</td>\n",
       "      <td>1799185</td>\n",
       "      <td>1155578</td>\n",
       "      <td>456654</td>\n",
       "      <td>360502</td>\n",
       "      <td>1867462</td>\n",
       "      <td>563483</td>\n",
       "      <td>1405521</td>\n",
       "      <td>2616333</td>\n",
       "      <td>1957490</td>\n",
       "      <td>1004664</td>\n",
       "      <td>1076201</td>\n",
       "      <td>1517343</td>\n",
       "      <td>444297</td>\n",
       "      <td>582854</td>\n",
       "      <td>691499</td>\n",
       "      <td>2676465</td>\n",
       "      <td>734379</td>\n",
       "      <td>1413888</td>\n",
       "      <td>1423252</td>\n",
       "      <td>1652531</td>\n",
       "      <td>1757355</td>\n",
       "      <td>667768</td>\n",
       "      <td>993077</td>\n",
       "      <td>543024</td>\n",
       "      <td>670913</td>\n",
       "      <td>1591208</td>\n",
       "      <td>780406</td>\n",
       "      <td>1024672</td>\n",
       "      <td>2015897</td>\n",
       "      <td>849108</td>\n",
       "      <td>714507</td>\n",
       "      <td>1979824</td>\n",
       "      <td>570007</td>\n",
       "      <td>1382187</td>\n",
       "      <td>1580253</td>\n",
       "      <td>257961</td>\n",
       "      <td>3094381</td>\n",
       "      <td>416706</td>\n",
       "      <td>1662965</td>\n",
       "      <td>1235246</td>\n",
       "      <td>734398</td>\n",
       "      <td>596482</td>\n",
       "      <td>287408</td>\n",
       "      <td>366470</td>\n",
       "      <td>539975</td>\n",
       "      <td>866466</td>\n",
       "      <td>734724</td>\n",
       "      <td>344185</td>\n",
       "      <td>550062</td>\n",
       "      <td>361781</td>\n",
       "      <td>131437</td>\n",
       "      <td>352512</td>\n",
       "      <td>344545</td>\n",
       "      <td>706164</td>\n",
       "      <td>436726</td>\n",
       "    </tr>\n",
       "    <tr>\n",
       "      <th>1</th>\n",
       "      <td>2257602</td>\n",
       "      <td>1313509</td>\n",
       "      <td>53298</td>\n",
       "      <td>1451</td>\n",
       "      <td>8674</td>\n",
       "      <td>1071</td>\n",
       "      <td>3588</td>\n",
       "      <td>1017</td>\n",
       "      <td>677</td>\n",
       "      <td>892</td>\n",
       "      <td>1021</td>\n",
       "      <td>265</td>\n",
       "      <td>24253</td>\n",
       "      <td>22071</td>\n",
       "      <td>510</td>\n",
       "      <td>522</td>\n",
       "      <td>991</td>\n",
       "      <td>348</td>\n",
       "      <td>792</td>\n",
       "      <td>1719</td>\n",
       "      <td>781</td>\n",
       "      <td>72069</td>\n",
       "      <td>266</td>\n",
       "      <td>32879</td>\n",
       "      <td>1097</td>\n",
       "      <td>7145</td>\n",
       "      <td>1140</td>\n",
       "      <td>23559</td>\n",
       "      <td>970</td>\n",
       "      <td>448</td>\n",
       "      <td>957</td>\n",
       "      <td>32295</td>\n",
       "      <td>890</td>\n",
       "      <td>55134</td>\n",
       "      <td>3564</td>\n",
       "      <td>1803</td>\n",
       "      <td>2719</td>\n",
       "      <td>811</td>\n",
       "      <td>19432</td>\n",
       "      <td>387</td>\n",
       "      <td>1445</td>\n",
       "      <td>407</td>\n",
       "      <td>10291</td>\n",
       "      <td>509</td>\n",
       "      <td>25601</td>\n",
       "      <td>1182</td>\n",
       "      <td>32319</td>\n",
       "      <td>106477</td>\n",
       "      <td>635</td>\n",
       "      <td>13541</td>\n",
       "      <td>2001</td>\n",
       "      <td>27790</td>\n",
       "      <td>1524</td>\n",
       "      <td>586</td>\n",
       "      <td>611</td>\n",
       "      <td>1820</td>\n",
       "      <td>44964</td>\n",
       "      <td>525</td>\n",
       "      <td>12111</td>\n",
       "      <td>512</td>\n",
       "      <td>1805</td>\n",
       "      <td>1610</td>\n",
       "      <td>4396</td>\n",
       "      <td>111816</td>\n",
       "      <td>527</td>\n",
       "      <td>23252</td>\n",
       "      <td>3220</td>\n",
       "      <td>610</td>\n",
       "      <td>3225</td>\n",
       "      <td>312</td>\n",
       "      <td>1705</td>\n",
       "      <td>927</td>\n",
       "      <td>16100</td>\n",
       "      <td>21208</td>\n",
       "      <td>246</td>\n",
       "      <td>619</td>\n",
       "      <td>580</td>\n",
       "      <td>61</td>\n",
       "      <td>396</td>\n",
       "      <td>5806</td>\n",
       "      <td>79083</td>\n",
       "      <td>232</td>\n",
       "    </tr>\n",
       "    <tr>\n",
       "      <th>2</th>\n",
       "      <td>603375</td>\n",
       "      <td>1801</td>\n",
       "      <td>564064</td>\n",
       "      <td>216</td>\n",
       "      <td>259</td>\n",
       "      <td>223</td>\n",
       "      <td>304</td>\n",
       "      <td>116</td>\n",
       "      <td>76</td>\n",
       "      <td>137</td>\n",
       "      <td>155</td>\n",
       "      <td>26</td>\n",
       "      <td>184</td>\n",
       "      <td>240</td>\n",
       "      <td>50</td>\n",
       "      <td>63</td>\n",
       "      <td>125</td>\n",
       "      <td>32</td>\n",
       "      <td>172</td>\n",
       "      <td>372</td>\n",
       "      <td>164</td>\n",
       "      <td>1434</td>\n",
       "      <td>36</td>\n",
       "      <td>888</td>\n",
       "      <td>114</td>\n",
       "      <td>491</td>\n",
       "      <td>110</td>\n",
       "      <td>3107</td>\n",
       "      <td>167</td>\n",
       "      <td>84</td>\n",
       "      <td>91</td>\n",
       "      <td>1041</td>\n",
       "      <td>121</td>\n",
       "      <td>2303</td>\n",
       "      <td>317</td>\n",
       "      <td>214</td>\n",
       "      <td>131</td>\n",
       "      <td>166</td>\n",
       "      <td>414</td>\n",
       "      <td>28</td>\n",
       "      <td>189</td>\n",
       "      <td>42</td>\n",
       "      <td>523</td>\n",
       "      <td>78</td>\n",
       "      <td>5778</td>\n",
       "      <td>221</td>\n",
       "      <td>2981</td>\n",
       "      <td>617</td>\n",
       "      <td>71</td>\n",
       "      <td>255</td>\n",
       "      <td>129</td>\n",
       "      <td>262</td>\n",
       "      <td>259</td>\n",
       "      <td>103</td>\n",
       "      <td>76</td>\n",
       "      <td>389</td>\n",
       "      <td>291</td>\n",
       "      <td>140</td>\n",
       "      <td>510</td>\n",
       "      <td>34</td>\n",
       "      <td>313</td>\n",
       "      <td>186</td>\n",
       "      <td>92</td>\n",
       "      <td>6256</td>\n",
       "      <td>55</td>\n",
       "      <td>497</td>\n",
       "      <td>379</td>\n",
       "      <td>100</td>\n",
       "      <td>144</td>\n",
       "      <td>79</td>\n",
       "      <td>96</td>\n",
       "      <td>130</td>\n",
       "      <td>414</td>\n",
       "      <td>226</td>\n",
       "      <td>24</td>\n",
       "      <td>68</td>\n",
       "      <td>69</td>\n",
       "      <td>18</td>\n",
       "      <td>63</td>\n",
       "      <td>324</td>\n",
       "      <td>813</td>\n",
       "      <td>45</td>\n",
       "    </tr>\n",
       "    <tr>\n",
       "      <th>3</th>\n",
       "      <td>740074</td>\n",
       "      <td>1541</td>\n",
       "      <td>813</td>\n",
       "      <td>647286</td>\n",
       "      <td>1930</td>\n",
       "      <td>571</td>\n",
       "      <td>2288</td>\n",
       "      <td>1961</td>\n",
       "      <td>273</td>\n",
       "      <td>1933</td>\n",
       "      <td>1505</td>\n",
       "      <td>432</td>\n",
       "      <td>240</td>\n",
       "      <td>486</td>\n",
       "      <td>334</td>\n",
       "      <td>1714</td>\n",
       "      <td>1147</td>\n",
       "      <td>297</td>\n",
       "      <td>532</td>\n",
       "      <td>1178</td>\n",
       "      <td>4330</td>\n",
       "      <td>1297</td>\n",
       "      <td>169</td>\n",
       "      <td>746</td>\n",
       "      <td>345</td>\n",
       "      <td>1600</td>\n",
       "      <td>3841</td>\n",
       "      <td>959</td>\n",
       "      <td>420</td>\n",
       "      <td>311</td>\n",
       "      <td>121</td>\n",
       "      <td>2046</td>\n",
       "      <td>4142</td>\n",
       "      <td>1483</td>\n",
       "      <td>835</td>\n",
       "      <td>2588</td>\n",
       "      <td>862</td>\n",
       "      <td>594</td>\n",
       "      <td>1171</td>\n",
       "      <td>141</td>\n",
       "      <td>699</td>\n",
       "      <td>309</td>\n",
       "      <td>10761</td>\n",
       "      <td>4365</td>\n",
       "      <td>1152</td>\n",
       "      <td>2867</td>\n",
       "      <td>1624</td>\n",
       "      <td>1108</td>\n",
       "      <td>1100</td>\n",
       "      <td>645</td>\n",
       "      <td>447</td>\n",
       "      <td>848</td>\n",
       "      <td>777</td>\n",
       "      <td>384</td>\n",
       "      <td>514</td>\n",
       "      <td>1140</td>\n",
       "      <td>328</td>\n",
       "      <td>395</td>\n",
       "      <td>1360</td>\n",
       "      <td>166</td>\n",
       "      <td>1094</td>\n",
       "      <td>871</td>\n",
       "      <td>100</td>\n",
       "      <td>1750</td>\n",
       "      <td>2740</td>\n",
       "      <td>1047</td>\n",
       "      <td>1408</td>\n",
       "      <td>401</td>\n",
       "      <td>698</td>\n",
       "      <td>200</td>\n",
       "      <td>659</td>\n",
       "      <td>714</td>\n",
       "      <td>325</td>\n",
       "      <td>227</td>\n",
       "      <td>147</td>\n",
       "      <td>320</td>\n",
       "      <td>332</td>\n",
       "      <td>51</td>\n",
       "      <td>265</td>\n",
       "      <td>234</td>\n",
       "      <td>875</td>\n",
       "      <td>165</td>\n",
       "    </tr>\n",
       "    <tr>\n",
       "      <th>4</th>\n",
       "      <td>510024</td>\n",
       "      <td>1001</td>\n",
       "      <td>697</td>\n",
       "      <td>731</td>\n",
       "      <td>459106</td>\n",
       "      <td>424</td>\n",
       "      <td>791</td>\n",
       "      <td>253</td>\n",
       "      <td>245</td>\n",
       "      <td>307</td>\n",
       "      <td>586</td>\n",
       "      <td>74</td>\n",
       "      <td>372</td>\n",
       "      <td>1665</td>\n",
       "      <td>168</td>\n",
       "      <td>126</td>\n",
       "      <td>410</td>\n",
       "      <td>125</td>\n",
       "      <td>319</td>\n",
       "      <td>754</td>\n",
       "      <td>330</td>\n",
       "      <td>1741</td>\n",
       "      <td>102</td>\n",
       "      <td>531</td>\n",
       "      <td>264</td>\n",
       "      <td>3027</td>\n",
       "      <td>310</td>\n",
       "      <td>641</td>\n",
       "      <td>457</td>\n",
       "      <td>239</td>\n",
       "      <td>542</td>\n",
       "      <td>834</td>\n",
       "      <td>288</td>\n",
       "      <td>777</td>\n",
       "      <td>300</td>\n",
       "      <td>418</td>\n",
       "      <td>2235</td>\n",
       "      <td>235</td>\n",
       "      <td>763</td>\n",
       "      <td>69</td>\n",
       "      <td>317</td>\n",
       "      <td>89</td>\n",
       "      <td>1144</td>\n",
       "      <td>298</td>\n",
       "      <td>708</td>\n",
       "      <td>668</td>\n",
       "      <td>990</td>\n",
       "      <td>839</td>\n",
       "      <td>156</td>\n",
       "      <td>3166</td>\n",
       "      <td>264</td>\n",
       "      <td>372</td>\n",
       "      <td>940</td>\n",
       "      <td>240</td>\n",
       "      <td>251</td>\n",
       "      <td>1175</td>\n",
       "      <td>558</td>\n",
       "      <td>211</td>\n",
       "      <td>953</td>\n",
       "      <td>98</td>\n",
       "      <td>750</td>\n",
       "      <td>1006</td>\n",
       "      <td>61</td>\n",
       "      <td>1276</td>\n",
       "      <td>176</td>\n",
       "      <td>4188</td>\n",
       "      <td>820</td>\n",
       "      <td>233</td>\n",
       "      <td>299</td>\n",
       "      <td>181</td>\n",
       "      <td>153</td>\n",
       "      <td>362</td>\n",
       "      <td>645</td>\n",
       "      <td>431</td>\n",
       "      <td>101</td>\n",
       "      <td>264</td>\n",
       "      <td>2334</td>\n",
       "      <td>19</td>\n",
       "      <td>132</td>\n",
       "      <td>161</td>\n",
       "      <td>559</td>\n",
       "      <td>179</td>\n",
       "    </tr>\n",
       "  </tbody>\n",
       "</table>\n",
       "</div>"
      ],
      "text/plain": [
       "          toplam        1        2        3        4       5        6  \\\n",
       "il                                                                      \n",
       "toplam  83801834  1820158  1197814  1160221  1253577  653508  2068285   \n",
       "1        2257602  1313509    53298     1451     8674    1071     3588   \n",
       "2         603375     1801   564064      216      259     223      304   \n",
       "3         740074     1541      813   647286     1930     571     2288   \n",
       "4         510024     1001      697      731   459106     424      791   \n",
       "\n",
       "              7       8       9       10      11      12      13      14  \\\n",
       "il                                                                         \n",
       "toplam  1246728  450913  944598  1279456  272528  591737  868798  448278   \n",
       "1          1017     677     892     1021     265   24253   22071     510   \n",
       "2           116      76     137      155      26     184     240      50   \n",
       "3          1961     273    1933     1505     432     240     486     334   \n",
       "4           253     245     307      586      74     372    1665     168   \n",
       "\n",
       "            15       16      17      18       19      20       21      22  \\\n",
       "il                                                                          \n",
       "toplam  378189  1850620  558477  683506  1323988  978833  2427515  503828   \n",
       "1          522      991     348     792     1719     781    72069     266   \n",
       "2           63      125      32     172      372     164     1434      36   \n",
       "3         1714     1147     297     532     1178    4330     1297     169   \n",
       "4          126      410     125     319      754     330     1741     102   \n",
       "\n",
       "            23      24       25      26       27       28      29      30  \\\n",
       "il                                                                          \n",
       "toplam  937125  643088  1961600  758085  1799185  1155578  456654  360502   \n",
       "1        32879    1097     7145    1140    23559      970     448     957   \n",
       "2          888     114      491     110     3107      167      84      91   \n",
       "3          746     345     1600    3841      959      420     311     121   \n",
       "4          531     264     3027     310      641      457     239     542   \n",
       "\n",
       "             31      32       33       34       35       36       37       38  \\\n",
       "il                                                                              \n",
       "toplam  1867462  563483  1405521  2616333  1957490  1004664  1076201  1517343   \n",
       "1         32295     890    55134     3564     1803     2719      811    19432   \n",
       "2          1041     121     2303      317      214      131      166      414   \n",
       "3          2046    4142     1483      835     2588      862      594     1171   \n",
       "4           834     288      777      300      418     2235      235      763   \n",
       "\n",
       "            39      40      41       42      43       44       45       46  \\\n",
       "il                                                                           \n",
       "toplam  444297  582854  691499  2676465  734379  1413888  1423252  1652531   \n",
       "1          387    1445     407    10291     509    25601     1182    32319   \n",
       "2           28     189      42      523      78     5778      221     2981   \n",
       "3          141     699     309    10761    4365     1152     2867     1624   \n",
       "4           69     317      89     1144     298      708      668      990   \n",
       "\n",
       "             47      48      49      50      51       52      53       54  \\\n",
       "il                                                                          \n",
       "toplam  1757355  667768  993077  543024  670913  1591208  780406  1024672   \n",
       "1        106477     635   13541    2001   27790     1524     586      611   \n",
       "2           617      71     255     129     262      259     103       76   \n",
       "3          1108    1100     645     447     848      777     384      514   \n",
       "4           839     156    3166     264     372      940     240      251   \n",
       "\n",
       "             55      56      57       58      59       60       61      62  \\\n",
       "il                                                                           \n",
       "toplam  2015897  849108  714507  1979824  570007  1382187  1580253  257961   \n",
       "1          1820   44964     525    12111     512     1805     1610    4396   \n",
       "2           389     291     140      510      34      313      186      92   \n",
       "3          1140     328     395     1360     166     1094      871     100   \n",
       "4          1175     558     211      953      98      750     1006      61   \n",
       "\n",
       "             63      64       65       66      67      68      69      70  \\\n",
       "il                                                                          \n",
       "toplam  3094381  416706  1662965  1235246  734398  596482  287408  366470   \n",
       "1        111816     527    23252     3220     610    3225     312    1705   \n",
       "2          6256      55      497      379     100     144      79      96   \n",
       "3          1750    2740     1047     1408     401     698     200     659   \n",
       "4          1276     176     4188      820     233     299     181     153   \n",
       "\n",
       "            71      72      73      74      75      76      77      78  \\\n",
       "il                                                                       \n",
       "toplam  539975  866466  734724  344185  550062  361781  131437  352512   \n",
       "1          927   16100   21208     246     619     580      61     396   \n",
       "2          130     414     226      24      68      69      18      63   \n",
       "3          714     325     227     147     320     332      51     265   \n",
       "4          362     645     431     101     264    2334      19     132   \n",
       "\n",
       "            79      80      81  \n",
       "il                              \n",
       "toplam  344545  706164  436726  \n",
       "1         5806   79083     232  \n",
       "2          324     813      45  \n",
       "3          234     875     165  \n",
       "4          161     559     179  "
      ]
     },
     "execution_count": 7,
     "metadata": {},
     "output_type": "execute_result"
    }
   ],
   "source": [
    "df5.head()"
   ]
  },
  {
   "cell_type": "code",
   "execution_count": 10,
   "metadata": {},
   "outputs": [
    {
     "data": {
      "application/vnd.plotly.v1+json": {
       "config": {
        "plotlyServerURL": "https://plot.ly"
       },
       "data": [
        {
         "hovertemplate": "<b>%{label}</b><br>%{value} = %{percent}",
         "labels": [
          "Antalya",
          "Diğer",
          "Deni̇zli̇",
          "Zonguldak",
          "Çorum",
          "Kocaeli̇",
          "Batman",
          "Teki̇rdağ",
          "Eski̇şehi̇r",
          "Kirklareli̇",
          "Kütahya",
          "Kastamonu",
          "Si̇i̇rt",
          "Burdur",
          "Trabzon",
          "Ri̇ze",
          "Ni̇ğde",
          "Mani̇sa",
          "Tunceli̇"
         ],
         "name": "",
         "textfont": {
          "family": "Verdana",
          "size": 18,
          "weight": "bold"
         },
         "textinfo": "label",
         "type": "pie",
         "values": [
          1633741,
          1426834,
          431630,
          390945,
          252620,
          216584,
          209486,
          160533,
          121694,
          107281,
          101662,
          97516,
          87034,
          84359,
          76515,
          66700,
          65138,
          64604,
          57739
         ]
        }
       ],
       "layout": {
        "height": 800,
        "margin": {
         "b": 110,
         "l": 110,
         "r": 20,
         "t": 100
        },
        "plot_bgcolor": "#f3f4f6",
        "showlegend": false,
        "template": {
         "data": {
          "bar": [
           {
            "error_x": {
             "color": "#2a3f5f"
            },
            "error_y": {
             "color": "#2a3f5f"
            },
            "marker": {
             "line": {
              "color": "#E5ECF6",
              "width": 0.5
             },
             "pattern": {
              "fillmode": "overlay",
              "size": 10,
              "solidity": 0.2
             }
            },
            "type": "bar"
           }
          ],
          "barpolar": [
           {
            "marker": {
             "line": {
              "color": "#E5ECF6",
              "width": 0.5
             },
             "pattern": {
              "fillmode": "overlay",
              "size": 10,
              "solidity": 0.2
             }
            },
            "type": "barpolar"
           }
          ],
          "carpet": [
           {
            "aaxis": {
             "endlinecolor": "#2a3f5f",
             "gridcolor": "white",
             "linecolor": "white",
             "minorgridcolor": "white",
             "startlinecolor": "#2a3f5f"
            },
            "baxis": {
             "endlinecolor": "#2a3f5f",
             "gridcolor": "white",
             "linecolor": "white",
             "minorgridcolor": "white",
             "startlinecolor": "#2a3f5f"
            },
            "type": "carpet"
           }
          ],
          "choropleth": [
           {
            "colorbar": {
             "outlinewidth": 0,
             "ticks": ""
            },
            "type": "choropleth"
           }
          ],
          "contour": [
           {
            "colorbar": {
             "outlinewidth": 0,
             "ticks": ""
            },
            "colorscale": [
             [
              0,
              "#0d0887"
             ],
             [
              0.1111111111111111,
              "#46039f"
             ],
             [
              0.2222222222222222,
              "#7201a8"
             ],
             [
              0.3333333333333333,
              "#9c179e"
             ],
             [
              0.4444444444444444,
              "#bd3786"
             ],
             [
              0.5555555555555556,
              "#d8576b"
             ],
             [
              0.6666666666666666,
              "#ed7953"
             ],
             [
              0.7777777777777778,
              "#fb9f3a"
             ],
             [
              0.8888888888888888,
              "#fdca26"
             ],
             [
              1,
              "#f0f921"
             ]
            ],
            "type": "contour"
           }
          ],
          "contourcarpet": [
           {
            "colorbar": {
             "outlinewidth": 0,
             "ticks": ""
            },
            "type": "contourcarpet"
           }
          ],
          "heatmap": [
           {
            "colorbar": {
             "outlinewidth": 0,
             "ticks": ""
            },
            "colorscale": [
             [
              0,
              "#0d0887"
             ],
             [
              0.1111111111111111,
              "#46039f"
             ],
             [
              0.2222222222222222,
              "#7201a8"
             ],
             [
              0.3333333333333333,
              "#9c179e"
             ],
             [
              0.4444444444444444,
              "#bd3786"
             ],
             [
              0.5555555555555556,
              "#d8576b"
             ],
             [
              0.6666666666666666,
              "#ed7953"
             ],
             [
              0.7777777777777778,
              "#fb9f3a"
             ],
             [
              0.8888888888888888,
              "#fdca26"
             ],
             [
              1,
              "#f0f921"
             ]
            ],
            "type": "heatmap"
           }
          ],
          "heatmapgl": [
           {
            "colorbar": {
             "outlinewidth": 0,
             "ticks": ""
            },
            "colorscale": [
             [
              0,
              "#0d0887"
             ],
             [
              0.1111111111111111,
              "#46039f"
             ],
             [
              0.2222222222222222,
              "#7201a8"
             ],
             [
              0.3333333333333333,
              "#9c179e"
             ],
             [
              0.4444444444444444,
              "#bd3786"
             ],
             [
              0.5555555555555556,
              "#d8576b"
             ],
             [
              0.6666666666666666,
              "#ed7953"
             ],
             [
              0.7777777777777778,
              "#fb9f3a"
             ],
             [
              0.8888888888888888,
              "#fdca26"
             ],
             [
              1,
              "#f0f921"
             ]
            ],
            "type": "heatmapgl"
           }
          ],
          "histogram": [
           {
            "marker": {
             "pattern": {
              "fillmode": "overlay",
              "size": 10,
              "solidity": 0.2
             }
            },
            "type": "histogram"
           }
          ],
          "histogram2d": [
           {
            "colorbar": {
             "outlinewidth": 0,
             "ticks": ""
            },
            "colorscale": [
             [
              0,
              "#0d0887"
             ],
             [
              0.1111111111111111,
              "#46039f"
             ],
             [
              0.2222222222222222,
              "#7201a8"
             ],
             [
              0.3333333333333333,
              "#9c179e"
             ],
             [
              0.4444444444444444,
              "#bd3786"
             ],
             [
              0.5555555555555556,
              "#d8576b"
             ],
             [
              0.6666666666666666,
              "#ed7953"
             ],
             [
              0.7777777777777778,
              "#fb9f3a"
             ],
             [
              0.8888888888888888,
              "#fdca26"
             ],
             [
              1,
              "#f0f921"
             ]
            ],
            "type": "histogram2d"
           }
          ],
          "histogram2dcontour": [
           {
            "colorbar": {
             "outlinewidth": 0,
             "ticks": ""
            },
            "colorscale": [
             [
              0,
              "#0d0887"
             ],
             [
              0.1111111111111111,
              "#46039f"
             ],
             [
              0.2222222222222222,
              "#7201a8"
             ],
             [
              0.3333333333333333,
              "#9c179e"
             ],
             [
              0.4444444444444444,
              "#bd3786"
             ],
             [
              0.5555555555555556,
              "#d8576b"
             ],
             [
              0.6666666666666666,
              "#ed7953"
             ],
             [
              0.7777777777777778,
              "#fb9f3a"
             ],
             [
              0.8888888888888888,
              "#fdca26"
             ],
             [
              1,
              "#f0f921"
             ]
            ],
            "type": "histogram2dcontour"
           }
          ],
          "mesh3d": [
           {
            "colorbar": {
             "outlinewidth": 0,
             "ticks": ""
            },
            "type": "mesh3d"
           }
          ],
          "parcoords": [
           {
            "line": {
             "colorbar": {
              "outlinewidth": 0,
              "ticks": ""
             }
            },
            "type": "parcoords"
           }
          ],
          "pie": [
           {
            "automargin": true,
            "type": "pie"
           }
          ],
          "scatter": [
           {
            "fillpattern": {
             "fillmode": "overlay",
             "size": 10,
             "solidity": 0.2
            },
            "type": "scatter"
           }
          ],
          "scatter3d": [
           {
            "line": {
             "colorbar": {
              "outlinewidth": 0,
              "ticks": ""
             }
            },
            "marker": {
             "colorbar": {
              "outlinewidth": 0,
              "ticks": ""
             }
            },
            "type": "scatter3d"
           }
          ],
          "scattercarpet": [
           {
            "marker": {
             "colorbar": {
              "outlinewidth": 0,
              "ticks": ""
             }
            },
            "type": "scattercarpet"
           }
          ],
          "scattergeo": [
           {
            "marker": {
             "colorbar": {
              "outlinewidth": 0,
              "ticks": ""
             }
            },
            "type": "scattergeo"
           }
          ],
          "scattergl": [
           {
            "marker": {
             "colorbar": {
              "outlinewidth": 0,
              "ticks": ""
             }
            },
            "type": "scattergl"
           }
          ],
          "scattermapbox": [
           {
            "marker": {
             "colorbar": {
              "outlinewidth": 0,
              "ticks": ""
             }
            },
            "type": "scattermapbox"
           }
          ],
          "scatterpolar": [
           {
            "marker": {
             "colorbar": {
              "outlinewidth": 0,
              "ticks": ""
             }
            },
            "type": "scatterpolar"
           }
          ],
          "scatterpolargl": [
           {
            "marker": {
             "colorbar": {
              "outlinewidth": 0,
              "ticks": ""
             }
            },
            "type": "scatterpolargl"
           }
          ],
          "scatterternary": [
           {
            "marker": {
             "colorbar": {
              "outlinewidth": 0,
              "ticks": ""
             }
            },
            "type": "scatterternary"
           }
          ],
          "surface": [
           {
            "colorbar": {
             "outlinewidth": 0,
             "ticks": ""
            },
            "colorscale": [
             [
              0,
              "#0d0887"
             ],
             [
              0.1111111111111111,
              "#46039f"
             ],
             [
              0.2222222222222222,
              "#7201a8"
             ],
             [
              0.3333333333333333,
              "#9c179e"
             ],
             [
              0.4444444444444444,
              "#bd3786"
             ],
             [
              0.5555555555555556,
              "#d8576b"
             ],
             [
              0.6666666666666666,
              "#ed7953"
             ],
             [
              0.7777777777777778,
              "#fb9f3a"
             ],
             [
              0.8888888888888888,
              "#fdca26"
             ],
             [
              1,
              "#f0f921"
             ]
            ],
            "type": "surface"
           }
          ],
          "table": [
           {
            "cells": {
             "fill": {
              "color": "#EBF0F8"
             },
             "line": {
              "color": "white"
             }
            },
            "header": {
             "fill": {
              "color": "#C8D4E3"
             },
             "line": {
              "color": "white"
             }
            },
            "type": "table"
           }
          ]
         },
         "layout": {
          "annotationdefaults": {
           "arrowcolor": "#2a3f5f",
           "arrowhead": 0,
           "arrowwidth": 1
          },
          "autotypenumbers": "strict",
          "coloraxis": {
           "colorbar": {
            "outlinewidth": 0,
            "ticks": ""
           }
          },
          "colorscale": {
           "diverging": [
            [
             0,
             "#8e0152"
            ],
            [
             0.1,
             "#c51b7d"
            ],
            [
             0.2,
             "#de77ae"
            ],
            [
             0.3,
             "#f1b6da"
            ],
            [
             0.4,
             "#fde0ef"
            ],
            [
             0.5,
             "#f7f7f7"
            ],
            [
             0.6,
             "#e6f5d0"
            ],
            [
             0.7,
             "#b8e186"
            ],
            [
             0.8,
             "#7fbc41"
            ],
            [
             0.9,
             "#4d9221"
            ],
            [
             1,
             "#276419"
            ]
           ],
           "sequential": [
            [
             0,
             "#0d0887"
            ],
            [
             0.1111111111111111,
             "#46039f"
            ],
            [
             0.2222222222222222,
             "#7201a8"
            ],
            [
             0.3333333333333333,
             "#9c179e"
            ],
            [
             0.4444444444444444,
             "#bd3786"
            ],
            [
             0.5555555555555556,
             "#d8576b"
            ],
            [
             0.6666666666666666,
             "#ed7953"
            ],
            [
             0.7777777777777778,
             "#fb9f3a"
            ],
            [
             0.8888888888888888,
             "#fdca26"
            ],
            [
             1,
             "#f0f921"
            ]
           ],
           "sequentialminus": [
            [
             0,
             "#0d0887"
            ],
            [
             0.1111111111111111,
             "#46039f"
            ],
            [
             0.2222222222222222,
             "#7201a8"
            ],
            [
             0.3333333333333333,
             "#9c179e"
            ],
            [
             0.4444444444444444,
             "#bd3786"
            ],
            [
             0.5555555555555556,
             "#d8576b"
            ],
            [
             0.6666666666666666,
             "#ed7953"
            ],
            [
             0.7777777777777778,
             "#fb9f3a"
            ],
            [
             0.8888888888888888,
             "#fdca26"
            ],
            [
             1,
             "#f0f921"
            ]
           ]
          },
          "colorway": [
           "#636efa",
           "#EF553B",
           "#00cc96",
           "#ab63fa",
           "#FFA15A",
           "#19d3f3",
           "#FF6692",
           "#B6E880",
           "#FF97FF",
           "#FECB52"
          ],
          "font": {
           "color": "#2a3f5f"
          },
          "geo": {
           "bgcolor": "white",
           "lakecolor": "white",
           "landcolor": "#E5ECF6",
           "showlakes": true,
           "showland": true,
           "subunitcolor": "white"
          },
          "hoverlabel": {
           "align": "left"
          },
          "hovermode": "closest",
          "mapbox": {
           "style": "light"
          },
          "paper_bgcolor": "white",
          "plot_bgcolor": "#E5ECF6",
          "polar": {
           "angularaxis": {
            "gridcolor": "white",
            "linecolor": "white",
            "ticks": ""
           },
           "bgcolor": "#E5ECF6",
           "radialaxis": {
            "gridcolor": "white",
            "linecolor": "white",
            "ticks": ""
           }
          },
          "scene": {
           "xaxis": {
            "backgroundcolor": "#E5ECF6",
            "gridcolor": "white",
            "gridwidth": 2,
            "linecolor": "white",
            "showbackground": true,
            "ticks": "",
            "zerolinecolor": "white"
           },
           "yaxis": {
            "backgroundcolor": "#E5ECF6",
            "gridcolor": "white",
            "gridwidth": 2,
            "linecolor": "white",
            "showbackground": true,
            "ticks": "",
            "zerolinecolor": "white"
           },
           "zaxis": {
            "backgroundcolor": "#E5ECF6",
            "gridcolor": "white",
            "gridwidth": 2,
            "linecolor": "white",
            "showbackground": true,
            "ticks": "",
            "zerolinecolor": "white"
           }
          },
          "shapedefaults": {
           "line": {
            "color": "#2a3f5f"
           }
          },
          "ternary": {
           "aaxis": {
            "gridcolor": "white",
            "linecolor": "white",
            "ticks": ""
           },
           "baxis": {
            "gridcolor": "white",
            "linecolor": "white",
            "ticks": ""
           },
           "bgcolor": "#E5ECF6",
           "caxis": {
            "gridcolor": "white",
            "linecolor": "white",
            "ticks": ""
           }
          },
          "title": {
           "x": 0.05
          },
          "xaxis": {
           "automargin": true,
           "gridcolor": "white",
           "linecolor": "white",
           "ticks": "",
           "title": {
            "standoff": 15
           },
           "zerolinecolor": "white",
           "zerolinewidth": 2
          },
          "yaxis": {
           "automargin": true,
           "gridcolor": "white",
           "linecolor": "white",
           "ticks": "",
           "title": {
            "standoff": 15
           },
           "zerolinecolor": "white",
           "zerolinewidth": 2
          }
         }
        },
        "title": {
         "font": {
          "color": "black",
          "family": "Verdana",
          "size": 30,
          "weight": "bold"
         },
         "text": "İkamet Edilen İle göre Nüfus Kütüğüne Kayıtlı Olunan İl: Ankara",
         "x": 0.5,
         "xanchor": "center"
        },
        "xaxis": {
         "gridcolor": "lightgray",
         "showgrid": true,
         "tickangle": -45,
         "tickfont": {
          "family": "Verdana",
          "size": 12
         },
         "title": {
          "font": {
           "color": "black",
           "family": "Verdana",
           "size": 20,
           "weight": "bold"
          }
         }
        },
        "yaxis": {
         "gridcolor": "lightgray",
         "showgrid": true,
         "tickfont": {
          "family": "Verdana",
          "size": 12
         },
         "tickformat": ",",
         "title": {
          "font": {
           "color": "black",
           "family": "Verdana",
           "size": 20,
           "weight": "bold"
          }
         }
        }
       }
      }
     },
     "metadata": {},
     "output_type": "display_data"
    }
   ],
   "source": [
    "import plotly.graph_objects as go\n",
    "\n",
    "city_code = 6\n",
    "labels = [city_code_map.get(i).capitalize() for i in df5.columns[1:] if i!=city_code]\n",
    "values = df5.loc[city_code][1:]\n",
    "\n",
    "# Group smaller categories into \"Other\"\n",
    "threshold = 0.01 * sum(values)\n",
    "labels_grouped = []\n",
    "values_grouped = []\n",
    "other_value = 0\n",
    "\n",
    "for label, value in zip(labels, values):\n",
    "    if value < threshold:\n",
    "        other_value += value\n",
    "    else:\n",
    "        labels_grouped.append(label)\n",
    "        values_grouped.append(value)\n",
    "\n",
    "if other_value > 0:\n",
    "    labels_grouped.append('Diğer')\n",
    "    values_grouped.append(other_value)\n",
    "\n",
    "\n",
    "sorted_labels_values = sorted(zip(values_grouped, labels_grouped), reverse=True)\n",
    "values_grouped_sorted, labels_grouped_sorted = zip(*sorted_labels_values)\n",
    "\n",
    "fig_age = go.Figure(\n",
    "    data=[\n",
    "        go.Pie(\n",
    "            name=\"\",\n",
    "            labels=labels_grouped_sorted,\n",
    "            values=values_grouped_sorted,\n",
    "            hovertemplate=\"<b>%{label}</b><br>%{value} = %{percent}\",\n",
    "            textfont=dict(\n",
    "                size=18,\n",
    "                family=font_family,\n",
    "                weight=\"bold\",\n",
    "            ),\n",
    "            textinfo=\"label\",  # Show labels and percentages\n",
    "        )\n",
    "    ]\n",
    ")\n",
    "\n",
    "# Update layout for the age figure\n",
    "fig_age.update_layout(\n",
    "    title_text=f\"İkamet Edilen İle göre Nüfus Kütüğüne Kayıtlı Olunan İl: {city_code_map.get(city_code, \"Şehir Bulunamadı\").capitalize()}\",\n",
    "    title_x=0.5,\n",
    "    height=800,  # Increase height to give more space\n",
    "    width=None,   # Increase width to give more space\n",
    "    margin=dict(t=100, b=100, l=100, r=100),  # Adjust margins\n",
    "    title_xanchor=\"center\",\n",
    "    showlegend=False,\n",
    ")\n",
    "\n",
    "fig_age.update_layout(design)\n",
    "fig_age.show()\n"
   ]
  },
  {
   "cell_type": "code",
   "execution_count": 101,
   "metadata": {},
   "outputs": [
    {
     "data": {
      "application/vnd.plotly.v1+json": {
       "config": {
        "plotlyServerURL": "https://plot.ly"
       },
       "data": [
        {
         "marker": {
          "color": "skyblue"
         },
         "name": "",
         "text": [
          "1313509",
          "199072",
          "111816",
          "106477",
          "79083",
          "72069",
          "55134",
          "53298",
          "44964",
          "32879",
          "32319",
          "32295",
          "27790",
          "25601",
          "24253",
          "23559",
          "23252"
         ],
         "textposition": "auto",
         "type": "bar",
         "x": [
          "Adiyaman",
          "Diğer",
          "Uşak",
          "Muğla",
          "Düzce",
          "Edi̇rne",
          "İstanbul",
          "Afyonkarahi̇sar",
          "Si̇nop",
          "Erzi̇ncan",
          "Mardi̇n",
          "Isparta",
          "Ordu",
          "Mani̇sa",
          "Bi̇tli̇s",
          "Gi̇resun",
          "Yozgat"
         ],
         "y": [
          1313509,
          199072,
          111816,
          106477,
          79083,
          72069,
          55134,
          53298,
          44964,
          32879,
          32319,
          32295,
          27790,
          25601,
          24253,
          23559,
          23252
         ]
        }
       ],
       "layout": {
        "height": 800,
        "margin": {
         "b": 110,
         "l": 110,
         "r": 20,
         "t": 100
        },
        "plot_bgcolor": "#f3f4f6",
        "template": {
         "data": {
          "bar": [
           {
            "error_x": {
             "color": "#2a3f5f"
            },
            "error_y": {
             "color": "#2a3f5f"
            },
            "marker": {
             "line": {
              "color": "#E5ECF6",
              "width": 0.5
             },
             "pattern": {
              "fillmode": "overlay",
              "size": 10,
              "solidity": 0.2
             }
            },
            "type": "bar"
           }
          ],
          "barpolar": [
           {
            "marker": {
             "line": {
              "color": "#E5ECF6",
              "width": 0.5
             },
             "pattern": {
              "fillmode": "overlay",
              "size": 10,
              "solidity": 0.2
             }
            },
            "type": "barpolar"
           }
          ],
          "carpet": [
           {
            "aaxis": {
             "endlinecolor": "#2a3f5f",
             "gridcolor": "white",
             "linecolor": "white",
             "minorgridcolor": "white",
             "startlinecolor": "#2a3f5f"
            },
            "baxis": {
             "endlinecolor": "#2a3f5f",
             "gridcolor": "white",
             "linecolor": "white",
             "minorgridcolor": "white",
             "startlinecolor": "#2a3f5f"
            },
            "type": "carpet"
           }
          ],
          "choropleth": [
           {
            "colorbar": {
             "outlinewidth": 0,
             "ticks": ""
            },
            "type": "choropleth"
           }
          ],
          "contour": [
           {
            "colorbar": {
             "outlinewidth": 0,
             "ticks": ""
            },
            "colorscale": [
             [
              0,
              "#0d0887"
             ],
             [
              0.1111111111111111,
              "#46039f"
             ],
             [
              0.2222222222222222,
              "#7201a8"
             ],
             [
              0.3333333333333333,
              "#9c179e"
             ],
             [
              0.4444444444444444,
              "#bd3786"
             ],
             [
              0.5555555555555556,
              "#d8576b"
             ],
             [
              0.6666666666666666,
              "#ed7953"
             ],
             [
              0.7777777777777778,
              "#fb9f3a"
             ],
             [
              0.8888888888888888,
              "#fdca26"
             ],
             [
              1,
              "#f0f921"
             ]
            ],
            "type": "contour"
           }
          ],
          "contourcarpet": [
           {
            "colorbar": {
             "outlinewidth": 0,
             "ticks": ""
            },
            "type": "contourcarpet"
           }
          ],
          "heatmap": [
           {
            "colorbar": {
             "outlinewidth": 0,
             "ticks": ""
            },
            "colorscale": [
             [
              0,
              "#0d0887"
             ],
             [
              0.1111111111111111,
              "#46039f"
             ],
             [
              0.2222222222222222,
              "#7201a8"
             ],
             [
              0.3333333333333333,
              "#9c179e"
             ],
             [
              0.4444444444444444,
              "#bd3786"
             ],
             [
              0.5555555555555556,
              "#d8576b"
             ],
             [
              0.6666666666666666,
              "#ed7953"
             ],
             [
              0.7777777777777778,
              "#fb9f3a"
             ],
             [
              0.8888888888888888,
              "#fdca26"
             ],
             [
              1,
              "#f0f921"
             ]
            ],
            "type": "heatmap"
           }
          ],
          "heatmapgl": [
           {
            "colorbar": {
             "outlinewidth": 0,
             "ticks": ""
            },
            "colorscale": [
             [
              0,
              "#0d0887"
             ],
             [
              0.1111111111111111,
              "#46039f"
             ],
             [
              0.2222222222222222,
              "#7201a8"
             ],
             [
              0.3333333333333333,
              "#9c179e"
             ],
             [
              0.4444444444444444,
              "#bd3786"
             ],
             [
              0.5555555555555556,
              "#d8576b"
             ],
             [
              0.6666666666666666,
              "#ed7953"
             ],
             [
              0.7777777777777778,
              "#fb9f3a"
             ],
             [
              0.8888888888888888,
              "#fdca26"
             ],
             [
              1,
              "#f0f921"
             ]
            ],
            "type": "heatmapgl"
           }
          ],
          "histogram": [
           {
            "marker": {
             "pattern": {
              "fillmode": "overlay",
              "size": 10,
              "solidity": 0.2
             }
            },
            "type": "histogram"
           }
          ],
          "histogram2d": [
           {
            "colorbar": {
             "outlinewidth": 0,
             "ticks": ""
            },
            "colorscale": [
             [
              0,
              "#0d0887"
             ],
             [
              0.1111111111111111,
              "#46039f"
             ],
             [
              0.2222222222222222,
              "#7201a8"
             ],
             [
              0.3333333333333333,
              "#9c179e"
             ],
             [
              0.4444444444444444,
              "#bd3786"
             ],
             [
              0.5555555555555556,
              "#d8576b"
             ],
             [
              0.6666666666666666,
              "#ed7953"
             ],
             [
              0.7777777777777778,
              "#fb9f3a"
             ],
             [
              0.8888888888888888,
              "#fdca26"
             ],
             [
              1,
              "#f0f921"
             ]
            ],
            "type": "histogram2d"
           }
          ],
          "histogram2dcontour": [
           {
            "colorbar": {
             "outlinewidth": 0,
             "ticks": ""
            },
            "colorscale": [
             [
              0,
              "#0d0887"
             ],
             [
              0.1111111111111111,
              "#46039f"
             ],
             [
              0.2222222222222222,
              "#7201a8"
             ],
             [
              0.3333333333333333,
              "#9c179e"
             ],
             [
              0.4444444444444444,
              "#bd3786"
             ],
             [
              0.5555555555555556,
              "#d8576b"
             ],
             [
              0.6666666666666666,
              "#ed7953"
             ],
             [
              0.7777777777777778,
              "#fb9f3a"
             ],
             [
              0.8888888888888888,
              "#fdca26"
             ],
             [
              1,
              "#f0f921"
             ]
            ],
            "type": "histogram2dcontour"
           }
          ],
          "mesh3d": [
           {
            "colorbar": {
             "outlinewidth": 0,
             "ticks": ""
            },
            "type": "mesh3d"
           }
          ],
          "parcoords": [
           {
            "line": {
             "colorbar": {
              "outlinewidth": 0,
              "ticks": ""
             }
            },
            "type": "parcoords"
           }
          ],
          "pie": [
           {
            "automargin": true,
            "type": "pie"
           }
          ],
          "scatter": [
           {
            "fillpattern": {
             "fillmode": "overlay",
             "size": 10,
             "solidity": 0.2
            },
            "type": "scatter"
           }
          ],
          "scatter3d": [
           {
            "line": {
             "colorbar": {
              "outlinewidth": 0,
              "ticks": ""
             }
            },
            "marker": {
             "colorbar": {
              "outlinewidth": 0,
              "ticks": ""
             }
            },
            "type": "scatter3d"
           }
          ],
          "scattercarpet": [
           {
            "marker": {
             "colorbar": {
              "outlinewidth": 0,
              "ticks": ""
             }
            },
            "type": "scattercarpet"
           }
          ],
          "scattergeo": [
           {
            "marker": {
             "colorbar": {
              "outlinewidth": 0,
              "ticks": ""
             }
            },
            "type": "scattergeo"
           }
          ],
          "scattergl": [
           {
            "marker": {
             "colorbar": {
              "outlinewidth": 0,
              "ticks": ""
             }
            },
            "type": "scattergl"
           }
          ],
          "scattermapbox": [
           {
            "marker": {
             "colorbar": {
              "outlinewidth": 0,
              "ticks": ""
             }
            },
            "type": "scattermapbox"
           }
          ],
          "scatterpolar": [
           {
            "marker": {
             "colorbar": {
              "outlinewidth": 0,
              "ticks": ""
             }
            },
            "type": "scatterpolar"
           }
          ],
          "scatterpolargl": [
           {
            "marker": {
             "colorbar": {
              "outlinewidth": 0,
              "ticks": ""
             }
            },
            "type": "scatterpolargl"
           }
          ],
          "scatterternary": [
           {
            "marker": {
             "colorbar": {
              "outlinewidth": 0,
              "ticks": ""
             }
            },
            "type": "scatterternary"
           }
          ],
          "surface": [
           {
            "colorbar": {
             "outlinewidth": 0,
             "ticks": ""
            },
            "colorscale": [
             [
              0,
              "#0d0887"
             ],
             [
              0.1111111111111111,
              "#46039f"
             ],
             [
              0.2222222222222222,
              "#7201a8"
             ],
             [
              0.3333333333333333,
              "#9c179e"
             ],
             [
              0.4444444444444444,
              "#bd3786"
             ],
             [
              0.5555555555555556,
              "#d8576b"
             ],
             [
              0.6666666666666666,
              "#ed7953"
             ],
             [
              0.7777777777777778,
              "#fb9f3a"
             ],
             [
              0.8888888888888888,
              "#fdca26"
             ],
             [
              1,
              "#f0f921"
             ]
            ],
            "type": "surface"
           }
          ],
          "table": [
           {
            "cells": {
             "fill": {
              "color": "#EBF0F8"
             },
             "line": {
              "color": "white"
             }
            },
            "header": {
             "fill": {
              "color": "#C8D4E3"
             },
             "line": {
              "color": "white"
             }
            },
            "type": "table"
           }
          ]
         },
         "layout": {
          "annotationdefaults": {
           "arrowcolor": "#2a3f5f",
           "arrowhead": 0,
           "arrowwidth": 1
          },
          "autotypenumbers": "strict",
          "coloraxis": {
           "colorbar": {
            "outlinewidth": 0,
            "ticks": ""
           }
          },
          "colorscale": {
           "diverging": [
            [
             0,
             "#8e0152"
            ],
            [
             0.1,
             "#c51b7d"
            ],
            [
             0.2,
             "#de77ae"
            ],
            [
             0.3,
             "#f1b6da"
            ],
            [
             0.4,
             "#fde0ef"
            ],
            [
             0.5,
             "#f7f7f7"
            ],
            [
             0.6,
             "#e6f5d0"
            ],
            [
             0.7,
             "#b8e186"
            ],
            [
             0.8,
             "#7fbc41"
            ],
            [
             0.9,
             "#4d9221"
            ],
            [
             1,
             "#276419"
            ]
           ],
           "sequential": [
            [
             0,
             "#0d0887"
            ],
            [
             0.1111111111111111,
             "#46039f"
            ],
            [
             0.2222222222222222,
             "#7201a8"
            ],
            [
             0.3333333333333333,
             "#9c179e"
            ],
            [
             0.4444444444444444,
             "#bd3786"
            ],
            [
             0.5555555555555556,
             "#d8576b"
            ],
            [
             0.6666666666666666,
             "#ed7953"
            ],
            [
             0.7777777777777778,
             "#fb9f3a"
            ],
            [
             0.8888888888888888,
             "#fdca26"
            ],
            [
             1,
             "#f0f921"
            ]
           ],
           "sequentialminus": [
            [
             0,
             "#0d0887"
            ],
            [
             0.1111111111111111,
             "#46039f"
            ],
            [
             0.2222222222222222,
             "#7201a8"
            ],
            [
             0.3333333333333333,
             "#9c179e"
            ],
            [
             0.4444444444444444,
             "#bd3786"
            ],
            [
             0.5555555555555556,
             "#d8576b"
            ],
            [
             0.6666666666666666,
             "#ed7953"
            ],
            [
             0.7777777777777778,
             "#fb9f3a"
            ],
            [
             0.8888888888888888,
             "#fdca26"
            ],
            [
             1,
             "#f0f921"
            ]
           ]
          },
          "colorway": [
           "#636efa",
           "#EF553B",
           "#00cc96",
           "#ab63fa",
           "#FFA15A",
           "#19d3f3",
           "#FF6692",
           "#B6E880",
           "#FF97FF",
           "#FECB52"
          ],
          "font": {
           "color": "#2a3f5f"
          },
          "geo": {
           "bgcolor": "white",
           "lakecolor": "white",
           "landcolor": "#E5ECF6",
           "showlakes": true,
           "showland": true,
           "subunitcolor": "white"
          },
          "hoverlabel": {
           "align": "left"
          },
          "hovermode": "closest",
          "mapbox": {
           "style": "light"
          },
          "paper_bgcolor": "white",
          "plot_bgcolor": "#E5ECF6",
          "polar": {
           "angularaxis": {
            "gridcolor": "white",
            "linecolor": "white",
            "ticks": ""
           },
           "bgcolor": "#E5ECF6",
           "radialaxis": {
            "gridcolor": "white",
            "linecolor": "white",
            "ticks": ""
           }
          },
          "scene": {
           "xaxis": {
            "backgroundcolor": "#E5ECF6",
            "gridcolor": "white",
            "gridwidth": 2,
            "linecolor": "white",
            "showbackground": true,
            "ticks": "",
            "zerolinecolor": "white"
           },
           "yaxis": {
            "backgroundcolor": "#E5ECF6",
            "gridcolor": "white",
            "gridwidth": 2,
            "linecolor": "white",
            "showbackground": true,
            "ticks": "",
            "zerolinecolor": "white"
           },
           "zaxis": {
            "backgroundcolor": "#E5ECF6",
            "gridcolor": "white",
            "gridwidth": 2,
            "linecolor": "white",
            "showbackground": true,
            "ticks": "",
            "zerolinecolor": "white"
           }
          },
          "shapedefaults": {
           "line": {
            "color": "#2a3f5f"
           }
          },
          "ternary": {
           "aaxis": {
            "gridcolor": "white",
            "linecolor": "white",
            "ticks": ""
           },
           "baxis": {
            "gridcolor": "white",
            "linecolor": "white",
            "ticks": ""
           },
           "bgcolor": "#E5ECF6",
           "caxis": {
            "gridcolor": "white",
            "linecolor": "white",
            "ticks": ""
           }
          },
          "title": {
           "x": 0.05
          },
          "xaxis": {
           "automargin": true,
           "gridcolor": "white",
           "linecolor": "white",
           "ticks": "",
           "title": {
            "standoff": 15
           },
           "zerolinecolor": "white",
           "zerolinewidth": 2
          },
          "yaxis": {
           "automargin": true,
           "gridcolor": "white",
           "linecolor": "white",
           "ticks": "",
           "title": {
            "standoff": 15
           },
           "zerolinecolor": "white",
           "zerolinewidth": 2
          }
         }
        },
        "title": {
         "font": {
          "color": "black",
          "family": "Verdana",
          "size": 30,
          "weight": "bold"
         },
         "text": "İkamet Edilen İle göre Nüfus Kütüğüne Kayıtlı Olunan İl: Adana",
         "x": 0.5,
         "xanchor": "center"
        },
        "xaxis": {
         "gridcolor": "lightgray",
         "showgrid": true,
         "tickangle": -45,
         "tickfont": {
          "family": "Verdana",
          "size": 12
         },
         "title": {
          "font": {
           "color": "black",
           "family": "Verdana",
           "size": 20,
           "weight": "bold"
          },
          "text": "Memleket"
         }
        },
        "yaxis": {
         "gridcolor": "lightgray",
         "showgrid": true,
         "tickfont": {
          "family": "Verdana",
          "size": 12
         },
         "tickformat": ",",
         "title": {
          "font": {
           "color": "black",
           "family": "Verdana",
           "size": 20,
           "weight": "bold"
          },
          "text": ""
         }
        }
       }
      }
     },
     "metadata": {},
     "output_type": "display_data"
    }
   ],
   "source": [
    "\n",
    "\n",
    "\n",
    "# Create a bar chart\n",
    "fig_bar = go.Figure(\n",
    "    data=[\n",
    "        go.Bar(\n",
    "            name=\"\",\n",
    "            x=labels_grouped_sorted,\n",
    "            y=values_grouped_sorted,\n",
    "            text=values_grouped_sorted,\n",
    "            textposition='auto',\n",
    "            marker=dict(color='skyblue'),\n",
    "        )\n",
    "    ]\n",
    ")\n",
    "\n",
    "# Update layout for the bar chart\n",
    "fig_bar.update_layout(\n",
    "    title_text=f\"İkamet Edilen İle göre Nüfus Kütüğüne Kayıtlı Olunan İl: {city_code_map.get(city_code, \"Şehir Bulunamadı\").capitalize()}\",\n",
    "    title_x=0.5,\n",
    "    height=800,\n",
    "    margin=dict(t=100, b=200, l=100, r=100),\n",
    "    title_xanchor=\"center\",\n",
    "    xaxis_title=\"Memleket\",\n",
    "    yaxis_title=\"\",\n",
    "    xaxis=dict(tickangle=-45),\n",
    ")\n",
    "\n",
    "fig_bar.update_layout(design)\n",
    "fig_bar.show()"
   ]
  },
  {
   "cell_type": "code",
   "execution_count": 102,
   "metadata": {},
   "outputs": [
    {
     "data": {
      "application/vnd.plotly.v1+json": {
       "config": {
        "plotlyServerURL": "https://plot.ly"
       },
       "data": [
        {
         "branchvalues": "total",
         "hovertemplate": "<b>%{label}</b><br>%{value}",
         "labels": [
          "Adiyaman",
          "Diğer",
          "Uşak",
          "Muğla",
          "Düzce",
          "Edi̇rne",
          "İstanbul",
          "Afyonkarahi̇sar",
          "Si̇nop",
          "Erzi̇ncan",
          "Mardi̇n",
          "Isparta",
          "Ordu",
          "Mani̇sa",
          "Bi̇tli̇s",
          "Gi̇resun",
          "Yozgat"
         ],
         "name": "",
         "parents": [
          "",
          "",
          "",
          "",
          "",
          "",
          "",
          "",
          "",
          "",
          "",
          "",
          "",
          "",
          "",
          "",
          ""
         ],
         "textfont": {
          "family": "Verdana",
          "size": 18,
          "weight": "bold"
         },
         "type": "sunburst",
         "values": [
          1313509,
          199072,
          111816,
          106477,
          79083,
          72069,
          55134,
          53298,
          44964,
          32879,
          32319,
          32295,
          27790,
          25601,
          24253,
          23559,
          23252
         ]
        }
       ],
       "layout": {
        "height": 800,
        "margin": {
         "b": 110,
         "l": 110,
         "r": 20,
         "t": 100
        },
        "plot_bgcolor": "#f3f4f6",
        "template": {
         "data": {
          "bar": [
           {
            "error_x": {
             "color": "#2a3f5f"
            },
            "error_y": {
             "color": "#2a3f5f"
            },
            "marker": {
             "line": {
              "color": "#E5ECF6",
              "width": 0.5
             },
             "pattern": {
              "fillmode": "overlay",
              "size": 10,
              "solidity": 0.2
             }
            },
            "type": "bar"
           }
          ],
          "barpolar": [
           {
            "marker": {
             "line": {
              "color": "#E5ECF6",
              "width": 0.5
             },
             "pattern": {
              "fillmode": "overlay",
              "size": 10,
              "solidity": 0.2
             }
            },
            "type": "barpolar"
           }
          ],
          "carpet": [
           {
            "aaxis": {
             "endlinecolor": "#2a3f5f",
             "gridcolor": "white",
             "linecolor": "white",
             "minorgridcolor": "white",
             "startlinecolor": "#2a3f5f"
            },
            "baxis": {
             "endlinecolor": "#2a3f5f",
             "gridcolor": "white",
             "linecolor": "white",
             "minorgridcolor": "white",
             "startlinecolor": "#2a3f5f"
            },
            "type": "carpet"
           }
          ],
          "choropleth": [
           {
            "colorbar": {
             "outlinewidth": 0,
             "ticks": ""
            },
            "type": "choropleth"
           }
          ],
          "contour": [
           {
            "colorbar": {
             "outlinewidth": 0,
             "ticks": ""
            },
            "colorscale": [
             [
              0,
              "#0d0887"
             ],
             [
              0.1111111111111111,
              "#46039f"
             ],
             [
              0.2222222222222222,
              "#7201a8"
             ],
             [
              0.3333333333333333,
              "#9c179e"
             ],
             [
              0.4444444444444444,
              "#bd3786"
             ],
             [
              0.5555555555555556,
              "#d8576b"
             ],
             [
              0.6666666666666666,
              "#ed7953"
             ],
             [
              0.7777777777777778,
              "#fb9f3a"
             ],
             [
              0.8888888888888888,
              "#fdca26"
             ],
             [
              1,
              "#f0f921"
             ]
            ],
            "type": "contour"
           }
          ],
          "contourcarpet": [
           {
            "colorbar": {
             "outlinewidth": 0,
             "ticks": ""
            },
            "type": "contourcarpet"
           }
          ],
          "heatmap": [
           {
            "colorbar": {
             "outlinewidth": 0,
             "ticks": ""
            },
            "colorscale": [
             [
              0,
              "#0d0887"
             ],
             [
              0.1111111111111111,
              "#46039f"
             ],
             [
              0.2222222222222222,
              "#7201a8"
             ],
             [
              0.3333333333333333,
              "#9c179e"
             ],
             [
              0.4444444444444444,
              "#bd3786"
             ],
             [
              0.5555555555555556,
              "#d8576b"
             ],
             [
              0.6666666666666666,
              "#ed7953"
             ],
             [
              0.7777777777777778,
              "#fb9f3a"
             ],
             [
              0.8888888888888888,
              "#fdca26"
             ],
             [
              1,
              "#f0f921"
             ]
            ],
            "type": "heatmap"
           }
          ],
          "heatmapgl": [
           {
            "colorbar": {
             "outlinewidth": 0,
             "ticks": ""
            },
            "colorscale": [
             [
              0,
              "#0d0887"
             ],
             [
              0.1111111111111111,
              "#46039f"
             ],
             [
              0.2222222222222222,
              "#7201a8"
             ],
             [
              0.3333333333333333,
              "#9c179e"
             ],
             [
              0.4444444444444444,
              "#bd3786"
             ],
             [
              0.5555555555555556,
              "#d8576b"
             ],
             [
              0.6666666666666666,
              "#ed7953"
             ],
             [
              0.7777777777777778,
              "#fb9f3a"
             ],
             [
              0.8888888888888888,
              "#fdca26"
             ],
             [
              1,
              "#f0f921"
             ]
            ],
            "type": "heatmapgl"
           }
          ],
          "histogram": [
           {
            "marker": {
             "pattern": {
              "fillmode": "overlay",
              "size": 10,
              "solidity": 0.2
             }
            },
            "type": "histogram"
           }
          ],
          "histogram2d": [
           {
            "colorbar": {
             "outlinewidth": 0,
             "ticks": ""
            },
            "colorscale": [
             [
              0,
              "#0d0887"
             ],
             [
              0.1111111111111111,
              "#46039f"
             ],
             [
              0.2222222222222222,
              "#7201a8"
             ],
             [
              0.3333333333333333,
              "#9c179e"
             ],
             [
              0.4444444444444444,
              "#bd3786"
             ],
             [
              0.5555555555555556,
              "#d8576b"
             ],
             [
              0.6666666666666666,
              "#ed7953"
             ],
             [
              0.7777777777777778,
              "#fb9f3a"
             ],
             [
              0.8888888888888888,
              "#fdca26"
             ],
             [
              1,
              "#f0f921"
             ]
            ],
            "type": "histogram2d"
           }
          ],
          "histogram2dcontour": [
           {
            "colorbar": {
             "outlinewidth": 0,
             "ticks": ""
            },
            "colorscale": [
             [
              0,
              "#0d0887"
             ],
             [
              0.1111111111111111,
              "#46039f"
             ],
             [
              0.2222222222222222,
              "#7201a8"
             ],
             [
              0.3333333333333333,
              "#9c179e"
             ],
             [
              0.4444444444444444,
              "#bd3786"
             ],
             [
              0.5555555555555556,
              "#d8576b"
             ],
             [
              0.6666666666666666,
              "#ed7953"
             ],
             [
              0.7777777777777778,
              "#fb9f3a"
             ],
             [
              0.8888888888888888,
              "#fdca26"
             ],
             [
              1,
              "#f0f921"
             ]
            ],
            "type": "histogram2dcontour"
           }
          ],
          "mesh3d": [
           {
            "colorbar": {
             "outlinewidth": 0,
             "ticks": ""
            },
            "type": "mesh3d"
           }
          ],
          "parcoords": [
           {
            "line": {
             "colorbar": {
              "outlinewidth": 0,
              "ticks": ""
             }
            },
            "type": "parcoords"
           }
          ],
          "pie": [
           {
            "automargin": true,
            "type": "pie"
           }
          ],
          "scatter": [
           {
            "fillpattern": {
             "fillmode": "overlay",
             "size": 10,
             "solidity": 0.2
            },
            "type": "scatter"
           }
          ],
          "scatter3d": [
           {
            "line": {
             "colorbar": {
              "outlinewidth": 0,
              "ticks": ""
             }
            },
            "marker": {
             "colorbar": {
              "outlinewidth": 0,
              "ticks": ""
             }
            },
            "type": "scatter3d"
           }
          ],
          "scattercarpet": [
           {
            "marker": {
             "colorbar": {
              "outlinewidth": 0,
              "ticks": ""
             }
            },
            "type": "scattercarpet"
           }
          ],
          "scattergeo": [
           {
            "marker": {
             "colorbar": {
              "outlinewidth": 0,
              "ticks": ""
             }
            },
            "type": "scattergeo"
           }
          ],
          "scattergl": [
           {
            "marker": {
             "colorbar": {
              "outlinewidth": 0,
              "ticks": ""
             }
            },
            "type": "scattergl"
           }
          ],
          "scattermapbox": [
           {
            "marker": {
             "colorbar": {
              "outlinewidth": 0,
              "ticks": ""
             }
            },
            "type": "scattermapbox"
           }
          ],
          "scatterpolar": [
           {
            "marker": {
             "colorbar": {
              "outlinewidth": 0,
              "ticks": ""
             }
            },
            "type": "scatterpolar"
           }
          ],
          "scatterpolargl": [
           {
            "marker": {
             "colorbar": {
              "outlinewidth": 0,
              "ticks": ""
             }
            },
            "type": "scatterpolargl"
           }
          ],
          "scatterternary": [
           {
            "marker": {
             "colorbar": {
              "outlinewidth": 0,
              "ticks": ""
             }
            },
            "type": "scatterternary"
           }
          ],
          "surface": [
           {
            "colorbar": {
             "outlinewidth": 0,
             "ticks": ""
            },
            "colorscale": [
             [
              0,
              "#0d0887"
             ],
             [
              0.1111111111111111,
              "#46039f"
             ],
             [
              0.2222222222222222,
              "#7201a8"
             ],
             [
              0.3333333333333333,
              "#9c179e"
             ],
             [
              0.4444444444444444,
              "#bd3786"
             ],
             [
              0.5555555555555556,
              "#d8576b"
             ],
             [
              0.6666666666666666,
              "#ed7953"
             ],
             [
              0.7777777777777778,
              "#fb9f3a"
             ],
             [
              0.8888888888888888,
              "#fdca26"
             ],
             [
              1,
              "#f0f921"
             ]
            ],
            "type": "surface"
           }
          ],
          "table": [
           {
            "cells": {
             "fill": {
              "color": "#EBF0F8"
             },
             "line": {
              "color": "white"
             }
            },
            "header": {
             "fill": {
              "color": "#C8D4E3"
             },
             "line": {
              "color": "white"
             }
            },
            "type": "table"
           }
          ]
         },
         "layout": {
          "annotationdefaults": {
           "arrowcolor": "#2a3f5f",
           "arrowhead": 0,
           "arrowwidth": 1
          },
          "autotypenumbers": "strict",
          "coloraxis": {
           "colorbar": {
            "outlinewidth": 0,
            "ticks": ""
           }
          },
          "colorscale": {
           "diverging": [
            [
             0,
             "#8e0152"
            ],
            [
             0.1,
             "#c51b7d"
            ],
            [
             0.2,
             "#de77ae"
            ],
            [
             0.3,
             "#f1b6da"
            ],
            [
             0.4,
             "#fde0ef"
            ],
            [
             0.5,
             "#f7f7f7"
            ],
            [
             0.6,
             "#e6f5d0"
            ],
            [
             0.7,
             "#b8e186"
            ],
            [
             0.8,
             "#7fbc41"
            ],
            [
             0.9,
             "#4d9221"
            ],
            [
             1,
             "#276419"
            ]
           ],
           "sequential": [
            [
             0,
             "#0d0887"
            ],
            [
             0.1111111111111111,
             "#46039f"
            ],
            [
             0.2222222222222222,
             "#7201a8"
            ],
            [
             0.3333333333333333,
             "#9c179e"
            ],
            [
             0.4444444444444444,
             "#bd3786"
            ],
            [
             0.5555555555555556,
             "#d8576b"
            ],
            [
             0.6666666666666666,
             "#ed7953"
            ],
            [
             0.7777777777777778,
             "#fb9f3a"
            ],
            [
             0.8888888888888888,
             "#fdca26"
            ],
            [
             1,
             "#f0f921"
            ]
           ],
           "sequentialminus": [
            [
             0,
             "#0d0887"
            ],
            [
             0.1111111111111111,
             "#46039f"
            ],
            [
             0.2222222222222222,
             "#7201a8"
            ],
            [
             0.3333333333333333,
             "#9c179e"
            ],
            [
             0.4444444444444444,
             "#bd3786"
            ],
            [
             0.5555555555555556,
             "#d8576b"
            ],
            [
             0.6666666666666666,
             "#ed7953"
            ],
            [
             0.7777777777777778,
             "#fb9f3a"
            ],
            [
             0.8888888888888888,
             "#fdca26"
            ],
            [
             1,
             "#f0f921"
            ]
           ]
          },
          "colorway": [
           "#636efa",
           "#EF553B",
           "#00cc96",
           "#ab63fa",
           "#FFA15A",
           "#19d3f3",
           "#FF6692",
           "#B6E880",
           "#FF97FF",
           "#FECB52"
          ],
          "font": {
           "color": "#2a3f5f"
          },
          "geo": {
           "bgcolor": "white",
           "lakecolor": "white",
           "landcolor": "#E5ECF6",
           "showlakes": true,
           "showland": true,
           "subunitcolor": "white"
          },
          "hoverlabel": {
           "align": "left"
          },
          "hovermode": "closest",
          "mapbox": {
           "style": "light"
          },
          "paper_bgcolor": "white",
          "plot_bgcolor": "#E5ECF6",
          "polar": {
           "angularaxis": {
            "gridcolor": "white",
            "linecolor": "white",
            "ticks": ""
           },
           "bgcolor": "#E5ECF6",
           "radialaxis": {
            "gridcolor": "white",
            "linecolor": "white",
            "ticks": ""
           }
          },
          "scene": {
           "xaxis": {
            "backgroundcolor": "#E5ECF6",
            "gridcolor": "white",
            "gridwidth": 2,
            "linecolor": "white",
            "showbackground": true,
            "ticks": "",
            "zerolinecolor": "white"
           },
           "yaxis": {
            "backgroundcolor": "#E5ECF6",
            "gridcolor": "white",
            "gridwidth": 2,
            "linecolor": "white",
            "showbackground": true,
            "ticks": "",
            "zerolinecolor": "white"
           },
           "zaxis": {
            "backgroundcolor": "#E5ECF6",
            "gridcolor": "white",
            "gridwidth": 2,
            "linecolor": "white",
            "showbackground": true,
            "ticks": "",
            "zerolinecolor": "white"
           }
          },
          "shapedefaults": {
           "line": {
            "color": "#2a3f5f"
           }
          },
          "ternary": {
           "aaxis": {
            "gridcolor": "white",
            "linecolor": "white",
            "ticks": ""
           },
           "baxis": {
            "gridcolor": "white",
            "linecolor": "white",
            "ticks": ""
           },
           "bgcolor": "#E5ECF6",
           "caxis": {
            "gridcolor": "white",
            "linecolor": "white",
            "ticks": ""
           }
          },
          "title": {
           "x": 0.05
          },
          "xaxis": {
           "automargin": true,
           "gridcolor": "white",
           "linecolor": "white",
           "ticks": "",
           "title": {
            "standoff": 15
           },
           "zerolinecolor": "white",
           "zerolinewidth": 2
          },
          "yaxis": {
           "automargin": true,
           "gridcolor": "white",
           "linecolor": "white",
           "ticks": "",
           "title": {
            "standoff": 15
           },
           "zerolinecolor": "white",
           "zerolinewidth": 2
          }
         }
        },
        "title": {
         "font": {
          "color": "black",
          "family": "Verdana",
          "size": 30,
          "weight": "bold"
         },
         "text": "İkamet Edilen İle göre Nüfus Kütüğüne Kayıtlı Olunan İl: Adana",
         "x": 0.5,
         "xanchor": "center"
        },
        "xaxis": {
         "gridcolor": "lightgray",
         "showgrid": true,
         "tickangle": -45,
         "tickfont": {
          "family": "Verdana",
          "size": 12
         },
         "title": {
          "font": {
           "color": "black",
           "family": "Verdana",
           "size": 20,
           "weight": "bold"
          }
         }
        },
        "yaxis": {
         "gridcolor": "lightgray",
         "showgrid": true,
         "tickfont": {
          "family": "Verdana",
          "size": 12
         },
         "tickformat": ",",
         "title": {
          "font": {
           "color": "black",
           "family": "Verdana",
           "size": 20,
           "weight": "bold"
          }
         }
        }
       }
      }
     },
     "metadata": {},
     "output_type": "display_data"
    }
   ],
   "source": [
    "# Create a sunburst chart\n",
    "fig_sunburst = go.Figure(\n",
    "    data=[\n",
    "        go.Sunburst(\n",
    "            name=\"\",\n",
    "            labels=labels_grouped_sorted,\n",
    "            parents=[\"\"]*len(labels_grouped),\n",
    "            values=values_grouped_sorted,\n",
    "            branchvalues=\"total\",\n",
    "            hovertemplate=\"<b>%{label}</b><br>%{value}\",\n",
    "            textfont=dict(\n",
    "                size=18,\n",
    "                family=font_family,\n",
    "                weight=\"bold\",\n",
    "            ),\n",
    "        )\n",
    "    ]\n",
    ")\n",
    "\n",
    "# Update layout for the sunburst chart\n",
    "fig_sunburst.update_layout(\n",
    "    title_text=f\"İkamet Edilen İle göre Nüfus Kütüğüne Kayıtlı Olunan İl: {city_code_map.get(city_code, \"Şehir Bulunamadı\").capitalize()}\",\n",
    "    title_x=0.5,\n",
    "    height=800,\n",
    "    margin=dict(t=100, b=100, l=100, r=100),\n",
    "    title_xanchor=\"center\",\n",
    ")\n",
    "\n",
    "fig_sunburst.update_layout(design)\n",
    "fig_sunburst.show()\n"
   ]
  },
  {
   "cell_type": "markdown",
   "metadata": {},
   "source": [
    "# New Data Prep"
   ]
  },
  {
   "cell_type": "code",
   "execution_count": null,
   "metadata": {},
   "outputs": [],
   "source": [
    "import pandas as pd\n",
    "\n",
    "file_path = './datasets/il medeni durum ve cinsiyete gore nufus.xls'  # Replace with the correct file path\n",
    "df_origin_city = pd.read_excel(file_path, header=[0, 1])\n",
    "df_origin_city.head()"
   ]
  },
  {
   "cell_type": "code",
   "execution_count": null,
   "metadata": {},
   "outputs": [],
   "source": [
    "def population_marital():\n",
    "    input_file_path = './datasets/il medeni durum ve cinsiyete gore nufus.xls'  # Replace with the correct file path\n",
    "    output_file_path = \"./datasets/population_marital_data.xlsx\"\n",
    "    \n",
    "    df_origin_city = pd.read_excel(input_file_path, header=[0, 1])\n",
    "    \n",
    "    df_origin_city.set_index(('İl-Provinces', 'Unnamed: 0_level_1'), inplace=True)\n",
    "    df_origin_city.index.rename(\"İl\", inplace=True)\n",
    "    df_origin_city.index = df_origin_city.index.map(lambda x: city_codes[x.lower()])\n",
    "\n",
    "    df_never_married = df_origin_city[\"Hiç evlenmedi-Never married\"].drop(\"Kadın\\nFemale.1\", axis=1)\n",
    "    df_never_married.rename(columns={'Toplam\\nTotal': 'toplam', \"Erkek\\nMale\": \"erkek\", \"Kadın\\nFemale\": \"kadın\"}, inplace=True)\n",
    "    \n",
    "    df_married = df_origin_city['Evli-Married'].drop(\"Kadın\\nFemale.1\", axis=1)\n",
    "    df_married.rename(columns={'Toplam\\nTotal': 'toplam', \"Erkek\\nMale\": \"erkek\", \"Kadın\\nFemale\": \"kadın\"}, inplace=True)\n",
    "    \n",
    "    df_divorced = df_origin_city['Boşandı-Divorced'].drop(\"Kadın\\nFemale.1\", axis=1)\n",
    "    df_divorced.rename(columns={'Toplam\\nTotal': 'toplam', \"Erkek\\nMale\": \"erkek\", \"Kadın\\nFemale\": \"kadın\"}, inplace=True)\n",
    "    \n",
    "    df_widowed = df_origin_city['Eşi öldü-Widowed']\n",
    "    df_widowed.rename(columns={'Toplam\\nTotal': 'toplam', \"Erkek\\nMale\": \"erkek\", \"Kadın\\nFemale\": \"kadın\"}, inplace=True)\n",
    "\n",
    "    with pd.ExcelWriter(output_file_path) as writer:\n",
    "        df_never_married.to_excel(writer, sheet_name='df_never_married')\n",
    "        df_married.to_excel(writer, sheet_name='df_married')\n",
    "        df_divorced.to_excel(writer, sheet_name='df_divorced')\n",
    "        df_widowed.to_excel(writer, sheet_name='df_widowed')\n",
    "population_marital()"
   ]
  },
  {
   "cell_type": "code",
   "execution_count": null,
   "metadata": {},
   "outputs": [],
   "source": [
    "city_codes = {\n",
    "    \"yıl\": \"Yıl\", \"ay\": \"Ay\", 'total': \"Total\", 'toplam - total':'toplam - total', \"il\": \"il\", \"toplam\": \"toplam\", \"toplam-total\": \"toplam\",\n",
    "    'adana': 1,\n",
    "    'ADıYAMAN': 2,\n",
    "    'AFYONKARAHiSAR': 3,\n",
    "    'AĞRı': 4,\n",
    "    'AMASYA': 5,\n",
    "    'ANKARA': 6,\n",
    "    'ANTALYA': 7,\n",
    "    'ARTViN': 8,\n",
    "    'AYDıN': 9,\n",
    "    'BALıKESiR': 10,\n",
    "    'BiLECiK': 11,\n",
    "    'BiNGÖL': 12,\n",
    "    'BiTLiS': 13,\n",
    "    'BOLU': 14,\n",
    "    'BURDUR': 15,\n",
    "    'BURSA': 16,\n",
    "    'ÇANAKKALE': 17,\n",
    "    'ÇANKıRı': 18,\n",
    "    'ÇORUM': 19,\n",
    "    'DENiZLi': 20,\n",
    "    'DiYARBAKıR': 21,\n",
    "    'EDiRNE': 22,\n",
    "    'ELAZıĞ': 23,\n",
    "    'ERZiNCAN': 24,\n",
    "    'ERZURUM': 25,\n",
    "    'ESKiŞEHiR': 26,\n",
    "    'GAZiANTEP': 27,\n",
    "    'GiRESUN': 28,\n",
    "    'GÜMÜŞHANE': 29,\n",
    "    'HAKKARi': 30,\n",
    "    'HATAY': 31,\n",
    "    'iSPARTA': 32,\n",
    "    'MERSiN': 33,\n",
    "    'İSTANBUL': 34,\n",
    "    'İZMiR': 35,\n",
    "    'KARS': 36,\n",
    "    'KASTAMONU': 37,\n",
    "    'KAYSERi': 38,\n",
    "    'kırklareli': 39,\n",
    "    'KıRŞEHiR': 40,\n",
    "    'KOCAELi': 41,\n",
    "    'KONYA': 42,\n",
    "    'KÜTAHYA': 43,\n",
    "    'MALATYA': 44,\n",
    "    'MANiSA': 45,\n",
    "    'KAHRAMANMARAŞ': 46,\n",
    "    'MARDiN': 47,\n",
    "    'MUĞLA': 48,\n",
    "    'MUŞ': 49,\n",
    "    'NEVŞEHiR': 50,\n",
    "    'NiĞDE': 51,\n",
    "    'ORDU': 52,\n",
    "    'RiZE': 53,\n",
    "    'SAKARYA': 54,\n",
    "    'SAMSUN': 55,\n",
    "    'SiiRT': 56,\n",
    "    'SiNOP': 57,\n",
    "    'SiVAS': 58,\n",
    "    'TEKiRDAĞ': 59,\n",
    "    'TOKAT': 60,\n",
    "    'TRABZON': 61,\n",
    "    'TUNCELi': 62,\n",
    "    'ŞANLıURFA': 63,\n",
    "    'UŞAK': 64,\n",
    "    'VAN': 65,\n",
    "    'YOZGAT': 66,\n",
    "    'ZONGULDAK': 67,\n",
    "    'AKSARAY': 68,\n",
    "    'BAYBURT': 69,\n",
    "    'KARAMAN': 70,\n",
    "    'KıRıKKALE': 71,\n",
    "    'BATMAN': 72,\n",
    "    'ŞıRNAK': 73,\n",
    "    'BARTıN': 74,\n",
    "    'ARDAHAN': 75,\n",
    "    'iĞDıR': 76,\n",
    "    'YALOVA': 77,\n",
    "    'KARABÜK': 78,\n",
    "    'KiLiS': 79,\n",
    "    'OSMANiYE': 80,\n",
    "    'DÜZCE': 81,\n",
    "    'Diğer iller - Other Provinces': 99}\n",
    "city_codes = {key.lower(): value for key, value in city_codes.items()}\n",
    "turkish_to_english = {\n",
    "    'ç': 'c', 'ğ': 'g', 'ı': 'i', 'ö': 'o', 'ş': 's', 'ü': 'u', \"i̇\": \"i\",\n",
    "    'Ç': 'C', 'Ğ': 'G', 'İ': 'I', 'Ö': 'O', 'Ş': 'S', 'Ü': 'U', \".\": \"\"\n",
    "}\n",
    "def replace_turkish_chars(text):\n",
    "    text = text.lower()\n",
    "    for turkish_char, english_char in turkish_to_english.items():\n",
    "        text = text.replace(turkish_char, english_char)\n",
    "    return text\n"
   ]
  },
  {
   "cell_type": "code",
   "execution_count": null,
   "metadata": {},
   "outputs": [],
   "source": [
    "def population_origin_city():\n",
    "    input_file_path = \"./datasets/ikamet edilen ile gore nufus kutugune kayitli olunan il.xls\"\n",
    "    output_file_path = \"./datasets/population_based_on_origin_city.xlsx\"\n",
    "    df_origin_city = pd.read_excel(input_file_path)\n",
    "    df_origin_city.rename(columns={\"Unnamed: 0\": \"il\", \"Toplam\\nTotal\": \"toplam\"}, inplace=True)\n",
    "    df_origin_city.columns = df_origin_city.columns.map(lambda x: city_codes[x.lower()])\n",
    "    df_origin_city.il = df_origin_city.il.map(lambda x: city_codes[x.lower()])\n",
    "    df_origin_city.set_index(\"il\", inplace=True)\n",
    "    with pd.ExcelWriter(output_file_path) as writer:\n",
    "        df_origin_city.to_excel(writer, sheet_name='df_origin_city')\n",
    "population_origin_city()\n",
    "\n",
    "    "
   ]
  },
  {
   "cell_type": "code",
   "execution_count": null,
   "metadata": {},
   "outputs": [],
   "source": [
    "final_df[final_df['ilçe kayit no'] == -2]\n"
   ]
  },
  {
   "cell_type": "code",
   "execution_count": null,
   "metadata": {},
   "outputs": [],
   "source": [
    "len(final_df['ilçe kayit no'].unique())\n"
   ]
  },
  {
   "cell_type": "code",
   "execution_count": null,
   "metadata": {},
   "outputs": [],
   "source": [
    "from prep_data import population_df\n",
    "def population_trend():\n",
    "    input_file_path = \"./datasets/nüfus artisi.XLSX\"\n",
    "    output_file_path = \"./datasets/population_trend.xlsx\"\n",
    "\n",
    "    df_trend = pd.read_excel(input_file_path)\n",
    "    df_trend.rename(columns={\"İl ve ilçe\\nProvince and district\": \"il ve ilçe\", \"Nüfus(1)\\nPopulation(1)\":\"toplam\", df_trend.columns[2]: \"artis\"}, inplace=True)\n",
    "    df_trend.drop(\"il ve ilçe\", axis=1, inplace=True)\n",
    "\n",
    "    wb = openpyxl.load_workbook(input_file_path)\n",
    "    ws = wb.active\n",
    "    province = None\n",
    "    # First row to keep the first element\n",
    "    data = [[\"toplam\", \"toplam\"]]\n",
    "    # Iterate over each row in the worksheet\n",
    "    for row in ws.iter_rows(values_only=False):\n",
    "        cell = row[0]\n",
    "        # Check if the font is bold to identify a province\n",
    "        if cell.font.bold:\n",
    "            province = cell.value\n",
    "        if province:\n",
    "            data.append([province, cell.value])\n",
    "    # Create a DataFrame from the data\n",
    "    df = pd.DataFrame(data, columns=['il', 'ilçe'])\n",
    "    df_trend = pd.concat([df, df_trend], axis=1)\n",
    "    for index, row in df_trend.iterrows():\n",
    "        df_trend.iat[index, 0] = replace_turkish_chars(row[\"il\"])\n",
    "        df_trend.iat[index, 1] = replace_turkish_chars(row[\"ilçe\"])\n",
    "    \n",
    "    df_p = population_df()\n",
    "    df_lookup = df_p.groupby([\"il kayit no\", \"ilçe kayit no\", \"il adi cleaned\", \"ilçe adi cleaned\"])[[\"erkek\", \"kadin\"]].sum().reset_index().drop([\"erkek\", \"kadin\"], axis=1)\n",
    "    # Make sure the column names match for merging\n",
    "    df_lookup = df_lookup.rename(columns={'il adi cleaned': 'il', 'ilçe adi cleaned': 'ilçe'})\n",
    "    # Merge the DataFrames\n",
    "    merged_df = pd.merge(df_trend, df_lookup, how='left', left_on=['il', 'ilçe'], right_on=['il', 'ilçe'])\n",
    "    # Fill missing IDs with -2\n",
    "    merged_df['il kayit no'] = merged_df['il kayit no'].fillna(-1).astype(int)\n",
    "    merged_df['ilçe kayit no'] = merged_df['ilçe kayit no'].fillna(-2).astype(int)\n",
    "    # Select and reorder the columns as needed\n",
    "    result_df = merged_df[['il kayit no', 'ilçe kayit no', 'il', 'ilçe', 'toplam', 'artis']]\n",
    "    first_row = result_df.iloc[[0]]\n",
    "    # Exclude the first row\n",
    "    remaining_df = result_df.iloc[1:]\n",
    "    # Drop rows where 'il' and 'ilçe' are the same in the remaining DataFrame\n",
    "    filtered_df = remaining_df[remaining_df['il'] != remaining_df['ilçe']]\n",
    "    # Concatenate the first row back to the filtered DataFrame\n",
    "    df_trend = pd.concat([first_row, filtered_df], ignore_index=True)\n",
    "    df_trend.iat[0,0] = 0\n",
    "    df_trend.iat[0,1] = 0\n",
    "    with pd.ExcelWriter(output_file_path) as writer:\n",
    "        df_trend.to_excel(writer, sheet_name='df_trend')\n",
    "population_trend()"
   ]
  },
  {
   "cell_type": "code",
   "execution_count": 8,
   "metadata": {},
   "outputs": [],
   "source": []
  },
  {
   "cell_type": "code",
   "execution_count": 8,
   "metadata": {},
   "outputs": [
    {
     "name": "stdout",
     "output_type": "stream",
     "text": [
      "Empty DataFrame\n",
      "Columns: [İlçe Id, İlçe Adı, Belde Adı, Kayıtlı Seçmen Sayısı, Oy Kullanan Seçmen Sayısı, Geçerli Oy Toplamı, AK PARTİ, İYİ PARTİ, BÜYÜK BİRLİK, MEMLEKET, DSP, YENİDEN REFAH, DEM Parti, TKP, ZAFER PARTİSİ, HKP, TKH, BTP, GELECEK PARTİSİ, CHP, HÜDA PAR, HAK-PAR, AB PARTİ, MİLLET, MİLLİ YOL, MHP, TİP, DEVA PARTİSİ, SAADET, VATAN PARTİSİ, BAĞIMSIZ TOPLAM OY]\n",
      "Index: []\n"
     ]
    }
   ],
   "source": []
  },
  {
   "cell_type": "markdown",
   "metadata": {},
   "source": [
    "# Sales"
   ]
  },
  {
   "cell_type": "code",
   "execution_count": null,
   "metadata": {},
   "outputs": [],
   "source": [
    "df_totals_total, df_totals_cities, df_granular, df_granular_cities = sales_cities_df()"
   ]
  },
  {
   "cell_type": "code",
   "execution_count": null,
   "metadata": {},
   "outputs": [],
   "source": [
    "df_totals_cities"
   ]
  },
  {
   "cell_type": "code",
   "execution_count": null,
   "metadata": {},
   "outputs": [],
   "source": [
    "df_totals_cities.columns\n"
   ]
  },
  {
   "cell_type": "code",
   "execution_count": null,
   "metadata": {},
   "outputs": [],
   "source": [
    "df_granular"
   ]
  },
  {
   "cell_type": "code",
   "execution_count": null,
   "metadata": {},
   "outputs": [],
   "source": [
    "\n",
    "# def total_sales_plot(df_totals):\n",
    "\n",
    "fig = go.Figure(data=[go.Line(name=city, x=df_totals_cities.index, y=df_totals_cities[city]) for city in df_totals_cities.columns], \n",
    "                layout=dict(height=800, width=1800))\n",
    "fig.update_layout(title=\"İllere Göre Konut Satışı (Yıl Bazında)\", xaxis_title=\"Yıl\", yaxis_title=\"Toplam Konut Satışı\", barmode='stack')\n",
    "fig.update_xaxes(tickmode='linear')\n",
    "fig.update_yaxes(tickmode='linear')\n",
    "\n",
    "fig.show()"
   ]
  },
  {
   "cell_type": "code",
   "execution_count": null,
   "metadata": {},
   "outputs": [],
   "source": [
    "\n",
    "# def total_sales_plot(df_totals):\n",
    "\n",
    "fig = go.Figure(data=[go.Bar(name=\"Adana\", x=df_totals_cities.index, y=df_totals_cities[\"1 Adana\"])], \n",
    "                layout=dict(height=800, width=1800))\n",
    "fig.update_layout(title=\"İllere Göre Konut Satışı (Yıl Bazında)\", xaxis_title=\"Yıl\", yaxis_title=\"Toplam Konut Satışı\", barmode='stack')\n",
    "fig.update_xaxes(tickmode='linear')\n",
    "fig.update_yaxes(tickmode='linear')\n",
    "\n",
    "fig.show()"
   ]
  },
  {
   "cell_type": "code",
   "execution_count": null,
   "metadata": {},
   "outputs": [],
   "source": [
    "df_granular_cities = df_granular.drop(\"Total\", axis=1)\n",
    "df_granular_cities.head()"
   ]
  },
  {
   "cell_type": "code",
   "execution_count": null,
   "metadata": {},
   "outputs": [],
   "source": [
    "\n",
    "# def total_sales_plot(df_totals):\n",
    "\n",
    "fig = go.Figure(data=[go.Line(name=city, x=df_granular_cities.index, y=df_granular_cities[city]) for city in df_totals_cities.columns], \n",
    "                layout=dict(height=800, width=1800))\n",
    "fig.update_layout(title=\"İllere Göre Konut Satışı (Ay bazında)\", xaxis_title=\"Yıl\", yaxis_title=\"Toplam Konut Satışı\", barmode='stack')\n",
    "\n",
    "fig.show()"
   ]
  },
  {
   "cell_type": "code",
   "execution_count": null,
   "metadata": {},
   "outputs": [],
   "source": [
    "df_f = pd.read_excel(\"./datasets/İllere göre yabancılara konut satış sayısı.xls\")\n",
    "df_f.rename(columns={'Unnamed: 1': 'Şehir'}, inplace=True)\n",
    "df_f.tail(14)\n",
    "\n",
    "df_f_total = df_f[df_f['Şehir'] == \"Toplam - Total\"].drop([\"Şehir\", \"Toplam\"], axis=1)#.set_index(\"Yıl\")\n",
    "df_f_total[\"Yıl\"] = df_f_total[\"Yıl\"].astype(int)\n",
    "# df_f_total.index = df_f_total.index.astype(int)\n",
    "\n",
    "df_f[\"Yıl\"] = df_f[\"Yıl\"].ffill().astype(int)\n",
    "df_f.drop(\"Toplam\", axis=1, inplace=True)\n",
    "df_f.tail(19)"
   ]
  },
  {
   "cell_type": "code",
   "execution_count": null,
   "metadata": {},
   "outputs": [],
   "source": [
    "df_f.tail()"
   ]
  },
  {
   "cell_type": "code",
   "execution_count": null,
   "metadata": {},
   "outputs": [],
   "source": [
    "df_f_total.tail()\n"
   ]
  },
  {
   "cell_type": "code",
   "execution_count": null,
   "metadata": {},
   "outputs": [],
   "source": [
    "# Fix the 2024 data\n",
    "# Reshape the DataFrame into long format\n",
    "df_long = df_f_total.melt(id_vars=['Yıl'], var_name='Ay', value_name='Sayı')\n",
    "\n",
    "# Aggregate the data by year, month, and city\n",
    "df_f_total_aggregated = df_long.groupby(['Yıl', 'Ay']).sum().reset_index()\n",
    "\n",
    "# Create a mapping of month names to their corresponding numbers\n",
    "month_mapping = {\n",
    "    'Ocak': 1, 'Şubat': 2, 'Mart': 3, 'Nisan': 4, 'Mayıs': 5, 'Haziran': 6,\n",
    "    'Temmuz': 7, 'Ağustos': 8, 'Eylül': 9, 'Ekim': 10, 'Kasım': 11, 'Aralık': 12\n",
    "}\n",
    "\n",
    "# Convert 'Yıl' and 'Ay' to datetime format\n",
    "df_f_total_aggregated['Tarih'] = df_f_total_aggregated.apply(lambda row: pd.Timestamp(int(row['Yıl']), month_mapping[row['Ay']], 1), axis=1)\n",
    "\n",
    "# Drop the 'Yıl' and 'Ay' columns if not needed anymore\n",
    "df_f_total_aggregated.drop(columns=['Yıl', 'Ay'], inplace=True)\n",
    "\n",
    "df_f_total_aggregated = df_f_total_aggregated.sort_values(by='Tarih')\n",
    "df_f_total_aggregated.set_index(\"Tarih\", inplace=True)\n",
    "df_f_total_aggregated[\"Sayı\"] = df_f_total_aggregated[\"Sayı\"].astype(int)\n",
    "df_f_total_aggregated.info()"
   ]
  },
  {
   "cell_type": "code",
   "execution_count": null,
   "metadata": {},
   "outputs": [],
   "source": [
    "df_f_total_aggregated.tail(15)"
   ]
  },
  {
   "cell_type": "code",
   "execution_count": null,
   "metadata": {},
   "outputs": [],
   "source": []
  },
  {
   "cell_type": "code",
   "execution_count": null,
   "metadata": {},
   "outputs": [],
   "source": [
    "df_f_cities = df_f[df_f['Şehir'] != \"Toplam - Total\"]\n",
    "df_f_cities.head()"
   ]
  },
  {
   "cell_type": "code",
   "execution_count": null,
   "metadata": {},
   "outputs": [],
   "source": [
    "# Fix the 2024 data\n",
    "# Reshape the DataFrame into long format\n",
    "df_long = df_f_cities.melt(id_vars=['Yıl', 'Şehir'], var_name='Ay', value_name='Sayı')\n",
    "\n",
    "# Aggregate the data by year, month, and city\n",
    "df_f_cities_aggregated = df_long.groupby(['Yıl', 'Şehir', 'Ay']).sum().reset_index()\n",
    "\n",
    "# Create a mapping of month names to their corresponding numbers\n",
    "month_mapping = {\n",
    "    'Ocak': 1, 'Şubat': 2, 'Mart': 3, 'Nisan': 4, 'Mayıs': 5, 'Haziran': 6,\n",
    "    'Temmuz': 7, 'Ağustos': 8, 'Eylül': 9, 'Ekim': 10, 'Kasım': 11, 'Aralık': 12\n",
    "}\n",
    "\n",
    "# Convert 'Yıl' and 'Ay' to datetime format\n",
    "df_f_cities_aggregated['Tarih'] = df_f_cities_aggregated.apply(lambda row: pd.Timestamp(int(row['Yıl']), month_mapping[row['Ay']], 1), axis=1)\n",
    "\n",
    "# Drop the 'Yıl' and 'Ay' columns if not needed anymore\n",
    "df_f_cities_aggregated.drop(columns=['Yıl', 'Ay'], inplace=True)\n",
    "\n",
    "\n",
    "df_f_cities_aggregated = df_f_cities_aggregated.sort_values(by='Tarih')\n",
    "df_f_cities_aggregated.set_index(\"Tarih\", inplace=True)\n",
    "df_f_cities_aggregated[\"Sayı\"] = df_f_cities_aggregated[\"Sayı\"].astype(int)\n",
    "df_f_cities_aggregated.info()"
   ]
  },
  {
   "cell_type": "code",
   "execution_count": null,
   "metadata": {},
   "outputs": [],
   "source": [
    "df_f_cities_aggregated.head(20)"
   ]
  },
  {
   "cell_type": "code",
   "execution_count": null,
   "metadata": {},
   "outputs": [],
   "source": []
  },
  {
   "cell_type": "code",
   "execution_count": null,
   "metadata": {},
   "outputs": [],
   "source": [
    "\n",
    "df_f_total_aggregated, df_f_cities_aggregated = sales_cities_foreigners_df()"
   ]
  },
  {
   "cell_type": "code",
   "execution_count": null,
   "metadata": {},
   "outputs": [],
   "source": [
    "df_f_cities_aggregated\n"
   ]
  },
  {
   "cell_type": "code",
   "execution_count": null,
   "metadata": {},
   "outputs": [],
   "source": [
    "df_f_cities_aggregated[\"Şehir\"].unique()"
   ]
  },
  {
   "cell_type": "code",
   "execution_count": null,
   "metadata": {},
   "outputs": [],
   "source": [
    "city_code_map = {0: 'ÜLKE',\n",
    " 1: 'ADANA',\n",
    " 2: 'ADIYAMAN',\n",
    " 3: 'AFYONKARAHİSAR',\n",
    " 4: 'AĞRI',\n",
    " 5: 'AMASYA',\n",
    " 6: 'ANKARA',\n",
    " 7: 'ANTALYA',\n",
    " 8: 'ARTVİN',\n",
    " 9: 'AYDIN',\n",
    " 10: 'BALIKESİR',\n",
    " 11: 'BİLECİK',\n",
    " 12: 'BİNGÖL',\n",
    " 13: 'BİTLİS',\n",
    " 14: 'BOLU',\n",
    " 15: 'BURDUR',\n",
    " 16: 'BURSA',\n",
    " 17: 'ÇANAKKALE',\n",
    " 18: 'ÇANKIRI',\n",
    " 19: 'ÇORUM',\n",
    " 20: 'DENİZLİ',\n",
    " 21: 'DİYARBAKIR',\n",
    " 22: 'EDİRNE',\n",
    " 23: 'ELAZIĞ',\n",
    " 24: 'ERZİNCAN',\n",
    " 25: 'ERZURUM',\n",
    " 26: 'ESKİŞEHİR',\n",
    " 27: 'GAZİANTEP',\n",
    " 28: 'GİRESUN',\n",
    " 29: 'GÜMÜŞHANE',\n",
    " 30: 'HAKKARİ',\n",
    " 31: 'HATAY',\n",
    " 32: 'ISPARTA',\n",
    " 33: 'MERSİN',\n",
    " 34: 'İSTANBUL',\n",
    " 35: 'İZMİR',\n",
    " 36: 'KARS',\n",
    " 37: 'KASTAMONU',\n",
    " 38: 'KAYSERİ',\n",
    " 39: 'KIRKLARELİ',\n",
    " 40: 'KIRŞEHİR',\n",
    " 41: 'KOCAELİ',\n",
    " 42: 'KONYA',\n",
    " 43: 'KÜTAHYA',\n",
    " 44: 'MALATYA',\n",
    " 45: 'MANİSA',\n",
    " 46: 'KAHRAMANMARAŞ',\n",
    " 47: 'MARDİN',\n",
    " 48: 'MUĞLA',\n",
    " 49: 'MUŞ',\n",
    " 50: 'NEVŞEHİR',\n",
    " 51: 'NİĞDE',\n",
    " 52: 'ORDU',\n",
    " 53: 'RİZE',\n",
    " 54: 'SAKARYA',\n",
    " 55: 'SAMSUN',\n",
    " 56: 'SİİRT',\n",
    " 57: 'SİNOP',\n",
    " 58: 'SİVAS',\n",
    " 59: 'TEKİRDAĞ',\n",
    " 60: 'TOKAT',\n",
    " 61: 'TRABZON',\n",
    " 62: 'TUNCELİ',\n",
    " 63: 'ŞANLIURFA',\n",
    " 64: 'UŞAK',\n",
    " 65: 'VAN',\n",
    " 66: 'YOZGAT',\n",
    " 67: 'ZONGULDAK',\n",
    " 68: 'AKSARAY',\n",
    " 69: 'BAYBURT',\n",
    " 70: 'KARAMAN',\n",
    " 71: 'KIRIKKALE',\n",
    " 72: 'BATMAN',\n",
    " 73: 'ŞIRNAK',\n",
    " 74: 'BARTIN',\n",
    " 75: 'ARDAHAN',\n",
    " 76: 'IĞDIR',\n",
    " 77: 'YALOVA',\n",
    " 78: 'KARABÜK',\n",
    " 79: 'KİLİS',\n",
    " 80: 'OSMANİYE',\n",
    " 81: 'DÜZCE',\n",
    " 99: 'Diğer iller - Other Provinces'}\n",
    "\n",
    "\n",
    "city_code_f = [48, 33, 35, 16, 99,  9,  7, 54,  6, 34, 77, 61, 55, 41]\n",
    "\n",
    "fig = go.Figure()\n",
    "city_code = 7\n",
    "try:\n",
    "    if city_code is None:\n",
    "        fig = px.line(df_f_cities_aggregated, x=df_f_cities_aggregated.index, \n",
    "                        y='Total', color='Şehir', title='İllere Göre Yabancılara Konut Satışı (Ay Bazında)')\n",
    "    else:\n",
    "        p_city_code = city_code\n",
    "        if city_code not in city_code_f:\n",
    "            city_code = 99\n",
    "        dff = df_f_cities_aggregated[df_f_cities_aggregated['Şehir'] == city_code]\n",
    "        \n",
    "        fig = px.line(dff, x=dff.index, y='Total', color='Şehir', title=f'Yabancılara Konut Satışı (Ay Bazında): {city_code_map[p_city_code].capitalize()}',\n",
    "                        color_discrete_sequence=px.colors.qualitative.Vivid)\n",
    "        fig.update_layout(showlegend=False)\n",
    "    fig.update_layout(width=1800, height=800)\n",
    "except Exception as e:\n",
    "    print(f\"Error in plot function: {e}\")\n",
    "    raise\n",
    "\n",
    "fig.show()"
   ]
  },
  {
   "cell_type": "markdown",
   "metadata": {},
   "source": [
    "# Population"
   ]
  },
  {
   "cell_type": "code",
   "execution_count": null,
   "metadata": {},
   "outputs": [],
   "source": [
    "def population_df(df_p):    \n",
    "    df_p = pd.read_excel(\"./datasets/favori_raporlar.xlsx\",  sheet_name=\"MAHALLE NÜFUSU\", index_col=0)\n",
    "    cols = ['il kayit no',\n",
    "    'ilçe kayit no',\n",
    "    'belde/köy kayit no',\n",
    "    'mahalle kayit no',\n",
    "    'il adi',\n",
    "    'ilçe adi',\n",
    "    'belediye adi',\n",
    "    'mahalle adi',\n",
    "    'mahallenin bağli olduğu belediyenin niteliği',\n",
    "    'toplam',\n",
    "    'erkek',\n",
    "    'kadin']\n",
    "    df_p.columns = cols\n",
    "    df_p_cities = df_p.drop([\"toplam\", \"mahallenin bağli olduğu belediyenin niteliği\", \"belediye adi\"], axis=1)\n",
    "    # df_p_cities[(df_p_cities[\"mahalle adi\"]==\" \".join(\"2000 Evler Mh.\".split()[:-1]).upper()) & (df_p_cities[\"ilçe adi\"]==\"seyhan\".upper())] #for query\n",
    "    df_p = df_p[[\"il adi\", \"ilçe adi\", \"mahalle adi\", \"erkek\", \"kadin\"]]\n",
    "\n",
    "    df_p.erkek = df_p.erkek.replace(\"C\", \"0\").astype(int)\n",
    "    df_p.kadin = df_p.kadin.replace(\"C\", \"0\")\n",
    "    df_p.kadin = df_p.kadin.replace(\"-\", \"0\").astype(int)\n",
    "\n",
    "    df_p = df_p.groupby([\"il adi\", \"ilçe adi\", \"mahalle adi\"])[[\"erkek\", \"kadin\"]].sum().reset_index()\n",
    "\n",
    "    return df_p\n",
    "\n"
   ]
  },
  {
   "cell_type": "code",
   "execution_count": null,
   "metadata": {},
   "outputs": [],
   "source": [
    "df_p = population_df()\n",
    "df_p"
   ]
  },
  {
   "cell_type": "code",
   "execution_count": null,
   "metadata": {},
   "outputs": [],
   "source": [
    "df_p_il = df_p[[\"erkek\", \"kadin\"]].sum().to_list()\n",
    "df_p_il"
   ]
  },
  {
   "cell_type": "code",
   "execution_count": null,
   "metadata": {},
   "outputs": [],
   "source": [
    "# Pie chart\n",
    "# choloropleth"
   ]
  },
  {
   "cell_type": "code",
   "execution_count": null,
   "metadata": {},
   "outputs": [],
   "source": [
    "# import plotly.graph_objects as go\n",
    "\n",
    "# # Sample data for the pie chart\n",
    "# labels = ['Erkek', 'Kadın']\n",
    "# values = [df_p.iloc[0, 1], df_p.iloc[0, 2]]\n",
    "# colors = ['skyblue', 'salmon']\n",
    "\n",
    "# # Create the Pie chart with custom colors and slice pulled out\n",
    "# fig = go.Figure(go.Pie(\n",
    "#     labels=labels,\n",
    "#     values=values,\n",
    "#     marker=dict(colors=colors),\n",
    "#     hovertemplate='<b>%{label}</b><br>%{value}'\n",
    "# ), layout=dict(width=400, height=400))\n",
    "\n",
    "# # Update the name of the trace\n",
    "# fig.data[0].name = ''\n",
    "\n",
    "# # Set the title\n",
    "# fig.update_layout(title='Cinsiyet Dağılımı')\n",
    "\n",
    "# # Show the figure\n",
    "# fig.show()\n"
   ]
  },
  {
   "cell_type": "code",
   "execution_count": null,
   "metadata": {},
   "outputs": [],
   "source": [
    "df_p"
   ]
  },
  {
   "cell_type": "code",
   "execution_count": null,
   "metadata": {},
   "outputs": [],
   "source": [
    "x = df_p[(df_p[\"il adi\"]==\"Ankara\".upper()) & (df_p[\"ilçe adi\"]==\"MAMAK\".upper())]\n",
    "x = x[[\"erkek\", \"kadin\"]].sum().to_list()\n",
    "x"
   ]
  },
  {
   "cell_type": "code",
   "execution_count": null,
   "metadata": {},
   "outputs": [],
   "source": [
    "import plotly.graph_objects as go\n",
    "from plotly.subplots import make_subplots\n",
    "def population_plot(df_p, city_name=None, town_name=None, district_name=None):\n",
    "    # Create the figure with subplots\n",
    "    labels = ['Erkek', 'Kadın']\n",
    "    colors = ['skyblue', 'salmon']\n",
    "    title = \"\"\n",
    "    fig = go.Figure()\n",
    "\n",
    "    if city_name==None and town_name==None and district_name==None:\n",
    "        title = \"Bütün Ülke\"\n",
    "        values1 = df_p[[\"erkek\", \"kadin\"]].sum().to_list()\n",
    "        fig.add_trace(go.Pie(\n",
    "            name=\"\",\n",
    "            labels=labels,\n",
    "            values=values1,\n",
    "            marker=dict(colors=colors),\n",
    "            hovertemplate='<b>%{label}</b><br>%{value}',\n",
    "            pull=[0, 0],\n",
    "            textfont=dict(size=16, family=\"Balto\", color=\"black\"),  # Adjust text size and color\n",
    "            textinfo='label+percent',  # Show labels and percentages\n",
    "        ))\n",
    "    \n",
    "    elif city_name!=None and (town_name==None and district_name==None):\n",
    "        title = city_name.capitalize()\n",
    "        values1 = df_p[df_p[\"il adi\"]==city_name.upper()]\n",
    "        values1 = values1[[\"erkek\", \"kadin\"]].sum().to_list()\n",
    "        fig.add_trace(go.Pie(\n",
    "            name=\"\",\n",
    "            labels=labels,\n",
    "            values=values1,\n",
    "            marker=dict(colors=colors),\n",
    "            hovertemplate='<b>%{label}</b><br>%{value}',\n",
    "            pull=[0, 0],\n",
    "            textfont=dict(size=16, family=\"Balto\", color=\"black\"),  # Adjust text size and color\n",
    "            textinfo='label+percent',  # Show labels and percentages\n",
    "        ))\n",
    "    \n",
    "    elif city_name!=None and (town_name!=None and district_name==None):\n",
    "        title = f\"{city_name.capitalize()}, {town_name.capitalize()}\"\n",
    "        values1 = df_p[(df_p[\"il adi\"]==city_name.upper()) & (df_p[\"ilçe adi\"]==town_name.upper())]\n",
    "        values1 = values1[[\"erkek\", \"kadin\"]].sum().to_list()\n",
    "        fig.add_trace(go.Pie(\n",
    "            name=\"\",\n",
    "            labels=labels,\n",
    "            values=values1,\n",
    "            marker=dict(colors=colors),\n",
    "            hovertemplate='<b>%{label}</b><br>%{value}',\n",
    "            pull=[0, 0],\n",
    "            textfont=dict(size=16, family=\"Balto\", color=\"black\"),  # Adjust text size and color\n",
    "            textinfo='label+percent',  # Show labels and percentages\n",
    "        ))\n",
    "    \n",
    "    elif city_name!=None and (town_name!=None and district_name!=None):\n",
    "        title = f\"{city_name.capitalize()}, {town_name.capitalize()}, {district_name.capitalize()} Mh.\"\n",
    "        if len(district_name.split()) > 1:\n",
    "            district_name = district_name + \" Mh.\"\n",
    "        values1 = df_p[(df_p[\"il adi\"]==city_name.upper()) & (df_p[\"ilçe adi\"]==town_name.upper()) & (df_p[\"mahalle adi\"]==\" \".join(district_name.split()[:-1]).upper())] # assuming that every mahalle ends with MH.\n",
    "        values1 = values1[[\"erkek\", \"kadin\"]].sum().to_list()\n",
    "        fig.add_trace(go.Pie(\n",
    "            name=\"\",\n",
    "            labels=labels,\n",
    "            values=values1,\n",
    "            marker=dict(colors=colors),\n",
    "            hovertemplate='<b>%{label}</b><br>%{value}',\n",
    "            pull=[0, 0],\n",
    "            textfont=dict(size=16, family=\"Balto\", color=\"black\"),  # Adjust text size and color\n",
    "            textinfo='label+percent',  # Show labels and percentages\n",
    "        ))\n",
    "    else:\n",
    "        fig.add_annotation(\n",
    "        text=\"Please enter either: Only city name, City name and Town name, or all three\",\n",
    "        xref=\"paper\", yref=\"paper\",\n",
    "        x=0.5, y=0.5, showarrow=False,\n",
    "        font=dict(\n",
    "            family=\"Balto, Arial, sans-serif\",\n",
    "            size=20,\n",
    "            color=\"black\"\n",
    "            )\n",
    "        )\n",
    "\n",
    "        # Update layout to remove axes\n",
    "        fig.update_layout(\n",
    "            xaxis=dict(visible=False),\n",
    "            yaxis=dict(visible=False),\n",
    "            plot_bgcolor='rgba(0,0,0,0)',\n",
    "            margin=dict(l=0, r=0, t=0, b=0)\n",
    "        )\n",
    "        return fig\n",
    "\n",
    "    # Update layout\n",
    "    fig.update_layout(\n",
    "        title=f'Cinsiyet Dağılımları: {title}',\n",
    "        width=900,\n",
    "        height=500,\n",
    "        title_font=dict(size=30, family=\"Balto\", ),  # Adjust title font\n",
    "        title_pad_b=10,\n",
    "        font=dict(\n",
    "            family=\"Balto\",  # Adjust default font family for labels\n",
    "            size=14,  # Adjust default font size for labels\n",
    "            color=\"black\"  # Adjust default font color for labels\n",
    "        ),\n",
    "        showlegend=False\n",
    "    )\n",
    "\n",
    "    for annotation in fig['layout']['annotations']:\n",
    "        annotation['y'] = 0.95  # Adjust this value for more/less padding\n",
    "\n",
    "    # Add the text annotation below the plots\n",
    "    fig.add_annotation(\n",
    "        text=f\"Toplam Nüfus: <b>{sum(values1):,}</b>\",\n",
    "        xref=\"paper\", yref=\"paper\",\n",
    "        x=0.5, y=-0.2,\n",
    "        showarrow=False,\n",
    "        font=dict(size=18, family=\"Balto\", color=\"black\"),\n",
    "        align=\"center\"\n",
    "    )\n",
    "    return fig\n",
    "fig = population_plot(df_p, city_name=\"ankara\")\n",
    "# Show the figure\n",
    "fig.show()\n"
   ]
  },
  {
   "cell_type": "code",
   "execution_count": null,
   "metadata": {},
   "outputs": [],
   "source": [
    "import plotly.express as px\n",
    "\n",
    "# Assuming you have the GeoJSON file for Turkey provinces\n",
    "geojson_file = './tr-cities.json'\n",
    "\n",
    "# Calculate total population\n",
    "df_p_cities['total_population'] = df_p_cities['toplam-erkek'] + df_p_cities['toplam-kadin']\n",
    "\n",
    "# Load GeoJSON data\n",
    "import json\n",
    "with open(geojson_file) as f:\n",
    "    turkey_geojson = json.load(f)\n",
    "\n",
    "# Ensure the province names in the DataFrame match the names in the GeoJSON file\n",
    "# This might require some preprocessing if the names don't match exactly\n",
    "\n",
    "\n",
    "# Create the choropleth map\n",
    "fig = px.choropleth(\n",
    "    df_p_cities,\n",
    "    geojson=turkey_geojson,\n",
    "    locations='il adi',\n",
    "    featureidkey=\"properties.name\",  # This should match the property name in your GeoJSON file for province names\n",
    "    color='total_population',\n",
    "    hover_name='il adi',\n",
    "    hover_data={'toplam-erkek': True, 'toplam-kadin': True, 'total_population': True},\n",
    "    color_continuous_scale='Viridis',\n",
    "    labels={'total_population': 'Total Population'},\n",
    "    title='Total Population by Province in Turkey'\n",
    ")\n",
    "\n",
    "# Update the layout for better visualization\n",
    "fig.update_geos(\n",
    "    visible=False,\n",
    "    resolution=50,\n",
    "    showcountries=True,\n",
    "    countrycolor=\"Black\",\n",
    "    showcoastlines=True,\n",
    "    coastlinecolor=\"Black\",\n",
    "    showland=True,\n",
    "    landcolor=\"white\",\n",
    ")\n",
    "\n",
    "fig.update_layout(\n",
    "    title_font=dict(size=24, family=\"Arial, sans-serif\"),\n",
    "    font=dict(size=12, family=\"Arial, sans-serif\"),\n",
    "    margin={\"r\":0,\"t\":50,\"l\":0,\"b\":0}\n",
    ")\n",
    "\n",
    "# Show the map\n",
    "# fig.show()\n"
   ]
  },
  {
   "cell_type": "code",
   "execution_count": null,
   "metadata": {},
   "outputs": [],
   "source": [
    "turkey_geojson.keys()"
   ]
  },
  {
   "cell_type": "code",
   "execution_count": null,
   "metadata": {},
   "outputs": [],
   "source": [
    "turkey_geojson[\"features\"][2][\"properties\"][\"name\"]"
   ]
  },
  {
   "cell_type": "markdown",
   "metadata": {},
   "source": [
    "# API"
   ]
  },
  {
   "cell_type": "code",
   "execution_count": null,
   "metadata": {},
   "outputs": [],
   "source": [
    "import plotly.graph_objects as go\n",
    "import numpy as np\n",
    "import json\n",
    "# Read the JSON file\n",
    "with open('./curl-res.json', 'r') as file:\n",
    "    json_data = file.read()\n",
    "    \n",
    "\n",
    "# Parse the JSON data\n",
    "data = json.loads(json_data)\n",
    "\n",
    "# Extract ages from the data field\n",
    "ages = [item['age'] for item in data['data']]\n",
    "ages = sorted(ages)\n",
    "\n",
    "# Define age groups\n",
    "age_groups = {\n",
    "}\n",
    "\n",
    "# Categorize ages\n",
    "for age in ages:\n",
    "    if age_groups.get(age) is None:\n",
    "        age_groups[age] = 1\n",
    "    else:\n",
    "        age_groups[age] += 1\n",
    "\n",
    "\n",
    "# Calculate total number of ages\n",
    "total_ages = len(ages)\n",
    "\n",
    "# Calculate percentages for each age group\n",
    "age_group_percentages = {group: count / total_ages * 100 for group, count in age_groups.items()}\n",
    "\n",
    "# Create the pie chart\n",
    "labels = list(age_group_percentages.keys())\n",
    "values = list(age_group_percentages.values())\n",
    "\n",
    "fig_2 = go.Figure(data=[go.Pie(labels=labels, values=values, hole=0.4,\n",
    "                             hovertemplate=\"Bina Yaşı: %{label}<br>Yüzdelik: %{value:.1f}%<extra></extra>\",\n",
    "                             sort=False\n",
    "                             )])\n",
    "\n",
    "# Update the layout for better appearance\n",
    "fig_2.update_layout(title_text=\"Bina Yaşı Dağılımı\", \n",
    "                  width=500, height=500, \n",
    "                  )\n",
    "\n",
    "fig_2.update_layout(legend=dict(\n",
    "    orientation=\"h\",\n",
    "    yanchor=\"bottom\",\n",
    "    y=-0.3,\n",
    "    xanchor=\"center\",\n",
    "    x=.5\n",
    "))\n",
    "\n",
    "# Show the plot\n",
    "fig_2.show()\n"
   ]
  },
  {
   "cell_type": "code",
   "execution_count": null,
   "metadata": {},
   "outputs": [],
   "source": [
    "\n",
    "# Extract prices from the data field\n",
    "prices = [item['price'] for item in data['data']]\n",
    "\n",
    "# Calculate min, max, median, and average prices\n",
    "min_price = min(prices)\n",
    "max_price = max(prices)\n",
    "median_price = np.median(prices)\n",
    "avg_price = np.mean(prices)\n",
    "\n",
    "# Create a scatter plot to simulate the horizontal bar\n",
    "fig = go.Figure()\n",
    "\n",
    "# Add lines for min to max\n",
    "fig.add_trace(go.Scatter(\n",
    "    x=[min_price, max_price],\n",
    "    y=[1, 1],\n",
    "    mode='lines',\n",
    "    line=dict(color='black', width=2),\n",
    "    showlegend=False,\n",
    "))\n",
    "\n",
    "# Add markers for min, median, average, and max\n",
    "fig.add_trace(go.Scatter(\n",
    "    x=[min_price, avg_price, max_price],\n",
    "    y=[1, 1, 1, 1],\n",
    "    mode='markers+text',\n",
    "    text=[f'{min_price:,} TL', f'Ort.: {avg_price:,.0f} TL', f'{max_price:,}TL'],\n",
    "    textposition='top center',\n",
    "    marker=dict(color=['green', 'blue', 'red'], size=10),\n",
    "    name=\"\",\n",
    "    showlegend=False,\n",
    "    hovertemplate = '%{x:,.0f} TL',\n",
    "\n",
    "))\n",
    "\n",
    "# Update the layout for better appearance\n",
    "fig.update_layout(\n",
    "    title_text=\"Fiyat İstatistiği\",\n",
    "    xaxis_title=\"Fiyat (TL)\",\n",
    "    yaxis=dict(showticklabels=False, showgrid=False),  # Hide the y-axis ticks and labels\n",
    "    width=1000,\n",
    "    height=230,\n",
    ")\n",
    "\n",
    "\n",
    "# Show the plot\n",
    "fig.show()"
   ]
  },
  {
   "cell_type": "code",
   "execution_count": null,
   "metadata": {},
   "outputs": [],
   "source": [
    "import json\n",
    "import plotly.graph_objects as go\n",
    "import numpy as np\n",
    "\n",
    "# Read the JSON file (replace with your JSON file path)\n",
    "with open('./curl-res.json', 'r') as file:\n",
    "    json_data = file.read()\n",
    "\n",
    "# Parse the JSON data\n",
    "data = json.loads(json_data)\n",
    "\n",
    "min_price = data[\"result\"][\"min_price\"]\n",
    "max_price = data[\"result\"][\"max_price\"]\n",
    "avg_price = data[\"result\"][\"avg_price\"]\n",
    "\n",
    "# Create traces for each marker\n",
    "traces = []\n",
    "\n",
    "traces.append(go.Scatter(\n",
    "    x=[min_price, max_price],\n",
    "    y=[1, 1],\n",
    "    mode='lines',\n",
    "    line=dict(color='black', width=2),\n",
    "    showlegend=False,\n",
    "    name=\"\"\n",
    "))\n",
    "\n",
    "traces.append(go.Scatter(\n",
    "    x=[min_price, avg_price, max_price],\n",
    "    y=[1, 1, 1, 1],\n",
    "    mode='markers+text',\n",
    "    text=[f'{min_price:,} TL', f'{avg_price:,.0f} TL', f'{max_price:,}TL'],\n",
    "    textposition='top center',\n",
    "    marker=dict(color=['green', 'blue', 'red'], size=10),\n",
    "    name=\"\",\n",
    "    showlegend=False,\n",
    "    hovertemplate = '%{x:,.0f} TL',\n",
    "\n",
    "))\n",
    "\n",
    "# Min price trace\n",
    "traces.append(go.Scatter(\n",
    "    x=[min_price],\n",
    "    y=[1],\n",
    "    mode='markers',\n",
    "    marker=dict(color='green', size=10, symbol='square'),\n",
    "    name='Min',\n",
    "    showlegend=True,\n",
    "    hovertemplate='%{x:,.0f} TL',\n",
    "))\n",
    "\n",
    "# Average price trace\n",
    "traces.append(go.Scatter(\n",
    "    x=[avg_price],\n",
    "    y=[1],\n",
    "    mode='markers',\n",
    "    marker=dict(color='blue', size=10, symbol='square'),\n",
    "    name='Ortalama',\n",
    "    showlegend=True,\n",
    "    hovertemplate='%{x:,.0f} TL',\n",
    "))\n",
    "\n",
    "# Max price trace\n",
    "traces.append(go.Scatter(\n",
    "    x=[max_price],\n",
    "    y=[1],\n",
    "    mode='markers',\n",
    "    marker=dict(color='red', size=10, symbol='square'),\n",
    "    name='Maks',\n",
    "    showlegend=True,\n",
    "    hovertemplate='%{x:,.0f} TL',\n",
    "))\n",
    "\n",
    "\n",
    "\n",
    "# Create the figure\n",
    "fig_1 = go.Figure(data=traces)\n",
    "\n",
    "# Update the layout for better appearance\n",
    "fig_1.update_layout(\n",
    "    title_text=\"Fiyat İstatistiği\",\n",
    "    xaxis_title=\"Fiyat (TL)\",\n",
    "    yaxis=dict(showticklabels=False, showgrid=False),  # Hide the y-axis ticks and labels\n",
    "    width=900,\n",
    "    height=230,\n",
    "    legend=dict(\n",
    "        orientation=\"h\",\n",
    "        yanchor=\"bottom\",\n",
    "        y=1.02,\n",
    "        xanchor=\"right\",\n",
    "        x=1\n",
    "    )\n",
    ")\n",
    "\n",
    "# Show the plot\n",
    "fig_1.show()\n",
    "\n",
    "\n",
    "# Extract ages from the data field\n",
    "ages = [item['age'] for item in data['data']]\n",
    "ages = sorted(ages)\n",
    "\n",
    "# Define age groups\n",
    "age_groups = {\n",
    "    0:0,\n",
    "    1:0,\n",
    "    2:0,\n",
    "    3:0,\n",
    "    4:0,\n",
    "    5:0,\n",
    "    \"6-10\":0,\n",
    "    \"11-15\":0,\n",
    "    \"16-20\":0,\n",
    "    \"21-25\":0,\n",
    "    \"26-30\":0,\n",
    "    \"31+\":0,\n",
    "}\n",
    "\n",
    "# Categorize ages\n",
    "for age in ages:\n",
    "    if age<6:\n",
    "        age_groups[age] += 1\n",
    "    elif 6<=age<=10:\n",
    "        age_groups[\"6-10\"] += 1\n",
    "    elif 11<=age<=15:\n",
    "        age_groups[\"11-15\"] += 1\n",
    "    elif 16<=age<=20:\n",
    "        age_groups[\"16-20\"] += 1\n",
    "    elif 21<=age<=25:\n",
    "        age_groups[\"21-25\"] += 1\n",
    "    elif 26<=age<=30:\n",
    "        age_groups[\"26-30\"] += 1\n",
    "    else:\n",
    "        age_groups[\"31+\"] += 1\n",
    "\n",
    "\n",
    "# Calculate total number of ages\n",
    "total_ages = len(ages)\n",
    "\n",
    "# Calculate percentages for each age group\n",
    "age_group_percentages = {group: count / total_ages * 100 for group, count in age_groups.items() if count>0}\n",
    "\n",
    "# Create the pie chart\n",
    "labels = list(age_group_percentages.keys())\n",
    "values = list(age_group_percentages.values())\n",
    "\n",
    "fig_2 = go.Figure(data=[go.Pie(labels=labels, values=values, hole=0.4,\n",
    "                             hovertemplate=\"Bina Yaşı: %{label}<br>Yüzdelik: %{value:.1f}%<extra></extra>\",\n",
    "                             sort=False\n",
    "                             )])\n",
    "\n",
    "# Update the layout for better appearance\n",
    "fig_2.update_layout(title_text=\"Bina Yaşı Dağılımı\", \n",
    "                  width=600, height=500, \n",
    "                  )\n",
    "\n",
    "fig_2.update_layout(legend=dict(\n",
    "    orientation=\"h\",\n",
    "    yanchor=\"bottom\",\n",
    "    y=-0.3,\n",
    "    xanchor=\"center\",\n",
    "    x=.5\n",
    "))\n",
    "\n",
    "# Show the plot\n",
    "fig_2.show()\n",
    "\n"
   ]
  },
  {
   "cell_type": "code",
   "execution_count": null,
   "metadata": {},
   "outputs": [],
   "source": [
    "import plotly.graph_objects as go\n",
    "import numpy as np\n",
    "import scipy.stats as stats\n",
    "\n",
    "# Generate random prices of real estates\n",
    "np.random.seed(42)  # For reproducibility\n",
    "real_estate_prices = np.random.normal(loc=300000, scale=75000, size=10000)\n",
    "\n",
    "# Create the histogram\n",
    "hist_data = go.Histogram(x=real_estate_prices, nbinsx=30, name='Histogram', opacity=0.7)\n",
    "\n",
    "# Calculate the bell curve (normal distribution)\n",
    "mean = np.mean(real_estate_prices)\n",
    "std_dev = np.std(real_estate_prices)\n",
    "x = np.linspace(min(real_estate_prices), max(real_estate_prices), 1000)\n",
    "y = stats.norm.pdf(x, mean, std_dev) * len(real_estate_prices) * (x[1] - x[0]) * 30  # scale y to match histogram\n",
    "\n",
    "# Create the normal distribution curve\n",
    "bell_curve = go.Scatter(x=x, y=y, mode='lines', name='Normal Distribution')\n",
    "\n",
    "# Create the figure and add both the histogram and the bell curve\n",
    "fig = go.Figure(data=[hist_data, bell_curve])\n",
    "\n",
    "# Update layout for the plot\n",
    "fig.update_layout(\n",
    "    title='Histogram of Real Estate Prices with Bell Curve',\n",
    "    xaxis_title='Price',\n",
    "    yaxis_title='Count',\n",
    "    bargap=0.2  # Gap between bars\n",
    ")\n",
    "\n",
    "# Show the plot\n",
    "fig.show()\n"
   ]
  },
  {
   "cell_type": "code",
   "execution_count": null,
   "metadata": {},
   "outputs": [],
   "source": [
    "import plotly.graph_objects as go\n",
    "import numpy as np\n",
    "import scipy.stats as stats\n",
    "\n",
    "# Generate random prices of real estates\n",
    "np.random.seed(42)  # For reproducibility\n",
    "real_estate_prices = np.random.normal(loc=300000, scale=75000, size=1000)\n",
    "\n",
    "# Create the histogram\n",
    "hist_data = go.Histogram(x=real_estate_prices, nbinsx=30, name='Histogram', opacity=0.7)\n",
    "\n",
    "# Calculate the bell curve (normal distribution)\n",
    "mean = np.mean(real_estate_prices)\n",
    "std_dev = np.std(real_estate_prices)\n",
    "x = np.linspace(min(real_estate_prices), max(real_estate_prices), 1000)\n",
    "y = stats.norm.pdf(x, mean, std_dev) * len(real_estate_prices) * (x[1] - x[0]) * 30  # scale y to match histogram\n",
    "\n",
    "# Create the normal distribution curve\n",
    "bell_curve = go.Scatter(x=x, y=y, mode='lines', name='Normal Distribution')\n",
    "\n",
    "# Find the lowest, average, and maximum prices\n",
    "lowest_price = np.min(real_estate_prices)\n",
    "average_price = mean\n",
    "highest_price = np.max(real_estate_prices)\n",
    "\n",
    "# Create the vertical lines for lowest, average, and maximum prices\n",
    "lowest_line = go.Scatter(x=[lowest_price, lowest_price], y=[0, max(y)], mode='lines', name='Lowest Price', line=dict(color='red', dash='dash'))\n",
    "average_line = go.Scatter(x=[average_price, average_price], y=[0, max(y)], mode='lines', name='Average Price', line=dict(color='green', dash='dash'))\n",
    "highest_line = go.Scatter(x=[highest_price, highest_price], y=[0, max(y)], mode='lines', name='Highest Price', line=dict(color='blue', dash='dash'))\n",
    "\n",
    "# Create the figure and add the histogram, bell curve, and vertical lines\n",
    "fig = go.Figure(data=[hist_data, bell_curve, lowest_line, average_line, highest_line])\n",
    "\n",
    "# Update layout for the plot\n",
    "fig.update_layout(\n",
    "    title='Histogram of Real Estate Prices with Bell Curve',\n",
    "    xaxis_title='Price',\n",
    "    yaxis_title='Count',\n",
    "    bargap=0.2  # Gap between bars\n",
    ")\n",
    "\n",
    "# Add annotations for the lowest, average, and maximum prices\n",
    "fig.add_annotation(x=lowest_price, y=max(y), text=f\"Lowest Price: {lowest_price:.2f}\", showarrow=True, arrowhead=1)\n",
    "fig.add_annotation(x=average_price, y=max(y), text=f\"Average Price: {average_price:.2f}\", showarrow=True, arrowhead=1)\n",
    "fig.add_annotation(x=highest_price, y=max(y), text=f\"Highest Price: {highest_price:.2f}\", showarrow=True, arrowhead=1)\n",
    "\n",
    "# Show the plot\n",
    "fig.show()\n"
   ]
  },
  {
   "cell_type": "code",
   "execution_count": null,
   "metadata": {},
   "outputs": [],
   "source": [
    "import plotly.graph_objects as go\n",
    "import numpy as np\n",
    "import scipy.stats as stats\n",
    "\n",
    "# Generate random prices of real estates\n",
    "np.random.seed(42)  # For reproducibility\n",
    "real_estate_prices = np.random.normal(loc=300000, scale=75000, size=1000)\n",
    "\n",
    "# Create the histogram\n",
    "hist_data = go.Histogram(x=real_estate_prices, nbinsx=30, name='Histogram', opacity=0.7)\n",
    "\n",
    "# Calculate the bell curve (normal distribution)\n",
    "mean = np.mean(real_estate_prices)\n",
    "std_dev = np.std(real_estate_prices)\n",
    "x = np.linspace(min(real_estate_prices), max(real_estate_prices), 1000)\n",
    "y = stats.norm.pdf(x, mean, std_dev) * len(real_estate_prices) * (x[1] - x[0]) * 30  # scale y to match histogram\n",
    "\n",
    "# Create the normal distribution curve\n",
    "bell_curve = go.Scatter(x=x, y=y, mode='lines', name='Normal Distribution')\n",
    "\n",
    "# Find the lowest, average, and maximum prices\n",
    "lowest_price = np.min(real_estate_prices)\n",
    "average_price = mean\n",
    "highest_price = np.max(real_estate_prices)\n",
    "\n",
    "# Create the vertical lines for lowest, average, and maximum prices\n",
    "lowest_line = go.Scatter(x=[lowest_price, lowest_price], y=[0, max(y)], mode='lines', name='Lowest Price', line=dict(color='red', dash='dash'))\n",
    "average_line = go.Scatter(x=[average_price, average_price], y=[0, max(y)], mode='lines', name='Average Price', line=dict(color='green', dash='dash'))\n",
    "highest_line = go.Scatter(x=[highest_price, highest_price], y=[0, max(y)], mode='lines', name='Highest Price', line=dict(color='blue', dash='dash'))\n",
    "\n",
    "# Create the figure and add the histogram, bell curve, and vertical lines\n",
    "fig = go.Figure(data=[ bell_curve, lowest_line, average_line, highest_line])\n",
    "\n",
    "# Update layout for the plot\n",
    "fig.update_layout(\n",
    "    title='Histogram of Real Estate Prices with Bell Curve',\n",
    "    xaxis_title='Price',\n",
    "    yaxis_title='Count',\n",
    "    bargap=0.2  # Gap between bars\n",
    ")\n",
    "\n",
    "# Add annotations for the lowest, average, and maximum prices\n",
    "fig.add_annotation(x=lowest_price, y=max(y), text=f\"Lowest Price: {lowest_price:.2f}\", showarrow=True, arrowhead=1)\n",
    "fig.add_annotation(x=average_price, y=max(y), text=f\"Average Price: {average_price:.2f}\", showarrow=True, arrowhead=1)\n",
    "fig.add_annotation(x=highest_price, y=max(y), text=f\"Highest Price: {highest_price:.2f}\", showarrow=True, arrowhead=1)\n",
    "\n",
    "# Show the plot\n",
    "fig.show()\n"
   ]
  },
  {
   "cell_type": "code",
   "execution_count": null,
   "metadata": {},
   "outputs": [],
   "source": [
    "import plotly.graph_objects as go\n",
    "import numpy as np\n",
    "import scipy.stats as stats\n",
    "\n",
    "# Generate random prices of real estates\n",
    "np.random.seed(42)  # For reproducibility\n",
    "real_estate_prices = np.random.normal(loc=300000, scale=75000, size=1000)\n",
    "\n",
    "# Create the histogram\n",
    "hist_data = go.Histogram(x=real_estate_prices, nbinsx=30, name='Histogram', opacity=0.7)\n",
    "\n",
    "# Calculate the bell curve (normal distribution)\n",
    "mean = np.mean(real_estate_prices)\n",
    "std_dev = np.std(real_estate_prices)\n",
    "x = np.linspace(min(real_estate_prices), max(real_estate_prices), 1000)\n",
    "y = stats.norm.pdf(x, mean, std_dev) * len(real_estate_prices) * (x[1] - x[0]) * 30  # scale y to match histogram\n",
    "\n",
    "# Create the normal distribution curve\n",
    "bell_curve = go.Scatter(x=x, y=y, mode='lines', name='Normal Distribution')\n",
    "\n",
    "# Find the lowest, average, and maximum prices\n",
    "lowest_price = np.min(real_estate_prices)\n",
    "average_price = mean\n",
    "highest_price = np.max(real_estate_prices)\n",
    "\n",
    "# Create the points for lowest, average, and maximum prices\n",
    "points = go.Scatter(\n",
    "    x=[lowest_price, average_price, highest_price],\n",
    "    y=[0, stats.norm.pdf(average_price, mean, std_dev) * len(real_estate_prices) * (x[1] - x[0]) * 30, 0],\n",
    "    mode='markers+text',\n",
    "    name='Price Points',\n",
    "    marker=dict(color='black', size=10),\n",
    "    text=['Lowest', 'Average', 'Highest'],\n",
    "    textposition='top center'\n",
    ")\n",
    "\n",
    "# Create the figure and add the histogram, bell curve, and points\n",
    "fig = go.Figure(data=[hist_data, bell_curve, points])\n",
    "\n",
    "# Update layout for the plot\n",
    "fig.update_layout(\n",
    "    title='Histogram of Real Estate Prices with Bell Curve',\n",
    "    xaxis_title='Price',\n",
    "    yaxis_title='Count',\n",
    "    bargap=0.2  # Gap between bars\n",
    ")\n",
    "\n",
    "# Show the plot\n",
    "fig.show()\n"
   ]
  },
  {
   "cell_type": "code",
   "execution_count": null,
   "metadata": {},
   "outputs": [],
   "source": [
    "import numpy as np\n",
    "import plotly.graph_objs as go\n",
    "import plotly.express as px\n",
    "import pandas as pd\n",
    "from prep_data import *\n",
    "import locale\n",
    "from plot import *\n",
    "\n",
    "import json\n",
    "import plotly.graph_objects as go\n",
    "import numpy as np\n",
    "\n",
    "# Read the JSON file (replace with your JSON file path)\n",
    "with open('./curl-res.json', 'r') as file:\n",
    "    json_data = file.read()\n",
    "\n",
    "# Parse the JSON data\n",
    "m = json.loads(json_data)\n",
    "\n",
    "\n",
    "fig1, fig2 = price_age_plot(m[\"result\"], m[\"data\"])\n",
    "# type(m[\"data\"])\n",
    "# m[\"data\"][0]\n",
    "fig1.show()"
   ]
  },
  {
   "cell_type": "code",
   "execution_count": null,
   "metadata": {},
   "outputs": [],
   "source": [
    "fig2.show()"
   ]
  },
  {
   "cell_type": "code",
   "execution_count": null,
   "metadata": {},
   "outputs": [],
   "source": [
    "df_totals_total, df_totals_cities, df_granular, df_granular_cities = sales_cities_df()\n",
    "total_sales_plot(df_granular).show()"
   ]
  },
  {
   "cell_type": "markdown",
   "metadata": {},
   "source": [
    "# MAHALLE MAPPING"
   ]
  },
  {
   "cell_type": "code",
   "execution_count": null,
   "metadata": {},
   "outputs": [],
   "source": [
    "with open('./cities.json', 'r', encoding='utf-8') as file:\n",
    "    json_data = file.read()"
   ]
  },
  {
   "cell_type": "code",
   "execution_count": null,
   "metadata": {},
   "outputs": [],
   "source": [
    "turkish_to_english = {\n",
    "    'ç': 'c', 'ğ': 'g', 'ı': 'i', 'ö': 'o', 'ş': 's', 'ü': 'u', \"i̇\": \"i\",\n",
    "    'Ç': 'C', 'Ğ': 'G', 'İ': 'I', 'Ö': 'O', 'Ş': 'S', 'Ü': 'U', \".\": \"\"\n",
    "}\n",
    "def replace_turkish_chars(text):\n",
    "    text = text.lower()\n",
    "    for turkish_char, english_char in turkish_to_english.items():\n",
    "        text = text.replace(turkish_char, english_char)\n",
    "    return text"
   ]
  },
  {
   "cell_type": "code",
   "execution_count": null,
   "metadata": {},
   "outputs": [],
   "source": [
    "def population_df():\n",
    "    df_p = pd.read_excel(\"./datasets/nüfus.xlsx\",  sheet_name=\"MAHALLE NÜFUSU\", index_col=0)\n",
    "    cols = ['il kayit no', 'ilçe kayit no', 'belde/köy kayit no', 'mahalle kayit no',\n",
    "    'il adi', 'ilçe adi', 'belediye adi', 'mahalle adi', 'mahallenin bağli olduğu belediyenin niteliği',\n",
    "    'toplam', 'erkek', 'kadin']\n",
    "    df_p.columns = cols\n",
    "\n",
    "    # df_p_cities[(df_p_cities[\"mahalle adi\"]==\" \".join(\"2000 Evler Mh.\".split()[:-1]).upper()) & (df_p_cities[\"ilçe adi\"]==\"seyhan\".upper())] #for query\n",
    "\n",
    "    df_p = df_p[['il kayit no', 'ilçe kayit no', 'mahalle kayit no', \"il adi\", \"ilçe adi\", \"mahalle adi\", \"erkek\", \"kadin\"]]\n",
    "    df_p.erkek = df_p.erkek.replace(\"C\", \"0\").astype(int)\n",
    "    df_p.kadin = df_p.kadin.replace(\"C\", \"0\")\n",
    "    df_p.kadin = df_p.kadin.replace(\"-\", \"0\").astype(int)\n",
    "    for col in [\"il adi\", \"ilçe adi\", \"mahalle adi\"]:\n",
    "        df_p[col + \" cleaned\"] = df_p[col].apply(lambda x: replace_turkish_chars(str(x)))\n",
    "    \n",
    "    \n",
    "    \n",
    "\n",
    "    df_p = df_p.groupby(['il kayit no', 'ilçe kayit no', 'mahalle kayit no', \"il adi\", \"ilçe adi\", \"mahalle adi\", \"il adi cleaned\", \"ilçe adi cleaned\", \"mahalle adi cleaned\"])[[\"erkek\", \"kadin\"]].sum().reset_index()\n",
    "\n",
    "    return df_p\n",
    "df_origin_city = population_df()\n",
    "df_origin_city.head()"
   ]
  },
  {
   "cell_type": "code",
   "execution_count": null,
   "metadata": {},
   "outputs": [],
   "source": [
    "reference_data = json.loads(json_data)\n",
    "for city in reference_data:\n",
    "    city[\"name\"] = replace_turkish_chars(city[\"name\"])\n",
    "    for town in city[\"towns\"]:\n",
    "        town[\"name\"] = replace_turkish_chars(town[\"name\"])\n",
    "\n",
    "        for quarter in town[\"quarters\"]:\n",
    "            quarter[\"name\"] = replace_turkish_chars(quarter[\"name\"])\n",
    "            if (\"mh\" in quarter[\"name\"]) or (\"mah\" in quarter[\"name\"]) or (\"mahalle\" in quarter[\"name\"]) or (\"bld\" in quarter[\"name\"]):\n",
    "                quarter[\"name\"] = \" \".join(quarter[\"name\"].split()[:-1])"
   ]
  },
  {
   "cell_type": "code",
   "execution_count": null,
   "metadata": {},
   "outputs": [],
   "source": [
    "\n",
    "# Helper function to find the IDs from the reference data\n",
    "def find_ids(city_name, town_name=None, quarter_name=None):\n",
    "    city_id, town_id, quarter_id = None, None, None\n",
    "    for city in reference_data:\n",
    "        if city['name'] == city_name:\n",
    "            city_id = city['id']\n",
    "\n",
    "            for town in city['towns']:\n",
    "                if town['name'] == town_name:\n",
    "                    town_id = town['id']\n",
    "\n",
    "                    for quarter in town['quarters']:\n",
    "                        if quarter['name'] == quarter_name:\n",
    "                            quarter_id = quarter['id']\n",
    "                            return city_id, town_id, quarter_id\n",
    "    return city_id, town_id, quarter_id\n",
    "    \n",
    "\n",
    "# Update the DataFrame with IDs\n",
    "for idx, row in df_origin_city.iterrows():\n",
    "    city_name = row['il adi cleaned']\n",
    "    town_name = row['ilçe adi cleaned']\n",
    "    quarter_name = row['mahalle adi cleaned']\n",
    "    city_id, town_id, quarter_id = find_ids(city_name, town_name, quarter_name)\n",
    "    df_origin_city.at[idx, 'il kayit no'] = -1 if city_id is None else city_id\n",
    "    df_origin_city.at[idx, 'ilçe kayit no'] = -2 if town_id is None else town_id\n",
    "    df_origin_city.at[idx, 'mahalle kayit no'] = -3 if quarter_id is None else quarter_id\n",
    "\n"
   ]
  },
  {
   "cell_type": "code",
   "execution_count": null,
   "metadata": {},
   "outputs": [],
   "source": [
    "df_origin_city.tail()"
   ]
  },
  {
   "cell_type": "code",
   "execution_count": null,
   "metadata": {},
   "outputs": [],
   "source": [
    "\"ahmet remzi yuregir\" == \"ahmet remzi̇ yuregi̇r\""
   ]
  },
  {
   "cell_type": "code",
   "execution_count": null,
   "metadata": {},
   "outputs": [],
   "source": [
    "-1 in df_origin_city[\"il kayit no\"].to_list()\n"
   ]
  },
  {
   "cell_type": "code",
   "execution_count": null,
   "metadata": {},
   "outputs": [],
   "source": [
    "-2 in df_origin_city[\"ilçe kayit no\"].to_list()\n"
   ]
  },
  {
   "cell_type": "code",
   "execution_count": null,
   "metadata": {},
   "outputs": [],
   "source": [
    "-3 in df_origin_city[\"mahalle kayit no\"].to_list()\n"
   ]
  },
  {
   "cell_type": "code",
   "execution_count": null,
   "metadata": {},
   "outputs": [],
   "source": [
    "# Count rows where \"mahalle kayit no\" is -3\n",
    "mahalle_kayit_no_minus_3 = df_origin_city[df_origin_city['mahalle kayit no'] == -3]\n",
    "count_mahalle_kayit_no_minus_3 = mahalle_kayit_no_minus_3.shape[0]\n",
    "\n",
    "print(f\"Number of rows where 'mahalle kayit no' is -3: {count_mahalle_kayit_no_minus_3}\")\n"
   ]
  },
  {
   "cell_type": "code",
   "execution_count": null,
   "metadata": {},
   "outputs": [],
   "source": [
    "mahalle_kayit_no_minus_3"
   ]
  },
  {
   "cell_type": "code",
   "execution_count": null,
   "metadata": {},
   "outputs": [],
   "source": [
    "df_p = population_df()\n",
    "df_p"
   ]
  },
  {
   "cell_type": "code",
   "execution_count": null,
   "metadata": {},
   "outputs": [],
   "source": [
    "df_p[df_p[\"il kayit no\"]==81][\"il adi\"]"
   ]
  },
  {
   "cell_type": "code",
   "execution_count": null,
   "metadata": {},
   "outputs": [],
   "source": [
    "title = f\"{df_p[df_p[\"il kayit no\"]==81][\"il adi\"].capitalize()}, {df_p[df_p[\"ilçe kayit no\"]==town_code][\"il adi\"].capitalize()}\"\n"
   ]
  }
 ],
 "metadata": {
  "kernelspec": {
   "display_name": "Python 3",
   "language": "python",
   "name": "python3"
  },
  "language_info": {
   "codemirror_mode": {
    "name": "ipython",
    "version": 3
   },
   "file_extension": ".py",
   "mimetype": "text/x-python",
   "name": "python",
   "nbconvert_exporter": "python",
   "pygments_lexer": "ipython3",
   "version": "3.12.3"
  }
 },
 "nbformat": 4,
 "nbformat_minor": 2
}
