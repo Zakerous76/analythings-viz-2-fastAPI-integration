{
 "cells": [
  {
   "cell_type": "code",
   "execution_count": 2,
   "metadata": {},
   "outputs": [],
   "source": [
    "import numpy as np\n",
    "import plotly.graph_objs as go\n",
    "import plotly.express as px\n",
    "import pandas as pd\n",
    "from prep_data import *\n",
    "from prep_xls import *\n",
    "import locale\n",
    "from plot import *\n",
    "from plotly.subplots import make_subplots\n",
    "\n",
    "import json\n",
    "# locale.setlocale(locale.LC_TIME, 'tr_TR.UTF8')\n",
    "pd.set_option('display.max_rows', None)\n",
    "pd.set_option('display.max_columns', None)"
   ]
  },
  {
   "cell_type": "code",
   "execution_count": null,
   "metadata": {},
   "outputs": [],
   "source": [
    "city_code_map = {\n",
    "    0: \"ÜLKE\",\n",
    "    1: \"ADANA\",\n",
    "    2: \"ADIYAMAN\",\n",
    "    3: \"AFYONKARAHİSAR\",\n",
    "    4: \"AĞRI\",\n",
    "    5: \"AMASYA\",\n",
    "    6: \"ANKARA\",\n",
    "    7: \"ANTALYA\",\n",
    "    8: \"ARTVİN\",\n",
    "    9: \"AYDIN\",\n",
    "    10: \"BALIKESİR\",\n",
    "    11: \"BİLECİK\",\n",
    "    12: \"BİNGÖL\",\n",
    "    13: \"BİTLİS\",\n",
    "    14: \"BOLU\",\n",
    "    15: \"BURDUR\",\n",
    "    16: \"BURSA\",\n",
    "    17: \"ÇANAKKALE\",\n",
    "    18: \"ÇANKIRI\",\n",
    "    19: \"ÇORUM\",\n",
    "    20: \"DENİZLİ\",\n",
    "    21: \"DİYARBAKIR\",\n",
    "    22: \"EDİRNE\",\n",
    "    23: \"ELAZIĞ\",\n",
    "    24: \"ERZİNCAN\",\n",
    "    25: \"ERZURUM\",\n",
    "    26: \"ESKİŞEHİR\",\n",
    "    27: \"GAZİANTEP\",\n",
    "    28: \"GİRESUN\",\n",
    "    29: \"GÜMÜŞHANE\",\n",
    "    30: \"HAKKARİ\",\n",
    "    31: \"HATAY\",\n",
    "    32: \"ISPARTA\",\n",
    "    33: \"MERSİN\",\n",
    "    34: \"İSTANBUL\",\n",
    "    35: \"İZMİR\",\n",
    "    36: \"KARS\",\n",
    "    37: \"KASTAMONU\",\n",
    "    38: \"KAYSERİ\",\n",
    "    39: \"KIRKLARELİ\",\n",
    "    40: \"KIRŞEHİR\",\n",
    "    41: \"KOCAELİ\",\n",
    "    42: \"KONYA\",\n",
    "    43: \"KÜTAHYA\",\n",
    "    44: \"MALATYA\",\n",
    "    45: \"MANİSA\",\n",
    "    46: \"KAHRAMANMARAŞ\",\n",
    "    47: \"MARDİN\",\n",
    "    48: \"MUĞLA\",\n",
    "    49: \"MUŞ\",\n",
    "    50: \"NEVŞEHİR\",\n",
    "    51: \"NİĞDE\",\n",
    "    52: \"ORDU\",\n",
    "    53: \"RİZE\",\n",
    "    54: \"SAKARYA\",\n",
    "    55: \"SAMSUN\",\n",
    "    56: \"SİİRT\",\n",
    "    57: \"SİNOP\",\n",
    "    58: \"SİVAS\",\n",
    "    59: \"TEKİRDAĞ\",\n",
    "    60: \"TOKAT\",\n",
    "    61: \"TRABZON\",\n",
    "    62: \"TUNCELİ\",\n",
    "    63: \"ŞANLIURFA\",\n",
    "    64: \"UŞAK\",\n",
    "    65: \"VAN\",\n",
    "    66: \"YOZGAT\",\n",
    "    67: \"ZONGULDAK\",\n",
    "    68: \"AKSARAY\",\n",
    "    69: \"BAYBURT\",\n",
    "    70: \"KARAMAN\",\n",
    "    71: \"KIRIKKALE\",\n",
    "    72: \"BATMAN\",\n",
    "    73: \"ŞIRNAK\",\n",
    "    74: \"BARTIN\",\n",
    "    75: \"ARDAHAN\",\n",
    "    76: \"IĞDIR\",\n",
    "    77: \"YALOVA\",\n",
    "    78: \"KARABÜK\",\n",
    "    79: \"KİLİS\",\n",
    "    80: \"OSMANİYE\",\n",
    "    81: \"DÜZCE\",\n",
    "    99: \"Diğer iller - Other Provinces\",\n",
    "}\n"
   ]
  },
  {
   "cell_type": "code",
   "execution_count": null,
   "metadata": {},
   "outputs": [],
   "source": [
    "sales_cities()\n",
    "sales_cities_foreigners()\n",
    "population()\n",
    "population_marital()\n",
    "population_origin_city()\n",
    "population_trend()\n",
    "election()"
   ]
  },
  {
   "cell_type": "code",
   "execution_count": 3,
   "metadata": {},
   "outputs": [],
   "source": [
    "df1=sales_cities_df()\n",
    "df2=sales_cities_foreigners_df()\n",
    "df3=population_df()\n",
    "\n",
    "df4=population_marital_df()\n",
    "df_origin_city=population_origin_city_df()\n",
    "df_trend=population_trend_df()\n",
    "df_election=election_df()"
   ]
  },
  {
   "cell_type": "code",
   "execution_count": 4,
   "metadata": {},
   "outputs": [],
   "source": [
    "df_origin_city=population_origin_city_df()\n",
    "df_never_married, df_married, df_divorced, df_widowed = df4\n"
   ]
  },
  {
   "cell_type": "code",
   "execution_count": null,
   "metadata": {},
   "outputs": [],
   "source": [
    "df_election[(df_election[\"il kayit no\"]==1)].sum()[7:-2]"
   ]
  },
  {
   "cell_type": "markdown",
   "metadata": {},
   "source": [
    "# New Data Viz"
   ]
  },
  {
   "cell_type": "markdown",
   "metadata": {},
   "source": [
    "## Elections"
   ]
  },
  {
   "cell_type": "code",
   "execution_count": null,
   "metadata": {},
   "outputs": [],
   "source": [
    "df_election.head()"
   ]
  },
  {
   "cell_type": "code",
   "execution_count": null,
   "metadata": {},
   "outputs": [],
   "source": []
  },
  {
   "cell_type": "code",
   "execution_count": null,
   "metadata": {},
   "outputs": [],
   "source": [
    "\n",
    "\n",
    "# Only City\n",
    "city_code = 6\n",
    "selected_df = df_election[(df_election[\"il kayit no\"]==city_code)].sum()[7:-2]\n",
    "labels = selected_df.index.to_list()\n",
    "values = selected_df.to_list()\n",
    "\n",
    "# Group smaller categories into \"Other\"\n",
    "threshold = 0.005 * sum(values)\n",
    "labels_grouped = []\n",
    "values_grouped = []\n",
    "other_value = 0\n",
    "\n",
    "for label, value in zip(labels, values):\n",
    "    if value < threshold:\n",
    "        other_value += value\n",
    "    else:\n",
    "        labels_grouped.append(label)\n",
    "        values_grouped.append(value)\n",
    "\n",
    "if other_value > 0:\n",
    "    labels_grouped.append('Diğer')\n",
    "    values_grouped.append(other_value)\n",
    "    \n",
    "sorted_labels_values = sorted(zip(values_grouped, labels_grouped), reverse=True)\n",
    "values_grouped_sorted, labels_grouped_sorted = zip(*sorted_labels_values)\n",
    "\n",
    "\n",
    "\n",
    "\n",
    "fig = go.Figure(\n",
    "    data=[\n",
    "        go.Bar(\n",
    "            name=\"\",\n",
    "            x=labels_grouped_sorted,\n",
    "            y=values_grouped_sorted,\n",
    "            text=values_grouped_sorted,\n",
    "            texttemplate=\"%{text:,}\",\n",
    "            textposition='auto',\n",
    "            marker=dict(color=px.colors.qualitative.Set3),\n",
    "            hovertemplate=\"%{label}: %{value}\",\n",
    "\n",
    "        )\n",
    "    ]\n",
    ")\n",
    "\n",
    "# Update layout for the bar chart\n",
    "fig.update_layout(\n",
    "    title_text=f\"Seçim: {city_code_map.get(city_code, \"Şehir Bulunamadı\").capitalize()}\",\n",
    "    title_x=0.5,\n",
    "    height=800,\n",
    "    margin=dict(t=100, b=200, l=100, r=100),\n",
    "    title_xanchor=\"center\",\n",
    "    xaxis_title=\"Parti\",\n",
    "    yaxis_title=\"\",\n",
    "    xaxis=dict(tickangle=-45),\n",
    ")\n",
    "\n",
    "fig.update_layout(design)\n",
    "fig.show()\n"
   ]
  },
  {
   "cell_type": "code",
   "execution_count": null,
   "metadata": {},
   "outputs": [],
   "source": [
    "# City and Province\n",
    "city_code = 1\n",
    "province_code = 1\n",
    "selected_df = df_election[(df_election[\"il kayit no\"]==city_code) & (df_election[\"ilçe kayit no\"]==province_code)]\n",
    "selected_df"
   ]
  },
  {
   "cell_type": "code",
   "execution_count": null,
   "metadata": {},
   "outputs": [],
   "source": [
    "selected_df.columns[4:7]\n"
   ]
  },
  {
   "cell_type": "code",
   "execution_count": null,
   "metadata": {},
   "outputs": [],
   "source": [
    "\n",
    "import plotly.express as px\n",
    "\n",
    "labels = selected_df.columns[7:-2].to_list()\n",
    "values = selected_df[selected_df.columns[7:-2].to_list()].iloc[0]\n",
    "\n",
    "\n",
    "# Group smaller categories into \"Other\"\n",
    "threshold = 0.01 * sum(values)\n",
    "labels_grouped = []\n",
    "values_grouped = []\n",
    "other_value = 0\n",
    "\n",
    "for label, value in zip(labels, values):\n",
    "    if value < threshold:\n",
    "        other_value += value\n",
    "    else:\n",
    "        labels_grouped.append(label)\n",
    "        values_grouped.append(value)\n",
    "\n",
    "if other_value > 0:\n",
    "    labels_grouped.append('Diğer')\n",
    "    values_grouped.append(other_value)\n",
    "    \n",
    "sorted_labels_values = sorted(zip(values_grouped, labels_grouped), reverse=True)\n",
    "values_grouped_sorted, labels_grouped_sorted = zip(*sorted_labels_values)\n",
    "\n",
    "# fig = px.bar(x=labels_grouped, y=values_grouped, \n",
    "#             #  color_discrete_map={\"CHP\": \"red\", \"Ak Parti\": \"gold\"},\n",
    "#             color_discrete_sequence=px.colors.qualitative.Pastel,\n",
    "#             labels={\"\": \"Parti\", \"y\": \"Oran (%)\"},\n",
    "#             title=f\"Seçim: {city_code_map.get(city_code, 'Şehir Bulunamadı').capitalize()}, {selected_df.iloc[0, 2]}\")\n",
    "\n",
    "# fig.update_layout(design)\n",
    "\n",
    "# fig.show()\n",
    "\n",
    "\n",
    "\n",
    "fig = go.Figure(\n",
    "    data=[\n",
    "        go.Bar(\n",
    "            name=\"\",\n",
    "            x=labels_grouped_sorted,\n",
    "            y=values_grouped_sorted,\n",
    "            text=values_grouped_sorted,\n",
    "            texttemplate=\"%{text:,}\",\n",
    "            textposition='auto',\n",
    "            marker=dict(color=px.colors.qualitative.Set3),\n",
    "            hovertemplate=\"%{label}: %{value}\",\n",
    "\n",
    "        )\n",
    "    ]\n",
    ")\n",
    "\n",
    "# Update layout for the bar chart\n",
    "fig.update_layout(\n",
    "    title_text=f\"Seçim: {city_code_map.get(city_code, \"Şehir Bulunamadı\").capitalize()}, {selected_df.iloc[0, 2]}\",\n",
    "    title_x=0.5,\n",
    "    height=800,\n",
    "    margin=dict(t=100, b=200, l=100, r=100),\n",
    "    title_xanchor=\"center\",\n",
    "    xaxis_title=\"Parti\",\n",
    "    yaxis_title=\"\",\n",
    "    xaxis=dict(tickangle=-45),\n",
    ")\n",
    "\n",
    "fig.update_layout(design)\n",
    "fig.show()"
   ]
  },
  {
   "cell_type": "code",
   "execution_count": 3,
   "metadata": {},
   "outputs": [
    {
     "data": {
      "application/vnd.plotly.v1+json": {
       "config": {
        "plotlyServerURL": "https://plot.ly"
       },
       "data": [
        {
         "hovertemplate": "%{label}: %{value}",
         "marker": {
          "color": [
           "rgb(141,211,199)",
           "rgb(255,255,179)",
           "rgb(190,186,218)",
           "rgb(251,128,114)",
           "rgb(128,177,211)",
           "rgb(253,180,98)",
           "rgb(179,222,105)",
           "rgb(252,205,229)",
           "rgb(217,217,217)",
           "rgb(188,128,189)",
           "rgb(204,235,197)",
           "rgb(255,237,111)"
          ]
         },
         "name": "",
         "text": [
          "158439",
          "121799",
          "48216",
          "25460",
          "9084",
          "6679",
          "5884",
          "3195",
          "2152"
         ],
         "textposition": "auto",
         "texttemplate": "%{text:,}",
         "type": "bar",
         "x": [
          "CHP",
          "AK PARTİ",
          "DEM Parti",
          "İYİ PARTİ",
          "Diğer",
          "ZAFER PARTİSİ",
          "YENİDEN REFAH",
          "HÜDA PAR",
          "SAADET"
         ],
         "y": [
          158439,
          121799,
          48216,
          25460,
          9084,
          6679,
          5884,
          3195,
          2152
         ]
        }
       ],
       "layout": {
        "height": 800,
        "margin": {
         "b": 200,
         "l": 100,
         "r": 100,
         "t": 100
        },
        "plot_bgcolor": "#f3f4f6",
        "template": {
         "data": {
          "bar": [
           {
            "error_x": {
             "color": "#2a3f5f"
            },
            "error_y": {
             "color": "#2a3f5f"
            },
            "marker": {
             "line": {
              "color": "#E5ECF6",
              "width": 0.5
             },
             "pattern": {
              "fillmode": "overlay",
              "size": 10,
              "solidity": 0.2
             }
            },
            "type": "bar"
           }
          ],
          "barpolar": [
           {
            "marker": {
             "line": {
              "color": "#E5ECF6",
              "width": 0.5
             },
             "pattern": {
              "fillmode": "overlay",
              "size": 10,
              "solidity": 0.2
             }
            },
            "type": "barpolar"
           }
          ],
          "carpet": [
           {
            "aaxis": {
             "endlinecolor": "#2a3f5f",
             "gridcolor": "white",
             "linecolor": "white",
             "minorgridcolor": "white",
             "startlinecolor": "#2a3f5f"
            },
            "baxis": {
             "endlinecolor": "#2a3f5f",
             "gridcolor": "white",
             "linecolor": "white",
             "minorgridcolor": "white",
             "startlinecolor": "#2a3f5f"
            },
            "type": "carpet"
           }
          ],
          "choropleth": [
           {
            "colorbar": {
             "outlinewidth": 0,
             "ticks": ""
            },
            "type": "choropleth"
           }
          ],
          "contour": [
           {
            "colorbar": {
             "outlinewidth": 0,
             "ticks": ""
            },
            "colorscale": [
             [
              0,
              "#0d0887"
             ],
             [
              0.1111111111111111,
              "#46039f"
             ],
             [
              0.2222222222222222,
              "#7201a8"
             ],
             [
              0.3333333333333333,
              "#9c179e"
             ],
             [
              0.4444444444444444,
              "#bd3786"
             ],
             [
              0.5555555555555556,
              "#d8576b"
             ],
             [
              0.6666666666666666,
              "#ed7953"
             ],
             [
              0.7777777777777778,
              "#fb9f3a"
             ],
             [
              0.8888888888888888,
              "#fdca26"
             ],
             [
              1,
              "#f0f921"
             ]
            ],
            "type": "contour"
           }
          ],
          "contourcarpet": [
           {
            "colorbar": {
             "outlinewidth": 0,
             "ticks": ""
            },
            "type": "contourcarpet"
           }
          ],
          "heatmap": [
           {
            "colorbar": {
             "outlinewidth": 0,
             "ticks": ""
            },
            "colorscale": [
             [
              0,
              "#0d0887"
             ],
             [
              0.1111111111111111,
              "#46039f"
             ],
             [
              0.2222222222222222,
              "#7201a8"
             ],
             [
              0.3333333333333333,
              "#9c179e"
             ],
             [
              0.4444444444444444,
              "#bd3786"
             ],
             [
              0.5555555555555556,
              "#d8576b"
             ],
             [
              0.6666666666666666,
              "#ed7953"
             ],
             [
              0.7777777777777778,
              "#fb9f3a"
             ],
             [
              0.8888888888888888,
              "#fdca26"
             ],
             [
              1,
              "#f0f921"
             ]
            ],
            "type": "heatmap"
           }
          ],
          "heatmapgl": [
           {
            "colorbar": {
             "outlinewidth": 0,
             "ticks": ""
            },
            "colorscale": [
             [
              0,
              "#0d0887"
             ],
             [
              0.1111111111111111,
              "#46039f"
             ],
             [
              0.2222222222222222,
              "#7201a8"
             ],
             [
              0.3333333333333333,
              "#9c179e"
             ],
             [
              0.4444444444444444,
              "#bd3786"
             ],
             [
              0.5555555555555556,
              "#d8576b"
             ],
             [
              0.6666666666666666,
              "#ed7953"
             ],
             [
              0.7777777777777778,
              "#fb9f3a"
             ],
             [
              0.8888888888888888,
              "#fdca26"
             ],
             [
              1,
              "#f0f921"
             ]
            ],
            "type": "heatmapgl"
           }
          ],
          "histogram": [
           {
            "marker": {
             "pattern": {
              "fillmode": "overlay",
              "size": 10,
              "solidity": 0.2
             }
            },
            "type": "histogram"
           }
          ],
          "histogram2d": [
           {
            "colorbar": {
             "outlinewidth": 0,
             "ticks": ""
            },
            "colorscale": [
             [
              0,
              "#0d0887"
             ],
             [
              0.1111111111111111,
              "#46039f"
             ],
             [
              0.2222222222222222,
              "#7201a8"
             ],
             [
              0.3333333333333333,
              "#9c179e"
             ],
             [
              0.4444444444444444,
              "#bd3786"
             ],
             [
              0.5555555555555556,
              "#d8576b"
             ],
             [
              0.6666666666666666,
              "#ed7953"
             ],
             [
              0.7777777777777778,
              "#fb9f3a"
             ],
             [
              0.8888888888888888,
              "#fdca26"
             ],
             [
              1,
              "#f0f921"
             ]
            ],
            "type": "histogram2d"
           }
          ],
          "histogram2dcontour": [
           {
            "colorbar": {
             "outlinewidth": 0,
             "ticks": ""
            },
            "colorscale": [
             [
              0,
              "#0d0887"
             ],
             [
              0.1111111111111111,
              "#46039f"
             ],
             [
              0.2222222222222222,
              "#7201a8"
             ],
             [
              0.3333333333333333,
              "#9c179e"
             ],
             [
              0.4444444444444444,
              "#bd3786"
             ],
             [
              0.5555555555555556,
              "#d8576b"
             ],
             [
              0.6666666666666666,
              "#ed7953"
             ],
             [
              0.7777777777777778,
              "#fb9f3a"
             ],
             [
              0.8888888888888888,
              "#fdca26"
             ],
             [
              1,
              "#f0f921"
             ]
            ],
            "type": "histogram2dcontour"
           }
          ],
          "mesh3d": [
           {
            "colorbar": {
             "outlinewidth": 0,
             "ticks": ""
            },
            "type": "mesh3d"
           }
          ],
          "parcoords": [
           {
            "line": {
             "colorbar": {
              "outlinewidth": 0,
              "ticks": ""
             }
            },
            "type": "parcoords"
           }
          ],
          "pie": [
           {
            "automargin": true,
            "type": "pie"
           }
          ],
          "scatter": [
           {
            "fillpattern": {
             "fillmode": "overlay",
             "size": 10,
             "solidity": 0.2
            },
            "type": "scatter"
           }
          ],
          "scatter3d": [
           {
            "line": {
             "colorbar": {
              "outlinewidth": 0,
              "ticks": ""
             }
            },
            "marker": {
             "colorbar": {
              "outlinewidth": 0,
              "ticks": ""
             }
            },
            "type": "scatter3d"
           }
          ],
          "scattercarpet": [
           {
            "marker": {
             "colorbar": {
              "outlinewidth": 0,
              "ticks": ""
             }
            },
            "type": "scattercarpet"
           }
          ],
          "scattergeo": [
           {
            "marker": {
             "colorbar": {
              "outlinewidth": 0,
              "ticks": ""
             }
            },
            "type": "scattergeo"
           }
          ],
          "scattergl": [
           {
            "marker": {
             "colorbar": {
              "outlinewidth": 0,
              "ticks": ""
             }
            },
            "type": "scattergl"
           }
          ],
          "scattermapbox": [
           {
            "marker": {
             "colorbar": {
              "outlinewidth": 0,
              "ticks": ""
             }
            },
            "type": "scattermapbox"
           }
          ],
          "scatterpolar": [
           {
            "marker": {
             "colorbar": {
              "outlinewidth": 0,
              "ticks": ""
             }
            },
            "type": "scatterpolar"
           }
          ],
          "scatterpolargl": [
           {
            "marker": {
             "colorbar": {
              "outlinewidth": 0,
              "ticks": ""
             }
            },
            "type": "scatterpolargl"
           }
          ],
          "scatterternary": [
           {
            "marker": {
             "colorbar": {
              "outlinewidth": 0,
              "ticks": ""
             }
            },
            "type": "scatterternary"
           }
          ],
          "surface": [
           {
            "colorbar": {
             "outlinewidth": 0,
             "ticks": ""
            },
            "colorscale": [
             [
              0,
              "#0d0887"
             ],
             [
              0.1111111111111111,
              "#46039f"
             ],
             [
              0.2222222222222222,
              "#7201a8"
             ],
             [
              0.3333333333333333,
              "#9c179e"
             ],
             [
              0.4444444444444444,
              "#bd3786"
             ],
             [
              0.5555555555555556,
              "#d8576b"
             ],
             [
              0.6666666666666666,
              "#ed7953"
             ],
             [
              0.7777777777777778,
              "#fb9f3a"
             ],
             [
              0.8888888888888888,
              "#fdca26"
             ],
             [
              1,
              "#f0f921"
             ]
            ],
            "type": "surface"
           }
          ],
          "table": [
           {
            "cells": {
             "fill": {
              "color": "#EBF0F8"
             },
             "line": {
              "color": "white"
             }
            },
            "header": {
             "fill": {
              "color": "#C8D4E3"
             },
             "line": {
              "color": "white"
             }
            },
            "type": "table"
           }
          ]
         },
         "layout": {
          "annotationdefaults": {
           "arrowcolor": "#2a3f5f",
           "arrowhead": 0,
           "arrowwidth": 1
          },
          "autotypenumbers": "strict",
          "coloraxis": {
           "colorbar": {
            "outlinewidth": 0,
            "ticks": ""
           }
          },
          "colorscale": {
           "diverging": [
            [
             0,
             "#8e0152"
            ],
            [
             0.1,
             "#c51b7d"
            ],
            [
             0.2,
             "#de77ae"
            ],
            [
             0.3,
             "#f1b6da"
            ],
            [
             0.4,
             "#fde0ef"
            ],
            [
             0.5,
             "#f7f7f7"
            ],
            [
             0.6,
             "#e6f5d0"
            ],
            [
             0.7,
             "#b8e186"
            ],
            [
             0.8,
             "#7fbc41"
            ],
            [
             0.9,
             "#4d9221"
            ],
            [
             1,
             "#276419"
            ]
           ],
           "sequential": [
            [
             0,
             "#0d0887"
            ],
            [
             0.1111111111111111,
             "#46039f"
            ],
            [
             0.2222222222222222,
             "#7201a8"
            ],
            [
             0.3333333333333333,
             "#9c179e"
            ],
            [
             0.4444444444444444,
             "#bd3786"
            ],
            [
             0.5555555555555556,
             "#d8576b"
            ],
            [
             0.6666666666666666,
             "#ed7953"
            ],
            [
             0.7777777777777778,
             "#fb9f3a"
            ],
            [
             0.8888888888888888,
             "#fdca26"
            ],
            [
             1,
             "#f0f921"
            ]
           ],
           "sequentialminus": [
            [
             0,
             "#0d0887"
            ],
            [
             0.1111111111111111,
             "#46039f"
            ],
            [
             0.2222222222222222,
             "#7201a8"
            ],
            [
             0.3333333333333333,
             "#9c179e"
            ],
            [
             0.4444444444444444,
             "#bd3786"
            ],
            [
             0.5555555555555556,
             "#d8576b"
            ],
            [
             0.6666666666666666,
             "#ed7953"
            ],
            [
             0.7777777777777778,
             "#fb9f3a"
            ],
            [
             0.8888888888888888,
             "#fdca26"
            ],
            [
             1,
             "#f0f921"
            ]
           ]
          },
          "colorway": [
           "#636efa",
           "#EF553B",
           "#00cc96",
           "#ab63fa",
           "#FFA15A",
           "#19d3f3",
           "#FF6692",
           "#B6E880",
           "#FF97FF",
           "#FECB52"
          ],
          "font": {
           "color": "#2a3f5f"
          },
          "geo": {
           "bgcolor": "white",
           "lakecolor": "white",
           "landcolor": "#E5ECF6",
           "showlakes": true,
           "showland": true,
           "subunitcolor": "white"
          },
          "hoverlabel": {
           "align": "left"
          },
          "hovermode": "closest",
          "mapbox": {
           "style": "light"
          },
          "paper_bgcolor": "white",
          "plot_bgcolor": "#E5ECF6",
          "polar": {
           "angularaxis": {
            "gridcolor": "white",
            "linecolor": "white",
            "ticks": ""
           },
           "bgcolor": "#E5ECF6",
           "radialaxis": {
            "gridcolor": "white",
            "linecolor": "white",
            "ticks": ""
           }
          },
          "scene": {
           "xaxis": {
            "backgroundcolor": "#E5ECF6",
            "gridcolor": "white",
            "gridwidth": 2,
            "linecolor": "white",
            "showbackground": true,
            "ticks": "",
            "zerolinecolor": "white"
           },
           "yaxis": {
            "backgroundcolor": "#E5ECF6",
            "gridcolor": "white",
            "gridwidth": 2,
            "linecolor": "white",
            "showbackground": true,
            "ticks": "",
            "zerolinecolor": "white"
           },
           "zaxis": {
            "backgroundcolor": "#E5ECF6",
            "gridcolor": "white",
            "gridwidth": 2,
            "linecolor": "white",
            "showbackground": true,
            "ticks": "",
            "zerolinecolor": "white"
           }
          },
          "shapedefaults": {
           "line": {
            "color": "#2a3f5f"
           }
          },
          "ternary": {
           "aaxis": {
            "gridcolor": "white",
            "linecolor": "white",
            "ticks": ""
           },
           "baxis": {
            "gridcolor": "white",
            "linecolor": "white",
            "ticks": ""
           },
           "bgcolor": "#E5ECF6",
           "caxis": {
            "gridcolor": "white",
            "linecolor": "white",
            "ticks": ""
           }
          },
          "title": {
           "x": 0.05
          },
          "xaxis": {
           "automargin": true,
           "gridcolor": "white",
           "linecolor": "white",
           "ticks": "",
           "title": {
            "standoff": 15
           },
           "zerolinecolor": "white",
           "zerolinewidth": 2
          },
          "yaxis": {
           "automargin": true,
           "gridcolor": "white",
           "linecolor": "white",
           "ticks": "",
           "title": {
            "standoff": 15
           },
           "zerolinecolor": "white",
           "zerolinewidth": 2
          }
         }
        },
        "title": {
         "font": {
          "color": "black",
          "family": "Verdana",
          "size": 30,
          "weight": "bold"
         },
         "text": "Seçim: Adana, SEYHAN",
         "x": 0.5,
         "xanchor": "center"
        },
        "xaxis": {
         "gridcolor": "lightgray",
         "showgrid": false,
         "tickangle": -45,
         "tickfont": {
          "family": "Verdana",
          "size": 12
         },
         "title": {
          "text": "Parti"
         }
        },
        "yaxis": {
         "gridcolor": "lightgray",
         "showgrid": true,
         "tickfont": {
          "family": "Verdana",
          "size": 12
         },
         "tickformat": ",",
         "title": {
          "text": ""
         }
        }
       }
      }
     },
     "metadata": {},
     "output_type": "display_data"
    }
   ],
   "source": [
    "population_elections_plot(df_election, city_code=1, province_code=1).show()"
   ]
  },
  {
   "cell_type": "code",
   "execution_count": 8,
   "metadata": {},
   "outputs": [
    {
     "data": {
      "application/vnd.plotly.v1+json": {
       "config": {
        "plotlyServerURL": "https://plot.ly"
       },
       "data": [
        {
         "hovertemplate": "%{label}: %{value}",
         "marker": {
          "color": [
           "rgb(141,211,199)",
           "rgb(255,255,179)",
           "rgb(190,186,218)",
           "rgb(251,128,114)",
           "rgb(128,177,211)",
           "rgb(253,180,98)",
           "rgb(179,222,105)",
           "rgb(252,205,229)",
           "rgb(217,217,217)",
           "rgb(188,128,189)",
           "rgb(204,235,197)",
           "rgb(255,237,111)"
          ]
         },
         "name": "",
         "text": [
          "158439",
          "121799",
          "48216",
          "25460",
          "9084",
          "6679",
          "5884",
          "3195",
          "2152"
         ],
         "textposition": "auto",
         "texttemplate": "%{text:,}",
         "type": "bar",
         "x": [
          "CHP",
          "AK PARTİ",
          "DEM Parti",
          "İYİ PARTİ",
          "Diğer",
          "ZAFER PARTİSİ",
          "YENİDEN REFAH",
          "HÜDA PAR",
          "SAADET"
         ],
         "y": [
          158439,
          121799,
          48216,
          25460,
          9084,
          6679,
          5884,
          3195,
          2152
         ]
        }
       ],
       "layout": {
        "height": 800,
        "margin": {
         "b": 200,
         "l": 100,
         "r": 100,
         "t": 100
        },
        "plot_bgcolor": "#f3f4f6",
        "template": {
         "data": {
          "bar": [
           {
            "error_x": {
             "color": "#2a3f5f"
            },
            "error_y": {
             "color": "#2a3f5f"
            },
            "marker": {
             "line": {
              "color": "#E5ECF6",
              "width": 0.5
             },
             "pattern": {
              "fillmode": "overlay",
              "size": 10,
              "solidity": 0.2
             }
            },
            "type": "bar"
           }
          ],
          "barpolar": [
           {
            "marker": {
             "line": {
              "color": "#E5ECF6",
              "width": 0.5
             },
             "pattern": {
              "fillmode": "overlay",
              "size": 10,
              "solidity": 0.2
             }
            },
            "type": "barpolar"
           }
          ],
          "carpet": [
           {
            "aaxis": {
             "endlinecolor": "#2a3f5f",
             "gridcolor": "white",
             "linecolor": "white",
             "minorgridcolor": "white",
             "startlinecolor": "#2a3f5f"
            },
            "baxis": {
             "endlinecolor": "#2a3f5f",
             "gridcolor": "white",
             "linecolor": "white",
             "minorgridcolor": "white",
             "startlinecolor": "#2a3f5f"
            },
            "type": "carpet"
           }
          ],
          "choropleth": [
           {
            "colorbar": {
             "outlinewidth": 0,
             "ticks": ""
            },
            "type": "choropleth"
           }
          ],
          "contour": [
           {
            "colorbar": {
             "outlinewidth": 0,
             "ticks": ""
            },
            "colorscale": [
             [
              0,
              "#0d0887"
             ],
             [
              0.1111111111111111,
              "#46039f"
             ],
             [
              0.2222222222222222,
              "#7201a8"
             ],
             [
              0.3333333333333333,
              "#9c179e"
             ],
             [
              0.4444444444444444,
              "#bd3786"
             ],
             [
              0.5555555555555556,
              "#d8576b"
             ],
             [
              0.6666666666666666,
              "#ed7953"
             ],
             [
              0.7777777777777778,
              "#fb9f3a"
             ],
             [
              0.8888888888888888,
              "#fdca26"
             ],
             [
              1,
              "#f0f921"
             ]
            ],
            "type": "contour"
           }
          ],
          "contourcarpet": [
           {
            "colorbar": {
             "outlinewidth": 0,
             "ticks": ""
            },
            "type": "contourcarpet"
           }
          ],
          "heatmap": [
           {
            "colorbar": {
             "outlinewidth": 0,
             "ticks": ""
            },
            "colorscale": [
             [
              0,
              "#0d0887"
             ],
             [
              0.1111111111111111,
              "#46039f"
             ],
             [
              0.2222222222222222,
              "#7201a8"
             ],
             [
              0.3333333333333333,
              "#9c179e"
             ],
             [
              0.4444444444444444,
              "#bd3786"
             ],
             [
              0.5555555555555556,
              "#d8576b"
             ],
             [
              0.6666666666666666,
              "#ed7953"
             ],
             [
              0.7777777777777778,
              "#fb9f3a"
             ],
             [
              0.8888888888888888,
              "#fdca26"
             ],
             [
              1,
              "#f0f921"
             ]
            ],
            "type": "heatmap"
           }
          ],
          "heatmapgl": [
           {
            "colorbar": {
             "outlinewidth": 0,
             "ticks": ""
            },
            "colorscale": [
             [
              0,
              "#0d0887"
             ],
             [
              0.1111111111111111,
              "#46039f"
             ],
             [
              0.2222222222222222,
              "#7201a8"
             ],
             [
              0.3333333333333333,
              "#9c179e"
             ],
             [
              0.4444444444444444,
              "#bd3786"
             ],
             [
              0.5555555555555556,
              "#d8576b"
             ],
             [
              0.6666666666666666,
              "#ed7953"
             ],
             [
              0.7777777777777778,
              "#fb9f3a"
             ],
             [
              0.8888888888888888,
              "#fdca26"
             ],
             [
              1,
              "#f0f921"
             ]
            ],
            "type": "heatmapgl"
           }
          ],
          "histogram": [
           {
            "marker": {
             "pattern": {
              "fillmode": "overlay",
              "size": 10,
              "solidity": 0.2
             }
            },
            "type": "histogram"
           }
          ],
          "histogram2d": [
           {
            "colorbar": {
             "outlinewidth": 0,
             "ticks": ""
            },
            "colorscale": [
             [
              0,
              "#0d0887"
             ],
             [
              0.1111111111111111,
              "#46039f"
             ],
             [
              0.2222222222222222,
              "#7201a8"
             ],
             [
              0.3333333333333333,
              "#9c179e"
             ],
             [
              0.4444444444444444,
              "#bd3786"
             ],
             [
              0.5555555555555556,
              "#d8576b"
             ],
             [
              0.6666666666666666,
              "#ed7953"
             ],
             [
              0.7777777777777778,
              "#fb9f3a"
             ],
             [
              0.8888888888888888,
              "#fdca26"
             ],
             [
              1,
              "#f0f921"
             ]
            ],
            "type": "histogram2d"
           }
          ],
          "histogram2dcontour": [
           {
            "colorbar": {
             "outlinewidth": 0,
             "ticks": ""
            },
            "colorscale": [
             [
              0,
              "#0d0887"
             ],
             [
              0.1111111111111111,
              "#46039f"
             ],
             [
              0.2222222222222222,
              "#7201a8"
             ],
             [
              0.3333333333333333,
              "#9c179e"
             ],
             [
              0.4444444444444444,
              "#bd3786"
             ],
             [
              0.5555555555555556,
              "#d8576b"
             ],
             [
              0.6666666666666666,
              "#ed7953"
             ],
             [
              0.7777777777777778,
              "#fb9f3a"
             ],
             [
              0.8888888888888888,
              "#fdca26"
             ],
             [
              1,
              "#f0f921"
             ]
            ],
            "type": "histogram2dcontour"
           }
          ],
          "mesh3d": [
           {
            "colorbar": {
             "outlinewidth": 0,
             "ticks": ""
            },
            "type": "mesh3d"
           }
          ],
          "parcoords": [
           {
            "line": {
             "colorbar": {
              "outlinewidth": 0,
              "ticks": ""
             }
            },
            "type": "parcoords"
           }
          ],
          "pie": [
           {
            "automargin": true,
            "type": "pie"
           }
          ],
          "scatter": [
           {
            "fillpattern": {
             "fillmode": "overlay",
             "size": 10,
             "solidity": 0.2
            },
            "type": "scatter"
           }
          ],
          "scatter3d": [
           {
            "line": {
             "colorbar": {
              "outlinewidth": 0,
              "ticks": ""
             }
            },
            "marker": {
             "colorbar": {
              "outlinewidth": 0,
              "ticks": ""
             }
            },
            "type": "scatter3d"
           }
          ],
          "scattercarpet": [
           {
            "marker": {
             "colorbar": {
              "outlinewidth": 0,
              "ticks": ""
             }
            },
            "type": "scattercarpet"
           }
          ],
          "scattergeo": [
           {
            "marker": {
             "colorbar": {
              "outlinewidth": 0,
              "ticks": ""
             }
            },
            "type": "scattergeo"
           }
          ],
          "scattergl": [
           {
            "marker": {
             "colorbar": {
              "outlinewidth": 0,
              "ticks": ""
             }
            },
            "type": "scattergl"
           }
          ],
          "scattermapbox": [
           {
            "marker": {
             "colorbar": {
              "outlinewidth": 0,
              "ticks": ""
             }
            },
            "type": "scattermapbox"
           }
          ],
          "scatterpolar": [
           {
            "marker": {
             "colorbar": {
              "outlinewidth": 0,
              "ticks": ""
             }
            },
            "type": "scatterpolar"
           }
          ],
          "scatterpolargl": [
           {
            "marker": {
             "colorbar": {
              "outlinewidth": 0,
              "ticks": ""
             }
            },
            "type": "scatterpolargl"
           }
          ],
          "scatterternary": [
           {
            "marker": {
             "colorbar": {
              "outlinewidth": 0,
              "ticks": ""
             }
            },
            "type": "scatterternary"
           }
          ],
          "surface": [
           {
            "colorbar": {
             "outlinewidth": 0,
             "ticks": ""
            },
            "colorscale": [
             [
              0,
              "#0d0887"
             ],
             [
              0.1111111111111111,
              "#46039f"
             ],
             [
              0.2222222222222222,
              "#7201a8"
             ],
             [
              0.3333333333333333,
              "#9c179e"
             ],
             [
              0.4444444444444444,
              "#bd3786"
             ],
             [
              0.5555555555555556,
              "#d8576b"
             ],
             [
              0.6666666666666666,
              "#ed7953"
             ],
             [
              0.7777777777777778,
              "#fb9f3a"
             ],
             [
              0.8888888888888888,
              "#fdca26"
             ],
             [
              1,
              "#f0f921"
             ]
            ],
            "type": "surface"
           }
          ],
          "table": [
           {
            "cells": {
             "fill": {
              "color": "#EBF0F8"
             },
             "line": {
              "color": "white"
             }
            },
            "header": {
             "fill": {
              "color": "#C8D4E3"
             },
             "line": {
              "color": "white"
             }
            },
            "type": "table"
           }
          ]
         },
         "layout": {
          "annotationdefaults": {
           "arrowcolor": "#2a3f5f",
           "arrowhead": 0,
           "arrowwidth": 1
          },
          "autotypenumbers": "strict",
          "coloraxis": {
           "colorbar": {
            "outlinewidth": 0,
            "ticks": ""
           }
          },
          "colorscale": {
           "diverging": [
            [
             0,
             "#8e0152"
            ],
            [
             0.1,
             "#c51b7d"
            ],
            [
             0.2,
             "#de77ae"
            ],
            [
             0.3,
             "#f1b6da"
            ],
            [
             0.4,
             "#fde0ef"
            ],
            [
             0.5,
             "#f7f7f7"
            ],
            [
             0.6,
             "#e6f5d0"
            ],
            [
             0.7,
             "#b8e186"
            ],
            [
             0.8,
             "#7fbc41"
            ],
            [
             0.9,
             "#4d9221"
            ],
            [
             1,
             "#276419"
            ]
           ],
           "sequential": [
            [
             0,
             "#0d0887"
            ],
            [
             0.1111111111111111,
             "#46039f"
            ],
            [
             0.2222222222222222,
             "#7201a8"
            ],
            [
             0.3333333333333333,
             "#9c179e"
            ],
            [
             0.4444444444444444,
             "#bd3786"
            ],
            [
             0.5555555555555556,
             "#d8576b"
            ],
            [
             0.6666666666666666,
             "#ed7953"
            ],
            [
             0.7777777777777778,
             "#fb9f3a"
            ],
            [
             0.8888888888888888,
             "#fdca26"
            ],
            [
             1,
             "#f0f921"
            ]
           ],
           "sequentialminus": [
            [
             0,
             "#0d0887"
            ],
            [
             0.1111111111111111,
             "#46039f"
            ],
            [
             0.2222222222222222,
             "#7201a8"
            ],
            [
             0.3333333333333333,
             "#9c179e"
            ],
            [
             0.4444444444444444,
             "#bd3786"
            ],
            [
             0.5555555555555556,
             "#d8576b"
            ],
            [
             0.6666666666666666,
             "#ed7953"
            ],
            [
             0.7777777777777778,
             "#fb9f3a"
            ],
            [
             0.8888888888888888,
             "#fdca26"
            ],
            [
             1,
             "#f0f921"
            ]
           ]
          },
          "colorway": [
           "#636efa",
           "#EF553B",
           "#00cc96",
           "#ab63fa",
           "#FFA15A",
           "#19d3f3",
           "#FF6692",
           "#B6E880",
           "#FF97FF",
           "#FECB52"
          ],
          "font": {
           "color": "#2a3f5f"
          },
          "geo": {
           "bgcolor": "white",
           "lakecolor": "white",
           "landcolor": "#E5ECF6",
           "showlakes": true,
           "showland": true,
           "subunitcolor": "white"
          },
          "hoverlabel": {
           "align": "left"
          },
          "hovermode": "closest",
          "mapbox": {
           "style": "light"
          },
          "paper_bgcolor": "white",
          "plot_bgcolor": "#E5ECF6",
          "polar": {
           "angularaxis": {
            "gridcolor": "white",
            "linecolor": "white",
            "ticks": ""
           },
           "bgcolor": "#E5ECF6",
           "radialaxis": {
            "gridcolor": "white",
            "linecolor": "white",
            "ticks": ""
           }
          },
          "scene": {
           "xaxis": {
            "backgroundcolor": "#E5ECF6",
            "gridcolor": "white",
            "gridwidth": 2,
            "linecolor": "white",
            "showbackground": true,
            "ticks": "",
            "zerolinecolor": "white"
           },
           "yaxis": {
            "backgroundcolor": "#E5ECF6",
            "gridcolor": "white",
            "gridwidth": 2,
            "linecolor": "white",
            "showbackground": true,
            "ticks": "",
            "zerolinecolor": "white"
           },
           "zaxis": {
            "backgroundcolor": "#E5ECF6",
            "gridcolor": "white",
            "gridwidth": 2,
            "linecolor": "white",
            "showbackground": true,
            "ticks": "",
            "zerolinecolor": "white"
           }
          },
          "shapedefaults": {
           "line": {
            "color": "#2a3f5f"
           }
          },
          "ternary": {
           "aaxis": {
            "gridcolor": "white",
            "linecolor": "white",
            "ticks": ""
           },
           "baxis": {
            "gridcolor": "white",
            "linecolor": "white",
            "ticks": ""
           },
           "bgcolor": "#E5ECF6",
           "caxis": {
            "gridcolor": "white",
            "linecolor": "white",
            "ticks": ""
           }
          },
          "title": {
           "x": 0.05
          },
          "xaxis": {
           "automargin": true,
           "gridcolor": "white",
           "linecolor": "white",
           "ticks": "",
           "title": {
            "standoff": 15
           },
           "zerolinecolor": "white",
           "zerolinewidth": 2
          },
          "yaxis": {
           "automargin": true,
           "gridcolor": "white",
           "linecolor": "white",
           "ticks": "",
           "title": {
            "standoff": 15
           },
           "zerolinecolor": "white",
           "zerolinewidth": 2
          }
         }
        },
        "title": {
         "font": {
          "color": "black",
          "family": "Verdana",
          "size": 30,
          "weight": "bold"
         },
         "text": "Seçim: Adana, SEYHAN",
         "x": 0.5,
         "xanchor": "center"
        },
        "xaxis": {
         "gridcolor": "lightgray",
         "showgrid": false,
         "tickangle": -45,
         "tickfont": {
          "family": "Verdana",
          "size": 12
         },
         "title": {
          "text": "Parti"
         }
        },
        "yaxis": {
         "gridcolor": "lightgray",
         "showgrid": true,
         "tickfont": {
          "family": "Verdana",
          "size": 12
         },
         "tickformat": ",",
         "title": {
          "text": ""
         }
        }
       }
      }
     },
     "metadata": {},
     "output_type": "display_data"
    }
   ],
   "source": [
    "def population_elections_plot(df_election: pd.DataFrame, city_code: int = 1, province_code=None, height=600, width=None):\n",
    "    # Only City\n",
    "    if province_code == None:\n",
    "        selected_df = df_election[(df_election[\"il kayit no\"]==city_code)].sum()[7:-2]\n",
    "        labels = selected_df.index.to_list()\n",
    "        values = selected_df.to_list()\n",
    "        title_text=f\"Seçim: {city_code_map.get(city_code, \"Şehir Bulunamadı\").capitalize()}\"\n",
    "\n",
    "    # City and Province\n",
    "    else:\n",
    "        selected_df = df_election[(df_election[\"il kayit no\"]==city_code) & (df_election[\"ilçe kayit no\"]==province_code)]\n",
    "        labels = selected_df.columns[7:-2].to_list()\n",
    "        values = selected_df[selected_df.columns[7:-2].to_list()].iloc[0]\n",
    "        title_text=f\"Seçim: {city_code_map.get(city_code, \"Şehir Bulunamadı\").capitalize()}, {selected_df.iloc[0, 2]}\"\n",
    "\n",
    "\n",
    "\n",
    "    # Group smaller categories into \"Other\"\n",
    "    threshold = 0.005 * sum(values)\n",
    "    labels_grouped = []\n",
    "    values_grouped = []\n",
    "    other_value = 0\n",
    "\n",
    "    for label, value in zip(labels, values):\n",
    "        if value < threshold:\n",
    "            other_value += value\n",
    "        else:\n",
    "            labels_grouped.append(label)\n",
    "            values_grouped.append(value)\n",
    "\n",
    "    if other_value > 0:\n",
    "        labels_grouped.append('Diğer')\n",
    "        values_grouped.append(other_value)\n",
    "        \n",
    "    sorted_labels_values = sorted(zip(values_grouped, labels_grouped), reverse=True)\n",
    "    values_grouped_sorted, labels_grouped_sorted = zip(*sorted_labels_values)\n",
    "\n",
    "    fig = go.Figure(\n",
    "        data=[\n",
    "            go.Bar(\n",
    "                name=\"\",\n",
    "                x=labels_grouped_sorted,\n",
    "                y=values_grouped_sorted,\n",
    "                text=values_grouped_sorted,\n",
    "                texttemplate=\"%{text:,}\",\n",
    "                textposition='auto',\n",
    "                marker=dict(color=px.colors.qualitative.Set3),\n",
    "                hovertemplate=\"%{label}: %{value}\",\n",
    "\n",
    "            )\n",
    "        ]\n",
    "    )\n",
    "\n",
    "    fig.update_layout(design)\n",
    "    # Update layout for the bar chart\n",
    "    fig.update_layout(\n",
    "        title_text=title_text,\n",
    "        height=800,\n",
    "        margin=dict(t=100, b=200, l=100, r=100),\n",
    "        xaxis_title=\"Parti\",\n",
    "        yaxis_title=\"\",\n",
    "        xaxis_showgrid=False,\n",
    "    )\n",
    "\n",
    "    return fig\n",
    "\n",
    "population_elections_plot(df_election, 1, 1).show()\n",
    "\n"
   ]
  },
  {
   "cell_type": "markdown",
   "metadata": {},
   "source": [
    "## Marital"
   ]
  },
  {
   "cell_type": "code",
   "execution_count": null,
   "metadata": {},
   "outputs": [],
   "source": [
    "\n",
    "population_marital_plot(*df4, city_code=34).show()\n"
   ]
  },
  {
   "cell_type": "code",
   "execution_count": 12,
   "metadata": {},
   "outputs": [
    {
     "data": {
      "text/plain": [
       "3"
      ]
     },
     "execution_count": 12,
     "metadata": {},
     "output_type": "execute_result"
    }
   ],
   "source": [
    "sum([1,2])"
   ]
  },
  {
   "cell_type": "code",
   "execution_count": 53,
   "metadata": {},
   "outputs": [
    {
     "data": {
      "application/vnd.plotly.v1+json": {
       "config": {
        "plotlyServerURL": "https://plot.ly"
       },
       "data": [
        {
         "domain": {
          "x": [
           0,
           0.2888888888888889
          ],
          "y": [
           0,
           1
          ]
         },
         "hole": 0.75,
         "hovertemplate": "<b>%{label}</b><br>%{value}",
         "labels": [
          "Evli",
          "Bekar"
         ],
         "marker": {
          "colors": [
           "skyblue",
           "salmon"
          ]
         },
         "name": "",
         "pull": [
          0,
          0
         ],
         "textfont": {
          "color": "black",
          "family": "Verdana",
          "size": 16,
          "weight": "bold"
         },
         "textinfo": "label+percent",
         "type": "pie",
         "values": [
          1045322,
          697868
         ]
        },
        {
         "domain": {
          "x": [
           0.35555555555555557,
           0.6444444444444445
          ],
          "y": [
           0,
           1
          ]
         },
         "hole": 0.75,
         "hovertemplate": "<b>%{label}</b><br>%{value}",
         "labels": [
          "Erkek",
          "Kadın"
         ],
         "marker": {
          "colors": [
           "skyblue",
           "salmon"
          ]
         },
         "name": "",
         "pull": [
          0,
          0
         ],
         "textfont": {
          "color": "black",
          "family": "Verdana",
          "size": 16,
          "weight": "bold"
         },
         "textinfo": "label+percent",
         "type": "pie",
         "values": [
          521401,
          523921
         ]
        },
        {
         "domain": {
          "x": [
           0.7111111111111111,
           1
          ],
          "y": [
           0,
           1
          ]
         },
         "hole": 0.75,
         "hovertemplate": "<b>%{label}</b><br>%{value}",
         "labels": [
          "Erkek",
          "Kadın"
         ],
         "marker": {
          "colors": [
           "skyblue",
           "salmon"
          ]
         },
         "name": "",
         "pull": [
          0,
          0
         ],
         "textfont": {
          "color": "black",
          "family": "Verdana",
          "size": 16,
          "weight": "bold"
         },
         "textinfo": "label+percent",
         "type": "pie",
         "values": [
          343407,
          354461
         ]
        }
       ],
       "layout": {
        "annotations": [
         {
          "align": "right",
          "font": {
           "color": "black",
           "family": "Verdana",
           "size": 25,
           "weight": "bold"
          },
          "showarrow": false,
          "text": "Evli-Bekar Oranı",
          "x": 0.15,
          "xanchor": "center",
          "xref": "paper",
          "y": 0.95,
          "yanchor": "bottom",
          "yref": "paper"
         },
         {
          "align": "right",
          "font": {
           "color": "black",
           "family": "Verdana",
           "size": 25,
           "weight": "bold"
          },
          "showarrow": false,
          "text": "Evli",
          "x": 0.5,
          "xanchor": "center",
          "xref": "paper",
          "y": 0.95,
          "yanchor": "bottom",
          "yref": "paper"
         },
         {
          "align": "right",
          "font": {
           "color": "black",
           "family": "Verdana",
           "size": 25,
           "weight": "bold"
          },
          "showarrow": false,
          "text": "Bekar",
          "x": 0.85,
          "xanchor": "center",
          "xref": "paper",
          "y": 0.95,
          "yanchor": "bottom",
          "yref": "paper"
         }
        ],
        "height": 800,
        "margin": {
         "b": 110,
         "l": 110,
         "r": 20,
         "t": 100
        },
        "plot_bgcolor": "#f3f4f6",
        "showlegend": false,
        "template": {
         "data": {
          "bar": [
           {
            "error_x": {
             "color": "#2a3f5f"
            },
            "error_y": {
             "color": "#2a3f5f"
            },
            "marker": {
             "line": {
              "color": "#E5ECF6",
              "width": 0.5
             },
             "pattern": {
              "fillmode": "overlay",
              "size": 10,
              "solidity": 0.2
             }
            },
            "type": "bar"
           }
          ],
          "barpolar": [
           {
            "marker": {
             "line": {
              "color": "#E5ECF6",
              "width": 0.5
             },
             "pattern": {
              "fillmode": "overlay",
              "size": 10,
              "solidity": 0.2
             }
            },
            "type": "barpolar"
           }
          ],
          "carpet": [
           {
            "aaxis": {
             "endlinecolor": "#2a3f5f",
             "gridcolor": "white",
             "linecolor": "white",
             "minorgridcolor": "white",
             "startlinecolor": "#2a3f5f"
            },
            "baxis": {
             "endlinecolor": "#2a3f5f",
             "gridcolor": "white",
             "linecolor": "white",
             "minorgridcolor": "white",
             "startlinecolor": "#2a3f5f"
            },
            "type": "carpet"
           }
          ],
          "choropleth": [
           {
            "colorbar": {
             "outlinewidth": 0,
             "ticks": ""
            },
            "type": "choropleth"
           }
          ],
          "contour": [
           {
            "colorbar": {
             "outlinewidth": 0,
             "ticks": ""
            },
            "colorscale": [
             [
              0,
              "#0d0887"
             ],
             [
              0.1111111111111111,
              "#46039f"
             ],
             [
              0.2222222222222222,
              "#7201a8"
             ],
             [
              0.3333333333333333,
              "#9c179e"
             ],
             [
              0.4444444444444444,
              "#bd3786"
             ],
             [
              0.5555555555555556,
              "#d8576b"
             ],
             [
              0.6666666666666666,
              "#ed7953"
             ],
             [
              0.7777777777777778,
              "#fb9f3a"
             ],
             [
              0.8888888888888888,
              "#fdca26"
             ],
             [
              1,
              "#f0f921"
             ]
            ],
            "type": "contour"
           }
          ],
          "contourcarpet": [
           {
            "colorbar": {
             "outlinewidth": 0,
             "ticks": ""
            },
            "type": "contourcarpet"
           }
          ],
          "heatmap": [
           {
            "colorbar": {
             "outlinewidth": 0,
             "ticks": ""
            },
            "colorscale": [
             [
              0,
              "#0d0887"
             ],
             [
              0.1111111111111111,
              "#46039f"
             ],
             [
              0.2222222222222222,
              "#7201a8"
             ],
             [
              0.3333333333333333,
              "#9c179e"
             ],
             [
              0.4444444444444444,
              "#bd3786"
             ],
             [
              0.5555555555555556,
              "#d8576b"
             ],
             [
              0.6666666666666666,
              "#ed7953"
             ],
             [
              0.7777777777777778,
              "#fb9f3a"
             ],
             [
              0.8888888888888888,
              "#fdca26"
             ],
             [
              1,
              "#f0f921"
             ]
            ],
            "type": "heatmap"
           }
          ],
          "heatmapgl": [
           {
            "colorbar": {
             "outlinewidth": 0,
             "ticks": ""
            },
            "colorscale": [
             [
              0,
              "#0d0887"
             ],
             [
              0.1111111111111111,
              "#46039f"
             ],
             [
              0.2222222222222222,
              "#7201a8"
             ],
             [
              0.3333333333333333,
              "#9c179e"
             ],
             [
              0.4444444444444444,
              "#bd3786"
             ],
             [
              0.5555555555555556,
              "#d8576b"
             ],
             [
              0.6666666666666666,
              "#ed7953"
             ],
             [
              0.7777777777777778,
              "#fb9f3a"
             ],
             [
              0.8888888888888888,
              "#fdca26"
             ],
             [
              1,
              "#f0f921"
             ]
            ],
            "type": "heatmapgl"
           }
          ],
          "histogram": [
           {
            "marker": {
             "pattern": {
              "fillmode": "overlay",
              "size": 10,
              "solidity": 0.2
             }
            },
            "type": "histogram"
           }
          ],
          "histogram2d": [
           {
            "colorbar": {
             "outlinewidth": 0,
             "ticks": ""
            },
            "colorscale": [
             [
              0,
              "#0d0887"
             ],
             [
              0.1111111111111111,
              "#46039f"
             ],
             [
              0.2222222222222222,
              "#7201a8"
             ],
             [
              0.3333333333333333,
              "#9c179e"
             ],
             [
              0.4444444444444444,
              "#bd3786"
             ],
             [
              0.5555555555555556,
              "#d8576b"
             ],
             [
              0.6666666666666666,
              "#ed7953"
             ],
             [
              0.7777777777777778,
              "#fb9f3a"
             ],
             [
              0.8888888888888888,
              "#fdca26"
             ],
             [
              1,
              "#f0f921"
             ]
            ],
            "type": "histogram2d"
           }
          ],
          "histogram2dcontour": [
           {
            "colorbar": {
             "outlinewidth": 0,
             "ticks": ""
            },
            "colorscale": [
             [
              0,
              "#0d0887"
             ],
             [
              0.1111111111111111,
              "#46039f"
             ],
             [
              0.2222222222222222,
              "#7201a8"
             ],
             [
              0.3333333333333333,
              "#9c179e"
             ],
             [
              0.4444444444444444,
              "#bd3786"
             ],
             [
              0.5555555555555556,
              "#d8576b"
             ],
             [
              0.6666666666666666,
              "#ed7953"
             ],
             [
              0.7777777777777778,
              "#fb9f3a"
             ],
             [
              0.8888888888888888,
              "#fdca26"
             ],
             [
              1,
              "#f0f921"
             ]
            ],
            "type": "histogram2dcontour"
           }
          ],
          "mesh3d": [
           {
            "colorbar": {
             "outlinewidth": 0,
             "ticks": ""
            },
            "type": "mesh3d"
           }
          ],
          "parcoords": [
           {
            "line": {
             "colorbar": {
              "outlinewidth": 0,
              "ticks": ""
             }
            },
            "type": "parcoords"
           }
          ],
          "pie": [
           {
            "automargin": true,
            "type": "pie"
           }
          ],
          "scatter": [
           {
            "fillpattern": {
             "fillmode": "overlay",
             "size": 10,
             "solidity": 0.2
            },
            "type": "scatter"
           }
          ],
          "scatter3d": [
           {
            "line": {
             "colorbar": {
              "outlinewidth": 0,
              "ticks": ""
             }
            },
            "marker": {
             "colorbar": {
              "outlinewidth": 0,
              "ticks": ""
             }
            },
            "type": "scatter3d"
           }
          ],
          "scattercarpet": [
           {
            "marker": {
             "colorbar": {
              "outlinewidth": 0,
              "ticks": ""
             }
            },
            "type": "scattercarpet"
           }
          ],
          "scattergeo": [
           {
            "marker": {
             "colorbar": {
              "outlinewidth": 0,
              "ticks": ""
             }
            },
            "type": "scattergeo"
           }
          ],
          "scattergl": [
           {
            "marker": {
             "colorbar": {
              "outlinewidth": 0,
              "ticks": ""
             }
            },
            "type": "scattergl"
           }
          ],
          "scattermapbox": [
           {
            "marker": {
             "colorbar": {
              "outlinewidth": 0,
              "ticks": ""
             }
            },
            "type": "scattermapbox"
           }
          ],
          "scatterpolar": [
           {
            "marker": {
             "colorbar": {
              "outlinewidth": 0,
              "ticks": ""
             }
            },
            "type": "scatterpolar"
           }
          ],
          "scatterpolargl": [
           {
            "marker": {
             "colorbar": {
              "outlinewidth": 0,
              "ticks": ""
             }
            },
            "type": "scatterpolargl"
           }
          ],
          "scatterternary": [
           {
            "marker": {
             "colorbar": {
              "outlinewidth": 0,
              "ticks": ""
             }
            },
            "type": "scatterternary"
           }
          ],
          "surface": [
           {
            "colorbar": {
             "outlinewidth": 0,
             "ticks": ""
            },
            "colorscale": [
             [
              0,
              "#0d0887"
             ],
             [
              0.1111111111111111,
              "#46039f"
             ],
             [
              0.2222222222222222,
              "#7201a8"
             ],
             [
              0.3333333333333333,
              "#9c179e"
             ],
             [
              0.4444444444444444,
              "#bd3786"
             ],
             [
              0.5555555555555556,
              "#d8576b"
             ],
             [
              0.6666666666666666,
              "#ed7953"
             ],
             [
              0.7777777777777778,
              "#fb9f3a"
             ],
             [
              0.8888888888888888,
              "#fdca26"
             ],
             [
              1,
              "#f0f921"
             ]
            ],
            "type": "surface"
           }
          ],
          "table": [
           {
            "cells": {
             "fill": {
              "color": "#EBF0F8"
             },
             "line": {
              "color": "white"
             }
            },
            "header": {
             "fill": {
              "color": "#C8D4E3"
             },
             "line": {
              "color": "white"
             }
            },
            "type": "table"
           }
          ]
         },
         "layout": {
          "annotationdefaults": {
           "arrowcolor": "#2a3f5f",
           "arrowhead": 0,
           "arrowwidth": 1
          },
          "autotypenumbers": "strict",
          "coloraxis": {
           "colorbar": {
            "outlinewidth": 0,
            "ticks": ""
           }
          },
          "colorscale": {
           "diverging": [
            [
             0,
             "#8e0152"
            ],
            [
             0.1,
             "#c51b7d"
            ],
            [
             0.2,
             "#de77ae"
            ],
            [
             0.3,
             "#f1b6da"
            ],
            [
             0.4,
             "#fde0ef"
            ],
            [
             0.5,
             "#f7f7f7"
            ],
            [
             0.6,
             "#e6f5d0"
            ],
            [
             0.7,
             "#b8e186"
            ],
            [
             0.8,
             "#7fbc41"
            ],
            [
             0.9,
             "#4d9221"
            ],
            [
             1,
             "#276419"
            ]
           ],
           "sequential": [
            [
             0,
             "#0d0887"
            ],
            [
             0.1111111111111111,
             "#46039f"
            ],
            [
             0.2222222222222222,
             "#7201a8"
            ],
            [
             0.3333333333333333,
             "#9c179e"
            ],
            [
             0.4444444444444444,
             "#bd3786"
            ],
            [
             0.5555555555555556,
             "#d8576b"
            ],
            [
             0.6666666666666666,
             "#ed7953"
            ],
            [
             0.7777777777777778,
             "#fb9f3a"
            ],
            [
             0.8888888888888888,
             "#fdca26"
            ],
            [
             1,
             "#f0f921"
            ]
           ],
           "sequentialminus": [
            [
             0,
             "#0d0887"
            ],
            [
             0.1111111111111111,
             "#46039f"
            ],
            [
             0.2222222222222222,
             "#7201a8"
            ],
            [
             0.3333333333333333,
             "#9c179e"
            ],
            [
             0.4444444444444444,
             "#bd3786"
            ],
            [
             0.5555555555555556,
             "#d8576b"
            ],
            [
             0.6666666666666666,
             "#ed7953"
            ],
            [
             0.7777777777777778,
             "#fb9f3a"
            ],
            [
             0.8888888888888888,
             "#fdca26"
            ],
            [
             1,
             "#f0f921"
            ]
           ]
          },
          "colorway": [
           "#636efa",
           "#EF553B",
           "#00cc96",
           "#ab63fa",
           "#FFA15A",
           "#19d3f3",
           "#FF6692",
           "#B6E880",
           "#FF97FF",
           "#FECB52"
          ],
          "font": {
           "color": "#2a3f5f"
          },
          "geo": {
           "bgcolor": "white",
           "lakecolor": "white",
           "landcolor": "#E5ECF6",
           "showlakes": true,
           "showland": true,
           "subunitcolor": "white"
          },
          "hoverlabel": {
           "align": "left"
          },
          "hovermode": "closest",
          "mapbox": {
           "style": "light"
          },
          "paper_bgcolor": "white",
          "plot_bgcolor": "#E5ECF6",
          "polar": {
           "angularaxis": {
            "gridcolor": "white",
            "linecolor": "white",
            "ticks": ""
           },
           "bgcolor": "#E5ECF6",
           "radialaxis": {
            "gridcolor": "white",
            "linecolor": "white",
            "ticks": ""
           }
          },
          "scene": {
           "xaxis": {
            "backgroundcolor": "#E5ECF6",
            "gridcolor": "white",
            "gridwidth": 2,
            "linecolor": "white",
            "showbackground": true,
            "ticks": "",
            "zerolinecolor": "white"
           },
           "yaxis": {
            "backgroundcolor": "#E5ECF6",
            "gridcolor": "white",
            "gridwidth": 2,
            "linecolor": "white",
            "showbackground": true,
            "ticks": "",
            "zerolinecolor": "white"
           },
           "zaxis": {
            "backgroundcolor": "#E5ECF6",
            "gridcolor": "white",
            "gridwidth": 2,
            "linecolor": "white",
            "showbackground": true,
            "ticks": "",
            "zerolinecolor": "white"
           }
          },
          "shapedefaults": {
           "line": {
            "color": "#2a3f5f"
           }
          },
          "ternary": {
           "aaxis": {
            "gridcolor": "white",
            "linecolor": "white",
            "ticks": ""
           },
           "baxis": {
            "gridcolor": "white",
            "linecolor": "white",
            "ticks": ""
           },
           "bgcolor": "#E5ECF6",
           "caxis": {
            "gridcolor": "white",
            "linecolor": "white",
            "ticks": ""
           }
          },
          "title": {
           "x": 0.05
          },
          "xaxis": {
           "automargin": true,
           "gridcolor": "white",
           "linecolor": "white",
           "ticks": "",
           "title": {
            "standoff": 15
           },
           "zerolinecolor": "white",
           "zerolinewidth": 2
          },
          "yaxis": {
           "automargin": true,
           "gridcolor": "white",
           "linecolor": "white",
           "ticks": "",
           "title": {
            "standoff": 15
           },
           "zerolinecolor": "white",
           "zerolinewidth": 2
          }
         }
        },
        "title": {
         "font": {
          "color": "black",
          "family": "Verdana",
          "size": 30,
          "weight": "bold"
         },
         "text": "Cinsiyet Dağılımları",
         "x": 0.5,
         "xanchor": "center"
        },
        "xaxis": {
         "gridcolor": "lightgray",
         "showgrid": true,
         "tickangle": -45,
         "tickfont": {
          "family": "Verdana",
          "size": 12
         },
         "title": {
          "font": {
           "color": "black",
           "family": "Verdana",
           "size": 20,
           "weight": "bold"
          }
         }
        },
        "yaxis": {
         "gridcolor": "lightgray",
         "showgrid": true,
         "tickfont": {
          "family": "Verdana",
          "size": 12
         },
         "tickformat": ",",
         "title": {
          "font": {
           "color": "black",
           "family": "Verdana",
           "size": 20,
           "weight": "bold"
          }
         }
        }
       }
      }
     },
     "metadata": {},
     "output_type": "display_data"
    }
   ],
   "source": [
    "city_code = 1\n",
    "fig = make_subplots(\n",
    "    rows=1,\n",
    "    cols=3,\n",
    "    specs=[[{\"type\": \"pie\"}, {\"type\": \"pie\"}, {\"type\": \"pie\"}]],\n",
    "    subplot_titles=(\n",
    "        \"Evli-Bekar Oranı\",\n",
    "        \"Evli\",\n",
    "        \"Bekar\",\n",
    "    ),\n",
    ")\n",
    "\n",
    "# Define the data for each pie chart\n",
    "values1 = [df_married.iloc[city_code, 1], df_married.iloc[city_code, 2]]\n",
    "values2 = [df_never_married.iloc[city_code, 1] + df_divorced.iloc[city_code, 1] + df_widowed.iloc[city_code, 1], df_never_married.iloc[city_code, 2] + df_divorced.iloc[city_code, 2] + df_widowed.iloc[city_code, 2]]\n",
    "labels = [\"Erkek\", \"Kadın\"]\n",
    "labels_2 = [\"Evli\", \"Bekar\"]\n",
    "colors = [\"skyblue\", \"salmon\"]\n",
    "\n",
    "# Add the first pie chart\n",
    "fig.add_trace(\n",
    "    go.Pie(\n",
    "        name=\"\",\n",
    "        labels=labels_2,\n",
    "        values=[sum(values1), sum(values2)],\n",
    "        marker=dict(colors=colors),\n",
    "        hovertemplate=\"<b>%{label}</b><br>%{value}\",\n",
    "        pull=[0, 0],\n",
    "        hole=0.75,\n",
    "        textfont=dict(\n",
    "            size=16,\n",
    "            family=font_family,\n",
    "            color=\"black\",\n",
    "            weight=\"bold\",\n",
    "        ),\n",
    "        textinfo=\"label+percent\",  # Show labels and percentages\n",
    "    ),\n",
    "    row=1,\n",
    "    col=1,\n",
    ")\n",
    "\n",
    "# Add the second pie chart\n",
    "fig.add_trace(\n",
    "    go.Pie(\n",
    "        name=\"\",\n",
    "        labels=labels,\n",
    "        values=values1,\n",
    "        marker=dict(colors=colors),\n",
    "        hovertemplate=\"<b>%{label}</b><br>%{value}\",\n",
    "        hole=0.75,\n",
    "        pull=[0, 0],\n",
    "        textfont=dict(\n",
    "            size=16,\n",
    "            family=font_family,\n",
    "            color=\"black\",\n",
    "            weight=\"bold\",\n",
    "        ),\n",
    "        textinfo=\"label+percent\",  # Show labels and percentages\n",
    "    ),\n",
    "    row=1,\n",
    "    col=2,\n",
    ")\n",
    "\n",
    "# Add the third pie chart\n",
    "fig.add_trace(\n",
    "    go.Pie(\n",
    "        name=\"\",\n",
    "        labels=labels,\n",
    "        values=values2,\n",
    "        marker=dict(colors=colors),\n",
    "        hovertemplate=\"<b>%{label}</b><br>%{value}\",\n",
    "        hole=0.75,\n",
    "        pull=[0, 0],\n",
    "        textfont=dict(\n",
    "            size=16,\n",
    "            family=font_family,\n",
    "            color=\"black\",\n",
    "            weight=\"bold\",\n",
    "        ),\n",
    "        textinfo=\"label+percent\",  # Show labels and percentages\n",
    "    ),\n",
    "    row=1,\n",
    "    col=3,\n",
    ")\n",
    "\n",
    "\n",
    "fig.update_layout(\n",
    "    title=f\"Evlilik Durumuna Göre Nüfus: {city_code_map.get(city_code, \"Şehir Bulunamadı\").capitalize()}\",\n",
    "    height=800,\n",
    "    title_pad_b=10,\n",
    "    showlegend=False,\n",
    ")\n",
    "\n",
    "annotations_font=dict(size=25, family=font_family, color=\"black\", weight=\"bold\")\n",
    "\n",
    "fig.update_layout(\n",
    "    title=\"Cinsiyet Dağılımları\",\n",
    "    title_pad_b=10,\n",
    "    showlegend=False,\n",
    "    annotations=[\n",
    "        dict(\n",
    "            x=0.15,  # Adjust this value to position the title correctly\n",
    "            y=.95,    # Adjust this value to position the title correctly\n",
    "            xref=\"paper\",\n",
    "            yref=\"paper\",\n",
    "            showarrow=False,\n",
    "            align=\"right\",\n",
    "            font=annotations_font\n",
    "        ),\n",
    "        dict(\n",
    "            x=0.5,  # Adjust this value to position the title correctly\n",
    "            y=.95,    # Adjust this value to position the title correctly\n",
    "            xref=\"paper\",\n",
    "            yref=\"paper\",\n",
    "            showarrow=False,\n",
    "            align=\"right\",\n",
    "            font=annotations_font,\n",
    "        ),\n",
    "        dict(\n",
    "            x=.85,  # Adjust this value to position the title correctly\n",
    "            y=.95,    # Adjust this value to position the title correctly\n",
    "            xref=\"paper\",\n",
    "            yref=\"paper\",\n",
    "            showarrow=False,\n",
    "            font=annotations_font,\n",
    "            align=\"right\",\n",
    "\n",
    "        ),\n",
    "\n",
    "    ],\n",
    "\n",
    ")\n",
    "fig.update_layout(design)\n",
    "\n"
   ]
  },
  {
   "cell_type": "markdown",
   "metadata": {},
   "source": [
    "## Trend"
   ]
  },
  {
   "cell_type": "code",
   "execution_count": null,
   "metadata": {},
   "outputs": [],
   "source": [
    "df_trend.head()"
   ]
  },
  {
   "cell_type": "code",
   "execution_count": null,
   "metadata": {},
   "outputs": [],
   "source": [
    "import pandas as pd\n",
    "import plotly.graph_objects as go\n",
    "\n",
    "city_code=6\n",
    "# Sample data\n",
    "df_filtered = df_trend[df_trend[\"il kayit no\"]==city_code]\n",
    "colors = ['lightgreen' if x > 0 else 'tomato' for x in df_filtered['artis']]\n",
    "\n",
    "# Create the bar chart\n",
    "fig = go.Figure(\n",
    "    data=[\n",
    "        go.Bar(\n",
    "            name=\"Population Change\",\n",
    "            x=df_filtered['ilçe original'],\n",
    "            y=df_filtered['artis'],\n",
    "            text=df_filtered['artis'],\n",
    "            textposition='auto',\n",
    "            marker=dict(color=colors),\n",
    "        )\n",
    "    ]\n",
    ")\n",
    "\n",
    "# Update layout for the bar chart\n",
    "fig.update_layout(\n",
    "    title_text=f\"Nüfus Değişimi: {city_code_map.get(city_code).capitalize()}\",\n",
    "    title_x=0.5,\n",
    "    height=800,\n",
    "    width=1200,\n",
    "    margin=dict(t=100, b=200, l=100, r=100),\n",
    "    title_xanchor=\"center\",\n",
    "    xaxis_title=\"İlçe\",\n",
    "    yaxis_title=\"Değişim (%)\",\n",
    "    xaxis=dict(tickangle=-45),\n",
    ")\n",
    "\n",
    "fig.show()\n"
   ]
  },
  {
   "cell_type": "code",
   "execution_count": null,
   "metadata": {},
   "outputs": [],
   "source": [
    "population_trend_plot(df_trend, city_code=34)\n"
   ]
  },
  {
   "cell_type": "markdown",
   "metadata": {},
   "source": [
    "## Memleket"
   ]
  },
  {
   "cell_type": "code",
   "execution_count": null,
   "metadata": {},
   "outputs": [],
   "source": []
  },
  {
   "cell_type": "code",
   "execution_count": null,
   "metadata": {},
   "outputs": [],
   "source": [
    "population_origin_city_plot(df_origin_city, 6)"
   ]
  },
  {
   "cell_type": "code",
   "execution_count": null,
   "metadata": {},
   "outputs": [],
   "source": [
    "import plotly.graph_objects as go\n",
    "\n",
    "city_code = 6\n",
    "labels = [city_code_map.get(i).capitalize() for i in df_origin_city.columns[1:] if i!=city_code]\n",
    "values = df_origin_city.loc[city_code][1:]\n",
    "\n",
    "# Group smaller categories into \"Other\"\n",
    "threshold = 0.01 * sum(values)\n",
    "labels_grouped = []\n",
    "values_grouped = []\n",
    "other_value = 0\n",
    "\n",
    "for label, value in zip(labels, values):\n",
    "    if value < threshold:\n",
    "        other_value += value\n",
    "    else:\n",
    "        labels_grouped.append(label)\n",
    "        values_grouped.append(value)\n",
    "\n",
    "if other_value > 0:\n",
    "    labels_grouped.append('Diğer')\n",
    "    values_grouped.append(other_value)\n",
    "\n",
    "\n",
    "sorted_labels_values = sorted(zip(values_grouped, labels_grouped), reverse=True)\n",
    "values_grouped_sorted, labels_grouped_sorted = zip(*sorted_labels_values)\n",
    "\n",
    "fig = go.Figure(\n",
    "    data=[\n",
    "        go.Pie(\n",
    "            name=\"\",\n",
    "            labels=labels_grouped_sorted,\n",
    "            values=values_grouped_sorted,\n",
    "            hovertemplate=\"<b>%{label}</b><br>%{value} = %{percent}\",\n",
    "            textfont=dict(\n",
    "                size=18,\n",
    "                family=font_family,\n",
    "                weight=\"bold\",\n",
    "            ),\n",
    "            textinfo=\"label\",  # Show labels and percentages\n",
    "            marker=dict(colors=px.colors.qualitative.Set3),\n",
    "            \n",
    "        )\n",
    "    ]\n",
    ")\n",
    "\n",
    "# Update layout for the age figure\n",
    "fig.update_layout(\n",
    "    title_text=f\"İkamet Edilen İle göre Nüfus Kütüğüne Kayıtlı Olunan İl: {city_code_map.get(city_code, \"Şehir Bulunamadı\").capitalize()}\",\n",
    "    title_x=0.5,\n",
    "    height=800,  # Increase height to give more space\n",
    "    width=None,   # Increase width to give more space\n",
    "    margin=dict(t=100, b=100, l=100, r=100),  # Adjust margins\n",
    "    title_xanchor=\"center\",\n",
    "    showlegend=False,\n",
    ")\n",
    "\n",
    "fig.update_layout(design)\n",
    "fig.show()\n"
   ]
  },
  {
   "cell_type": "code",
   "execution_count": null,
   "metadata": {},
   "outputs": [],
   "source": [
    "\n",
    "\n",
    "\n",
    "# Create a bar chart\n",
    "fig = go.Figure(\n",
    "    data=[\n",
    "        go.Bar(\n",
    "            name=\"\",\n",
    "            x=labels_grouped_sorted,\n",
    "            y=values_grouped_sorted,\n",
    "            text=values_grouped_sorted,\n",
    "            textposition='auto',\n",
    "            marker=dict(color='skyblue'),\n",
    "        )\n",
    "    ]\n",
    ")\n",
    "\n",
    "# Update layout for the bar chart\n",
    "fig.update_layout(\n",
    "    title_text=f\"İkamet Edilen İle göre Nüfus Kütüğüne Kayıtlı Olunan İl: {city_code_map.get(city_code, \"Şehir Bulunamadı\").capitalize()}\",\n",
    "    title_x=0.5,\n",
    "    height=800,\n",
    "    margin=dict(t=100, b=200, l=100, r=100),\n",
    "    title_xanchor=\"center\",\n",
    "    xaxis_title=\"Memleket\",\n",
    "    yaxis_title=\"\",\n",
    "    xaxis=dict(tickangle=-45),\n",
    ")\n",
    "\n",
    "fig.update_layout(design)\n",
    "fig.show()"
   ]
  },
  {
   "cell_type": "code",
   "execution_count": null,
   "metadata": {},
   "outputs": [],
   "source": [
    "# Create a sunburst chart\n",
    "fig_sunburst = go.Figure(\n",
    "    data=[\n",
    "        go.Sunburst(\n",
    "            name=\"\",\n",
    "            labels=labels_grouped_sorted,\n",
    "            parents=[\"\"]*len(labels_grouped),\n",
    "            values=values_grouped_sorted,\n",
    "            branchvalues=\"total\",\n",
    "            hovertemplate=\"<b>%{label}</b><br>%{value}\",\n",
    "            textfont=dict(\n",
    "                size=18,\n",
    "                family=font_family,\n",
    "                weight=\"bold\",\n",
    "            ),\n",
    "        )\n",
    "    ]\n",
    ")\n",
    "\n",
    "# Update layout for the sunburst chart\n",
    "fig_sunburst.update_layout(\n",
    "    title_text=f\"İkamet Edilen İle göre Nüfus Kütüğüne Kayıtlı Olunan İl: {city_code_map.get(city_code, \"Şehir Bulunamadı\").capitalize()}\",\n",
    "    title_x=0.5,\n",
    "    height=800,\n",
    "    margin=dict(t=100, b=100, l=100, r=100),\n",
    "    title_xanchor=\"center\",\n",
    ")\n",
    "\n",
    "fig_sunburst.update_layout(design)\n",
    "fig_sunburst.show()\n"
   ]
  },
  {
   "cell_type": "code",
   "execution_count": null,
   "metadata": {},
   "outputs": [],
   "source": [
    "import plotly.graph_objects as go\n",
    "\n",
    "color_sequence = px.colors.qualitative.Set3\n",
    "def population_origin_city_plot(df_origin_city, city_code=1, height=800, width=None):\n",
    "    labels = [city_code_map.get(i).capitalize() for i in df_origin_city.columns[1:] if i!=city_code]\n",
    "    values = df_origin_city.loc[city_code][1:]\n",
    "\n",
    "    # Group smaller categories into \"Other\"\n",
    "    threshold = 0.01 * sum(values)\n",
    "    labels_grouped = []\n",
    "    values_grouped = []\n",
    "    other_value = 0\n",
    "\n",
    "    for label, value in zip(labels, values):\n",
    "        if value < threshold:\n",
    "            other_value += value\n",
    "        else:\n",
    "            labels_grouped.append(label)\n",
    "            values_grouped.append(value)\n",
    "\n",
    "    if other_value > 0:\n",
    "        labels_grouped.append('Diğer')\n",
    "        values_grouped.append(other_value)\n",
    "\n",
    "    fig = go.Figure(\n",
    "        data=[\n",
    "            go.Pie(\n",
    "                name=\"\",\n",
    "                labels=labels_grouped,\n",
    "                values=values_grouped,\n",
    "                hovertemplate=\"<b>%{label}</b><br>%{value} = %{percent}\",\n",
    "                textfont=dict(\n",
    "                    size=18,\n",
    "                    family=font_family,\n",
    "                    weight=\"bold\",\n",
    "                ),\n",
    "                textinfo=\"label\",  # Show labels and percentages\n",
    "                marker=dict(colors=color_sequence),\n",
    "                sort=True,\n",
    "            )\n",
    "        ]\n",
    "    )\n",
    "\n",
    "    # Update layout for the age figure\n",
    "    fig.update_layout(\n",
    "        title_text=f\"İkamet Edilen İle göre Nüfus Kütüğüne Kayıtlı Olunan İl: {city_code_map.get(city_code, \"Şehir Bulunamadı\").capitalize()}\",\n",
    "        title_x=0.5,\n",
    "        height=height,  # Increase height to give more space\n",
    "        width=width,   # Increase width to give more space\n",
    "        margin=dict(t=100, b=100, l=100, r=100),  # Adjust margins\n",
    "        title_xanchor=\"center\",\n",
    "        showlegend=False,\n",
    "    )\n",
    "\n",
    "    fig.update_layout(design)\n",
    "    return fig\n",
    "\n",
    "population_origin_city_plot(df5, city_code=6, height=800, width=None)\n"
   ]
  },
  {
   "cell_type": "markdown",
   "metadata": {},
   "source": [
    "# New Data Prep"
   ]
  },
  {
   "cell_type": "code",
   "execution_count": null,
   "metadata": {},
   "outputs": [],
   "source": [
    "import pandas as pd\n",
    "\n",
    "file_path = './datasets/il medeni durum ve cinsiyete gore nufus.xls'  # Replace with the correct file path\n",
    "df_origin_city = pd.read_excel(file_path, header=[0, 1])\n",
    "df_origin_city.head()"
   ]
  },
  {
   "cell_type": "code",
   "execution_count": null,
   "metadata": {},
   "outputs": [],
   "source": [
    "def population_marital():\n",
    "    input_file_path = './datasets/il medeni durum ve cinsiyete gore nufus.xls'  # Replace with the correct file path\n",
    "    output_file_path = \"./datasets/population_marital_data.xlsx\"\n",
    "    \n",
    "    df_origin_city = pd.read_excel(input_file_path, header=[0, 1])\n",
    "    \n",
    "    df_origin_city.set_index(('İl-Provinces', 'Unnamed: 0_level_1'), inplace=True)\n",
    "    df_origin_city.index.rename(\"İl\", inplace=True)\n",
    "    df_origin_city.index = df_origin_city.index.map(lambda x: city_codes[x.lower()])\n",
    "\n",
    "    df_never_married = df_origin_city[\"Hiç evlenmedi-Never married\"].drop(\"Kadın\\nFemale.1\", axis=1)\n",
    "    df_never_married.rename(columns={'Toplam\\nTotal': 'toplam', \"Erkek\\nMale\": \"erkek\", \"Kadın\\nFemale\": \"kadın\"}, inplace=True)\n",
    "    \n",
    "    df_married = df_origin_city['Evli-Married'].drop(\"Kadın\\nFemale.1\", axis=1)\n",
    "    df_married.rename(columns={'Toplam\\nTotal': 'toplam', \"Erkek\\nMale\": \"erkek\", \"Kadın\\nFemale\": \"kadın\"}, inplace=True)\n",
    "    \n",
    "    df_divorced = df_origin_city['Boşandı-Divorced'].drop(\"Kadın\\nFemale.1\", axis=1)\n",
    "    df_divorced.rename(columns={'Toplam\\nTotal': 'toplam', \"Erkek\\nMale\": \"erkek\", \"Kadın\\nFemale\": \"kadın\"}, inplace=True)\n",
    "    \n",
    "    df_widowed = df_origin_city['Eşi öldü-Widowed']\n",
    "    df_widowed.rename(columns={'Toplam\\nTotal': 'toplam', \"Erkek\\nMale\": \"erkek\", \"Kadın\\nFemale\": \"kadın\"}, inplace=True)\n",
    "\n",
    "    with pd.ExcelWriter(output_file_path) as writer:\n",
    "        df_never_married.to_excel(writer, sheet_name='df_never_married')\n",
    "        df_married.to_excel(writer, sheet_name='df_married')\n",
    "        df_divorced.to_excel(writer, sheet_name='df_divorced')\n",
    "        df_widowed.to_excel(writer, sheet_name='df_widowed')\n",
    "population_marital()"
   ]
  },
  {
   "cell_type": "code",
   "execution_count": null,
   "metadata": {},
   "outputs": [],
   "source": [
    "city_codes = {\n",
    "    \"yıl\": \"Yıl\", \"ay\": \"Ay\", 'total': \"Total\", 'toplam - total':'toplam - total', \"il\": \"il\", \"toplam\": \"toplam\", \"toplam-total\": \"toplam\",\n",
    "    'adana': 1,\n",
    "    'ADıYAMAN': 2,\n",
    "    'AFYONKARAHiSAR': 3,\n",
    "    'AĞRı': 4,\n",
    "    'AMASYA': 5,\n",
    "    'ANKARA': 6,\n",
    "    'ANTALYA': 7,\n",
    "    'ARTViN': 8,\n",
    "    'AYDıN': 9,\n",
    "    'BALıKESiR': 10,\n",
    "    'BiLECiK': 11,\n",
    "    'BiNGÖL': 12,\n",
    "    'BiTLiS': 13,\n",
    "    'BOLU': 14,\n",
    "    'BURDUR': 15,\n",
    "    'BURSA': 16,\n",
    "    'ÇANAKKALE': 17,\n",
    "    'ÇANKıRı': 18,\n",
    "    'ÇORUM': 19,\n",
    "    'DENiZLi': 20,\n",
    "    'DiYARBAKıR': 21,\n",
    "    'EDiRNE': 22,\n",
    "    'ELAZıĞ': 23,\n",
    "    'ERZiNCAN': 24,\n",
    "    'ERZURUM': 25,\n",
    "    'ESKiŞEHiR': 26,\n",
    "    'GAZiANTEP': 27,\n",
    "    'GiRESUN': 28,\n",
    "    'GÜMÜŞHANE': 29,\n",
    "    'HAKKARi': 30,\n",
    "    'HATAY': 31,\n",
    "    'iSPARTA': 32,\n",
    "    'MERSiN': 33,\n",
    "    'İSTANBUL': 34,\n",
    "    'İZMiR': 35,\n",
    "    'KARS': 36,\n",
    "    'KASTAMONU': 37,\n",
    "    'KAYSERi': 38,\n",
    "    'kırklareli': 39,\n",
    "    'KıRŞEHiR': 40,\n",
    "    'KOCAELi': 41,\n",
    "    'KONYA': 42,\n",
    "    'KÜTAHYA': 43,\n",
    "    'MALATYA': 44,\n",
    "    'MANiSA': 45,\n",
    "    'KAHRAMANMARAŞ': 46,\n",
    "    'MARDiN': 47,\n",
    "    'MUĞLA': 48,\n",
    "    'MUŞ': 49,\n",
    "    'NEVŞEHiR': 50,\n",
    "    'NiĞDE': 51,\n",
    "    'ORDU': 52,\n",
    "    'RiZE': 53,\n",
    "    'SAKARYA': 54,\n",
    "    'SAMSUN': 55,\n",
    "    'SiiRT': 56,\n",
    "    'SiNOP': 57,\n",
    "    'SiVAS': 58,\n",
    "    'TEKiRDAĞ': 59,\n",
    "    'TOKAT': 60,\n",
    "    'TRABZON': 61,\n",
    "    'TUNCELi': 62,\n",
    "    'ŞANLıURFA': 63,\n",
    "    'UŞAK': 64,\n",
    "    'VAN': 65,\n",
    "    'YOZGAT': 66,\n",
    "    'ZONGULDAK': 67,\n",
    "    'AKSARAY': 68,\n",
    "    'BAYBURT': 69,\n",
    "    'KARAMAN': 70,\n",
    "    'KıRıKKALE': 71,\n",
    "    'BATMAN': 72,\n",
    "    'ŞıRNAK': 73,\n",
    "    'BARTıN': 74,\n",
    "    'ARDAHAN': 75,\n",
    "    'iĞDıR': 76,\n",
    "    'YALOVA': 77,\n",
    "    'KARABÜK': 78,\n",
    "    'KiLiS': 79,\n",
    "    'OSMANiYE': 80,\n",
    "    'DÜZCE': 81,\n",
    "    'Diğer iller - Other Provinces': 99}\n",
    "city_codes = {key.lower(): value for key, value in city_codes.items()}\n",
    "turkish_to_english = {\n",
    "    'ç': 'c', 'ğ': 'g', 'ı': 'i', 'ö': 'o', 'ş': 's', 'ü': 'u', \"i̇\": \"i\",\n",
    "    'Ç': 'C', 'Ğ': 'G', 'İ': 'I', 'Ö': 'O', 'Ş': 'S', 'Ü': 'U', \".\": \"\"\n",
    "}\n",
    "def replace_turkish_chars(text):\n",
    "    text = text.lower()\n",
    "    for turkish_char, english_char in turkish_to_english.items():\n",
    "        text = text.replace(turkish_char, english_char)\n",
    "    return text\n"
   ]
  },
  {
   "cell_type": "code",
   "execution_count": null,
   "metadata": {},
   "outputs": [],
   "source": [
    "def population_origin_city():\n",
    "    input_file_path = \"./datasets/ikamet edilen ile gore nufus kutugune kayitli olunan il.xls\"\n",
    "    output_file_path = \"./datasets/population_based_on_origin_city.xlsx\"\n",
    "    df_origin_city = pd.read_excel(input_file_path)\n",
    "    df_origin_city.rename(columns={\"Unnamed: 0\": \"il\", \"Toplam\\nTotal\": \"toplam\"}, inplace=True)\n",
    "    df_origin_city.columns = df_origin_city.columns.map(lambda x: city_codes[x.lower()])\n",
    "    df_origin_city.il = df_origin_city.il.map(lambda x: city_codes[x.lower()])\n",
    "    df_origin_city.set_index(\"il\", inplace=True)\n",
    "    with pd.ExcelWriter(output_file_path) as writer:\n",
    "        df_origin_city.to_excel(writer, sheet_name='df_origin_city')\n",
    "population_origin_city()\n",
    "\n",
    "    "
   ]
  },
  {
   "cell_type": "code",
   "execution_count": null,
   "metadata": {},
   "outputs": [],
   "source": [
    "final_df[final_df['ilçe kayit no'] == -2]\n"
   ]
  },
  {
   "cell_type": "code",
   "execution_count": null,
   "metadata": {},
   "outputs": [],
   "source": [
    "len(final_df['ilçe kayit no'].unique())\n"
   ]
  },
  {
   "cell_type": "code",
   "execution_count": null,
   "metadata": {},
   "outputs": [],
   "source": [
    "from prep_data import population_df\n",
    "def population_trend():\n",
    "    input_file_path = \"./datasets/nüfus artisi.XLSX\"\n",
    "    output_file_path = \"./datasets/population_trend.xlsx\"\n",
    "\n",
    "    df_trend = pd.read_excel(input_file_path)\n",
    "    df_trend.rename(columns={\"İl ve ilçe\\nProvince and district\": \"il ve ilçe\", \"Nüfus(1)\\nPopulation(1)\":\"toplam\", df_trend.columns[2]: \"artis\"}, inplace=True)\n",
    "    df_trend.drop(\"il ve ilçe\", axis=1, inplace=True)\n",
    "\n",
    "    wb = openpyxl.load_workbook(input_file_path)\n",
    "    ws = wb.active\n",
    "    province = None\n",
    "    # First row to keep the first element\n",
    "    data = [[\"toplam\", \"toplam\"]]\n",
    "    # Iterate over each row in the worksheet\n",
    "    for row in ws.iter_rows(values_only=False):\n",
    "        cell = row[0]\n",
    "        # Check if the font is bold to identify a province\n",
    "        if cell.font.bold:\n",
    "            province = cell.value\n",
    "        if province:\n",
    "            data.append([province, cell.value])\n",
    "    # Create a DataFrame from the data\n",
    "    df = pd.DataFrame(data, columns=['il', 'ilçe'])\n",
    "    df_trend = pd.concat([df, df_trend], axis=1)\n",
    "    for index, row in df_trend.iterrows():\n",
    "        df_trend.iat[index, 0] = replace_turkish_chars(row[\"il\"])\n",
    "        df_trend.iat[index, 1] = replace_turkish_chars(row[\"ilçe\"])\n",
    "    \n",
    "    df_p = population_df()\n",
    "    df_lookup = df_p.groupby([\"il kayit no\", \"ilçe kayit no\", \"il adi cleaned\", \"ilçe adi cleaned\"])[[\"erkek\", \"kadin\"]].sum().reset_index().drop([\"erkek\", \"kadin\"], axis=1)\n",
    "    # Make sure the column names match for merging\n",
    "    df_lookup = df_lookup.rename(columns={'il adi cleaned': 'il', 'ilçe adi cleaned': 'ilçe'})\n",
    "    # Merge the DataFrames\n",
    "    merged_df = pd.merge(df_trend, df_lookup, how='left', left_on=['il', 'ilçe'], right_on=['il', 'ilçe'])\n",
    "    # Fill missing IDs with -2\n",
    "    merged_df['il kayit no'] = merged_df['il kayit no'].fillna(-1).astype(int)\n",
    "    merged_df['ilçe kayit no'] = merged_df['ilçe kayit no'].fillna(-2).astype(int)\n",
    "    # Select and reorder the columns as needed\n",
    "    result_df = merged_df[['il kayit no', 'ilçe kayit no', 'il', 'ilçe', 'toplam', 'artis']]\n",
    "    first_row = result_df.iloc[[0]]\n",
    "    # Exclude the first row\n",
    "    remaining_df = result_df.iloc[1:]\n",
    "    # Drop rows where 'il' and 'ilçe' are the same in the remaining DataFrame\n",
    "    filtered_df = remaining_df[remaining_df['il'] != remaining_df['ilçe']]\n",
    "    # Concatenate the first row back to the filtered DataFrame\n",
    "    df_trend = pd.concat([first_row, filtered_df], ignore_index=True)\n",
    "    df_trend.iat[0,0] = 0\n",
    "    df_trend.iat[0,1] = 0\n",
    "    with pd.ExcelWriter(output_file_path) as writer:\n",
    "        df_trend.to_excel(writer, sheet_name='df_trend')\n",
    "population_trend()"
   ]
  },
  {
   "cell_type": "code",
   "execution_count": null,
   "metadata": {},
   "outputs": [],
   "source": []
  },
  {
   "cell_type": "code",
   "execution_count": null,
   "metadata": {},
   "outputs": [],
   "source": []
  },
  {
   "cell_type": "markdown",
   "metadata": {},
   "source": [
    "# Sales"
   ]
  },
  {
   "cell_type": "code",
   "execution_count": null,
   "metadata": {},
   "outputs": [],
   "source": [
    "df_totals_total, df_totals_cities, df_granular, df_granular_cities = sales_cities_df()"
   ]
  },
  {
   "cell_type": "code",
   "execution_count": null,
   "metadata": {},
   "outputs": [],
   "source": [
    "df_totals_cities"
   ]
  },
  {
   "cell_type": "code",
   "execution_count": null,
   "metadata": {},
   "outputs": [],
   "source": [
    "df_totals_cities.columns\n"
   ]
  },
  {
   "cell_type": "code",
   "execution_count": null,
   "metadata": {},
   "outputs": [],
   "source": [
    "df_granular"
   ]
  },
  {
   "cell_type": "code",
   "execution_count": null,
   "metadata": {},
   "outputs": [],
   "source": [
    "\n",
    "# def total_sales_plot(df_totals):\n",
    "\n",
    "fig = go.Figure(data=[go.Line(name=city, x=df_totals_cities.index, y=df_totals_cities[city]) for city in df_totals_cities.columns], \n",
    "                layout=dict(height=800, width=1800))\n",
    "fig.update_layout(title=\"İllere Göre Konut Satışı (Yıl Bazında)\", xaxis_title=\"Yıl\", yaxis_title=\"Toplam Konut Satışı\", barmode='stack')\n",
    "fig.update_xaxes(tickmode='linear')\n",
    "fig.update_yaxes(tickmode='linear')\n",
    "\n",
    "fig.show()"
   ]
  },
  {
   "cell_type": "code",
   "execution_count": null,
   "metadata": {},
   "outputs": [],
   "source": [
    "\n",
    "# def total_sales_plot(df_totals):\n",
    "\n",
    "fig = go.Figure(data=[go.Bar(name=\"Adana\", x=df_totals_cities.index, y=df_totals_cities[\"1 Adana\"])], \n",
    "                layout=dict(height=800, width=1800))\n",
    "fig.update_layout(title=\"İllere Göre Konut Satışı (Yıl Bazında)\", xaxis_title=\"Yıl\", yaxis_title=\"Toplam Konut Satışı\", barmode='stack')\n",
    "fig.update_xaxes(tickmode='linear')\n",
    "fig.update_yaxes(tickmode='linear')\n",
    "\n",
    "fig.show()"
   ]
  },
  {
   "cell_type": "code",
   "execution_count": null,
   "metadata": {},
   "outputs": [],
   "source": [
    "df_granular_cities = df_granular.drop(\"Total\", axis=1)\n",
    "df_granular_cities.head()"
   ]
  },
  {
   "cell_type": "code",
   "execution_count": null,
   "metadata": {},
   "outputs": [],
   "source": [
    "\n",
    "# def total_sales_plot(df_totals):\n",
    "\n",
    "fig = go.Figure(data=[go.Line(name=city, x=df_granular_cities.index, y=df_granular_cities[city]) for city in df_totals_cities.columns], \n",
    "                layout=dict(height=800, width=1800))\n",
    "fig.update_layout(title=\"İllere Göre Konut Satışı (Ay bazında)\", xaxis_title=\"Yıl\", yaxis_title=\"Toplam Konut Satışı\", barmode='stack')\n",
    "\n",
    "fig.show()"
   ]
  },
  {
   "cell_type": "code",
   "execution_count": null,
   "metadata": {},
   "outputs": [],
   "source": [
    "df_f = pd.read_excel(\"./datasets/İllere göre yabancılara konut satış sayısı.xls\")\n",
    "df_f.rename(columns={'Unnamed: 1': 'Şehir'}, inplace=True)\n",
    "df_f.tail(14)\n",
    "\n",
    "df_f_total = df_f[df_f['Şehir'] == \"Toplam - Total\"].drop([\"Şehir\", \"Toplam\"], axis=1)#.set_index(\"Yıl\")\n",
    "df_f_total[\"Yıl\"] = df_f_total[\"Yıl\"].astype(int)\n",
    "# df_f_total.index = df_f_total.index.astype(int)\n",
    "\n",
    "df_f[\"Yıl\"] = df_f[\"Yıl\"].ffill().astype(int)\n",
    "df_f.drop(\"Toplam\", axis=1, inplace=True)\n",
    "df_f.tail(19)"
   ]
  },
  {
   "cell_type": "code",
   "execution_count": null,
   "metadata": {},
   "outputs": [],
   "source": [
    "df_f.tail()"
   ]
  },
  {
   "cell_type": "code",
   "execution_count": null,
   "metadata": {},
   "outputs": [],
   "source": [
    "df_f_total.tail()\n"
   ]
  },
  {
   "cell_type": "code",
   "execution_count": null,
   "metadata": {},
   "outputs": [],
   "source": [
    "# Fix the 2024 data\n",
    "# Reshape the DataFrame into long format\n",
    "df_long = df_f_total.melt(id_vars=['Yıl'], var_name='Ay', value_name='Sayı')\n",
    "\n",
    "# Aggregate the data by year, month, and city\n",
    "df_f_total_aggregated = df_long.groupby(['Yıl', 'Ay']).sum().reset_index()\n",
    "\n",
    "# Create a mapping of month names to their corresponding numbers\n",
    "month_mapping = {\n",
    "    'Ocak': 1, 'Şubat': 2, 'Mart': 3, 'Nisan': 4, 'Mayıs': 5, 'Haziran': 6,\n",
    "    'Temmuz': 7, 'Ağustos': 8, 'Eylül': 9, 'Ekim': 10, 'Kasım': 11, 'Aralık': 12\n",
    "}\n",
    "\n",
    "# Convert 'Yıl' and 'Ay' to datetime format\n",
    "df_f_total_aggregated['Tarih'] = df_f_total_aggregated.apply(lambda row: pd.Timestamp(int(row['Yıl']), month_mapping[row['Ay']], 1), axis=1)\n",
    "\n",
    "# Drop the 'Yıl' and 'Ay' columns if not needed anymore\n",
    "df_f_total_aggregated.drop(columns=['Yıl', 'Ay'], inplace=True)\n",
    "\n",
    "df_f_total_aggregated = df_f_total_aggregated.sort_values(by='Tarih')\n",
    "df_f_total_aggregated.set_index(\"Tarih\", inplace=True)\n",
    "df_f_total_aggregated[\"Sayı\"] = df_f_total_aggregated[\"Sayı\"].astype(int)\n",
    "df_f_total_aggregated.info()"
   ]
  },
  {
   "cell_type": "code",
   "execution_count": null,
   "metadata": {},
   "outputs": [],
   "source": [
    "df_f_total_aggregated.tail(15)"
   ]
  },
  {
   "cell_type": "code",
   "execution_count": null,
   "metadata": {},
   "outputs": [],
   "source": []
  },
  {
   "cell_type": "code",
   "execution_count": null,
   "metadata": {},
   "outputs": [],
   "source": [
    "df_f_cities = df_f[df_f['Şehir'] != \"Toplam - Total\"]\n",
    "df_f_cities.head()"
   ]
  },
  {
   "cell_type": "code",
   "execution_count": null,
   "metadata": {},
   "outputs": [],
   "source": [
    "# Fix the 2024 data\n",
    "# Reshape the DataFrame into long format\n",
    "df_long = df_f_cities.melt(id_vars=['Yıl', 'Şehir'], var_name='Ay', value_name='Sayı')\n",
    "\n",
    "# Aggregate the data by year, month, and city\n",
    "df_f_cities_aggregated = df_long.groupby(['Yıl', 'Şehir', 'Ay']).sum().reset_index()\n",
    "\n",
    "# Create a mapping of month names to their corresponding numbers\n",
    "month_mapping = {\n",
    "    'Ocak': 1, 'Şubat': 2, 'Mart': 3, 'Nisan': 4, 'Mayıs': 5, 'Haziran': 6,\n",
    "    'Temmuz': 7, 'Ağustos': 8, 'Eylül': 9, 'Ekim': 10, 'Kasım': 11, 'Aralık': 12\n",
    "}\n",
    "\n",
    "# Convert 'Yıl' and 'Ay' to datetime format\n",
    "df_f_cities_aggregated['Tarih'] = df_f_cities_aggregated.apply(lambda row: pd.Timestamp(int(row['Yıl']), month_mapping[row['Ay']], 1), axis=1)\n",
    "\n",
    "# Drop the 'Yıl' and 'Ay' columns if not needed anymore\n",
    "df_f_cities_aggregated.drop(columns=['Yıl', 'Ay'], inplace=True)\n",
    "\n",
    "\n",
    "df_f_cities_aggregated = df_f_cities_aggregated.sort_values(by='Tarih')\n",
    "df_f_cities_aggregated.set_index(\"Tarih\", inplace=True)\n",
    "df_f_cities_aggregated[\"Sayı\"] = df_f_cities_aggregated[\"Sayı\"].astype(int)\n",
    "df_f_cities_aggregated.info()"
   ]
  },
  {
   "cell_type": "code",
   "execution_count": null,
   "metadata": {},
   "outputs": [],
   "source": [
    "df_f_cities_aggregated.head(20)"
   ]
  },
  {
   "cell_type": "code",
   "execution_count": null,
   "metadata": {},
   "outputs": [],
   "source": []
  },
  {
   "cell_type": "code",
   "execution_count": null,
   "metadata": {},
   "outputs": [],
   "source": [
    "\n",
    "df_f_total_aggregated, df_f_cities_aggregated = sales_cities_foreigners_df()"
   ]
  },
  {
   "cell_type": "code",
   "execution_count": null,
   "metadata": {},
   "outputs": [],
   "source": [
    "df_f_cities_aggregated\n"
   ]
  },
  {
   "cell_type": "code",
   "execution_count": null,
   "metadata": {},
   "outputs": [],
   "source": [
    "df_f_cities_aggregated[\"Şehir\"].unique()"
   ]
  },
  {
   "cell_type": "code",
   "execution_count": null,
   "metadata": {},
   "outputs": [],
   "source": [
    "city_code_map = {0: 'ÜLKE',\n",
    " 1: 'ADANA',\n",
    " 2: 'ADIYAMAN',\n",
    " 3: 'AFYONKARAHİSAR',\n",
    " 4: 'AĞRI',\n",
    " 5: 'AMASYA',\n",
    " 6: 'ANKARA',\n",
    " 7: 'ANTALYA',\n",
    " 8: 'ARTVİN',\n",
    " 9: 'AYDIN',\n",
    " 10: 'BALIKESİR',\n",
    " 11: 'BİLECİK',\n",
    " 12: 'BİNGÖL',\n",
    " 13: 'BİTLİS',\n",
    " 14: 'BOLU',\n",
    " 15: 'BURDUR',\n",
    " 16: 'BURSA',\n",
    " 17: 'ÇANAKKALE',\n",
    " 18: 'ÇANKIRI',\n",
    " 19: 'ÇORUM',\n",
    " 20: 'DENİZLİ',\n",
    " 21: 'DİYARBAKIR',\n",
    " 22: 'EDİRNE',\n",
    " 23: 'ELAZIĞ',\n",
    " 24: 'ERZİNCAN',\n",
    " 25: 'ERZURUM',\n",
    " 26: 'ESKİŞEHİR',\n",
    " 27: 'GAZİANTEP',\n",
    " 28: 'GİRESUN',\n",
    " 29: 'GÜMÜŞHANE',\n",
    " 30: 'HAKKARİ',\n",
    " 31: 'HATAY',\n",
    " 32: 'ISPARTA',\n",
    " 33: 'MERSİN',\n",
    " 34: 'İSTANBUL',\n",
    " 35: 'İZMİR',\n",
    " 36: 'KARS',\n",
    " 37: 'KASTAMONU',\n",
    " 38: 'KAYSERİ',\n",
    " 39: 'KIRKLARELİ',\n",
    " 40: 'KIRŞEHİR',\n",
    " 41: 'KOCAELİ',\n",
    " 42: 'KONYA',\n",
    " 43: 'KÜTAHYA',\n",
    " 44: 'MALATYA',\n",
    " 45: 'MANİSA',\n",
    " 46: 'KAHRAMANMARAŞ',\n",
    " 47: 'MARDİN',\n",
    " 48: 'MUĞLA',\n",
    " 49: 'MUŞ',\n",
    " 50: 'NEVŞEHİR',\n",
    " 51: 'NİĞDE',\n",
    " 52: 'ORDU',\n",
    " 53: 'RİZE',\n",
    " 54: 'SAKARYA',\n",
    " 55: 'SAMSUN',\n",
    " 56: 'SİİRT',\n",
    " 57: 'SİNOP',\n",
    " 58: 'SİVAS',\n",
    " 59: 'TEKİRDAĞ',\n",
    " 60: 'TOKAT',\n",
    " 61: 'TRABZON',\n",
    " 62: 'TUNCELİ',\n",
    " 63: 'ŞANLIURFA',\n",
    " 64: 'UŞAK',\n",
    " 65: 'VAN',\n",
    " 66: 'YOZGAT',\n",
    " 67: 'ZONGULDAK',\n",
    " 68: 'AKSARAY',\n",
    " 69: 'BAYBURT',\n",
    " 70: 'KARAMAN',\n",
    " 71: 'KIRIKKALE',\n",
    " 72: 'BATMAN',\n",
    " 73: 'ŞIRNAK',\n",
    " 74: 'BARTIN',\n",
    " 75: 'ARDAHAN',\n",
    " 76: 'IĞDIR',\n",
    " 77: 'YALOVA',\n",
    " 78: 'KARABÜK',\n",
    " 79: 'KİLİS',\n",
    " 80: 'OSMANİYE',\n",
    " 81: 'DÜZCE',\n",
    " 99: 'Diğer iller - Other Provinces'}\n",
    "\n",
    "\n",
    "city_code_f = [48, 33, 35, 16, 99,  9,  7, 54,  6, 34, 77, 61, 55, 41]\n",
    "\n",
    "fig = go.Figure()\n",
    "city_code = 7\n",
    "try:\n",
    "    if city_code is None:\n",
    "        fig = px.line(df_f_cities_aggregated, x=df_f_cities_aggregated.index, \n",
    "                        y='Total', color='Şehir', title='İllere Göre Yabancılara Konut Satışı (Ay Bazında)')\n",
    "    else:\n",
    "        p_city_code = city_code\n",
    "        if city_code not in city_code_f:\n",
    "            city_code = 99\n",
    "        dff = df_f_cities_aggregated[df_f_cities_aggregated['Şehir'] == city_code]\n",
    "        \n",
    "        fig = px.line(dff, x=dff.index, y='Total', color='Şehir', title=f'Yabancılara Konut Satışı (Ay Bazında): {city_code_map[p_city_code].capitalize()}',\n",
    "                        color_discrete_sequence=px.colors.qualitative.Vivid)\n",
    "        fig.update_layout(showlegend=False)\n",
    "    fig.update_layout(width=1800, height=800)\n",
    "except Exception as e:\n",
    "    print(f\"Error in plot function: {e}\")\n",
    "    raise\n",
    "\n",
    "fig.show()"
   ]
  },
  {
   "cell_type": "markdown",
   "metadata": {},
   "source": [
    "# Population"
   ]
  },
  {
   "cell_type": "code",
   "execution_count": null,
   "metadata": {},
   "outputs": [],
   "source": [
    "def population_df(df_p):    \n",
    "    df_p = pd.read_excel(\"./datasets/favori_raporlar.xlsx\",  sheet_name=\"MAHALLE NÜFUSU\", index_col=0)\n",
    "    cols = ['il kayit no',\n",
    "    'ilçe kayit no',\n",
    "    'belde/köy kayit no',\n",
    "    'mahalle kayit no',\n",
    "    'il adi',\n",
    "    'ilçe adi',\n",
    "    'belediye adi',\n",
    "    'mahalle adi',\n",
    "    'mahallenin bağli olduğu belediyenin niteliği',\n",
    "    'toplam',\n",
    "    'erkek',\n",
    "    'kadin']\n",
    "    df_p.columns = cols\n",
    "    df_p_cities = df_p.drop([\"toplam\", \"mahallenin bağli olduğu belediyenin niteliği\", \"belediye adi\"], axis=1)\n",
    "    # df_p_cities[(df_p_cities[\"mahalle adi\"]==\" \".join(\"2000 Evler Mh.\".split()[:-1]).upper()) & (df_p_cities[\"ilçe adi\"]==\"seyhan\".upper())] #for query\n",
    "    df_p = df_p[[\"il adi\", \"ilçe adi\", \"mahalle adi\", \"erkek\", \"kadin\"]]\n",
    "\n",
    "    df_p.erkek = df_p.erkek.replace(\"C\", \"0\").astype(int)\n",
    "    df_p.kadin = df_p.kadin.replace(\"C\", \"0\")\n",
    "    df_p.kadin = df_p.kadin.replace(\"-\", \"0\").astype(int)\n",
    "\n",
    "    df_p = df_p.groupby([\"il adi\", \"ilçe adi\", \"mahalle adi\"])[[\"erkek\", \"kadin\"]].sum().reset_index()\n",
    "\n",
    "    return df_p\n",
    "\n"
   ]
  },
  {
   "cell_type": "code",
   "execution_count": null,
   "metadata": {},
   "outputs": [],
   "source": [
    "df_p = population_df()\n",
    "df_p"
   ]
  },
  {
   "cell_type": "code",
   "execution_count": null,
   "metadata": {},
   "outputs": [],
   "source": [
    "df_p_il = df_p[[\"erkek\", \"kadin\"]].sum().to_list()\n",
    "df_p_il"
   ]
  },
  {
   "cell_type": "code",
   "execution_count": null,
   "metadata": {},
   "outputs": [],
   "source": [
    "# Pie chart\n",
    "# choloropleth"
   ]
  },
  {
   "cell_type": "code",
   "execution_count": null,
   "metadata": {},
   "outputs": [],
   "source": [
    "# import plotly.graph_objects as go\n",
    "\n",
    "# # Sample data for the pie chart\n",
    "# labels = ['Erkek', 'Kadın']\n",
    "# values = [df_p.iloc[0, 1], df_p.iloc[0, 2]]\n",
    "# colors = ['skyblue', 'salmon']\n",
    "\n",
    "# # Create the Pie chart with custom colors and slice pulled out\n",
    "# fig = go.Figure(go.Pie(\n",
    "#     labels=labels,\n",
    "#     values=values,\n",
    "#     marker=dict(colors=colors),\n",
    "#     hovertemplate='<b>%{label}</b><br>%{value}'\n",
    "# ), layout=dict(width=400, height=400))\n",
    "\n",
    "# # Update the name of the trace\n",
    "# fig.data[0].name = ''\n",
    "\n",
    "# # Set the title\n",
    "# fig.update_layout(title='Cinsiyet Dağılımı')\n",
    "\n",
    "# # Show the figure\n",
    "# fig.show()\n"
   ]
  },
  {
   "cell_type": "code",
   "execution_count": null,
   "metadata": {},
   "outputs": [],
   "source": [
    "df_p"
   ]
  },
  {
   "cell_type": "code",
   "execution_count": null,
   "metadata": {},
   "outputs": [],
   "source": [
    "x = df_p[(df_p[\"il adi\"]==\"Ankara\".upper()) & (df_p[\"ilçe adi\"]==\"MAMAK\".upper())]\n",
    "x = x[[\"erkek\", \"kadin\"]].sum().to_list()\n",
    "x"
   ]
  },
  {
   "cell_type": "code",
   "execution_count": null,
   "metadata": {},
   "outputs": [],
   "source": [
    "import plotly.graph_objects as go\n",
    "from plotly.subplots import make_subplots\n",
    "def population_plot(df_p, city_name=None, town_name=None, district_name=None):\n",
    "    # Create the figure with subplots\n",
    "    labels = ['Erkek', 'Kadın']\n",
    "    colors = ['skyblue', 'salmon']\n",
    "    title = \"\"\n",
    "    fig = go.Figure()\n",
    "\n",
    "    if city_name==None and town_name==None and district_name==None:\n",
    "        title = \"Bütün Ülke\"\n",
    "        values1 = df_p[[\"erkek\", \"kadin\"]].sum().to_list()\n",
    "        fig.add_trace(go.Pie(\n",
    "            name=\"\",\n",
    "            labels=labels,\n",
    "            values=values1,\n",
    "            marker=dict(colors=colors),\n",
    "            hovertemplate='<b>%{label}</b><br>%{value}',\n",
    "            pull=[0, 0],\n",
    "            textfont=dict(size=16, family=\"Balto\", color=\"black\"),  # Adjust text size and color\n",
    "            textinfo='label+percent',  # Show labels and percentages\n",
    "        ))\n",
    "    \n",
    "    elif city_name!=None and (town_name==None and district_name==None):\n",
    "        title = city_name.capitalize()\n",
    "        values1 = df_p[df_p[\"il adi\"]==city_name.upper()]\n",
    "        values1 = values1[[\"erkek\", \"kadin\"]].sum().to_list()\n",
    "        fig.add_trace(go.Pie(\n",
    "            name=\"\",\n",
    "            labels=labels,\n",
    "            values=values1,\n",
    "            marker=dict(colors=colors),\n",
    "            hovertemplate='<b>%{label}</b><br>%{value}',\n",
    "            pull=[0, 0],\n",
    "            textfont=dict(size=16, family=\"Balto\", color=\"black\"),  # Adjust text size and color\n",
    "            textinfo='label+percent',  # Show labels and percentages\n",
    "        ))\n",
    "    \n",
    "    elif city_name!=None and (town_name!=None and district_name==None):\n",
    "        title = f\"{city_name.capitalize()}, {town_name.capitalize()}\"\n",
    "        values1 = df_p[(df_p[\"il adi\"]==city_name.upper()) & (df_p[\"ilçe adi\"]==town_name.upper())]\n",
    "        values1 = values1[[\"erkek\", \"kadin\"]].sum().to_list()\n",
    "        fig.add_trace(go.Pie(\n",
    "            name=\"\",\n",
    "            labels=labels,\n",
    "            values=values1,\n",
    "            marker=dict(colors=colors),\n",
    "            hovertemplate='<b>%{label}</b><br>%{value}',\n",
    "            pull=[0, 0],\n",
    "            textfont=dict(size=16, family=\"Balto\", color=\"black\"),  # Adjust text size and color\n",
    "            textinfo='label+percent',  # Show labels and percentages\n",
    "        ))\n",
    "    \n",
    "    elif city_name!=None and (town_name!=None and district_name!=None):\n",
    "        title = f\"{city_name.capitalize()}, {town_name.capitalize()}, {district_name.capitalize()} Mh.\"\n",
    "        if len(district_name.split()) > 1:\n",
    "            district_name = district_name + \" Mh.\"\n",
    "        values1 = df_p[(df_p[\"il adi\"]==city_name.upper()) & (df_p[\"ilçe adi\"]==town_name.upper()) & (df_p[\"mahalle adi\"]==\" \".join(district_name.split()[:-1]).upper())] # assuming that every mahalle ends with MH.\n",
    "        values1 = values1[[\"erkek\", \"kadin\"]].sum().to_list()\n",
    "        fig.add_trace(go.Pie(\n",
    "            name=\"\",\n",
    "            labels=labels,\n",
    "            values=values1,\n",
    "            marker=dict(colors=colors),\n",
    "            hovertemplate='<b>%{label}</b><br>%{value}',\n",
    "            pull=[0, 0],\n",
    "            textfont=dict(size=16, family=\"Balto\", color=\"black\"),  # Adjust text size and color\n",
    "            textinfo='label+percent',  # Show labels and percentages\n",
    "        ))\n",
    "    else:\n",
    "        fig.add_annotation(\n",
    "        text=\"Please enter either: Only city name, City name and Town name, or all three\",\n",
    "        xref=\"paper\", yref=\"paper\",\n",
    "        x=0.5, y=0.5, showarrow=False,\n",
    "        font=dict(\n",
    "            family=\"Balto, Arial, sans-serif\",\n",
    "            size=20,\n",
    "            color=\"black\"\n",
    "            )\n",
    "        )\n",
    "\n",
    "        # Update layout to remove axes\n",
    "        fig.update_layout(\n",
    "            xaxis=dict(visible=False),\n",
    "            yaxis=dict(visible=False),\n",
    "            plot_bgcolor='rgba(0,0,0,0)',\n",
    "            margin=dict(l=0, r=0, t=0, b=0)\n",
    "        )\n",
    "        return fig\n",
    "\n",
    "    # Update layout\n",
    "    fig.update_layout(\n",
    "        title=f'Cinsiyet Dağılımları: {title}',\n",
    "        width=900,\n",
    "        height=500,\n",
    "        title_font=dict(size=30, family=\"Balto\", ),  # Adjust title font\n",
    "        title_pad_b=10,\n",
    "        font=dict(\n",
    "            family=\"Balto\",  # Adjust default font family for labels\n",
    "            size=14,  # Adjust default font size for labels\n",
    "            color=\"black\"  # Adjust default font color for labels\n",
    "        ),\n",
    "        showlegend=False\n",
    "    )\n",
    "\n",
    "    for annotation in fig['layout']['annotations']:\n",
    "        annotation['y'] = 0.95  # Adjust this value for more/less padding\n",
    "\n",
    "    # Add the text annotation below the plots\n",
    "    fig.add_annotation(\n",
    "        text=f\"Toplam Nüfus: <b>{sum(values1):,}</b>\",\n",
    "        xref=\"paper\", yref=\"paper\",\n",
    "        x=0.5, y=-0.2,\n",
    "        showarrow=False,\n",
    "        font=dict(size=18, family=\"Balto\", color=\"black\"),\n",
    "        align=\"center\"\n",
    "    )\n",
    "    return fig\n",
    "fig = population_plot(df_p, city_name=\"ankara\")\n",
    "# Show the figure\n",
    "fig.show()\n"
   ]
  },
  {
   "cell_type": "code",
   "execution_count": null,
   "metadata": {},
   "outputs": [],
   "source": [
    "import plotly.express as px\n",
    "\n",
    "# Assuming you have the GeoJSON file for Turkey provinces\n",
    "geojson_file = './tr-cities.json'\n",
    "\n",
    "# Calculate total population\n",
    "df_p_cities['total_population'] = df_p_cities['toplam-erkek'] + df_p_cities['toplam-kadin']\n",
    "\n",
    "# Load GeoJSON data\n",
    "import json\n",
    "with open(geojson_file) as f:\n",
    "    turkey_geojson = json.load(f)\n",
    "\n",
    "# Ensure the province names in the DataFrame match the names in the GeoJSON file\n",
    "# This might require some preprocessing if the names don't match exactly\n",
    "\n",
    "\n",
    "# Create the choropleth map\n",
    "fig = px.choropleth(\n",
    "    df_p_cities,\n",
    "    geojson=turkey_geojson,\n",
    "    locations='il adi',\n",
    "    featureidkey=\"properties.name\",  # This should match the property name in your GeoJSON file for province names\n",
    "    color='total_population',\n",
    "    hover_name='il adi',\n",
    "    hover_data={'toplam-erkek': True, 'toplam-kadin': True, 'total_population': True},\n",
    "    color_continuous_scale='Viridis',\n",
    "    labels={'total_population': 'Total Population'},\n",
    "    title='Total Population by Province in Turkey'\n",
    ")\n",
    "\n",
    "# Update the layout for better visualization\n",
    "fig.update_geos(\n",
    "    visible=False,\n",
    "    resolution=50,\n",
    "    showcountries=True,\n",
    "    countrycolor=\"Black\",\n",
    "    showcoastlines=True,\n",
    "    coastlinecolor=\"Black\",\n",
    "    showland=True,\n",
    "    landcolor=\"white\",\n",
    ")\n",
    "\n",
    "fig.update_layout(\n",
    "    title_font=dict(size=24, family=\"Arial, sans-serif\"),\n",
    "    font=dict(size=12, family=\"Arial, sans-serif\"),\n",
    "    margin={\"r\":0,\"t\":50,\"l\":0,\"b\":0}\n",
    ")\n",
    "\n",
    "# Show the map\n",
    "# fig.show()\n"
   ]
  },
  {
   "cell_type": "code",
   "execution_count": null,
   "metadata": {},
   "outputs": [],
   "source": [
    "turkey_geojson.keys()"
   ]
  },
  {
   "cell_type": "code",
   "execution_count": null,
   "metadata": {},
   "outputs": [],
   "source": [
    "turkey_geojson[\"features\"][2][\"properties\"][\"name\"]"
   ]
  },
  {
   "cell_type": "markdown",
   "metadata": {},
   "source": [
    "# API"
   ]
  },
  {
   "cell_type": "code",
   "execution_count": null,
   "metadata": {},
   "outputs": [],
   "source": [
    "import plotly.graph_objects as go\n",
    "import numpy as np\n",
    "import json\n",
    "# Read the JSON file\n",
    "with open('./curl-res.json', 'r') as file:\n",
    "    json_data = file.read()\n",
    "    \n",
    "\n",
    "# Parse the JSON data\n",
    "data = json.loads(json_data)\n",
    "\n",
    "# Extract ages from the data field\n",
    "ages = [item['age'] for item in data['data']]\n",
    "ages = sorted(ages)\n",
    "\n",
    "# Define age groups\n",
    "age_groups = {\n",
    "}\n",
    "\n",
    "# Categorize ages\n",
    "for age in ages:\n",
    "    if age_groups.get(age) is None:\n",
    "        age_groups[age] = 1\n",
    "    else:\n",
    "        age_groups[age] += 1\n",
    "\n",
    "\n",
    "# Calculate total number of ages\n",
    "total_ages = len(ages)\n",
    "\n",
    "# Calculate percentages for each age group\n",
    "age_group_percentages = {group: count / total_ages * 100 for group, count in age_groups.items()}\n",
    "\n",
    "# Create the pie chart\n",
    "labels = list(age_group_percentages.keys())\n",
    "values = list(age_group_percentages.values())\n",
    "\n",
    "fig_2 = go.Figure(data=[go.Pie(labels=labels, values=values, hole=0.4,\n",
    "                             hovertemplate=\"Bina Yaşı: %{label}<br>Yüzdelik: %{value:.1f}%<extra></extra>\",\n",
    "                             sort=False\n",
    "                             )])\n",
    "\n",
    "# Update the layout for better appearance\n",
    "fig_2.update_layout(title_text=\"Bina Yaşı Dağılımı\", \n",
    "                  width=500, height=500, \n",
    "                  )\n",
    "\n",
    "fig_2.update_layout(legend=dict(\n",
    "    orientation=\"h\",\n",
    "    yanchor=\"bottom\",\n",
    "    y=-0.3,\n",
    "    xanchor=\"center\",\n",
    "    x=.5\n",
    "))\n",
    "\n",
    "# Show the plot\n",
    "fig_2.show()\n"
   ]
  },
  {
   "cell_type": "code",
   "execution_count": null,
   "metadata": {},
   "outputs": [],
   "source": [
    "\n",
    "# Extract prices from the data field\n",
    "prices = [item['price'] for item in data['data']]\n",
    "\n",
    "# Calculate min, max, median, and average prices\n",
    "min_price = min(prices)\n",
    "max_price = max(prices)\n",
    "median_price = np.median(prices)\n",
    "avg_price = np.mean(prices)\n",
    "\n",
    "# Create a scatter plot to simulate the horizontal bar\n",
    "fig = go.Figure()\n",
    "\n",
    "# Add lines for min to max\n",
    "fig.add_trace(go.Scatter(\n",
    "    x=[min_price, max_price],\n",
    "    y=[1, 1],\n",
    "    mode='lines',\n",
    "    line=dict(color='black', width=2),\n",
    "    showlegend=False,\n",
    "))\n",
    "\n",
    "# Add markers for min, median, average, and max\n",
    "fig.add_trace(go.Scatter(\n",
    "    x=[min_price, avg_price, max_price],\n",
    "    y=[1, 1, 1, 1],\n",
    "    mode='markers+text',\n",
    "    text=[f'{min_price:,} TL', f'Ort.: {avg_price:,.0f} TL', f'{max_price:,}TL'],\n",
    "    textposition='top center',\n",
    "    marker=dict(color=['green', 'blue', 'red'], size=10),\n",
    "    name=\"\",\n",
    "    showlegend=False,\n",
    "    hovertemplate = '%{x:,.0f} TL',\n",
    "\n",
    "))\n",
    "\n",
    "# Update the layout for better appearance\n",
    "fig.update_layout(\n",
    "    title_text=\"Fiyat İstatistiği\",\n",
    "    xaxis_title=\"Fiyat (TL)\",\n",
    "    yaxis=dict(showticklabels=False, showgrid=False),  # Hide the y-axis ticks and labels\n",
    "    width=1000,\n",
    "    height=230,\n",
    ")\n",
    "\n",
    "\n",
    "# Show the plot\n",
    "fig.show()"
   ]
  },
  {
   "cell_type": "code",
   "execution_count": null,
   "metadata": {},
   "outputs": [],
   "source": [
    "import json\n",
    "import plotly.graph_objects as go\n",
    "import numpy as np\n",
    "\n",
    "# Read the JSON file (replace with your JSON file path)\n",
    "with open('./curl-res.json', 'r') as file:\n",
    "    json_data = file.read()\n",
    "\n",
    "# Parse the JSON data\n",
    "data = json.loads(json_data)\n",
    "\n",
    "min_price = data[\"result\"][\"min_price\"]\n",
    "max_price = data[\"result\"][\"max_price\"]\n",
    "avg_price = data[\"result\"][\"avg_price\"]\n",
    "\n",
    "# Create traces for each marker\n",
    "traces = []\n",
    "\n",
    "traces.append(go.Scatter(\n",
    "    x=[min_price, max_price],\n",
    "    y=[1, 1],\n",
    "    mode='lines',\n",
    "    line=dict(color='black', width=2),\n",
    "    showlegend=False,\n",
    "    name=\"\"\n",
    "))\n",
    "\n",
    "traces.append(go.Scatter(\n",
    "    x=[min_price, avg_price, max_price],\n",
    "    y=[1, 1, 1, 1],\n",
    "    mode='markers+text',\n",
    "    text=[f'{min_price:,} TL', f'{avg_price:,.0f} TL', f'{max_price:,}TL'],\n",
    "    textposition='top center',\n",
    "    marker=dict(color=['green', 'blue', 'red'], size=10),\n",
    "    name=\"\",\n",
    "    showlegend=False,\n",
    "    hovertemplate = '%{x:,.0f} TL',\n",
    "\n",
    "))\n",
    "\n",
    "# Min price trace\n",
    "traces.append(go.Scatter(\n",
    "    x=[min_price],\n",
    "    y=[1],\n",
    "    mode='markers',\n",
    "    marker=dict(color='green', size=10, symbol='square'),\n",
    "    name='Min',\n",
    "    showlegend=True,\n",
    "    hovertemplate='%{x:,.0f} TL',\n",
    "))\n",
    "\n",
    "# Average price trace\n",
    "traces.append(go.Scatter(\n",
    "    x=[avg_price],\n",
    "    y=[1],\n",
    "    mode='markers',\n",
    "    marker=dict(color='blue', size=10, symbol='square'),\n",
    "    name='Ortalama',\n",
    "    showlegend=True,\n",
    "    hovertemplate='%{x:,.0f} TL',\n",
    "))\n",
    "\n",
    "# Max price trace\n",
    "traces.append(go.Scatter(\n",
    "    x=[max_price],\n",
    "    y=[1],\n",
    "    mode='markers',\n",
    "    marker=dict(color='red', size=10, symbol='square'),\n",
    "    name='Maks',\n",
    "    showlegend=True,\n",
    "    hovertemplate='%{x:,.0f} TL',\n",
    "))\n",
    "\n",
    "\n",
    "\n",
    "# Create the figure\n",
    "fig_1 = go.Figure(data=traces)\n",
    "\n",
    "# Update the layout for better appearance\n",
    "fig_1.update_layout(\n",
    "    title_text=\"Fiyat İstatistiği\",\n",
    "    xaxis_title=\"Fiyat (TL)\",\n",
    "    yaxis=dict(showticklabels=False, showgrid=False),  # Hide the y-axis ticks and labels\n",
    "    width=900,\n",
    "    height=230,\n",
    "    legend=dict(\n",
    "        orientation=\"h\",\n",
    "        yanchor=\"bottom\",\n",
    "        y=1.02,\n",
    "        xanchor=\"right\",\n",
    "        x=1\n",
    "    )\n",
    ")\n",
    "\n",
    "# Show the plot\n",
    "fig_1.show()\n",
    "\n",
    "\n",
    "# Extract ages from the data field\n",
    "ages = [item['age'] for item in data['data']]\n",
    "ages = sorted(ages)\n",
    "\n",
    "# Define age groups\n",
    "age_groups = {\n",
    "    0:0,\n",
    "    1:0,\n",
    "    2:0,\n",
    "    3:0,\n",
    "    4:0,\n",
    "    5:0,\n",
    "    \"6-10\":0,\n",
    "    \"11-15\":0,\n",
    "    \"16-20\":0,\n",
    "    \"21-25\":0,\n",
    "    \"26-30\":0,\n",
    "    \"31+\":0,\n",
    "}\n",
    "\n",
    "# Categorize ages\n",
    "for age in ages:\n",
    "    if age<6:\n",
    "        age_groups[age] += 1\n",
    "    elif 6<=age<=10:\n",
    "        age_groups[\"6-10\"] += 1\n",
    "    elif 11<=age<=15:\n",
    "        age_groups[\"11-15\"] += 1\n",
    "    elif 16<=age<=20:\n",
    "        age_groups[\"16-20\"] += 1\n",
    "    elif 21<=age<=25:\n",
    "        age_groups[\"21-25\"] += 1\n",
    "    elif 26<=age<=30:\n",
    "        age_groups[\"26-30\"] += 1\n",
    "    else:\n",
    "        age_groups[\"31+\"] += 1\n",
    "\n",
    "\n",
    "# Calculate total number of ages\n",
    "total_ages = len(ages)\n",
    "\n",
    "# Calculate percentages for each age group\n",
    "age_group_percentages = {group: count / total_ages * 100 for group, count in age_groups.items() if count>0}\n",
    "\n",
    "# Create the pie chart\n",
    "labels = list(age_group_percentages.keys())\n",
    "values = list(age_group_percentages.values())\n",
    "\n",
    "fig_2 = go.Figure(data=[go.Pie(labels=labels, values=values, hole=0.4,\n",
    "                             hovertemplate=\"Bina Yaşı: %{label}<br>Yüzdelik: %{value:.1f}%<extra></extra>\",\n",
    "                             sort=False\n",
    "                             )])\n",
    "\n",
    "# Update the layout for better appearance\n",
    "fig_2.update_layout(title_text=\"Bina Yaşı Dağılımı\", \n",
    "                  width=600, height=500, \n",
    "                  )\n",
    "\n",
    "fig_2.update_layout(legend=dict(\n",
    "    orientation=\"h\",\n",
    "    yanchor=\"bottom\",\n",
    "    y=-0.3,\n",
    "    xanchor=\"center\",\n",
    "    x=.5\n",
    "))\n",
    "\n",
    "# Show the plot\n",
    "fig_2.show()\n",
    "\n"
   ]
  },
  {
   "cell_type": "code",
   "execution_count": null,
   "metadata": {},
   "outputs": [],
   "source": [
    "import plotly.graph_objects as go\n",
    "import numpy as np\n",
    "import scipy.stats as stats\n",
    "\n",
    "# Generate random prices of real estates\n",
    "np.random.seed(42)  # For reproducibility\n",
    "real_estate_prices = np.random.normal(loc=300000, scale=75000, size=10000)\n",
    "\n",
    "# Create the histogram\n",
    "hist_data = go.Histogram(x=real_estate_prices, nbinsx=30, name='Histogram', opacity=0.7)\n",
    "\n",
    "# Calculate the bell curve (normal distribution)\n",
    "mean = np.mean(real_estate_prices)\n",
    "std_dev = np.std(real_estate_prices)\n",
    "x = np.linspace(min(real_estate_prices), max(real_estate_prices), 1000)\n",
    "y = stats.norm.pdf(x, mean, std_dev) * len(real_estate_prices) * (x[1] - x[0]) * 30  # scale y to match histogram\n",
    "\n",
    "# Create the normal distribution curve\n",
    "bell_curve = go.Scatter(x=x, y=y, mode='lines', name='Normal Distribution')\n",
    "\n",
    "# Create the figure and add both the histogram and the bell curve\n",
    "fig = go.Figure(data=[hist_data, bell_curve])\n",
    "\n",
    "# Update layout for the plot\n",
    "fig.update_layout(\n",
    "    title='Histogram of Real Estate Prices with Bell Curve',\n",
    "    xaxis_title='Price',\n",
    "    yaxis_title='Count',\n",
    "    bargap=0.2  # Gap between bars\n",
    ")\n",
    "\n",
    "# Show the plot\n",
    "fig.show()\n"
   ]
  },
  {
   "cell_type": "code",
   "execution_count": null,
   "metadata": {},
   "outputs": [],
   "source": [
    "import plotly.graph_objects as go\n",
    "import numpy as np\n",
    "import scipy.stats as stats\n",
    "\n",
    "# Generate random prices of real estates\n",
    "np.random.seed(42)  # For reproducibility\n",
    "real_estate_prices = np.random.normal(loc=300000, scale=75000, size=1000)\n",
    "\n",
    "# Create the histogram\n",
    "hist_data = go.Histogram(x=real_estate_prices, nbinsx=30, name='Histogram', opacity=0.7)\n",
    "\n",
    "# Calculate the bell curve (normal distribution)\n",
    "mean = np.mean(real_estate_prices)\n",
    "std_dev = np.std(real_estate_prices)\n",
    "x = np.linspace(min(real_estate_prices), max(real_estate_prices), 1000)\n",
    "y = stats.norm.pdf(x, mean, std_dev) * len(real_estate_prices) * (x[1] - x[0]) * 30  # scale y to match histogram\n",
    "\n",
    "# Create the normal distribution curve\n",
    "bell_curve = go.Scatter(x=x, y=y, mode='lines', name='Normal Distribution')\n",
    "\n",
    "# Find the lowest, average, and maximum prices\n",
    "lowest_price = np.min(real_estate_prices)\n",
    "average_price = mean\n",
    "highest_price = np.max(real_estate_prices)\n",
    "\n",
    "# Create the vertical lines for lowest, average, and maximum prices\n",
    "lowest_line = go.Scatter(x=[lowest_price, lowest_price], y=[0, max(y)], mode='lines', name='Lowest Price', line=dict(color='red', dash='dash'))\n",
    "average_line = go.Scatter(x=[average_price, average_price], y=[0, max(y)], mode='lines', name='Average Price', line=dict(color='green', dash='dash'))\n",
    "highest_line = go.Scatter(x=[highest_price, highest_price], y=[0, max(y)], mode='lines', name='Highest Price', line=dict(color='blue', dash='dash'))\n",
    "\n",
    "# Create the figure and add the histogram, bell curve, and vertical lines\n",
    "fig = go.Figure(data=[hist_data, bell_curve, lowest_line, average_line, highest_line])\n",
    "\n",
    "# Update layout for the plot\n",
    "fig.update_layout(\n",
    "    title='Histogram of Real Estate Prices with Bell Curve',\n",
    "    xaxis_title='Price',\n",
    "    yaxis_title='Count',\n",
    "    bargap=0.2  # Gap between bars\n",
    ")\n",
    "\n",
    "# Add annotations for the lowest, average, and maximum prices\n",
    "fig.add_annotation(x=lowest_price, y=max(y), text=f\"Lowest Price: {lowest_price:.2f}\", showarrow=True, arrowhead=1)\n",
    "fig.add_annotation(x=average_price, y=max(y), text=f\"Average Price: {average_price:.2f}\", showarrow=True, arrowhead=1)\n",
    "fig.add_annotation(x=highest_price, y=max(y), text=f\"Highest Price: {highest_price:.2f}\", showarrow=True, arrowhead=1)\n",
    "\n",
    "# Show the plot\n",
    "fig.show()\n"
   ]
  },
  {
   "cell_type": "code",
   "execution_count": null,
   "metadata": {},
   "outputs": [],
   "source": [
    "import plotly.graph_objects as go\n",
    "import numpy as np\n",
    "import scipy.stats as stats\n",
    "\n",
    "# Generate random prices of real estates\n",
    "np.random.seed(42)  # For reproducibility\n",
    "real_estate_prices = np.random.normal(loc=300000, scale=75000, size=1000)\n",
    "\n",
    "# Create the histogram\n",
    "hist_data = go.Histogram(x=real_estate_prices, nbinsx=30, name='Histogram', opacity=0.7)\n",
    "\n",
    "# Calculate the bell curve (normal distribution)\n",
    "mean = np.mean(real_estate_prices)\n",
    "std_dev = np.std(real_estate_prices)\n",
    "x = np.linspace(min(real_estate_prices), max(real_estate_prices), 1000)\n",
    "y = stats.norm.pdf(x, mean, std_dev) * len(real_estate_prices) * (x[1] - x[0]) * 30  # scale y to match histogram\n",
    "\n",
    "# Create the normal distribution curve\n",
    "bell_curve = go.Scatter(x=x, y=y, mode='lines', name='Normal Distribution')\n",
    "\n",
    "# Find the lowest, average, and maximum prices\n",
    "lowest_price = np.min(real_estate_prices)\n",
    "average_price = mean\n",
    "highest_price = np.max(real_estate_prices)\n",
    "\n",
    "# Create the vertical lines for lowest, average, and maximum prices\n",
    "lowest_line = go.Scatter(x=[lowest_price, lowest_price], y=[0, max(y)], mode='lines', name='Lowest Price', line=dict(color='red', dash='dash'))\n",
    "average_line = go.Scatter(x=[average_price, average_price], y=[0, max(y)], mode='lines', name='Average Price', line=dict(color='green', dash='dash'))\n",
    "highest_line = go.Scatter(x=[highest_price, highest_price], y=[0, max(y)], mode='lines', name='Highest Price', line=dict(color='blue', dash='dash'))\n",
    "\n",
    "# Create the figure and add the histogram, bell curve, and vertical lines\n",
    "fig = go.Figure(data=[ bell_curve, lowest_line, average_line, highest_line])\n",
    "\n",
    "# Update layout for the plot\n",
    "fig.update_layout(\n",
    "    title='Histogram of Real Estate Prices with Bell Curve',\n",
    "    xaxis_title='Price',\n",
    "    yaxis_title='Count',\n",
    "    bargap=0.2  # Gap between bars\n",
    ")\n",
    "\n",
    "# Add annotations for the lowest, average, and maximum prices\n",
    "fig.add_annotation(x=lowest_price, y=max(y), text=f\"Lowest Price: {lowest_price:.2f}\", showarrow=True, arrowhead=1)\n",
    "fig.add_annotation(x=average_price, y=max(y), text=f\"Average Price: {average_price:.2f}\", showarrow=True, arrowhead=1)\n",
    "fig.add_annotation(x=highest_price, y=max(y), text=f\"Highest Price: {highest_price:.2f}\", showarrow=True, arrowhead=1)\n",
    "\n",
    "# Show the plot\n",
    "fig.show()\n"
   ]
  },
  {
   "cell_type": "code",
   "execution_count": null,
   "metadata": {},
   "outputs": [],
   "source": [
    "import plotly.graph_objects as go\n",
    "import numpy as np\n",
    "import scipy.stats as stats\n",
    "\n",
    "# Generate random prices of real estates\n",
    "np.random.seed(42)  # For reproducibility\n",
    "real_estate_prices = np.random.normal(loc=300000, scale=75000, size=1000)\n",
    "\n",
    "# Create the histogram\n",
    "hist_data = go.Histogram(x=real_estate_prices, nbinsx=30, name='Histogram', opacity=0.7)\n",
    "\n",
    "# Calculate the bell curve (normal distribution)\n",
    "mean = np.mean(real_estate_prices)\n",
    "std_dev = np.std(real_estate_prices)\n",
    "x = np.linspace(min(real_estate_prices), max(real_estate_prices), 1000)\n",
    "y = stats.norm.pdf(x, mean, std_dev) * len(real_estate_prices) * (x[1] - x[0]) * 30  # scale y to match histogram\n",
    "\n",
    "# Create the normal distribution curve\n",
    "bell_curve = go.Scatter(x=x, y=y, mode='lines', name='Normal Distribution')\n",
    "\n",
    "# Find the lowest, average, and maximum prices\n",
    "lowest_price = np.min(real_estate_prices)\n",
    "average_price = mean\n",
    "highest_price = np.max(real_estate_prices)\n",
    "\n",
    "# Create the points for lowest, average, and maximum prices\n",
    "points = go.Scatter(\n",
    "    x=[lowest_price, average_price, highest_price],\n",
    "    y=[0, stats.norm.pdf(average_price, mean, std_dev) * len(real_estate_prices) * (x[1] - x[0]) * 30, 0],\n",
    "    mode='markers+text',\n",
    "    name='Price Points',\n",
    "    marker=dict(color='black', size=10),\n",
    "    text=['Lowest', 'Average', 'Highest'],\n",
    "    textposition='top center'\n",
    ")\n",
    "\n",
    "# Create the figure and add the histogram, bell curve, and points\n",
    "fig = go.Figure(data=[hist_data, bell_curve, points])\n",
    "\n",
    "# Update layout for the plot\n",
    "fig.update_layout(\n",
    "    title='Histogram of Real Estate Prices with Bell Curve',\n",
    "    xaxis_title='Price',\n",
    "    yaxis_title='Count',\n",
    "    bargap=0.2  # Gap between bars\n",
    ")\n",
    "\n",
    "# Show the plot\n",
    "fig.show()\n"
   ]
  },
  {
   "cell_type": "code",
   "execution_count": null,
   "metadata": {},
   "outputs": [],
   "source": [
    "import numpy as np\n",
    "import plotly.graph_objs as go\n",
    "import plotly.express as px\n",
    "import pandas as pd\n",
    "from prep_data import *\n",
    "import locale\n",
    "from plot import *\n",
    "\n",
    "import json\n",
    "import plotly.graph_objects as go\n",
    "import numpy as np\n",
    "\n",
    "# Read the JSON file (replace with your JSON file path)\n",
    "with open('./curl-res.json', 'r') as file:\n",
    "    json_data = file.read()\n",
    "\n",
    "# Parse the JSON data\n",
    "m = json.loads(json_data)\n",
    "\n",
    "\n",
    "fig1, fig2 = price_age_plot(m[\"result\"], m[\"data\"])\n",
    "# type(m[\"data\"])\n",
    "# m[\"data\"][0]\n",
    "fig1.show()"
   ]
  },
  {
   "cell_type": "code",
   "execution_count": null,
   "metadata": {},
   "outputs": [],
   "source": [
    "fig2.show()"
   ]
  },
  {
   "cell_type": "code",
   "execution_count": null,
   "metadata": {},
   "outputs": [],
   "source": [
    "df_totals_total, df_totals_cities, df_granular, df_granular_cities = sales_cities_df()\n",
    "total_sales_plot(df_granular).show()"
   ]
  },
  {
   "cell_type": "markdown",
   "metadata": {},
   "source": [
    "# MAHALLE MAPPING"
   ]
  },
  {
   "cell_type": "code",
   "execution_count": null,
   "metadata": {},
   "outputs": [],
   "source": [
    "with open('./cities.json', 'r', encoding='utf-8') as file:\n",
    "    json_data = file.read()"
   ]
  },
  {
   "cell_type": "code",
   "execution_count": null,
   "metadata": {},
   "outputs": [],
   "source": [
    "turkish_to_english = {\n",
    "    'ç': 'c', 'ğ': 'g', 'ı': 'i', 'ö': 'o', 'ş': 's', 'ü': 'u', \"i̇\": \"i\",\n",
    "    'Ç': 'C', 'Ğ': 'G', 'İ': 'I', 'Ö': 'O', 'Ş': 'S', 'Ü': 'U', \".\": \"\"\n",
    "}\n",
    "def replace_turkish_chars(text):\n",
    "    text = text.lower()\n",
    "    for turkish_char, english_char in turkish_to_english.items():\n",
    "        text = text.replace(turkish_char, english_char)\n",
    "    return text"
   ]
  },
  {
   "cell_type": "code",
   "execution_count": null,
   "metadata": {},
   "outputs": [],
   "source": [
    "def population_df():\n",
    "    df_p = pd.read_excel(\"./datasets/nüfus.xlsx\",  sheet_name=\"MAHALLE NÜFUSU\", index_col=0)\n",
    "    cols = ['il kayit no', 'ilçe kayit no', 'belde/köy kayit no', 'mahalle kayit no',\n",
    "    'il adi', 'ilçe adi', 'belediye adi', 'mahalle adi', 'mahallenin bağli olduğu belediyenin niteliği',\n",
    "    'toplam', 'erkek', 'kadin']\n",
    "    df_p.columns = cols\n",
    "\n",
    "    # df_p_cities[(df_p_cities[\"mahalle adi\"]==\" \".join(\"2000 Evler Mh.\".split()[:-1]).upper()) & (df_p_cities[\"ilçe adi\"]==\"seyhan\".upper())] #for query\n",
    "\n",
    "    df_p = df_p[['il kayit no', 'ilçe kayit no', 'mahalle kayit no', \"il adi\", \"ilçe adi\", \"mahalle adi\", \"erkek\", \"kadin\"]]\n",
    "    df_p.erkek = df_p.erkek.replace(\"C\", \"0\").astype(int)\n",
    "    df_p.kadin = df_p.kadin.replace(\"C\", \"0\")\n",
    "    df_p.kadin = df_p.kadin.replace(\"-\", \"0\").astype(int)\n",
    "    for col in [\"il adi\", \"ilçe adi\", \"mahalle adi\"]:\n",
    "        df_p[col + \" cleaned\"] = df_p[col].apply(lambda x: replace_turkish_chars(str(x)))\n",
    "    \n",
    "    \n",
    "    \n",
    "\n",
    "    df_p = df_p.groupby(['il kayit no', 'ilçe kayit no', 'mahalle kayit no', \"il adi\", \"ilçe adi\", \"mahalle adi\", \"il adi cleaned\", \"ilçe adi cleaned\", \"mahalle adi cleaned\"])[[\"erkek\", \"kadin\"]].sum().reset_index()\n",
    "\n",
    "    return df_p\n",
    "df_origin_city = population_df()\n",
    "df_origin_city.head()"
   ]
  },
  {
   "cell_type": "code",
   "execution_count": null,
   "metadata": {},
   "outputs": [],
   "source": [
    "reference_data = json.loads(json_data)\n",
    "for city in reference_data:\n",
    "    city[\"name\"] = replace_turkish_chars(city[\"name\"])\n",
    "    for town in city[\"towns\"]:\n",
    "        town[\"name\"] = replace_turkish_chars(town[\"name\"])\n",
    "\n",
    "        for quarter in town[\"quarters\"]:\n",
    "            quarter[\"name\"] = replace_turkish_chars(quarter[\"name\"])\n",
    "            if (\"mh\" in quarter[\"name\"]) or (\"mah\" in quarter[\"name\"]) or (\"mahalle\" in quarter[\"name\"]) or (\"bld\" in quarter[\"name\"]):\n",
    "                quarter[\"name\"] = \" \".join(quarter[\"name\"].split()[:-1])"
   ]
  },
  {
   "cell_type": "code",
   "execution_count": null,
   "metadata": {},
   "outputs": [],
   "source": [
    "\n",
    "# Helper function to find the IDs from the reference data\n",
    "def find_ids(city_name, town_name=None, quarter_name=None):\n",
    "    city_id, town_id, quarter_id = None, None, None\n",
    "    for city in reference_data:\n",
    "        if city['name'] == city_name:\n",
    "            city_id = city['id']\n",
    "\n",
    "            for town in city['towns']:\n",
    "                if town['name'] == town_name:\n",
    "                    town_id = town['id']\n",
    "\n",
    "                    for quarter in town['quarters']:\n",
    "                        if quarter['name'] == quarter_name:\n",
    "                            quarter_id = quarter['id']\n",
    "                            return city_id, town_id, quarter_id\n",
    "    return city_id, town_id, quarter_id\n",
    "    \n",
    "\n",
    "# Update the DataFrame with IDs\n",
    "for idx, row in df_origin_city.iterrows():\n",
    "    city_name = row['il adi cleaned']\n",
    "    town_name = row['ilçe adi cleaned']\n",
    "    quarter_name = row['mahalle adi cleaned']\n",
    "    city_id, town_id, quarter_id = find_ids(city_name, town_name, quarter_name)\n",
    "    df_origin_city.at[idx, 'il kayit no'] = -1 if city_id is None else city_id\n",
    "    df_origin_city.at[idx, 'ilçe kayit no'] = -2 if town_id is None else town_id\n",
    "    df_origin_city.at[idx, 'mahalle kayit no'] = -3 if quarter_id is None else quarter_id\n",
    "\n"
   ]
  },
  {
   "cell_type": "code",
   "execution_count": null,
   "metadata": {},
   "outputs": [],
   "source": [
    "df_origin_city.tail()"
   ]
  },
  {
   "cell_type": "code",
   "execution_count": null,
   "metadata": {},
   "outputs": [],
   "source": [
    "\"ahmet remzi yuregir\" == \"ahmet remzi̇ yuregi̇r\""
   ]
  },
  {
   "cell_type": "code",
   "execution_count": null,
   "metadata": {},
   "outputs": [],
   "source": [
    "-1 in df_origin_city[\"il kayit no\"].to_list()\n"
   ]
  },
  {
   "cell_type": "code",
   "execution_count": null,
   "metadata": {},
   "outputs": [],
   "source": [
    "-2 in df_origin_city[\"ilçe kayit no\"].to_list()\n"
   ]
  },
  {
   "cell_type": "code",
   "execution_count": null,
   "metadata": {},
   "outputs": [],
   "source": [
    "-3 in df_origin_city[\"mahalle kayit no\"].to_list()\n"
   ]
  },
  {
   "cell_type": "code",
   "execution_count": null,
   "metadata": {},
   "outputs": [],
   "source": [
    "# Count rows where \"mahalle kayit no\" is -3\n",
    "mahalle_kayit_no_minus_3 = df_origin_city[df_origin_city['mahalle kayit no'] == -3]\n",
    "count_mahalle_kayit_no_minus_3 = mahalle_kayit_no_minus_3.shape[0]\n",
    "\n",
    "print(f\"Number of rows where 'mahalle kayit no' is -3: {count_mahalle_kayit_no_minus_3}\")\n"
   ]
  },
  {
   "cell_type": "code",
   "execution_count": null,
   "metadata": {},
   "outputs": [],
   "source": [
    "mahalle_kayit_no_minus_3"
   ]
  },
  {
   "cell_type": "code",
   "execution_count": null,
   "metadata": {},
   "outputs": [],
   "source": [
    "df_p = population_df()\n",
    "df_p"
   ]
  },
  {
   "cell_type": "code",
   "execution_count": null,
   "metadata": {},
   "outputs": [],
   "source": [
    "df_p[df_p[\"il kayit no\"]==81][\"il adi\"]"
   ]
  },
  {
   "cell_type": "code",
   "execution_count": null,
   "metadata": {},
   "outputs": [],
   "source": [
    "title = f\"{df_p[df_p[\"il kayit no\"]==81][\"il adi\"].capitalize()}, {df_p[df_p[\"ilçe kayit no\"]==town_code][\"il adi\"].capitalize()}\"\n"
   ]
  }
 ],
 "metadata": {
  "kernelspec": {
   "display_name": "Python 3",
   "language": "python",
   "name": "python3"
  },
  "language_info": {
   "codemirror_mode": {
    "name": "ipython",
    "version": 3
   },
   "file_extension": ".py",
   "mimetype": "text/x-python",
   "name": "python",
   "nbconvert_exporter": "python",
   "pygments_lexer": "ipython3",
   "version": "3.12.3"
  }
 },
 "nbformat": 4,
 "nbformat_minor": 2
}
