{
 "cells": [
  {
   "cell_type": "code",
   "execution_count": 1,
   "metadata": {},
   "outputs": [],
   "source": [
    "import numpy as np\n",
    "import plotly.graph_objs as go\n",
    "import plotly.express as px\n",
    "import pandas as pd\n",
    "from prep_data import *\n",
    "import locale\n",
    "# locale.setlocale(locale.LC_TIME, 'tr_TR.UTF8')\n",
    "# "
   ]
  },
  {
   "cell_type": "markdown",
   "metadata": {},
   "source": [
    "# Sales"
   ]
  },
  {
   "cell_type": "code",
   "execution_count": null,
   "metadata": {},
   "outputs": [],
   "source": [
    "df_totals_total, df_totals_cities, df_granular, df_granular_cities = sales_by_cities_df()"
   ]
  },
  {
   "cell_type": "code",
   "execution_count": null,
   "metadata": {},
   "outputs": [],
   "source": [
    "df_totals_cities"
   ]
  },
  {
   "cell_type": "code",
   "execution_count": null,
   "metadata": {},
   "outputs": [],
   "source": [
    "df_totals_cities.columns\n"
   ]
  },
  {
   "cell_type": "code",
   "execution_count": null,
   "metadata": {},
   "outputs": [],
   "source": [
    "df_granular"
   ]
  },
  {
   "cell_type": "code",
   "execution_count": null,
   "metadata": {},
   "outputs": [],
   "source": [
    "\n",
    "# def total_sales_plot(df_totals):\n",
    "\n",
    "fig = go.Figure(data=[go.Line(name=city, x=df_totals_cities.index, y=df_totals_cities[city]) for city in df_totals_cities.columns], \n",
    "                layout=dict(height=800, width=1800))\n",
    "fig.update_layout(title=\"İllere Göre Konut Satışı (Yıl Bazında)\", xaxis_title=\"Yıl\", yaxis_title=\"Toplam Konut Satışı\", barmode='stack')\n",
    "fig.update_xaxes(tickmode='linear')\n",
    "fig.update_yaxes(tickmode='linear')\n",
    "\n",
    "fig.show()"
   ]
  },
  {
   "cell_type": "code",
   "execution_count": null,
   "metadata": {},
   "outputs": [],
   "source": [
    "\n",
    "# def total_sales_plot(df_totals):\n",
    "\n",
    "fig = go.Figure(data=[go.Bar(name=\"Adana\", x=df_totals_cities.index, y=df_totals_cities[\"1 Adana\"])], \n",
    "                layout=dict(height=800, width=1800))\n",
    "fig.update_layout(title=\"İllere Göre Konut Satışı (Yıl Bazında)\", xaxis_title=\"Yıl\", yaxis_title=\"Toplam Konut Satışı\", barmode='stack')\n",
    "fig.update_xaxes(tickmode='linear')\n",
    "fig.update_yaxes(tickmode='linear')\n",
    "\n",
    "fig.show()"
   ]
  },
  {
   "cell_type": "code",
   "execution_count": null,
   "metadata": {},
   "outputs": [],
   "source": [
    "df_granular_cities = df_granular.drop(\"Total\", axis=1)\n",
    "df_granular_cities.head()"
   ]
  },
  {
   "cell_type": "code",
   "execution_count": null,
   "metadata": {},
   "outputs": [],
   "source": [
    "\n",
    "# def total_sales_plot(df_totals):\n",
    "\n",
    "fig = go.Figure(data=[go.Line(name=city, x=df_granular_cities.index, y=df_granular_cities[city]) for city in df_totals_cities.columns], \n",
    "                layout=dict(height=800, width=1800))\n",
    "fig.update_layout(title=\"İllere Göre Konut Satışı (Ay bazında)\", xaxis_title=\"Yıl\", yaxis_title=\"Toplam Konut Satışı\", barmode='stack')\n",
    "\n",
    "fig.show()"
   ]
  },
  {
   "cell_type": "code",
   "execution_count": null,
   "metadata": {},
   "outputs": [],
   "source": [
    "df_f = pd.read_excel(\"./datasets/İllere göre yabancılara konut satış sayısı.xls\")\n",
    "df_f.rename(columns={'Unnamed: 1': 'Şehir'}, inplace=True)\n",
    "df_f.tail(14)\n",
    "\n",
    "df_f_total = df_f[df_f['Şehir'] == \"Toplam - Total\"].drop([\"Şehir\", \"Toplam\"], axis=1)#.set_index(\"Yıl\")\n",
    "df_f_total[\"Yıl\"] = df_f_total[\"Yıl\"].astype(int)\n",
    "# df_f_total.index = df_f_total.index.astype(int)\n",
    "\n",
    "df_f[\"Yıl\"] = df_f[\"Yıl\"].ffill().astype(int)\n",
    "df_f.drop(\"Toplam\", axis=1, inplace=True)\n",
    "df_f.tail(19)"
   ]
  },
  {
   "cell_type": "code",
   "execution_count": null,
   "metadata": {},
   "outputs": [],
   "source": [
    "df_f.tail()"
   ]
  },
  {
   "cell_type": "code",
   "execution_count": null,
   "metadata": {},
   "outputs": [],
   "source": [
    "df_f_total.tail()\n"
   ]
  },
  {
   "cell_type": "code",
   "execution_count": null,
   "metadata": {},
   "outputs": [],
   "source": [
    "# Fix the 2024 data\n",
    "# Reshape the DataFrame into long format\n",
    "df_long = df_f_total.melt(id_vars=['Yıl'], var_name='Ay', value_name='Sayı')\n",
    "\n",
    "# Aggregate the data by year, month, and city\n",
    "df_f_total_aggregated = df_long.groupby(['Yıl', 'Ay']).sum().reset_index()\n",
    "\n",
    "# Create a mapping of month names to their corresponding numbers\n",
    "month_mapping = {\n",
    "    'Ocak': 1, 'Şubat': 2, 'Mart': 3, 'Nisan': 4, 'Mayıs': 5, 'Haziran': 6,\n",
    "    'Temmuz': 7, 'Ağustos': 8, 'Eylül': 9, 'Ekim': 10, 'Kasım': 11, 'Aralık': 12\n",
    "}\n",
    "\n",
    "# Convert 'Yıl' and 'Ay' to datetime format\n",
    "df_f_total_aggregated['Tarih'] = df_f_total_aggregated.apply(lambda row: pd.Timestamp(int(row['Yıl']), month_mapping[row['Ay']], 1), axis=1)\n",
    "\n",
    "# Drop the 'Yıl' and 'Ay' columns if not needed anymore\n",
    "df_f_total_aggregated.drop(columns=['Yıl', 'Ay'], inplace=True)\n",
    "\n",
    "df_f_total_aggregated = df_f_total_aggregated.sort_values(by='Tarih')\n",
    "df_f_total_aggregated.set_index(\"Tarih\", inplace=True)\n",
    "df_f_total_aggregated[\"Sayı\"] = df_f_total_aggregated[\"Sayı\"].astype(int)\n",
    "df_f_total_aggregated.info()"
   ]
  },
  {
   "cell_type": "code",
   "execution_count": null,
   "metadata": {},
   "outputs": [],
   "source": [
    "df_f_total_aggregated.tail(15)"
   ]
  },
  {
   "cell_type": "code",
   "execution_count": null,
   "metadata": {},
   "outputs": [],
   "source": []
  },
  {
   "cell_type": "code",
   "execution_count": null,
   "metadata": {},
   "outputs": [],
   "source": [
    "df_f_cities = df_f[df_f['Şehir'] != \"Toplam - Total\"]\n",
    "df_f_cities.head()"
   ]
  },
  {
   "cell_type": "code",
   "execution_count": null,
   "metadata": {},
   "outputs": [],
   "source": [
    "# Fix the 2024 data\n",
    "# Reshape the DataFrame into long format\n",
    "df_long = df_f_cities.melt(id_vars=['Yıl', 'Şehir'], var_name='Ay', value_name='Sayı')\n",
    "\n",
    "# Aggregate the data by year, month, and city\n",
    "df_f_cities_aggregated = df_long.groupby(['Yıl', 'Şehir', 'Ay']).sum().reset_index()\n",
    "\n",
    "# Create a mapping of month names to their corresponding numbers\n",
    "month_mapping = {\n",
    "    'Ocak': 1, 'Şubat': 2, 'Mart': 3, 'Nisan': 4, 'Mayıs': 5, 'Haziran': 6,\n",
    "    'Temmuz': 7, 'Ağustos': 8, 'Eylül': 9, 'Ekim': 10, 'Kasım': 11, 'Aralık': 12\n",
    "}\n",
    "\n",
    "# Convert 'Yıl' and 'Ay' to datetime format\n",
    "df_f_cities_aggregated['Tarih'] = df_f_cities_aggregated.apply(lambda row: pd.Timestamp(int(row['Yıl']), month_mapping[row['Ay']], 1), axis=1)\n",
    "\n",
    "# Drop the 'Yıl' and 'Ay' columns if not needed anymore\n",
    "df_f_cities_aggregated.drop(columns=['Yıl', 'Ay'], inplace=True)\n",
    "\n",
    "\n",
    "df_f_cities_aggregated = df_f_cities_aggregated.sort_values(by='Tarih')\n",
    "df_f_cities_aggregated.set_index(\"Tarih\", inplace=True)\n",
    "df_f_cities_aggregated[\"Sayı\"] = df_f_cities_aggregated[\"Sayı\"].astype(int)\n",
    "df_f_cities_aggregated.info()"
   ]
  },
  {
   "cell_type": "code",
   "execution_count": null,
   "metadata": {},
   "outputs": [],
   "source": [
    "df_f_cities_aggregated.head(20)"
   ]
  },
  {
   "cell_type": "code",
   "execution_count": null,
   "metadata": {},
   "outputs": [],
   "source": []
  },
  {
   "cell_type": "code",
   "execution_count": 2,
   "metadata": {},
   "outputs": [],
   "source": [
    "\n",
    "df_f_total_aggregated, df_f_cities_aggregated = sales_by_cities_foreigners_df()"
   ]
  },
  {
   "cell_type": "code",
   "execution_count": 3,
   "metadata": {},
   "outputs": [
    {
     "data": {
      "text/html": [
       "<div>\n",
       "<style scoped>\n",
       "    .dataframe tbody tr th:only-of-type {\n",
       "        vertical-align: middle;\n",
       "    }\n",
       "\n",
       "    .dataframe tbody tr th {\n",
       "        vertical-align: top;\n",
       "    }\n",
       "\n",
       "    .dataframe thead th {\n",
       "        text-align: right;\n",
       "    }\n",
       "</style>\n",
       "<table border=\"1\" class=\"dataframe\">\n",
       "  <thead>\n",
       "    <tr style=\"text-align: right;\">\n",
       "      <th></th>\n",
       "      <th>Şehir</th>\n",
       "      <th>Total</th>\n",
       "    </tr>\n",
       "    <tr>\n",
       "      <th>Tarih</th>\n",
       "      <th></th>\n",
       "      <th></th>\n",
       "    </tr>\n",
       "  </thead>\n",
       "  <tbody>\n",
       "    <tr>\n",
       "      <th>2013-01-01</th>\n",
       "      <td>48</td>\n",
       "      <td>75</td>\n",
       "    </tr>\n",
       "    <tr>\n",
       "      <th>2013-01-01</th>\n",
       "      <td>33</td>\n",
       "      <td>45</td>\n",
       "    </tr>\n",
       "    <tr>\n",
       "      <th>2013-01-01</th>\n",
       "      <td>35</td>\n",
       "      <td>21</td>\n",
       "    </tr>\n",
       "    <tr>\n",
       "      <th>2013-01-01</th>\n",
       "      <td>16</td>\n",
       "      <td>23</td>\n",
       "    </tr>\n",
       "    <tr>\n",
       "      <th>2013-01-01</th>\n",
       "      <td>99</td>\n",
       "      <td>23</td>\n",
       "    </tr>\n",
       "    <tr>\n",
       "      <th>...</th>\n",
       "      <td>...</td>\n",
       "      <td>...</td>\n",
       "    </tr>\n",
       "    <tr>\n",
       "      <th>2024-04-01</th>\n",
       "      <td>16</td>\n",
       "      <td>28</td>\n",
       "    </tr>\n",
       "    <tr>\n",
       "      <th>2024-04-01</th>\n",
       "      <td>34</td>\n",
       "      <td>454</td>\n",
       "    </tr>\n",
       "    <tr>\n",
       "      <th>2024-04-01</th>\n",
       "      <td>77</td>\n",
       "      <td>23</td>\n",
       "    </tr>\n",
       "    <tr>\n",
       "      <th>2024-04-01</th>\n",
       "      <td>99</td>\n",
       "      <td>69</td>\n",
       "    </tr>\n",
       "    <tr>\n",
       "      <th>2024-04-01</th>\n",
       "      <td>6</td>\n",
       "      <td>29</td>\n",
       "    </tr>\n",
       "  </tbody>\n",
       "</table>\n",
       "<p>1496 rows × 2 columns</p>\n",
       "</div>"
      ],
      "text/plain": [
       "            Şehir  Total\n",
       "Tarih                   \n",
       "2013-01-01     48     75\n",
       "2013-01-01     33     45\n",
       "2013-01-01     35     21\n",
       "2013-01-01     16     23\n",
       "2013-01-01     99     23\n",
       "...           ...    ...\n",
       "2024-04-01     16     28\n",
       "2024-04-01     34    454\n",
       "2024-04-01     77     23\n",
       "2024-04-01     99     69\n",
       "2024-04-01      6     29\n",
       "\n",
       "[1496 rows x 2 columns]"
      ]
     },
     "execution_count": 3,
     "metadata": {},
     "output_type": "execute_result"
    }
   ],
   "source": [
    "df_f_cities_aggregated\n"
   ]
  },
  {
   "cell_type": "code",
   "execution_count": 7,
   "metadata": {},
   "outputs": [
    {
     "data": {
      "text/plain": [
       "array([48, 33, 35, 16, 99,  9,  7, 54,  6, 34, 77, 61, 55, 41],\n",
       "      dtype=int64)"
      ]
     },
     "execution_count": 7,
     "metadata": {},
     "output_type": "execute_result"
    }
   ],
   "source": [
    "df_f_cities_aggregated[\"Şehir\"].unique()"
   ]
  },
  {
   "cell_type": "code",
   "execution_count": 22,
   "metadata": {},
   "outputs": [
    {
     "data": {
      "application/vnd.plotly.v1+json": {
       "config": {
        "plotlyServerURL": "https://plot.ly"
       },
       "data": [
        {
         "hovertemplate": "Şehir=7<br>Tarih=%{x}<br>Total=%{y}<extra></extra>",
         "legendgroup": "7",
         "line": {
          "color": "rgb(229, 134, 6)",
          "dash": "solid"
         },
         "marker": {
          "symbol": "circle"
         },
         "mode": "lines",
         "name": "7",
         "orientation": "v",
         "showlegend": true,
         "type": "scatter",
         "x": [
          "2013-01-01T00:00:00",
          "2013-02-01T00:00:00",
          "2013-03-01T00:00:00",
          "2013-04-01T00:00:00",
          "2013-05-01T00:00:00",
          "2013-06-01T00:00:00",
          "2013-07-01T00:00:00",
          "2013-08-01T00:00:00",
          "2013-09-01T00:00:00",
          "2013-10-01T00:00:00",
          "2013-11-01T00:00:00",
          "2013-12-01T00:00:00",
          "2014-01-01T00:00:00",
          "2014-02-01T00:00:00",
          "2014-03-01T00:00:00",
          "2014-04-01T00:00:00",
          "2014-05-01T00:00:00",
          "2014-06-01T00:00:00",
          "2014-07-01T00:00:00",
          "2014-08-01T00:00:00",
          "2014-09-01T00:00:00",
          "2014-10-01T00:00:00",
          "2014-11-01T00:00:00",
          "2014-12-01T00:00:00",
          "2015-01-01T00:00:00",
          "2015-02-01T00:00:00",
          "2015-03-01T00:00:00",
          "2015-04-01T00:00:00",
          "2015-05-01T00:00:00",
          "2015-06-01T00:00:00",
          "2015-07-01T00:00:00",
          "2015-08-01T00:00:00",
          "2015-09-01T00:00:00",
          "2015-10-01T00:00:00",
          "2015-11-01T00:00:00",
          "2015-12-01T00:00:00",
          "2016-01-01T00:00:00",
          "2016-02-01T00:00:00",
          "2016-03-01T00:00:00",
          "2016-04-01T00:00:00",
          "2016-05-01T00:00:00",
          "2016-06-01T00:00:00",
          "2016-07-01T00:00:00",
          "2016-08-01T00:00:00",
          "2016-09-01T00:00:00",
          "2016-10-01T00:00:00",
          "2016-11-01T00:00:00",
          "2016-12-01T00:00:00",
          "2017-01-01T00:00:00",
          "2017-02-01T00:00:00",
          "2017-03-01T00:00:00",
          "2017-04-01T00:00:00",
          "2017-05-01T00:00:00",
          "2017-06-01T00:00:00",
          "2017-07-01T00:00:00",
          "2017-08-01T00:00:00",
          "2017-09-01T00:00:00",
          "2017-10-01T00:00:00",
          "2017-11-01T00:00:00",
          "2017-12-01T00:00:00",
          "2018-01-01T00:00:00",
          "2018-02-01T00:00:00",
          "2018-03-01T00:00:00",
          "2018-04-01T00:00:00",
          "2018-05-01T00:00:00",
          "2018-06-01T00:00:00",
          "2018-07-01T00:00:00",
          "2018-08-01T00:00:00",
          "2018-09-01T00:00:00",
          "2018-10-01T00:00:00",
          "2018-11-01T00:00:00",
          "2018-12-01T00:00:00",
          "2019-01-01T00:00:00",
          "2019-02-01T00:00:00",
          "2019-03-01T00:00:00",
          "2019-04-01T00:00:00",
          "2019-05-01T00:00:00",
          "2019-06-01T00:00:00",
          "2019-07-01T00:00:00",
          "2019-08-01T00:00:00",
          "2019-09-01T00:00:00",
          "2019-10-01T00:00:00",
          "2019-11-01T00:00:00",
          "2019-12-01T00:00:00",
          "2020-01-01T00:00:00",
          "2020-02-01T00:00:00",
          "2020-03-01T00:00:00",
          "2020-04-01T00:00:00",
          "2020-05-01T00:00:00",
          "2020-06-01T00:00:00",
          "2020-07-01T00:00:00",
          "2020-08-01T00:00:00",
          "2020-09-01T00:00:00",
          "2020-10-01T00:00:00",
          "2020-11-01T00:00:00",
          "2020-12-01T00:00:00",
          "2021-01-01T00:00:00",
          "2021-02-01T00:00:00",
          "2021-03-01T00:00:00",
          "2021-04-01T00:00:00",
          "2021-05-01T00:00:00",
          "2021-06-01T00:00:00",
          "2021-07-01T00:00:00",
          "2021-08-01T00:00:00",
          "2021-09-01T00:00:00",
          "2021-10-01T00:00:00",
          "2021-11-01T00:00:00",
          "2021-12-01T00:00:00",
          "2022-01-01T00:00:00",
          "2022-02-01T00:00:00",
          "2022-03-01T00:00:00",
          "2022-04-01T00:00:00",
          "2022-05-01T00:00:00",
          "2022-06-01T00:00:00",
          "2022-07-01T00:00:00",
          "2022-08-01T00:00:00",
          "2022-09-01T00:00:00",
          "2022-10-01T00:00:00",
          "2022-11-01T00:00:00",
          "2022-12-01T00:00:00",
          "2023-01-01T00:00:00",
          "2023-02-01T00:00:00",
          "2023-03-01T00:00:00",
          "2023-04-01T00:00:00",
          "2023-05-01T00:00:00",
          "2023-06-01T00:00:00",
          "2023-07-01T00:00:00",
          "2023-08-01T00:00:00",
          "2023-09-01T00:00:00",
          "2023-10-01T00:00:00",
          "2023-11-01T00:00:00",
          "2023-12-01T00:00:00",
          "2024-01-01T00:00:00",
          "2024-02-01T00:00:00",
          "2024-03-01T00:00:00",
          "2024-04-01T00:00:00"
         ],
         "xaxis": "x",
         "y": [
          448,
          357,
          495,
          445,
          476,
          358,
          505,
          387,
          482,
          433,
          622,
          540,
          464,
          400,
          459,
          563,
          652,
          586,
          569,
          591,
          590,
          612,
          549,
          507,
          392,
          356,
          451,
          507,
          546,
          610,
          686,
          518,
          440,
          567,
          539,
          460,
          315,
          328,
          360,
          360,
          407,
          381,
          281,
          370,
          359,
          467,
          409,
          315,
          264,
          279,
          313,
          385,
          442,
          408,
          386,
          376,
          520,
          465,
          491,
          378,
          427,
          415,
          446,
          475,
          595,
          525,
          641,
          675,
          1038,
          1160,
          797,
          744,
          601,
          672,
          626,
          676,
          850,
          668,
          764,
          656,
          744,
          912,
          825,
          957,
          762,
          805,
          584,
          150,
          130,
          277,
          615,
          784,
          1018,
          928,
          893,
          789,
          462,
          533,
          889,
          859,
          341,
          906,
          931,
          976,
          1358,
          1385,
          1917,
          1827,
          914,
          1099,
          1434,
          1970,
          1885,
          2534,
          1421,
          1814,
          1585,
          2123,
          2616,
          2465,
          1592,
          1261,
          1324,
          1024,
          1245,
          1004,
          996,
          919,
          1007,
          931,
          790,
          609,
          710,
          691,
          652,
          407
         ],
         "yaxis": "y"
        }
       ],
       "layout": {
        "height": 800,
        "legend": {
         "title": {
          "text": "Şehir"
         },
         "tracegroupgap": 0
        },
        "showlegend": false,
        "template": {
         "data": {
          "bar": [
           {
            "error_x": {
             "color": "#2a3f5f"
            },
            "error_y": {
             "color": "#2a3f5f"
            },
            "marker": {
             "line": {
              "color": "#E5ECF6",
              "width": 0.5
             },
             "pattern": {
              "fillmode": "overlay",
              "size": 10,
              "solidity": 0.2
             }
            },
            "type": "bar"
           }
          ],
          "barpolar": [
           {
            "marker": {
             "line": {
              "color": "#E5ECF6",
              "width": 0.5
             },
             "pattern": {
              "fillmode": "overlay",
              "size": 10,
              "solidity": 0.2
             }
            },
            "type": "barpolar"
           }
          ],
          "carpet": [
           {
            "aaxis": {
             "endlinecolor": "#2a3f5f",
             "gridcolor": "white",
             "linecolor": "white",
             "minorgridcolor": "white",
             "startlinecolor": "#2a3f5f"
            },
            "baxis": {
             "endlinecolor": "#2a3f5f",
             "gridcolor": "white",
             "linecolor": "white",
             "minorgridcolor": "white",
             "startlinecolor": "#2a3f5f"
            },
            "type": "carpet"
           }
          ],
          "choropleth": [
           {
            "colorbar": {
             "outlinewidth": 0,
             "ticks": ""
            },
            "type": "choropleth"
           }
          ],
          "contour": [
           {
            "colorbar": {
             "outlinewidth": 0,
             "ticks": ""
            },
            "colorscale": [
             [
              0,
              "#0d0887"
             ],
             [
              0.1111111111111111,
              "#46039f"
             ],
             [
              0.2222222222222222,
              "#7201a8"
             ],
             [
              0.3333333333333333,
              "#9c179e"
             ],
             [
              0.4444444444444444,
              "#bd3786"
             ],
             [
              0.5555555555555556,
              "#d8576b"
             ],
             [
              0.6666666666666666,
              "#ed7953"
             ],
             [
              0.7777777777777778,
              "#fb9f3a"
             ],
             [
              0.8888888888888888,
              "#fdca26"
             ],
             [
              1,
              "#f0f921"
             ]
            ],
            "type": "contour"
           }
          ],
          "contourcarpet": [
           {
            "colorbar": {
             "outlinewidth": 0,
             "ticks": ""
            },
            "type": "contourcarpet"
           }
          ],
          "heatmap": [
           {
            "colorbar": {
             "outlinewidth": 0,
             "ticks": ""
            },
            "colorscale": [
             [
              0,
              "#0d0887"
             ],
             [
              0.1111111111111111,
              "#46039f"
             ],
             [
              0.2222222222222222,
              "#7201a8"
             ],
             [
              0.3333333333333333,
              "#9c179e"
             ],
             [
              0.4444444444444444,
              "#bd3786"
             ],
             [
              0.5555555555555556,
              "#d8576b"
             ],
             [
              0.6666666666666666,
              "#ed7953"
             ],
             [
              0.7777777777777778,
              "#fb9f3a"
             ],
             [
              0.8888888888888888,
              "#fdca26"
             ],
             [
              1,
              "#f0f921"
             ]
            ],
            "type": "heatmap"
           }
          ],
          "heatmapgl": [
           {
            "colorbar": {
             "outlinewidth": 0,
             "ticks": ""
            },
            "colorscale": [
             [
              0,
              "#0d0887"
             ],
             [
              0.1111111111111111,
              "#46039f"
             ],
             [
              0.2222222222222222,
              "#7201a8"
             ],
             [
              0.3333333333333333,
              "#9c179e"
             ],
             [
              0.4444444444444444,
              "#bd3786"
             ],
             [
              0.5555555555555556,
              "#d8576b"
             ],
             [
              0.6666666666666666,
              "#ed7953"
             ],
             [
              0.7777777777777778,
              "#fb9f3a"
             ],
             [
              0.8888888888888888,
              "#fdca26"
             ],
             [
              1,
              "#f0f921"
             ]
            ],
            "type": "heatmapgl"
           }
          ],
          "histogram": [
           {
            "marker": {
             "pattern": {
              "fillmode": "overlay",
              "size": 10,
              "solidity": 0.2
             }
            },
            "type": "histogram"
           }
          ],
          "histogram2d": [
           {
            "colorbar": {
             "outlinewidth": 0,
             "ticks": ""
            },
            "colorscale": [
             [
              0,
              "#0d0887"
             ],
             [
              0.1111111111111111,
              "#46039f"
             ],
             [
              0.2222222222222222,
              "#7201a8"
             ],
             [
              0.3333333333333333,
              "#9c179e"
             ],
             [
              0.4444444444444444,
              "#bd3786"
             ],
             [
              0.5555555555555556,
              "#d8576b"
             ],
             [
              0.6666666666666666,
              "#ed7953"
             ],
             [
              0.7777777777777778,
              "#fb9f3a"
             ],
             [
              0.8888888888888888,
              "#fdca26"
             ],
             [
              1,
              "#f0f921"
             ]
            ],
            "type": "histogram2d"
           }
          ],
          "histogram2dcontour": [
           {
            "colorbar": {
             "outlinewidth": 0,
             "ticks": ""
            },
            "colorscale": [
             [
              0,
              "#0d0887"
             ],
             [
              0.1111111111111111,
              "#46039f"
             ],
             [
              0.2222222222222222,
              "#7201a8"
             ],
             [
              0.3333333333333333,
              "#9c179e"
             ],
             [
              0.4444444444444444,
              "#bd3786"
             ],
             [
              0.5555555555555556,
              "#d8576b"
             ],
             [
              0.6666666666666666,
              "#ed7953"
             ],
             [
              0.7777777777777778,
              "#fb9f3a"
             ],
             [
              0.8888888888888888,
              "#fdca26"
             ],
             [
              1,
              "#f0f921"
             ]
            ],
            "type": "histogram2dcontour"
           }
          ],
          "mesh3d": [
           {
            "colorbar": {
             "outlinewidth": 0,
             "ticks": ""
            },
            "type": "mesh3d"
           }
          ],
          "parcoords": [
           {
            "line": {
             "colorbar": {
              "outlinewidth": 0,
              "ticks": ""
             }
            },
            "type": "parcoords"
           }
          ],
          "pie": [
           {
            "automargin": true,
            "type": "pie"
           }
          ],
          "scatter": [
           {
            "fillpattern": {
             "fillmode": "overlay",
             "size": 10,
             "solidity": 0.2
            },
            "type": "scatter"
           }
          ],
          "scatter3d": [
           {
            "line": {
             "colorbar": {
              "outlinewidth": 0,
              "ticks": ""
             }
            },
            "marker": {
             "colorbar": {
              "outlinewidth": 0,
              "ticks": ""
             }
            },
            "type": "scatter3d"
           }
          ],
          "scattercarpet": [
           {
            "marker": {
             "colorbar": {
              "outlinewidth": 0,
              "ticks": ""
             }
            },
            "type": "scattercarpet"
           }
          ],
          "scattergeo": [
           {
            "marker": {
             "colorbar": {
              "outlinewidth": 0,
              "ticks": ""
             }
            },
            "type": "scattergeo"
           }
          ],
          "scattergl": [
           {
            "marker": {
             "colorbar": {
              "outlinewidth": 0,
              "ticks": ""
             }
            },
            "type": "scattergl"
           }
          ],
          "scattermapbox": [
           {
            "marker": {
             "colorbar": {
              "outlinewidth": 0,
              "ticks": ""
             }
            },
            "type": "scattermapbox"
           }
          ],
          "scatterpolar": [
           {
            "marker": {
             "colorbar": {
              "outlinewidth": 0,
              "ticks": ""
             }
            },
            "type": "scatterpolar"
           }
          ],
          "scatterpolargl": [
           {
            "marker": {
             "colorbar": {
              "outlinewidth": 0,
              "ticks": ""
             }
            },
            "type": "scatterpolargl"
           }
          ],
          "scatterternary": [
           {
            "marker": {
             "colorbar": {
              "outlinewidth": 0,
              "ticks": ""
             }
            },
            "type": "scatterternary"
           }
          ],
          "surface": [
           {
            "colorbar": {
             "outlinewidth": 0,
             "ticks": ""
            },
            "colorscale": [
             [
              0,
              "#0d0887"
             ],
             [
              0.1111111111111111,
              "#46039f"
             ],
             [
              0.2222222222222222,
              "#7201a8"
             ],
             [
              0.3333333333333333,
              "#9c179e"
             ],
             [
              0.4444444444444444,
              "#bd3786"
             ],
             [
              0.5555555555555556,
              "#d8576b"
             ],
             [
              0.6666666666666666,
              "#ed7953"
             ],
             [
              0.7777777777777778,
              "#fb9f3a"
             ],
             [
              0.8888888888888888,
              "#fdca26"
             ],
             [
              1,
              "#f0f921"
             ]
            ],
            "type": "surface"
           }
          ],
          "table": [
           {
            "cells": {
             "fill": {
              "color": "#EBF0F8"
             },
             "line": {
              "color": "white"
             }
            },
            "header": {
             "fill": {
              "color": "#C8D4E3"
             },
             "line": {
              "color": "white"
             }
            },
            "type": "table"
           }
          ]
         },
         "layout": {
          "annotationdefaults": {
           "arrowcolor": "#2a3f5f",
           "arrowhead": 0,
           "arrowwidth": 1
          },
          "autotypenumbers": "strict",
          "coloraxis": {
           "colorbar": {
            "outlinewidth": 0,
            "ticks": ""
           }
          },
          "colorscale": {
           "diverging": [
            [
             0,
             "#8e0152"
            ],
            [
             0.1,
             "#c51b7d"
            ],
            [
             0.2,
             "#de77ae"
            ],
            [
             0.3,
             "#f1b6da"
            ],
            [
             0.4,
             "#fde0ef"
            ],
            [
             0.5,
             "#f7f7f7"
            ],
            [
             0.6,
             "#e6f5d0"
            ],
            [
             0.7,
             "#b8e186"
            ],
            [
             0.8,
             "#7fbc41"
            ],
            [
             0.9,
             "#4d9221"
            ],
            [
             1,
             "#276419"
            ]
           ],
           "sequential": [
            [
             0,
             "#0d0887"
            ],
            [
             0.1111111111111111,
             "#46039f"
            ],
            [
             0.2222222222222222,
             "#7201a8"
            ],
            [
             0.3333333333333333,
             "#9c179e"
            ],
            [
             0.4444444444444444,
             "#bd3786"
            ],
            [
             0.5555555555555556,
             "#d8576b"
            ],
            [
             0.6666666666666666,
             "#ed7953"
            ],
            [
             0.7777777777777778,
             "#fb9f3a"
            ],
            [
             0.8888888888888888,
             "#fdca26"
            ],
            [
             1,
             "#f0f921"
            ]
           ],
           "sequentialminus": [
            [
             0,
             "#0d0887"
            ],
            [
             0.1111111111111111,
             "#46039f"
            ],
            [
             0.2222222222222222,
             "#7201a8"
            ],
            [
             0.3333333333333333,
             "#9c179e"
            ],
            [
             0.4444444444444444,
             "#bd3786"
            ],
            [
             0.5555555555555556,
             "#d8576b"
            ],
            [
             0.6666666666666666,
             "#ed7953"
            ],
            [
             0.7777777777777778,
             "#fb9f3a"
            ],
            [
             0.8888888888888888,
             "#fdca26"
            ],
            [
             1,
             "#f0f921"
            ]
           ]
          },
          "colorway": [
           "#636efa",
           "#EF553B",
           "#00cc96",
           "#ab63fa",
           "#FFA15A",
           "#19d3f3",
           "#FF6692",
           "#B6E880",
           "#FF97FF",
           "#FECB52"
          ],
          "font": {
           "color": "#2a3f5f"
          },
          "geo": {
           "bgcolor": "white",
           "lakecolor": "white",
           "landcolor": "#E5ECF6",
           "showlakes": true,
           "showland": true,
           "subunitcolor": "white"
          },
          "hoverlabel": {
           "align": "left"
          },
          "hovermode": "closest",
          "mapbox": {
           "style": "light"
          },
          "paper_bgcolor": "white",
          "plot_bgcolor": "#E5ECF6",
          "polar": {
           "angularaxis": {
            "gridcolor": "white",
            "linecolor": "white",
            "ticks": ""
           },
           "bgcolor": "#E5ECF6",
           "radialaxis": {
            "gridcolor": "white",
            "linecolor": "white",
            "ticks": ""
           }
          },
          "scene": {
           "xaxis": {
            "backgroundcolor": "#E5ECF6",
            "gridcolor": "white",
            "gridwidth": 2,
            "linecolor": "white",
            "showbackground": true,
            "ticks": "",
            "zerolinecolor": "white"
           },
           "yaxis": {
            "backgroundcolor": "#E5ECF6",
            "gridcolor": "white",
            "gridwidth": 2,
            "linecolor": "white",
            "showbackground": true,
            "ticks": "",
            "zerolinecolor": "white"
           },
           "zaxis": {
            "backgroundcolor": "#E5ECF6",
            "gridcolor": "white",
            "gridwidth": 2,
            "linecolor": "white",
            "showbackground": true,
            "ticks": "",
            "zerolinecolor": "white"
           }
          },
          "shapedefaults": {
           "line": {
            "color": "#2a3f5f"
           }
          },
          "ternary": {
           "aaxis": {
            "gridcolor": "white",
            "linecolor": "white",
            "ticks": ""
           },
           "baxis": {
            "gridcolor": "white",
            "linecolor": "white",
            "ticks": ""
           },
           "bgcolor": "#E5ECF6",
           "caxis": {
            "gridcolor": "white",
            "linecolor": "white",
            "ticks": ""
           }
          },
          "title": {
           "x": 0.05
          },
          "xaxis": {
           "automargin": true,
           "gridcolor": "white",
           "linecolor": "white",
           "ticks": "",
           "title": {
            "standoff": 15
           },
           "zerolinecolor": "white",
           "zerolinewidth": 2
          },
          "yaxis": {
           "automargin": true,
           "gridcolor": "white",
           "linecolor": "white",
           "ticks": "",
           "title": {
            "standoff": 15
           },
           "zerolinecolor": "white",
           "zerolinewidth": 2
          }
         }
        },
        "title": {
         "text": "Yabancılara Konut Satışı (Ay Bazında): Antalya"
        },
        "width": 1800,
        "xaxis": {
         "anchor": "y",
         "domain": [
          0,
          1
         ],
         "title": {
          "text": "Tarih"
         }
        },
        "yaxis": {
         "anchor": "x",
         "domain": [
          0,
          1
         ],
         "title": {
          "text": "Total"
         }
        }
       }
      }
     },
     "metadata": {},
     "output_type": "display_data"
    }
   ],
   "source": [
    "city_code_map = {0: 'ÜLKE',\n",
    " 1: 'ADANA',\n",
    " 2: 'ADIYAMAN',\n",
    " 3: 'AFYONKARAHİSAR',\n",
    " 4: 'AĞRI',\n",
    " 5: 'AMASYA',\n",
    " 6: 'ANKARA',\n",
    " 7: 'ANTALYA',\n",
    " 8: 'ARTVİN',\n",
    " 9: 'AYDIN',\n",
    " 10: 'BALIKESİR',\n",
    " 11: 'BİLECİK',\n",
    " 12: 'BİNGÖL',\n",
    " 13: 'BİTLİS',\n",
    " 14: 'BOLU',\n",
    " 15: 'BURDUR',\n",
    " 16: 'BURSA',\n",
    " 17: 'ÇANAKKALE',\n",
    " 18: 'ÇANKIRI',\n",
    " 19: 'ÇORUM',\n",
    " 20: 'DENİZLİ',\n",
    " 21: 'DİYARBAKIR',\n",
    " 22: 'EDİRNE',\n",
    " 23: 'ELAZIĞ',\n",
    " 24: 'ERZİNCAN',\n",
    " 25: 'ERZURUM',\n",
    " 26: 'ESKİŞEHİR',\n",
    " 27: 'GAZİANTEP',\n",
    " 28: 'GİRESUN',\n",
    " 29: 'GÜMÜŞHANE',\n",
    " 30: 'HAKKARİ',\n",
    " 31: 'HATAY',\n",
    " 32: 'ISPARTA',\n",
    " 33: 'MERSİN',\n",
    " 34: 'İSTANBUL',\n",
    " 35: 'İZMİR',\n",
    " 36: 'KARS',\n",
    " 37: 'KASTAMONU',\n",
    " 38: 'KAYSERİ',\n",
    " 39: 'KIRKLARELİ',\n",
    " 40: 'KIRŞEHİR',\n",
    " 41: 'KOCAELİ',\n",
    " 42: 'KONYA',\n",
    " 43: 'KÜTAHYA',\n",
    " 44: 'MALATYA',\n",
    " 45: 'MANİSA',\n",
    " 46: 'KAHRAMANMARAŞ',\n",
    " 47: 'MARDİN',\n",
    " 48: 'MUĞLA',\n",
    " 49: 'MUŞ',\n",
    " 50: 'NEVŞEHİR',\n",
    " 51: 'NİĞDE',\n",
    " 52: 'ORDU',\n",
    " 53: 'RİZE',\n",
    " 54: 'SAKARYA',\n",
    " 55: 'SAMSUN',\n",
    " 56: 'SİİRT',\n",
    " 57: 'SİNOP',\n",
    " 58: 'SİVAS',\n",
    " 59: 'TEKİRDAĞ',\n",
    " 60: 'TOKAT',\n",
    " 61: 'TRABZON',\n",
    " 62: 'TUNCELİ',\n",
    " 63: 'ŞANLIURFA',\n",
    " 64: 'UŞAK',\n",
    " 65: 'VAN',\n",
    " 66: 'YOZGAT',\n",
    " 67: 'ZONGULDAK',\n",
    " 68: 'AKSARAY',\n",
    " 69: 'BAYBURT',\n",
    " 70: 'KARAMAN',\n",
    " 71: 'KIRIKKALE',\n",
    " 72: 'BATMAN',\n",
    " 73: 'ŞIRNAK',\n",
    " 74: 'BARTIN',\n",
    " 75: 'ARDAHAN',\n",
    " 76: 'IĞDIR',\n",
    " 77: 'YALOVA',\n",
    " 78: 'KARABÜK',\n",
    " 79: 'KİLİS',\n",
    " 80: 'OSMANİYE',\n",
    " 81: 'DÜZCE',\n",
    " 99: 'Diğer iller - Other Provinces'}\n",
    "\n",
    "\n",
    "city_code_f = [48, 33, 35, 16, 99,  9,  7, 54,  6, 34, 77, 61, 55, 41]\n",
    "\n",
    "fig = go.Figure()\n",
    "city_code = 7\n",
    "try:\n",
    "    if city_code is None:\n",
    "        fig = px.line(df_f_cities_aggregated, x=df_f_cities_aggregated.index, \n",
    "                        y='Total', color='Şehir', title='İllere Göre Yabancılara Konut Satışı (Ay Bazında)')\n",
    "    else:\n",
    "        p_city_code = city_code\n",
    "        if city_code not in city_code_f:\n",
    "            city_code = 99\n",
    "        dff = df_f_cities_aggregated[df_f_cities_aggregated['Şehir'] == city_code]\n",
    "        \n",
    "        fig = px.line(dff, x=dff.index, y='Total', color='Şehir', title=f'Yabancılara Konut Satışı (Ay Bazında): {city_code_map[p_city_code].capitalize()}',\n",
    "                        color_discrete_sequence=px.colors.qualitative.Vivid)\n",
    "        fig.update_layout(showlegend=False)\n",
    "    fig.update_layout(width=1800, height=800)\n",
    "except Exception as e:\n",
    "    print(f\"Error in plot function: {e}\")\n",
    "    raise\n",
    "\n",
    "fig.show()"
   ]
  },
  {
   "cell_type": "markdown",
   "metadata": {},
   "source": [
    "# Population"
   ]
  },
  {
   "cell_type": "code",
   "execution_count": 2,
   "metadata": {},
   "outputs": [],
   "source": [
    "def population_df(df_p):    \n",
    "    df_p = pd.read_excel(\"./datasets/favori_raporlar.xlsx\",  sheet_name=\"MAHALLE NÜFUSU\", index_col=0)\n",
    "    cols = ['il kayit no',\n",
    "    'ilçe kayit no',\n",
    "    'belde/köy kayit no',\n",
    "    'mahalle kayit no',\n",
    "    'il adi',\n",
    "    'ilçe adi',\n",
    "    'belediye adi',\n",
    "    'mahalle adi',\n",
    "    'mahallenin bağli olduğu belediyenin niteliği',\n",
    "    'toplam',\n",
    "    'erkek',\n",
    "    'kadin']\n",
    "    df_p.columns = cols\n",
    "    df_p_cities = df_p.drop([\"toplam\", \"mahallenin bağli olduğu belediyenin niteliği\", \"belediye adi\"], axis=1)\n",
    "    # df_p_cities[(df_p_cities[\"mahalle adi\"]==\" \".join(\"2000 Evler Mh.\".split()[:-1]).upper()) & (df_p_cities[\"ilçe adi\"]==\"seyhan\".upper())] #for query\n",
    "    df_p = df_p[[\"il adi\", \"ilçe adi\", \"mahalle adi\", \"erkek\", \"kadin\"]]\n",
    "\n",
    "    df_p.erkek = df_p.erkek.replace(\"C\", \"0\").astype(int)\n",
    "    df_p.kadin = df_p.kadin.replace(\"C\", \"0\")\n",
    "    df_p.kadin = df_p.kadin.replace(\"-\", \"0\").astype(int)\n",
    "\n",
    "    df_p = df_p.groupby([\"il adi\", \"ilçe adi\", \"mahalle adi\"])[[\"erkek\", \"kadin\"]].sum().reset_index()\n",
    "\n",
    "    return df_p\n",
    "\n"
   ]
  },
  {
   "cell_type": "code",
   "execution_count": 2,
   "metadata": {},
   "outputs": [
    {
     "data": {
      "text/html": [
       "<div>\n",
       "<style scoped>\n",
       "    .dataframe tbody tr th:only-of-type {\n",
       "        vertical-align: middle;\n",
       "    }\n",
       "\n",
       "    .dataframe tbody tr th {\n",
       "        vertical-align: top;\n",
       "    }\n",
       "\n",
       "    .dataframe thead th {\n",
       "        text-align: right;\n",
       "    }\n",
       "</style>\n",
       "<table border=\"1\" class=\"dataframe\">\n",
       "  <thead>\n",
       "    <tr style=\"text-align: right;\">\n",
       "      <th></th>\n",
       "      <th>il adi</th>\n",
       "      <th>ilçe adi</th>\n",
       "      <th>mahalle adi</th>\n",
       "      <th>erkek</th>\n",
       "      <th>kadin</th>\n",
       "    </tr>\n",
       "  </thead>\n",
       "  <tbody>\n",
       "    <tr>\n",
       "      <th>0</th>\n",
       "      <td>ADANA</td>\n",
       "      <td>ALADAĞ</td>\n",
       "      <td>AKPINAR</td>\n",
       "      <td>219</td>\n",
       "      <td>221</td>\n",
       "    </tr>\n",
       "    <tr>\n",
       "      <th>1</th>\n",
       "      <td>ADANA</td>\n",
       "      <td>ALADAĞ</td>\n",
       "      <td>AKÖREN</td>\n",
       "      <td>456</td>\n",
       "      <td>437</td>\n",
       "    </tr>\n",
       "    <tr>\n",
       "      <th>2</th>\n",
       "      <td>ADANA</td>\n",
       "      <td>ALADAĞ</td>\n",
       "      <td>BAŞPINAR</td>\n",
       "      <td>393</td>\n",
       "      <td>369</td>\n",
       "    </tr>\n",
       "    <tr>\n",
       "      <th>3</th>\n",
       "      <td>ADANA</td>\n",
       "      <td>ALADAĞ</td>\n",
       "      <td>BOZTAHTA</td>\n",
       "      <td>118</td>\n",
       "      <td>120</td>\n",
       "    </tr>\n",
       "    <tr>\n",
       "      <th>4</th>\n",
       "      <td>ADANA</td>\n",
       "      <td>ALADAĞ</td>\n",
       "      <td>BÜYÜKSOFULU</td>\n",
       "      <td>872</td>\n",
       "      <td>803</td>\n",
       "    </tr>\n",
       "    <tr>\n",
       "      <th>...</th>\n",
       "      <td>...</td>\n",
       "      <td>...</td>\n",
       "      <td>...</td>\n",
       "      <td>...</td>\n",
       "      <td>...</td>\n",
       "    </tr>\n",
       "    <tr>\n",
       "      <th>31797</th>\n",
       "      <td>ŞIRNAK</td>\n",
       "      <td>İDİL</td>\n",
       "      <td>TEMEL</td>\n",
       "      <td>971</td>\n",
       "      <td>1010</td>\n",
       "    </tr>\n",
       "    <tr>\n",
       "      <th>31798</th>\n",
       "      <td>ŞIRNAK</td>\n",
       "      <td>İDİL</td>\n",
       "      <td>TURGUT ÖZAL</td>\n",
       "      <td>3919</td>\n",
       "      <td>3872</td>\n",
       "    </tr>\n",
       "    <tr>\n",
       "      <th>31799</th>\n",
       "      <td>ŞIRNAK</td>\n",
       "      <td>İDİL</td>\n",
       "      <td>YENİ</td>\n",
       "      <td>5153</td>\n",
       "      <td>5044</td>\n",
       "    </tr>\n",
       "    <tr>\n",
       "      <th>31800</th>\n",
       "      <td>ŞIRNAK</td>\n",
       "      <td>İDİL</td>\n",
       "      <td>YUKARI</td>\n",
       "      <td>2551</td>\n",
       "      <td>2569</td>\n",
       "    </tr>\n",
       "    <tr>\n",
       "      <th>31801</th>\n",
       "      <td>ŞIRNAK</td>\n",
       "      <td>İDİL</td>\n",
       "      <td>ŞAMİL</td>\n",
       "      <td>1037</td>\n",
       "      <td>1047</td>\n",
       "    </tr>\n",
       "  </tbody>\n",
       "</table>\n",
       "<p>31802 rows × 5 columns</p>\n",
       "</div>"
      ],
      "text/plain": [
       "       il adi ilçe adi  mahalle adi  erkek  kadin\n",
       "0       ADANA   ALADAĞ      AKPINAR    219    221\n",
       "1       ADANA   ALADAĞ       AKÖREN    456    437\n",
       "2       ADANA   ALADAĞ     BAŞPINAR    393    369\n",
       "3       ADANA   ALADAĞ     BOZTAHTA    118    120\n",
       "4       ADANA   ALADAĞ  BÜYÜKSOFULU    872    803\n",
       "...       ...      ...          ...    ...    ...\n",
       "31797  ŞIRNAK     İDİL        TEMEL    971   1010\n",
       "31798  ŞIRNAK     İDİL  TURGUT ÖZAL   3919   3872\n",
       "31799  ŞIRNAK     İDİL         YENİ   5153   5044\n",
       "31800  ŞIRNAK     İDİL       YUKARI   2551   2569\n",
       "31801  ŞIRNAK     İDİL        ŞAMİL   1037   1047\n",
       "\n",
       "[31802 rows x 5 columns]"
      ]
     },
     "execution_count": 2,
     "metadata": {},
     "output_type": "execute_result"
    }
   ],
   "source": [
    "df_p = population_df()\n",
    "df_p"
   ]
  },
  {
   "cell_type": "code",
   "execution_count": 11,
   "metadata": {},
   "outputs": [
    {
     "data": {
      "text/plain": [
       "[40095168, 40006021]"
      ]
     },
     "execution_count": 11,
     "metadata": {},
     "output_type": "execute_result"
    }
   ],
   "source": [
    "df_p_il = df_p[[\"erkek\", \"kadin\"]].sum().to_list()\n",
    "df_p_il"
   ]
  },
  {
   "cell_type": "code",
   "execution_count": null,
   "metadata": {},
   "outputs": [],
   "source": [
    "# Pie chart\n",
    "# choloropleth"
   ]
  },
  {
   "cell_type": "code",
   "execution_count": null,
   "metadata": {},
   "outputs": [],
   "source": [
    "# import plotly.graph_objects as go\n",
    "\n",
    "# # Sample data for the pie chart\n",
    "# labels = ['Erkek', 'Kadın']\n",
    "# values = [df_p.iloc[0, 1], df_p.iloc[0, 2]]\n",
    "# colors = ['skyblue', 'salmon']\n",
    "\n",
    "# # Create the Pie chart with custom colors and slice pulled out\n",
    "# fig = go.Figure(go.Pie(\n",
    "#     labels=labels,\n",
    "#     values=values,\n",
    "#     marker=dict(colors=colors),\n",
    "#     hovertemplate='<b>%{label}</b><br>%{value}'\n",
    "# ), layout=dict(width=400, height=400))\n",
    "\n",
    "# # Update the name of the trace\n",
    "# fig.data[0].name = ''\n",
    "\n",
    "# # Set the title\n",
    "# fig.update_layout(title='Cinsiyet Dağılımı')\n",
    "\n",
    "# # Show the figure\n",
    "# fig.show()\n"
   ]
  },
  {
   "cell_type": "code",
   "execution_count": 16,
   "metadata": {},
   "outputs": [
    {
     "data": {
      "text/html": [
       "<div>\n",
       "<style scoped>\n",
       "    .dataframe tbody tr th:only-of-type {\n",
       "        vertical-align: middle;\n",
       "    }\n",
       "\n",
       "    .dataframe tbody tr th {\n",
       "        vertical-align: top;\n",
       "    }\n",
       "\n",
       "    .dataframe thead th {\n",
       "        text-align: right;\n",
       "    }\n",
       "</style>\n",
       "<table border=\"1\" class=\"dataframe\">\n",
       "  <thead>\n",
       "    <tr style=\"text-align: right;\">\n",
       "      <th></th>\n",
       "      <th>il adi</th>\n",
       "      <th>ilçe adi</th>\n",
       "      <th>mahalle adi</th>\n",
       "      <th>erkek</th>\n",
       "      <th>kadin</th>\n",
       "    </tr>\n",
       "  </thead>\n",
       "  <tbody>\n",
       "    <tr>\n",
       "      <th>0</th>\n",
       "      <td>ADANA</td>\n",
       "      <td>ALADAĞ</td>\n",
       "      <td>AKPINAR</td>\n",
       "      <td>219</td>\n",
       "      <td>221</td>\n",
       "    </tr>\n",
       "    <tr>\n",
       "      <th>1</th>\n",
       "      <td>ADANA</td>\n",
       "      <td>ALADAĞ</td>\n",
       "      <td>AKÖREN</td>\n",
       "      <td>456</td>\n",
       "      <td>437</td>\n",
       "    </tr>\n",
       "    <tr>\n",
       "      <th>2</th>\n",
       "      <td>ADANA</td>\n",
       "      <td>ALADAĞ</td>\n",
       "      <td>BAŞPINAR</td>\n",
       "      <td>393</td>\n",
       "      <td>369</td>\n",
       "    </tr>\n",
       "    <tr>\n",
       "      <th>3</th>\n",
       "      <td>ADANA</td>\n",
       "      <td>ALADAĞ</td>\n",
       "      <td>BOZTAHTA</td>\n",
       "      <td>118</td>\n",
       "      <td>120</td>\n",
       "    </tr>\n",
       "    <tr>\n",
       "      <th>4</th>\n",
       "      <td>ADANA</td>\n",
       "      <td>ALADAĞ</td>\n",
       "      <td>BÜYÜKSOFULU</td>\n",
       "      <td>872</td>\n",
       "      <td>803</td>\n",
       "    </tr>\n",
       "    <tr>\n",
       "      <th>...</th>\n",
       "      <td>...</td>\n",
       "      <td>...</td>\n",
       "      <td>...</td>\n",
       "      <td>...</td>\n",
       "      <td>...</td>\n",
       "    </tr>\n",
       "    <tr>\n",
       "      <th>31797</th>\n",
       "      <td>ŞIRNAK</td>\n",
       "      <td>İDİL</td>\n",
       "      <td>TEMEL</td>\n",
       "      <td>971</td>\n",
       "      <td>1010</td>\n",
       "    </tr>\n",
       "    <tr>\n",
       "      <th>31798</th>\n",
       "      <td>ŞIRNAK</td>\n",
       "      <td>İDİL</td>\n",
       "      <td>TURGUT ÖZAL</td>\n",
       "      <td>3919</td>\n",
       "      <td>3872</td>\n",
       "    </tr>\n",
       "    <tr>\n",
       "      <th>31799</th>\n",
       "      <td>ŞIRNAK</td>\n",
       "      <td>İDİL</td>\n",
       "      <td>YENİ</td>\n",
       "      <td>5153</td>\n",
       "      <td>5044</td>\n",
       "    </tr>\n",
       "    <tr>\n",
       "      <th>31800</th>\n",
       "      <td>ŞIRNAK</td>\n",
       "      <td>İDİL</td>\n",
       "      <td>YUKARI</td>\n",
       "      <td>2551</td>\n",
       "      <td>2569</td>\n",
       "    </tr>\n",
       "    <tr>\n",
       "      <th>31801</th>\n",
       "      <td>ŞIRNAK</td>\n",
       "      <td>İDİL</td>\n",
       "      <td>ŞAMİL</td>\n",
       "      <td>1037</td>\n",
       "      <td>1047</td>\n",
       "    </tr>\n",
       "  </tbody>\n",
       "</table>\n",
       "<p>31802 rows × 5 columns</p>\n",
       "</div>"
      ],
      "text/plain": [
       "       il adi ilçe adi  mahalle adi  erkek  kadin\n",
       "0       ADANA   ALADAĞ      AKPINAR    219    221\n",
       "1       ADANA   ALADAĞ       AKÖREN    456    437\n",
       "2       ADANA   ALADAĞ     BAŞPINAR    393    369\n",
       "3       ADANA   ALADAĞ     BOZTAHTA    118    120\n",
       "4       ADANA   ALADAĞ  BÜYÜKSOFULU    872    803\n",
       "...       ...      ...          ...    ...    ...\n",
       "31797  ŞIRNAK     İDİL        TEMEL    971   1010\n",
       "31798  ŞIRNAK     İDİL  TURGUT ÖZAL   3919   3872\n",
       "31799  ŞIRNAK     İDİL         YENİ   5153   5044\n",
       "31800  ŞIRNAK     İDİL       YUKARI   2551   2569\n",
       "31801  ŞIRNAK     İDİL        ŞAMİL   1037   1047\n",
       "\n",
       "[31802 rows x 5 columns]"
      ]
     },
     "execution_count": 16,
     "metadata": {},
     "output_type": "execute_result"
    }
   ],
   "source": [
    "df_p"
   ]
  },
  {
   "cell_type": "code",
   "execution_count": 29,
   "metadata": {},
   "outputs": [
    {
     "data": {
      "text/plain": [
       "[340018, 342402]"
      ]
     },
     "execution_count": 29,
     "metadata": {},
     "output_type": "execute_result"
    }
   ],
   "source": [
    "x = df_p[(df_p[\"il adi\"]==\"Ankara\".upper()) & (df_p[\"ilçe adi\"]==\"MAMAK\".upper())]\n",
    "x = x[[\"erkek\", \"kadin\"]].sum().to_list()\n",
    "x"
   ]
  },
  {
   "cell_type": "code",
   "execution_count": 59,
   "metadata": {},
   "outputs": [
    {
     "data": {
      "application/vnd.plotly.v1+json": {
       "config": {
        "plotlyServerURL": "https://plot.ly"
       },
       "data": [
        {
         "hovertemplate": "<b>%{label}</b><br>%{value}",
         "labels": [
          "Erkek",
          "Kadın"
         ],
         "marker": {
          "colors": [
           "skyblue",
           "salmon"
          ]
         },
         "name": "",
         "pull": [
          0,
          0
         ],
         "textfont": {
          "color": "black",
          "family": "Balto",
          "size": 16
         },
         "textinfo": "label+percent",
         "type": "pie",
         "values": [
          2843392,
          2903900
         ]
        }
       ],
       "layout": {
        "annotations": [
         {
          "align": "center",
          "font": {
           "color": "black",
           "family": "Balto",
           "size": 18
          },
          "showarrow": false,
          "text": "Toplam Nüfus: <b>5,747,292</b>",
          "x": 0.5,
          "xref": "paper",
          "y": -0.2,
          "yref": "paper"
         }
        ],
        "font": {
         "color": "black",
         "family": "Balto",
         "size": 14
        },
        "height": 500,
        "showlegend": false,
        "template": {
         "data": {
          "bar": [
           {
            "error_x": {
             "color": "#2a3f5f"
            },
            "error_y": {
             "color": "#2a3f5f"
            },
            "marker": {
             "line": {
              "color": "#E5ECF6",
              "width": 0.5
             },
             "pattern": {
              "fillmode": "overlay",
              "size": 10,
              "solidity": 0.2
             }
            },
            "type": "bar"
           }
          ],
          "barpolar": [
           {
            "marker": {
             "line": {
              "color": "#E5ECF6",
              "width": 0.5
             },
             "pattern": {
              "fillmode": "overlay",
              "size": 10,
              "solidity": 0.2
             }
            },
            "type": "barpolar"
           }
          ],
          "carpet": [
           {
            "aaxis": {
             "endlinecolor": "#2a3f5f",
             "gridcolor": "white",
             "linecolor": "white",
             "minorgridcolor": "white",
             "startlinecolor": "#2a3f5f"
            },
            "baxis": {
             "endlinecolor": "#2a3f5f",
             "gridcolor": "white",
             "linecolor": "white",
             "minorgridcolor": "white",
             "startlinecolor": "#2a3f5f"
            },
            "type": "carpet"
           }
          ],
          "choropleth": [
           {
            "colorbar": {
             "outlinewidth": 0,
             "ticks": ""
            },
            "type": "choropleth"
           }
          ],
          "contour": [
           {
            "colorbar": {
             "outlinewidth": 0,
             "ticks": ""
            },
            "colorscale": [
             [
              0,
              "#0d0887"
             ],
             [
              0.1111111111111111,
              "#46039f"
             ],
             [
              0.2222222222222222,
              "#7201a8"
             ],
             [
              0.3333333333333333,
              "#9c179e"
             ],
             [
              0.4444444444444444,
              "#bd3786"
             ],
             [
              0.5555555555555556,
              "#d8576b"
             ],
             [
              0.6666666666666666,
              "#ed7953"
             ],
             [
              0.7777777777777778,
              "#fb9f3a"
             ],
             [
              0.8888888888888888,
              "#fdca26"
             ],
             [
              1,
              "#f0f921"
             ]
            ],
            "type": "contour"
           }
          ],
          "contourcarpet": [
           {
            "colorbar": {
             "outlinewidth": 0,
             "ticks": ""
            },
            "type": "contourcarpet"
           }
          ],
          "heatmap": [
           {
            "colorbar": {
             "outlinewidth": 0,
             "ticks": ""
            },
            "colorscale": [
             [
              0,
              "#0d0887"
             ],
             [
              0.1111111111111111,
              "#46039f"
             ],
             [
              0.2222222222222222,
              "#7201a8"
             ],
             [
              0.3333333333333333,
              "#9c179e"
             ],
             [
              0.4444444444444444,
              "#bd3786"
             ],
             [
              0.5555555555555556,
              "#d8576b"
             ],
             [
              0.6666666666666666,
              "#ed7953"
             ],
             [
              0.7777777777777778,
              "#fb9f3a"
             ],
             [
              0.8888888888888888,
              "#fdca26"
             ],
             [
              1,
              "#f0f921"
             ]
            ],
            "type": "heatmap"
           }
          ],
          "heatmapgl": [
           {
            "colorbar": {
             "outlinewidth": 0,
             "ticks": ""
            },
            "colorscale": [
             [
              0,
              "#0d0887"
             ],
             [
              0.1111111111111111,
              "#46039f"
             ],
             [
              0.2222222222222222,
              "#7201a8"
             ],
             [
              0.3333333333333333,
              "#9c179e"
             ],
             [
              0.4444444444444444,
              "#bd3786"
             ],
             [
              0.5555555555555556,
              "#d8576b"
             ],
             [
              0.6666666666666666,
              "#ed7953"
             ],
             [
              0.7777777777777778,
              "#fb9f3a"
             ],
             [
              0.8888888888888888,
              "#fdca26"
             ],
             [
              1,
              "#f0f921"
             ]
            ],
            "type": "heatmapgl"
           }
          ],
          "histogram": [
           {
            "marker": {
             "pattern": {
              "fillmode": "overlay",
              "size": 10,
              "solidity": 0.2
             }
            },
            "type": "histogram"
           }
          ],
          "histogram2d": [
           {
            "colorbar": {
             "outlinewidth": 0,
             "ticks": ""
            },
            "colorscale": [
             [
              0,
              "#0d0887"
             ],
             [
              0.1111111111111111,
              "#46039f"
             ],
             [
              0.2222222222222222,
              "#7201a8"
             ],
             [
              0.3333333333333333,
              "#9c179e"
             ],
             [
              0.4444444444444444,
              "#bd3786"
             ],
             [
              0.5555555555555556,
              "#d8576b"
             ],
             [
              0.6666666666666666,
              "#ed7953"
             ],
             [
              0.7777777777777778,
              "#fb9f3a"
             ],
             [
              0.8888888888888888,
              "#fdca26"
             ],
             [
              1,
              "#f0f921"
             ]
            ],
            "type": "histogram2d"
           }
          ],
          "histogram2dcontour": [
           {
            "colorbar": {
             "outlinewidth": 0,
             "ticks": ""
            },
            "colorscale": [
             [
              0,
              "#0d0887"
             ],
             [
              0.1111111111111111,
              "#46039f"
             ],
             [
              0.2222222222222222,
              "#7201a8"
             ],
             [
              0.3333333333333333,
              "#9c179e"
             ],
             [
              0.4444444444444444,
              "#bd3786"
             ],
             [
              0.5555555555555556,
              "#d8576b"
             ],
             [
              0.6666666666666666,
              "#ed7953"
             ],
             [
              0.7777777777777778,
              "#fb9f3a"
             ],
             [
              0.8888888888888888,
              "#fdca26"
             ],
             [
              1,
              "#f0f921"
             ]
            ],
            "type": "histogram2dcontour"
           }
          ],
          "mesh3d": [
           {
            "colorbar": {
             "outlinewidth": 0,
             "ticks": ""
            },
            "type": "mesh3d"
           }
          ],
          "parcoords": [
           {
            "line": {
             "colorbar": {
              "outlinewidth": 0,
              "ticks": ""
             }
            },
            "type": "parcoords"
           }
          ],
          "pie": [
           {
            "automargin": true,
            "type": "pie"
           }
          ],
          "scatter": [
           {
            "fillpattern": {
             "fillmode": "overlay",
             "size": 10,
             "solidity": 0.2
            },
            "type": "scatter"
           }
          ],
          "scatter3d": [
           {
            "line": {
             "colorbar": {
              "outlinewidth": 0,
              "ticks": ""
             }
            },
            "marker": {
             "colorbar": {
              "outlinewidth": 0,
              "ticks": ""
             }
            },
            "type": "scatter3d"
           }
          ],
          "scattercarpet": [
           {
            "marker": {
             "colorbar": {
              "outlinewidth": 0,
              "ticks": ""
             }
            },
            "type": "scattercarpet"
           }
          ],
          "scattergeo": [
           {
            "marker": {
             "colorbar": {
              "outlinewidth": 0,
              "ticks": ""
             }
            },
            "type": "scattergeo"
           }
          ],
          "scattergl": [
           {
            "marker": {
             "colorbar": {
              "outlinewidth": 0,
              "ticks": ""
             }
            },
            "type": "scattergl"
           }
          ],
          "scattermapbox": [
           {
            "marker": {
             "colorbar": {
              "outlinewidth": 0,
              "ticks": ""
             }
            },
            "type": "scattermapbox"
           }
          ],
          "scatterpolar": [
           {
            "marker": {
             "colorbar": {
              "outlinewidth": 0,
              "ticks": ""
             }
            },
            "type": "scatterpolar"
           }
          ],
          "scatterpolargl": [
           {
            "marker": {
             "colorbar": {
              "outlinewidth": 0,
              "ticks": ""
             }
            },
            "type": "scatterpolargl"
           }
          ],
          "scatterternary": [
           {
            "marker": {
             "colorbar": {
              "outlinewidth": 0,
              "ticks": ""
             }
            },
            "type": "scatterternary"
           }
          ],
          "surface": [
           {
            "colorbar": {
             "outlinewidth": 0,
             "ticks": ""
            },
            "colorscale": [
             [
              0,
              "#0d0887"
             ],
             [
              0.1111111111111111,
              "#46039f"
             ],
             [
              0.2222222222222222,
              "#7201a8"
             ],
             [
              0.3333333333333333,
              "#9c179e"
             ],
             [
              0.4444444444444444,
              "#bd3786"
             ],
             [
              0.5555555555555556,
              "#d8576b"
             ],
             [
              0.6666666666666666,
              "#ed7953"
             ],
             [
              0.7777777777777778,
              "#fb9f3a"
             ],
             [
              0.8888888888888888,
              "#fdca26"
             ],
             [
              1,
              "#f0f921"
             ]
            ],
            "type": "surface"
           }
          ],
          "table": [
           {
            "cells": {
             "fill": {
              "color": "#EBF0F8"
             },
             "line": {
              "color": "white"
             }
            },
            "header": {
             "fill": {
              "color": "#C8D4E3"
             },
             "line": {
              "color": "white"
             }
            },
            "type": "table"
           }
          ]
         },
         "layout": {
          "annotationdefaults": {
           "arrowcolor": "#2a3f5f",
           "arrowhead": 0,
           "arrowwidth": 1
          },
          "autotypenumbers": "strict",
          "coloraxis": {
           "colorbar": {
            "outlinewidth": 0,
            "ticks": ""
           }
          },
          "colorscale": {
           "diverging": [
            [
             0,
             "#8e0152"
            ],
            [
             0.1,
             "#c51b7d"
            ],
            [
             0.2,
             "#de77ae"
            ],
            [
             0.3,
             "#f1b6da"
            ],
            [
             0.4,
             "#fde0ef"
            ],
            [
             0.5,
             "#f7f7f7"
            ],
            [
             0.6,
             "#e6f5d0"
            ],
            [
             0.7,
             "#b8e186"
            ],
            [
             0.8,
             "#7fbc41"
            ],
            [
             0.9,
             "#4d9221"
            ],
            [
             1,
             "#276419"
            ]
           ],
           "sequential": [
            [
             0,
             "#0d0887"
            ],
            [
             0.1111111111111111,
             "#46039f"
            ],
            [
             0.2222222222222222,
             "#7201a8"
            ],
            [
             0.3333333333333333,
             "#9c179e"
            ],
            [
             0.4444444444444444,
             "#bd3786"
            ],
            [
             0.5555555555555556,
             "#d8576b"
            ],
            [
             0.6666666666666666,
             "#ed7953"
            ],
            [
             0.7777777777777778,
             "#fb9f3a"
            ],
            [
             0.8888888888888888,
             "#fdca26"
            ],
            [
             1,
             "#f0f921"
            ]
           ],
           "sequentialminus": [
            [
             0,
             "#0d0887"
            ],
            [
             0.1111111111111111,
             "#46039f"
            ],
            [
             0.2222222222222222,
             "#7201a8"
            ],
            [
             0.3333333333333333,
             "#9c179e"
            ],
            [
             0.4444444444444444,
             "#bd3786"
            ],
            [
             0.5555555555555556,
             "#d8576b"
            ],
            [
             0.6666666666666666,
             "#ed7953"
            ],
            [
             0.7777777777777778,
             "#fb9f3a"
            ],
            [
             0.8888888888888888,
             "#fdca26"
            ],
            [
             1,
             "#f0f921"
            ]
           ]
          },
          "colorway": [
           "#636efa",
           "#EF553B",
           "#00cc96",
           "#ab63fa",
           "#FFA15A",
           "#19d3f3",
           "#FF6692",
           "#B6E880",
           "#FF97FF",
           "#FECB52"
          ],
          "font": {
           "color": "#2a3f5f"
          },
          "geo": {
           "bgcolor": "white",
           "lakecolor": "white",
           "landcolor": "#E5ECF6",
           "showlakes": true,
           "showland": true,
           "subunitcolor": "white"
          },
          "hoverlabel": {
           "align": "left"
          },
          "hovermode": "closest",
          "mapbox": {
           "style": "light"
          },
          "paper_bgcolor": "white",
          "plot_bgcolor": "#E5ECF6",
          "polar": {
           "angularaxis": {
            "gridcolor": "white",
            "linecolor": "white",
            "ticks": ""
           },
           "bgcolor": "#E5ECF6",
           "radialaxis": {
            "gridcolor": "white",
            "linecolor": "white",
            "ticks": ""
           }
          },
          "scene": {
           "xaxis": {
            "backgroundcolor": "#E5ECF6",
            "gridcolor": "white",
            "gridwidth": 2,
            "linecolor": "white",
            "showbackground": true,
            "ticks": "",
            "zerolinecolor": "white"
           },
           "yaxis": {
            "backgroundcolor": "#E5ECF6",
            "gridcolor": "white",
            "gridwidth": 2,
            "linecolor": "white",
            "showbackground": true,
            "ticks": "",
            "zerolinecolor": "white"
           },
           "zaxis": {
            "backgroundcolor": "#E5ECF6",
            "gridcolor": "white",
            "gridwidth": 2,
            "linecolor": "white",
            "showbackground": true,
            "ticks": "",
            "zerolinecolor": "white"
           }
          },
          "shapedefaults": {
           "line": {
            "color": "#2a3f5f"
           }
          },
          "ternary": {
           "aaxis": {
            "gridcolor": "white",
            "linecolor": "white",
            "ticks": ""
           },
           "baxis": {
            "gridcolor": "white",
            "linecolor": "white",
            "ticks": ""
           },
           "bgcolor": "#E5ECF6",
           "caxis": {
            "gridcolor": "white",
            "linecolor": "white",
            "ticks": ""
           }
          },
          "title": {
           "x": 0.05
          },
          "xaxis": {
           "automargin": true,
           "gridcolor": "white",
           "linecolor": "white",
           "ticks": "",
           "title": {
            "standoff": 15
           },
           "zerolinecolor": "white",
           "zerolinewidth": 2
          },
          "yaxis": {
           "automargin": true,
           "gridcolor": "white",
           "linecolor": "white",
           "ticks": "",
           "title": {
            "standoff": 15
           },
           "zerolinecolor": "white",
           "zerolinewidth": 2
          }
         }
        },
        "title": {
         "font": {
          "family": "Balto",
          "size": 30
         },
         "pad": {
          "b": 10
         },
         "text": "Cinsiyet Dağılımları: Ankara"
        },
        "width": 900
       }
      }
     },
     "metadata": {},
     "output_type": "display_data"
    }
   ],
   "source": [
    "import plotly.graph_objects as go\n",
    "from plotly.subplots import make_subplots\n",
    "def population_plot(df_p, city_name=None, town_name=None, district_name=None):\n",
    "    # Create the figure with subplots\n",
    "    labels = ['Erkek', 'Kadın']\n",
    "    colors = ['skyblue', 'salmon']\n",
    "    title = \"\"\n",
    "    fig = go.Figure()\n",
    "\n",
    "    if city_name==None and town_name==None and district_name==None:\n",
    "        title = \"Bütün Ülke\"\n",
    "        values1 = df_p[[\"erkek\", \"kadin\"]].sum().to_list()\n",
    "        fig.add_trace(go.Pie(\n",
    "            name=\"\",\n",
    "            labels=labels,\n",
    "            values=values1,\n",
    "            marker=dict(colors=colors),\n",
    "            hovertemplate='<b>%{label}</b><br>%{value}',\n",
    "            pull=[0, 0],\n",
    "            textfont=dict(size=16, family=\"Balto\", color=\"black\"),  # Adjust text size and color\n",
    "            textinfo='label+percent',  # Show labels and percentages\n",
    "        ))\n",
    "    \n",
    "    elif city_name!=None and (town_name==None and district_name==None):\n",
    "        title = city_name.capitalize()\n",
    "        values1 = df_p[df_p[\"il adi\"]==city_name.upper()]\n",
    "        values1 = values1[[\"erkek\", \"kadin\"]].sum().to_list()\n",
    "        fig.add_trace(go.Pie(\n",
    "            name=\"\",\n",
    "            labels=labels,\n",
    "            values=values1,\n",
    "            marker=dict(colors=colors),\n",
    "            hovertemplate='<b>%{label}</b><br>%{value}',\n",
    "            pull=[0, 0],\n",
    "            textfont=dict(size=16, family=\"Balto\", color=\"black\"),  # Adjust text size and color\n",
    "            textinfo='label+percent',  # Show labels and percentages\n",
    "        ))\n",
    "    \n",
    "    elif city_name!=None and (town_name!=None and district_name==None):\n",
    "        title = f\"{city_name.capitalize()}, {town_name.capitalize()}\"\n",
    "        values1 = df_p[(df_p[\"il adi\"]==city_name.upper()) & (df_p[\"ilçe adi\"]==town_name.upper())]\n",
    "        values1 = values1[[\"erkek\", \"kadin\"]].sum().to_list()\n",
    "        fig.add_trace(go.Pie(\n",
    "            name=\"\",\n",
    "            labels=labels,\n",
    "            values=values1,\n",
    "            marker=dict(colors=colors),\n",
    "            hovertemplate='<b>%{label}</b><br>%{value}',\n",
    "            pull=[0, 0],\n",
    "            textfont=dict(size=16, family=\"Balto\", color=\"black\"),  # Adjust text size and color\n",
    "            textinfo='label+percent',  # Show labels and percentages\n",
    "        ))\n",
    "    \n",
    "    elif city_name!=None and (town_name!=None and district_name!=None):\n",
    "        title = f\"{city_name.capitalize()}, {town_name.capitalize()}, {district_name.capitalize()} Mh.\"\n",
    "        if len(district_name.split()) > 1:\n",
    "            district_name = district_name + \" Mh.\"\n",
    "        values1 = df_p[(df_p[\"il adi\"]==city_name.upper()) & (df_p[\"ilçe adi\"]==town_name.upper()) & (df_p[\"mahalle adi\"]==\" \".join(district_name.split()[:-1]).upper())] # assuming that every mahalle ends with MH.\n",
    "        values1 = values1[[\"erkek\", \"kadin\"]].sum().to_list()\n",
    "        fig.add_trace(go.Pie(\n",
    "            name=\"\",\n",
    "            labels=labels,\n",
    "            values=values1,\n",
    "            marker=dict(colors=colors),\n",
    "            hovertemplate='<b>%{label}</b><br>%{value}',\n",
    "            pull=[0, 0],\n",
    "            textfont=dict(size=16, family=\"Balto\", color=\"black\"),  # Adjust text size and color\n",
    "            textinfo='label+percent',  # Show labels and percentages\n",
    "        ))\n",
    "    else:\n",
    "        fig.add_annotation(\n",
    "        text=\"Please enter either: Only city name, City name and Town name, or all three\",\n",
    "        xref=\"paper\", yref=\"paper\",\n",
    "        x=0.5, y=0.5, showarrow=False,\n",
    "        font=dict(\n",
    "            family=\"Balto, Arial, sans-serif\",\n",
    "            size=20,\n",
    "            color=\"black\"\n",
    "            )\n",
    "        )\n",
    "\n",
    "        # Update layout to remove axes\n",
    "        fig.update_layout(\n",
    "            xaxis=dict(visible=False),\n",
    "            yaxis=dict(visible=False),\n",
    "            plot_bgcolor='rgba(0,0,0,0)',\n",
    "            margin=dict(l=0, r=0, t=0, b=0)\n",
    "        )\n",
    "        return fig\n",
    "\n",
    "    # Update layout\n",
    "    fig.update_layout(\n",
    "        title=f'Cinsiyet Dağılımları: {title}',\n",
    "        width=900,\n",
    "        height=500,\n",
    "        title_font=dict(size=30, family=\"Balto\", ),  # Adjust title font\n",
    "        title_pad_b=10,\n",
    "        font=dict(\n",
    "            family=\"Balto\",  # Adjust default font family for labels\n",
    "            size=14,  # Adjust default font size for labels\n",
    "            color=\"black\"  # Adjust default font color for labels\n",
    "        ),\n",
    "        showlegend=False\n",
    "    )\n",
    "\n",
    "    for annotation in fig['layout']['annotations']:\n",
    "        annotation['y'] = 0.95  # Adjust this value for more/less padding\n",
    "\n",
    "    # Add the text annotation below the plots\n",
    "    fig.add_annotation(\n",
    "        text=f\"Toplam Nüfus: <b>{sum(values1):,}</b>\",\n",
    "        xref=\"paper\", yref=\"paper\",\n",
    "        x=0.5, y=-0.2,\n",
    "        showarrow=False,\n",
    "        font=dict(size=18, family=\"Balto\", color=\"black\"),\n",
    "        align=\"center\"\n",
    "    )\n",
    "    return fig\n",
    "fig = population_plot(df_p, city_name=\"ankara\")\n",
    "# Show the figure\n",
    "fig.show()\n"
   ]
  },
  {
   "cell_type": "code",
   "execution_count": null,
   "metadata": {},
   "outputs": [],
   "source": [
    "import plotly.express as px\n",
    "\n",
    "# Assuming you have the GeoJSON file for Turkey provinces\n",
    "geojson_file = './tr-cities.json'\n",
    "\n",
    "# Calculate total population\n",
    "df_p_cities['total_population'] = df_p_cities['toplam-erkek'] + df_p_cities['toplam-kadin']\n",
    "\n",
    "# Load GeoJSON data\n",
    "import json\n",
    "with open(geojson_file) as f:\n",
    "    turkey_geojson = json.load(f)\n",
    "\n",
    "# Ensure the province names in the DataFrame match the names in the GeoJSON file\n",
    "# This might require some preprocessing if the names don't match exactly\n",
    "\n",
    "\n",
    "# Create the choropleth map\n",
    "fig = px.choropleth(\n",
    "    df_p_cities,\n",
    "    geojson=turkey_geojson,\n",
    "    locations='il adi',\n",
    "    featureidkey=\"properties.name\",  # This should match the property name in your GeoJSON file for province names\n",
    "    color='total_population',\n",
    "    hover_name='il adi',\n",
    "    hover_data={'toplam-erkek': True, 'toplam-kadin': True, 'total_population': True},\n",
    "    color_continuous_scale='Viridis',\n",
    "    labels={'total_population': 'Total Population'},\n",
    "    title='Total Population by Province in Turkey'\n",
    ")\n",
    "\n",
    "# Update the layout for better visualization\n",
    "fig.update_geos(\n",
    "    visible=False,\n",
    "    resolution=50,\n",
    "    showcountries=True,\n",
    "    countrycolor=\"Black\",\n",
    "    showcoastlines=True,\n",
    "    coastlinecolor=\"Black\",\n",
    "    showland=True,\n",
    "    landcolor=\"white\",\n",
    ")\n",
    "\n",
    "fig.update_layout(\n",
    "    title_font=dict(size=24, family=\"Arial, sans-serif\"),\n",
    "    font=dict(size=12, family=\"Arial, sans-serif\"),\n",
    "    margin={\"r\":0,\"t\":50,\"l\":0,\"b\":0}\n",
    ")\n",
    "\n",
    "# Show the map\n",
    "# fig.show()\n"
   ]
  },
  {
   "cell_type": "code",
   "execution_count": null,
   "metadata": {},
   "outputs": [],
   "source": [
    "turkey_geojson.keys()"
   ]
  },
  {
   "cell_type": "code",
   "execution_count": null,
   "metadata": {},
   "outputs": [],
   "source": [
    "turkey_geojson[\"features\"][2][\"properties\"][\"name\"]"
   ]
  }
 ],
 "metadata": {
  "kernelspec": {
   "display_name": "Python 3",
   "language": "python",
   "name": "python3"
  },
  "language_info": {
   "codemirror_mode": {
    "name": "ipython",
    "version": 3
   },
   "file_extension": ".py",
   "mimetype": "text/x-python",
   "name": "python",
   "nbconvert_exporter": "python",
   "pygments_lexer": "ipython3",
   "version": "3.12.3"
  }
 },
 "nbformat": 4,
 "nbformat_minor": 2
}
