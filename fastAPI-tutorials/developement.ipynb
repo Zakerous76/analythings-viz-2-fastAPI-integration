{
 "cells": [
  {
   "cell_type": "code",
   "execution_count": null,
   "metadata": {},
   "outputs": [],
   "source": [
    "import numpy as np\n",
    "import plotly.graph_objs as go\n",
    "import plotly.express as px\n",
    "import pandas as pd\n",
    "from prep_data import *\n",
    "import locale\n",
    "# locale.setlocale(locale.LC_TIME, 'tr_TR.UTF8')\n",
    "# "
   ]
  },
  {
   "cell_type": "markdown",
   "metadata": {},
   "source": [
    "# Sales"
   ]
  },
  {
   "cell_type": "code",
   "execution_count": null,
   "metadata": {},
   "outputs": [],
   "source": [
    "df_totals_total, df_totals_cities, df_granular, df_granular_cities = sales_by_cities_df()"
   ]
  },
  {
   "cell_type": "code",
   "execution_count": null,
   "metadata": {},
   "outputs": [],
   "source": [
    "df_totals_cities"
   ]
  },
  {
   "cell_type": "code",
   "execution_count": null,
   "metadata": {},
   "outputs": [],
   "source": [
    "df_totals_cities.columns\n"
   ]
  },
  {
   "cell_type": "code",
   "execution_count": null,
   "metadata": {},
   "outputs": [],
   "source": [
    "df_granular"
   ]
  },
  {
   "cell_type": "code",
   "execution_count": null,
   "metadata": {},
   "outputs": [],
   "source": [
    "\n",
    "# def total_sales_plot(df_totals):\n",
    "\n",
    "fig = go.Figure(data=[go.Line(name=city, x=df_totals_cities.index, y=df_totals_cities[city]) for city in df_totals_cities.columns], \n",
    "                layout=dict(height=800, width=1800))\n",
    "fig.update_layout(title=\"İllere Göre Konut Satışı (Yıl Bazında)\", xaxis_title=\"Yıl\", yaxis_title=\"Toplam Konut Satışı\", barmode='stack')\n",
    "fig.update_xaxes(tickmode='linear')\n",
    "fig.update_yaxes(tickmode='linear')\n",
    "\n",
    "fig.show()"
   ]
  },
  {
   "cell_type": "code",
   "execution_count": null,
   "metadata": {},
   "outputs": [],
   "source": [
    "\n",
    "# def total_sales_plot(df_totals):\n",
    "\n",
    "fig = go.Figure(data=[go.Bar(name=\"Adana\", x=df_totals_cities.index, y=df_totals_cities[\"1 Adana\"])], \n",
    "                layout=dict(height=800, width=1800))\n",
    "fig.update_layout(title=\"İllere Göre Konut Satışı (Yıl Bazında)\", xaxis_title=\"Yıl\", yaxis_title=\"Toplam Konut Satışı\", barmode='stack')\n",
    "fig.update_xaxes(tickmode='linear')\n",
    "fig.update_yaxes(tickmode='linear')\n",
    "\n",
    "fig.show()"
   ]
  },
  {
   "cell_type": "code",
   "execution_count": null,
   "metadata": {},
   "outputs": [],
   "source": [
    "df_granular_cities = df_granular.drop(\"Total\", axis=1)\n",
    "df_granular_cities.head()"
   ]
  },
  {
   "cell_type": "code",
   "execution_count": null,
   "metadata": {},
   "outputs": [],
   "source": [
    "\n",
    "# def total_sales_plot(df_totals):\n",
    "\n",
    "fig = go.Figure(data=[go.Line(name=city, x=df_granular_cities.index, y=df_granular_cities[city]) for city in df_totals_cities.columns], \n",
    "                layout=dict(height=800, width=1800))\n",
    "fig.update_layout(title=\"İllere Göre Konut Satışı (Ay bazında)\", xaxis_title=\"Yıl\", yaxis_title=\"Toplam Konut Satışı\", barmode='stack')\n",
    "\n",
    "fig.show()"
   ]
  },
  {
   "cell_type": "code",
   "execution_count": null,
   "metadata": {},
   "outputs": [],
   "source": [
    "df_f = pd.read_excel(\"./datasets/İllere göre yabancılara konut satış sayısı.xls\")\n",
    "df_f.rename(columns={'Unnamed: 1': 'Şehir'}, inplace=True)\n",
    "df_f.tail(14)\n",
    "\n",
    "df_f_total = df_f[df_f['Şehir'] == \"Toplam - Total\"].drop([\"Şehir\", \"Toplam\"], axis=1)#.set_index(\"Yıl\")\n",
    "df_f_total[\"Yıl\"] = df_f_total[\"Yıl\"].astype(int)\n",
    "# df_f_total.index = df_f_total.index.astype(int)\n",
    "\n",
    "df_f[\"Yıl\"] = df_f[\"Yıl\"].ffill().astype(int)\n",
    "df_f.drop(\"Toplam\", axis=1, inplace=True)\n",
    "df_f.tail(19)"
   ]
  },
  {
   "cell_type": "code",
   "execution_count": null,
   "metadata": {},
   "outputs": [],
   "source": [
    "df_f.tail()"
   ]
  },
  {
   "cell_type": "code",
   "execution_count": null,
   "metadata": {},
   "outputs": [],
   "source": [
    "df_f_total.tail()\n"
   ]
  },
  {
   "cell_type": "code",
   "execution_count": null,
   "metadata": {},
   "outputs": [],
   "source": [
    "# Fix the 2024 data\n",
    "# Reshape the DataFrame into long format\n",
    "df_long = df_f_total.melt(id_vars=['Yıl'], var_name='Ay', value_name='Sayı')\n",
    "\n",
    "# Aggregate the data by year, month, and city\n",
    "df_f_total_aggregated = df_long.groupby(['Yıl', 'Ay']).sum().reset_index()\n",
    "\n",
    "# Create a mapping of month names to their corresponding numbers\n",
    "month_mapping = {\n",
    "    'Ocak': 1, 'Şubat': 2, 'Mart': 3, 'Nisan': 4, 'Mayıs': 5, 'Haziran': 6,\n",
    "    'Temmuz': 7, 'Ağustos': 8, 'Eylül': 9, 'Ekim': 10, 'Kasım': 11, 'Aralık': 12\n",
    "}\n",
    "\n",
    "# Convert 'Yıl' and 'Ay' to datetime format\n",
    "df_f_total_aggregated['Tarih'] = df_f_total_aggregated.apply(lambda row: pd.Timestamp(int(row['Yıl']), month_mapping[row['Ay']], 1), axis=1)\n",
    "\n",
    "# Drop the 'Yıl' and 'Ay' columns if not needed anymore\n",
    "df_f_total_aggregated.drop(columns=['Yıl', 'Ay'], inplace=True)\n",
    "\n",
    "df_f_total_aggregated = df_f_total_aggregated.sort_values(by='Tarih')\n",
    "df_f_total_aggregated.set_index(\"Tarih\", inplace=True)\n",
    "df_f_total_aggregated[\"Sayı\"] = df_f_total_aggregated[\"Sayı\"].astype(int)\n",
    "df_f_total_aggregated.info()"
   ]
  },
  {
   "cell_type": "code",
   "execution_count": null,
   "metadata": {},
   "outputs": [],
   "source": [
    "df_f_total_aggregated.tail(15)"
   ]
  },
  {
   "cell_type": "code",
   "execution_count": null,
   "metadata": {},
   "outputs": [],
   "source": []
  },
  {
   "cell_type": "code",
   "execution_count": null,
   "metadata": {},
   "outputs": [],
   "source": [
    "df_f_cities = df_f[df_f['Şehir'] != \"Toplam - Total\"]\n",
    "df_f_cities.head()"
   ]
  },
  {
   "cell_type": "code",
   "execution_count": null,
   "metadata": {},
   "outputs": [],
   "source": [
    "# Fix the 2024 data\n",
    "# Reshape the DataFrame into long format\n",
    "df_long = df_f_cities.melt(id_vars=['Yıl', 'Şehir'], var_name='Ay', value_name='Sayı')\n",
    "\n",
    "# Aggregate the data by year, month, and city\n",
    "df_f_cities_aggregated = df_long.groupby(['Yıl', 'Şehir', 'Ay']).sum().reset_index()\n",
    "\n",
    "# Create a mapping of month names to their corresponding numbers\n",
    "month_mapping = {\n",
    "    'Ocak': 1, 'Şubat': 2, 'Mart': 3, 'Nisan': 4, 'Mayıs': 5, 'Haziran': 6,\n",
    "    'Temmuz': 7, 'Ağustos': 8, 'Eylül': 9, 'Ekim': 10, 'Kasım': 11, 'Aralık': 12\n",
    "}\n",
    "\n",
    "# Convert 'Yıl' and 'Ay' to datetime format\n",
    "df_f_cities_aggregated['Tarih'] = df_f_cities_aggregated.apply(lambda row: pd.Timestamp(int(row['Yıl']), month_mapping[row['Ay']], 1), axis=1)\n",
    "\n",
    "# Drop the 'Yıl' and 'Ay' columns if not needed anymore\n",
    "df_f_cities_aggregated.drop(columns=['Yıl', 'Ay'], inplace=True)\n",
    "\n",
    "\n",
    "df_f_cities_aggregated = df_f_cities_aggregated.sort_values(by='Tarih')\n",
    "df_f_cities_aggregated.set_index(\"Tarih\", inplace=True)\n",
    "df_f_cities_aggregated[\"Sayı\"] = df_f_cities_aggregated[\"Sayı\"].astype(int)\n",
    "df_f_cities_aggregated.info()"
   ]
  },
  {
   "cell_type": "code",
   "execution_count": null,
   "metadata": {},
   "outputs": [],
   "source": [
    "df_f_cities_aggregated.head(20)"
   ]
  },
  {
   "cell_type": "code",
   "execution_count": null,
   "metadata": {},
   "outputs": [],
   "source": []
  },
  {
   "cell_type": "code",
   "execution_count": null,
   "metadata": {},
   "outputs": [],
   "source": [
    "\n",
    "def sales_by_cities_foreigners_df(start_year=2013, end_year=2024):\n",
    "    \"\"\"\n",
    "        This function returns the number of real estates sold to foreigners in each city (İl)\n",
    "\n",
    "        params:\n",
    "            start_year (int): the starting year for the total number of sales in the country\n",
    "            end_year (int): the ending year for the total number of sales in the country\n",
    "\n",
    "        returns:\n",
    "            df_totals_total (pandas_df): Total number of real estates sold in the country\n",
    "            df_totals_cities (pandas_df): Total number of real estates sold in each city\n",
    "            df_granular (pandas_df): Number of real estates sold in the country in total a between [start_year, end_year] and in each city\n",
    "                in each month (monthly granularity)\n",
    "            df_granular_cities (pandas_df): df_granular without the \"Total\" column \n",
    "    \"\"\"\n",
    "\n",
    "    df_f = pd.read_excel(\"./datasets/İllere göre yabancılara konut satış sayısı.xls\")\n",
    "    df_f.rename(columns={'Unnamed: 1': 'Şehir'}, inplace=True)\n",
    "    df_f_total = df_f[df_f['Şehir'] == \"Toplam - Total\"].drop([\"Şehir\", \"Toplam\"], axis=1)#.set_index(\"Yıl\")\n",
    "    df_f_total[\"Yıl\"] = df_f_total[\"Yıl\"].astype(int)\n",
    "    df_f[\"Yıl\"] = df_f[\"Yıl\"].ffill().astype(int)\n",
    "    df_f.drop(\"Toplam\", axis=1, inplace=True)\n",
    "\n",
    "    df_long = df_f_total.melt(id_vars=['Yıl'], var_name='Ay', value_name='Total')\n",
    "    df_f_total_aggregated = df_long.groupby(['Yıl', 'Ay']).sum().reset_index()\n",
    "    month_mapping = {\n",
    "        'Ocak': 1, 'Şubat': 2, 'Mart': 3, 'Nisan': 4, 'Mayıs': 5, 'Haziran': 6,\n",
    "        'Temmuz': 7, 'Ağustos': 8, 'Eylül': 9, 'Ekim': 10, 'Kasım': 11, 'Aralık': 12\n",
    "    }\n",
    "    df_f_total_aggregated['Tarih'] = df_f_total_aggregated.apply(lambda row: pd.Timestamp(int(row['Yıl']), month_mapping[row['Ay']], 1), axis=1)\n",
    "    df_f_total_aggregated.drop(columns=['Yıl', 'Ay'], inplace=True)\n",
    "    df_f_total_aggregated = df_f_total_aggregated.sort_values(by='Tarih')\n",
    "    df_f_total_aggregated.set_index(\"Tarih\", inplace=True)\n",
    "    df_f_total_aggregated[\"Total\"] = df_f_total_aggregated[\"Total\"].astype(int)\n",
    "\n",
    "    df_f_cities = df_f[df_f['Şehir'] != \"Toplam - Total\"]\n",
    "    df_long = df_f_cities.melt(id_vars=['Yıl', 'Şehir'], var_name='Ay', value_name='Total')\n",
    "    df_f_cities_aggregated = df_long.groupby(['Yıl', 'Şehir', 'Ay']).sum().reset_index()\n",
    "    df_f_cities_aggregated['Tarih'] = df_f_cities_aggregated.apply(lambda row: pd.Timestamp(int(row['Yıl']), month_mapping[row['Ay']], 1), axis=1)\n",
    "    df_f_cities_aggregated.drop(columns=['Yıl', 'Ay'], inplace=True)\n",
    "    df_f_cities_aggregated = df_f_cities_aggregated.sort_values(by='Tarih')\n",
    "    df_f_cities_aggregated.set_index(\"Tarih\", inplace=True)\n",
    "    df_f_cities_aggregated[\"Total\"] = df_f_cities_aggregated[\"Total\"].astype(int)\n",
    "\n",
    "    df_f_total_aggregated = df_f_total_aggregated[(df_f_total_aggregated.index.year <= end_year) & (df_f_total_aggregated.index.year >= start_year)]\n",
    "    df_f_total_aggregated = df_f_total_aggregated[df_f_total_aggregated['Total'] != 0]\n",
    "\n",
    "    df_f_cities_aggregated = df_f_cities_aggregated[(df_f_cities_aggregated.index.year <= end_year) & (df_f_cities_aggregated.index.year >= start_year)]\n",
    "    df_f_cities_aggregated = df_f_cities_aggregated[df_f_cities_aggregated['Total'] != 0]\n",
    "\n",
    "\n",
    "    return df_f_total_aggregated, df_f_cities_aggregated\n",
    "\n",
    "df_f_total_aggregated, df_f_cities_aggregated = sales_by_cities_foreigners_df()"
   ]
  },
  {
   "cell_type": "code",
   "execution_count": null,
   "metadata": {},
   "outputs": [],
   "source": []
  },
  {
   "cell_type": "markdown",
   "metadata": {},
   "source": [
    "# Population"
   ]
  },
  {
   "cell_type": "code",
   "execution_count": null,
   "metadata": {},
   "outputs": [],
   "source": [
    "df_p = pd.read_excel(\"./datasets/favori_raporlar.xlsx\", header=[0, 1])\n",
    "\n",
    "# df_p.columns = ['-'.join(col).strip().lower() for col in df_p.columns.values]\n",
    "# df_p_new_cols = df_p.columns.to_list()\n",
    "# for i in range(0,3):\n",
    "#     df_p_new_cols[i] = df_p_new_cols[i].split(\"-\")[0]\n",
    "# df_p.columns = df_p_new_cols\n",
    "\n",
    "cols = ['il kayit no', 'il adi', 'toplam', 'toplam-erkek', 'toplam-kadin',\n",
    "       'il ve ilçe merkezleri-toplam', 'il ve ilçe merkezleri-erkek',\n",
    "       'il ve ilçe merkezleri-kadin', 'belde ve köyler-toplam',\n",
    "       'belde ve köyler-erkek', 'belde ve köyler-kadin']\n",
    "# df_p.columns = ['-'.join(col).strip().lower() if i >= 3 else col[0].strip().lower() for i, col in enumerate(df_p.columns.values)]\n",
    "df_p.columns = cols\n",
    "\n",
    "df_p.head()"
   ]
  },
  {
   "cell_type": "code",
   "execution_count": null,
   "metadata": {},
   "outputs": [],
   "source": [
    "# df_p = df_p[0:1].drop(columns=[df_p.columns[0], df_p.columns[1]])\n",
    "# df_p\n",
    "df_p.iloc[0,0] = 0\n",
    "df_p.iloc[0,1] = \"ÜLKE\"\n",
    "df_p.drop(\"il kayit no\", axis=1,inplace=True)\n",
    "df_p"
   ]
  },
  {
   "cell_type": "code",
   "execution_count": null,
   "metadata": {},
   "outputs": [],
   "source": [
    "df_p.info()"
   ]
  },
  {
   "cell_type": "code",
   "execution_count": null,
   "metadata": {},
   "outputs": [],
   "source": [
    "df_p_cities = df_p[[df_p.columns[0], df_p.columns[2], df_p.columns[3]]]\n",
    "df_p_cities = df_p_cities[1:]\n",
    "df_p_cities\n"
   ]
  },
  {
   "cell_type": "code",
   "execution_count": null,
   "metadata": {},
   "outputs": [],
   "source": [
    "df_p[[\"il adi\", \"toplam-erkek\"]]"
   ]
  },
  {
   "cell_type": "code",
   "execution_count": null,
   "metadata": {},
   "outputs": [],
   "source": [
    "# Pie chart\n",
    "# choloropleth"
   ]
  },
  {
   "cell_type": "code",
   "execution_count": null,
   "metadata": {},
   "outputs": [],
   "source": [
    "import plotly.graph_objects as go\n",
    "\n",
    "# Sample data for the pie chart\n",
    "labels = ['Erkek', 'Kadın']\n",
    "values = [df_p.iloc[0, 1], df_p.iloc[0, 2]]\n",
    "colors = ['skyblue', 'salmon']\n",
    "\n",
    "# Create the Pie chart with custom colors and slice pulled out\n",
    "fig = go.Figure(go.Pie(\n",
    "    labels=labels,\n",
    "    values=values,\n",
    "    marker=dict(colors=colors),\n",
    "    hovertemplate='<b>%{label}</b><br>%{value}'\n",
    "), layout=dict(width=400, height=400))\n",
    "\n",
    "# Update the name of the trace\n",
    "fig.data[0].name = ''\n",
    "\n",
    "# Set the title\n",
    "fig.update_layout(title='Cinsiyet Dağılımı')\n",
    "\n",
    "# Show the figure\n",
    "fig.show()\n"
   ]
  },
  {
   "cell_type": "code",
   "execution_count": null,
   "metadata": {},
   "outputs": [],
   "source": [
    "import plotly.graph_objects as go\n",
    "from plotly.subplots import make_subplots\n",
    "def population_plot(df_p, city_code=0):\n",
    "    # Create the figure with subplots\n",
    "    fig = make_subplots(rows=1, cols=3, specs=[[{'type': 'pie'}, {'type': 'pie'}, {'type': 'pie'}]], subplot_titles=(df_p.iloc[city_code, 0].capitalize(), \"İl ve İlçe Merkezleri\", \"Belde ve Köyler\"))\n",
    "\n",
    "    # Define the data for each pie chart\n",
    "    values1 = [df_p.iloc[city_code, 2], df_p.iloc[city_code, 3]]\n",
    "    values2 = [df_p.iloc[city_code, 5], df_p.iloc[city_code, 6]]\n",
    "    values3 = [df_p.iloc[city_code, 8], df_p.iloc[city_code, 9]]\n",
    "    labels = ['Erkek', 'Kadın']\n",
    "    colors = ['skyblue', 'salmon']\n",
    "\n",
    "    # Add the first pie chart\n",
    "    fig.add_trace(go.Pie(\n",
    "        name=\"\",\n",
    "        labels=labels,\n",
    "        values=values1,\n",
    "        marker=dict(colors=colors),\n",
    "        hovertemplate='<b>%{label}</b><br>%{value}',\n",
    "        pull=[0, 0],\n",
    "        textfont=dict(size=16, family=\"Balto\", color=\"black\"),  # Adjust text size and color\n",
    "        textinfo='label+percent',  # Show labels and percentages\n",
    "    ), row=1, col=1)\n",
    "\n",
    "    # Add the second pie chart\n",
    "    fig.add_trace(go.Pie(\n",
    "        name=\"\",\n",
    "        labels=labels,\n",
    "        values=values2,\n",
    "        marker=dict(colors=colors),\n",
    "        hovertemplate='<b>%{label}</b><br>%{value}',\n",
    "        pull=[0, 0],\n",
    "        textfont=dict(size=16, family=\"Balto\", color=\"black\"),  # Adjust text size and color\n",
    "        textinfo='label+percent',  # Show labels and percentages\n",
    "    ), row=1, col=2)\n",
    "\n",
    "    # Add the third pie chart\n",
    "    fig.add_trace(go.Pie(\n",
    "        name=\"\",\n",
    "        labels=labels,\n",
    "        values=values3,\n",
    "        marker=dict(colors=colors),\n",
    "        hovertemplate='<b>%{label}</b><br>%{value}',\n",
    "        pull=[0, 0],\n",
    "        textfont=dict(size=16, family=\"Balto\", color=\"black\"),  # Adjust text size and color\n",
    "        textinfo='label+percent',  # Show labels and percentages\n",
    "    ), row=1, col=3)\n",
    "\n",
    "    # Update layout\n",
    "    fig.update_layout(\n",
    "        title='Cinsiyet Dağılımları',\n",
    "        width=1100,\n",
    "        height=500,\n",
    "        title_font=dict(size=30, family=\"Balto\", ),  # Adjust title font\n",
    "        title_pad_b=10,\n",
    "        font=dict(\n",
    "            family=\"Balto\",  # Adjust default font family for labels\n",
    "            size=14,  # Adjust default font size for labels\n",
    "            color=\"black\"  # Adjust default font color for labels\n",
    "        ),\n",
    "        legend=dict(\n",
    "            title_font=dict(size=18, family=\"Balto\"),  # Adjust legend title font\n",
    "            font=dict(size=16, family=\"Balto\")  # Adjust legend item font\n",
    "        )\n",
    "    )\n",
    "\n",
    "    # Update subplot titles font and style\n",
    "\n",
    "    for annotation in fig['layout']['annotations']:\n",
    "        annotation['y'] = 0.95  # Adjust this value for more/less padding\n",
    "\n",
    "        # Add the text annotation below the plots\n",
    "    fig.add_annotation(\n",
    "    text=f\"Toplam Nüfus: <b>{df_p.iloc[city_code, 1]}</b>\",\n",
    "    xref=\"paper\", yref=\"paper\",\n",
    "    x=0.5, y=-0.2,\n",
    "    showarrow=False,\n",
    "    font=dict(size=18, family=\"Balto\", color=\"black\"),\n",
    "    align=\"center\"\n",
    ")\n",
    "    return fig\n",
    "fig = population_plot(df_p=df_p, city_code=1)\n",
    "# Show the figure\n",
    "fig.show()\n"
   ]
  },
  {
   "cell_type": "code",
   "execution_count": null,
   "metadata": {},
   "outputs": [],
   "source": [
    "import plotly.express as px\n",
    "\n",
    "# Assuming you have the GeoJSON file for Turkey provinces\n",
    "geojson_file = './tr-cities.json'\n",
    "\n",
    "# Calculate total population\n",
    "df_p_cities['total_population'] = df_p_cities['toplam-erkek'] + df_p_cities['toplam-kadin']\n",
    "\n",
    "# Load GeoJSON data\n",
    "import json\n",
    "with open(geojson_file) as f:\n",
    "    turkey_geojson = json.load(f)\n",
    "\n",
    "# Ensure the province names in the DataFrame match the names in the GeoJSON file\n",
    "# This might require some preprocessing if the names don't match exactly\n",
    "\n",
    "\n",
    "# Create the choropleth map\n",
    "fig = px.choropleth(\n",
    "    df_p_cities,\n",
    "    geojson=turkey_geojson,\n",
    "    locations='il adi',\n",
    "    featureidkey=\"properties.name\",  # This should match the property name in your GeoJSON file for province names\n",
    "    color='total_population',\n",
    "    hover_name='il adi',\n",
    "    hover_data={'toplam-erkek': True, 'toplam-kadin': True, 'total_population': True},\n",
    "    color_continuous_scale='Viridis',\n",
    "    labels={'total_population': 'Total Population'},\n",
    "    title='Total Population by Province in Turkey'\n",
    ")\n",
    "\n",
    "# Update the layout for better visualization\n",
    "fig.update_geos(\n",
    "    visible=False,\n",
    "    resolution=50,\n",
    "    showcountries=True,\n",
    "    countrycolor=\"Black\",\n",
    "    showcoastlines=True,\n",
    "    coastlinecolor=\"Black\",\n",
    "    showland=True,\n",
    "    landcolor=\"white\",\n",
    ")\n",
    "\n",
    "fig.update_layout(\n",
    "    title_font=dict(size=24, family=\"Arial, sans-serif\"),\n",
    "    font=dict(size=12, family=\"Arial, sans-serif\"),\n",
    "    margin={\"r\":0,\"t\":50,\"l\":0,\"b\":0}\n",
    ")\n",
    "\n",
    "# Show the map\n",
    "# fig.show()\n"
   ]
  },
  {
   "cell_type": "code",
   "execution_count": null,
   "metadata": {},
   "outputs": [],
   "source": [
    "turkey_geojson.keys()"
   ]
  },
  {
   "cell_type": "code",
   "execution_count": null,
   "metadata": {},
   "outputs": [],
   "source": [
    "turkey_geojson[\"features\"][2][\"properties\"][\"name\"]"
   ]
  },
  {
   "cell_type": "code",
   "execution_count": null,
   "metadata": {},
   "outputs": [],
   "source": [
    "def total_sales_monthly_foreigners_plot(df_f_cities_aggregated, city=None):\n",
    "    \"\"\"\n",
    "        City must be spelled properly\n",
    "    \"\"\"\n",
    "    if city == None:\n",
    "        fig = px.line(df_f_cities_aggregated, x=df_f_cities_aggregated.index, \n",
    "                      y='Total', color='Şehir', title='Real Estate Sold Over Time',\n",
    "                      )\n",
    "    else:\n",
    "        city = city.capitalize()\n",
    "        cities = df_f_cities_aggregated[\"Şehir\"].unique()\n",
    "        if city not in cities:\n",
    "            city = 'Diğer iller - Other provinces'\n",
    "        dff = df_f_cities_aggregated[df_f_cities_aggregated['Şehir'] == city]\n",
    "        fig = px.line(dff, x=dff.index, y='Total', color='Şehir', title='Real Estate Sold Over Time',\n",
    "                     color_discrete_sequence=px.colors.qualitative.Vivid)\n",
    "    fig.update_layout(width=1800, height=800)\n",
    "    return fig\n",
    "\n",
    "fig = total_sales_monthly_foreigners_plot(df_f_cities_aggregated, \"123\")\n",
    "fig.show()"
   ]
  }
 ],
 "metadata": {
  "kernelspec": {
   "display_name": "Python 3",
   "language": "python",
   "name": "python3"
  },
  "language_info": {
   "codemirror_mode": {
    "name": "ipython",
    "version": 3
   },
   "file_extension": ".py",
   "mimetype": "text/x-python",
   "name": "python",
   "nbconvert_exporter": "python",
   "pygments_lexer": "ipython3",
   "version": "3.12.3"
  }
 },
 "nbformat": 4,
 "nbformat_minor": 2
}
